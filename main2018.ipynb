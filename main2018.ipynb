{
  "nbformat": 4,
  "nbformat_minor": 0,
  "metadata": {
    "colab": {
      "name": "main2018.ipynb",
      "version": "0.3.2",
      "provenance": [],
      "toc_visible": true
    },
    "kernelspec": {
      "name": "python3",
      "display_name": "Python 3"
    },
    "accelerator": "GPU"
  },
  "cells": [
    {
      "metadata": {
        "colab_type": "text",
        "id": "a--rFzYazTo2"
      },
      "cell_type": "markdown",
      "source": [
        "# Introduction to Brain Segmentation with Keras\n",
        "\n",
        "# ***MAIN 2018 Educational Course***\n",
        "\n",
        "## Thomas Funck\n",
        "\n",
        "## McGill University\n",
        "\n",
        "## **Contact**: email: [tffunck@gmail.com](mailto:tffunck@gmail.com) , Twitter: [@tffunck](https://twitter.com/tffunck)\n"
      ]
    },
    {
      "metadata": {
        "id": "BEzld-ZDKjwq",
        "colab_type": "text"
      },
      "cell_type": "markdown",
      "source": [
        "# Load Code & Data"
      ]
    },
    {
      "metadata": {
        "id": "_YbNsbqxa-KL",
        "colab_type": "text"
      },
      "cell_type": "markdown",
      "source": [
        "## Pull minc_keras from github"
      ]
    },
    {
      "metadata": {
        "colab_type": "code",
        "id": "OPVCbLjaj0An",
        "outputId": "d8dd150e-a3bf-4c8d-e5d4-cb90b9d50de7",
        "colab": {
          "base_uri": "https://localhost:8080/",
          "height": 136
        }
      },
      "cell_type": "code",
      "source": [
        "#Download repository\n",
        "!git clone https://github.com/tfunck/minc_keras\n",
        "  \n",
        "#Switch dir\n",
        "def set_base_dir():\n",
        "  import os\n",
        "  os.chdir('/content/minc_keras')\n",
        "set_base_dir()\n"
      ],
      "execution_count": 1,
      "outputs": [
        {
          "output_type": "stream",
          "text": [
            "Cloning into 'minc_keras'...\n",
            "remote: Enumerating objects: 25, done.\u001b[K\n",
            "remote: Counting objects: 100% (25/25), done.\u001b[K\n",
            "remote: Compressing objects: 100% (23/23), done.\u001b[K\n",
            "remote: Total 870 (delta 13), reused 3 (delta 2), pack-reused 845\u001b[K\n",
            "Receiving objects: 100% (870/870), 79.95 MiB | 28.16 MiB/s, done.\n",
            "Resolving deltas: 100% (461/461), done.\n"
          ],
          "name": "stdout"
        }
      ]
    },
    {
      "metadata": {
        "id": "iGVV41VsbD7U",
        "colab_type": "text"
      },
      "cell_type": "markdown",
      "source": [
        "## Download and unzip data"
      ]
    },
    {
      "metadata": {
        "id": "ewA4QpL94SZY",
        "colab_type": "code",
        "outputId": "b6e04e65-a535-4dee-a3a8-1d9e2352def5",
        "colab": {
          "base_uri": "https://localhost:8080/",
          "height": 258
        }
      },
      "cell_type": "code",
      "source": [
        "#Download and unzip data\n",
        "!tar -jxvf data/output.tar.bz2  &> /dev/null\n",
        "!mv output mri\n",
        "\n",
        "!wget https://amnesia.cbrain.mcgill.ca/deeplearning/sorteo.tar.bz2 --no-check-certificate\n",
        "  \n",
        "!mkdir -p pet\n",
        "!tar -jxvf sorteo.tar.bz2 -C pet  &> /dev/null"
      ],
      "execution_count": 2,
      "outputs": [
        {
          "output_type": "stream",
          "text": [
            "--2018-12-11 12:33:41--  https://amnesia.cbrain.mcgill.ca/deeplearning/sorteo.tar.bz2\n",
            "Resolving amnesia.cbrain.mcgill.ca (amnesia.cbrain.mcgill.ca)... 132.216.42.90\n",
            "Connecting to amnesia.cbrain.mcgill.ca (amnesia.cbrain.mcgill.ca)|132.216.42.90|:443... connected.\n",
            "WARNING: cannot verify amnesia.cbrain.mcgill.ca's certificate, issued by ‘CN=Go Daddy Secure Certificate Authority - G2,OU=http://certs.godaddy.com/repository/,O=GoDaddy.com\\\\, Inc.,L=Scottsdale,ST=Arizona,C=US’:\n",
            "  Unable to locally verify the issuer's authority.\n",
            "HTTP request sent, awaiting response... 200 OK\n",
            "Length: 322192084 (307M) [application/x-bzip2]\n",
            "Saving to: ‘sorteo.tar.bz2’\n",
            "\n",
            "sorteo.tar.bz2      100%[===================>] 307.27M  35.1MB/s    in 9.4s    \n",
            "\n",
            "2018-12-11 12:33:51 (32.7 MB/s) - ‘sorteo.tar.bz2’ saved [322192084/322192084]\n",
            "\n"
          ],
          "name": "stdout"
        }
      ]
    },
    {
      "metadata": {
        "id": "tU5GWfhobSZQ",
        "colab_type": "text"
      },
      "cell_type": "markdown",
      "source": [
        "## Initialize T1 MRI data"
      ]
    },
    {
      "metadata": {
        "id": "IswkR7t-s4Hc",
        "colab_type": "code",
        "outputId": "8231de79-46c8-43c2-ff9b-0d10122946d7",
        "colab": {
          "base_uri": "https://localhost:8080/",
          "height": 255
        }
      },
      "cell_type": "code",
      "source": [
        "set_base_dir()\n",
        "from utils import *\n",
        "import numpy as np\n",
        "from minc_keras import *\n",
        "\n",
        "setup_dirs('mri_results')  \n",
        "### Load data from brain images and save them into .npy. Sort them into train/validate/test splits\n",
        "[images_mri, data_mri] = prepare_data('mri/', 'mri_results/data', 'mri_results/report', input_str='_T1w_anat_rsl', label_str='variant-seg',  clobber=False)\n",
        "\n",
        "### 1) Load data\n",
        "Y_validate_mri=np.load(data_mri[\"validate_y_fn\"]+'.npy')\n",
        "nlabels_mri=len(np.unique(Y_validate_mri))\n",
        "X_train_mri=np.load(data_mri[\"train_x_fn\"]+'.npy')\n",
        "Y_train_mri=np.load(data_mri[\"train_y_fn\"]+'.npy')\n",
        "X_validate_mri=np.load(data_mri[\"validate_x_fn\"]+'.npy')\n",
        "\n",
        "X_test_mri=np.load(data_mri[\"test_x_fn\"]+'.npy')\n",
        "Y_test_mri=np.load(data_mri[\"test_y_fn\"]+'.npy')\n",
        "\n",
        "Y_test_mri=to_categorical(Y_test_mri)\n",
        "Y_train_mri = to_categorical(Y_train_mri, num_classes=nlabels_mri)\n",
        "Y_validate_mri = to_categorical(Y_validate_mri, num_classes=nlabels_mri)\n"
      ],
      "execution_count": 0,
      "outputs": [
        {
          "output_type": "stream",
          "text": [
            "Using TensorFlow backend.\n"
          ],
          "name": "stderr"
        },
        {
          "output_type": "stream",
          "text": [
            "Created directory: mri_results/predict/train/\n",
            "Created directory: mri_results/predict/test/\n",
            "Created directory: mri_results/predict/validate/\n",
            "Created directory: mri_results/data/\n",
            "Created directory: mri_results/report/\n",
            "Created directory: mri_results/model\n",
            "train : expected/real ratio = 75.00 / 75.00\n",
            "validate : expected/real ratio = 15.00 / 14.93\n"
          ],
          "name": "stdout"
        },
        {
          "output_type": "stream",
          "text": [
            "/usr/local/lib/python3.6/dist-packages/pandas/core/indexing.py:194: SettingWithCopyWarning: \n",
            "A value is trying to be set on a copy of a slice from a DataFrame\n",
            "\n",
            "See the caveats in the documentation: http://pandas.pydata.org/pandas-docs/stable/indexing.html#indexing-view-versus-copy\n",
            "  self._setitem_with_indexer(indexer, value)\n"
          ],
          "name": "stderr"
        }
      ]
    },
    {
      "metadata": {
        "id": "_eOBMRDabKgD",
        "colab_type": "text"
      },
      "cell_type": "markdown",
      "source": [
        "## Initialize PET data"
      ]
    },
    {
      "metadata": {
        "colab_type": "code",
        "id": "SqBWn-PmzTpO",
        "colab": {}
      },
      "cell_type": "code",
      "source": [
        "set_base_dir()\n",
        "import minc_keras\n",
        "from utils import *\n",
        "import numpy as np\n",
        "from minc_keras import *\n",
        "\n",
        "setup_dirs('pet_results')  \n",
        "### Load data from brain images and save them into .npy. Sort them into train/validate/test splits\n",
        "[images_pet, data_pet] = prepare_data('pet/','pet_results/data','pet_results/report',input_str='_pet.mnc', label_str='brainmask', pad_base=3,ratios=[0.7,0.15], clobber=True)\n",
        "\n",
        "### 1) Load data\n",
        "Y_validate_pet=np.load(data_pet[\"validate_y_fn\"]+'.npy')\n",
        "nlabels_pet=len(np.unique(Y_validate_pet))\n",
        "X_train_pet=np.load(data_pet[\"train_x_fn\"]+'.npy')\n",
        "Y_train_pet=np.load(data_pet[\"train_y_fn\"]+'.npy')\n",
        "X_validate_pet=np.load(data_pet[\"validate_x_fn\"]+'.npy')\n",
        "\n",
        "X_test_pet=np.load(data_pet[\"test_x_fn\"]+'.npy')\n",
        "Y_test_pet=np.load(data_pet[\"test_y_fn\"]+'.npy')\n",
        "\n",
        "Y_test_pet=to_categorical(Y_test_pet)\n",
        "Y_train_pet = to_categorical(Y_train_pet, num_classes=nlabels_pet)\n",
        "Y_validate_pet = to_categorical(Y_validate_pet, num_classes=nlabels_pet)\n"
      ],
      "execution_count": 0,
      "outputs": []
    },
    {
      "metadata": {
        "colab_type": "text",
        "id": "F5dHDJJBzTo4"
      },
      "cell_type": "markdown",
      "source": [
        "# T1 Segmentation\n",
        "\n",
        "* 261 MRI (skull stripped) \n",
        " \n",
        "* [1000 Functional Connectomes](http://fcon_1000.projects.nitrc.org/fcpClassic/FcpTable.html)\n",
        "\n",
        "* GM/WM segmentation produced with FSL-5.0-fast\n",
        "\n",
        ">>>>> __Input__\n",
        "\n",
        "![alt text](https://github.com/tfunck/minc_keras/blob/master/images/t1_skullstripped.png?raw=true)\n",
        "\n",
        ">>>>> __Label__\n",
        "\n",
        "![alt text](https://github.com/tfunck/minc_keras/blob/master/images/gm_label.png?raw=true)\n",
        "\n",
        "\n",
        "\n",
        "\n",
        "\n"
      ]
    },
    {
      "metadata": {
        "colab_type": "text",
        "id": "ZB0ZXe4DzTpF"
      },
      "cell_type": "markdown",
      "source": [
        "## Training a simple model"
      ]
    },
    {
      "metadata": {
        "colab_type": "code",
        "id": "vDqzkarSzTpF",
        "colab": {}
      },
      "cell_type": "code",
      "source": [
        "import keras\n",
        "from keras.layers.convolutional import Conv2D\n",
        "from keras.layers import Input\n",
        "from custom_loss import *\n",
        "from keras.utils import to_categorical\n",
        "from keras.activations import relu\n",
        "from keras.layers.core import Dropout\n",
        "from keras.callbacks import History, ModelCheckpoint\n",
        "\n",
        "model_name=\"mri_1.hdf5\"\n",
        "\n",
        "IN = Input(shape=(data_mri[\"image_dim\"][1], data_mri[\"image_dim\"][2],1))\n",
        "CONV1 = Conv2D(16, kernel_size=[3,3], activation=\"relu\",padding='same')(IN)\n",
        "CONV2 = Conv2D(16, kernel_size=[3,3], activation=\"relu\",padding='same')(CONV1)\n",
        "CONV3 = Conv2D(16, kernel_size=[3,3], activation=\"relu\",padding='same')(CONV2)\n",
        "OUT = Conv2D(nlabels_mri, kernel_size=[1,1], activation='softmax', padding='same')(CONV3)\n",
        "model = keras.models.Model(inputs=[IN], outputs=OUT)\n",
        "print(model.summary())\n",
        "#set compiler\n",
        "ada = keras.optimizers.Adam(0.0001)\n",
        "#compile the model\n",
        "model.compile(loss = 'binary_crossentropy', optimizer=ada,metrics=['acc'] )\n",
        "#fit model\n",
        "history = model.fit([X_train_mri],Y_train_mri, validation_data=([X_validate_mri], Y_validate_mri), epochs = 3)\n",
        "#save model   \n",
        "model.save(model_name)\n",
        "\n",
        "test_score = model.evaluate(X_test_mri, Y_test_mri)\n",
        "print(\"Test :\", test_score)\n"
      ],
      "execution_count": 0,
      "outputs": []
    },
    {
      "metadata": {
        "id": "ygnxmSu8hqt0",
        "colab_type": "code",
        "colab": {}
      },
      "cell_type": "code",
      "source": [
        "###Create predictions for model\n",
        "!git pull\n",
        "from predict import predict\n",
        "predict('mri_1.hdf5', 'mri_results/predict/test', 'mri_results/data', 'mri_results/report/images.csv', 'categorical_crossentropy', images_to_predict='1', category=\"test\", verbose=True)"
      ],
      "execution_count": 0,
      "outputs": []
    },
    {
      "metadata": {
        "id": "wg1scPa4uQFX",
        "colab_type": "code",
        "colab": {}
      },
      "cell_type": "code",
      "source": [
        "#If using Google Chrome, can download directly through browser\n",
        "from google.colab import files\n",
        "from glob import glob\n",
        "for fn in glob('mri_results/predict/test/*.png') :  \n",
        "  print(fn)\n",
        "  files.download(fn)\n",
        "\n",
        "#import matplotlib.pyplot as plt\n",
        "#plt.imshow(plt.imread('mri_results/predict/test//sub-75922_task-01_ses-01_T1w_anat_rsl_predict_0.png'))"
      ],
      "execution_count": 0,
      "outputs": []
    },
    {
      "metadata": {
        "id": "ZW3RdNcUpVU-",
        "colab_type": "text"
      },
      "cell_type": "markdown",
      "source": [
        "## Adding drop-out"
      ]
    },
    {
      "metadata": {
        "id": "DRozzICApVVC",
        "colab_type": "code",
        "colab": {}
      },
      "cell_type": "code",
      "source": [
        "import keras\n",
        "from keras.layers.convolutional import Conv2D\n",
        "from keras.layers import Input\n",
        "from custom_loss import *\n",
        "from keras.utils import to_categorical\n",
        "from keras.activations import relu\n",
        "from keras.layers.core import Dropout\n",
        "from keras.callbacks import History, ModelCheckpoint\n",
        "\n",
        "model_name=\"mri_2.hdf5\"\n",
        "\n",
        "IN = Input(shape=(data_mri[\"image_dim\"][1], data_mri[\"image_dim\"][2],1))\n",
        "CONV1 = Conv2D(16, kernel_size=[3,3], activation=\"relu\",padding='same')(IN)\n",
        "DROPOUT1 = Dropout(0.2)(CONV1)\n",
        "CONV2 = Conv2D(16, kernel_size=[3,3], activation=\"relu\",padding='same')(DROPOUT1)\n",
        "DROPOUT2 = Dropout(0.2)(CONV2)\n",
        "CONV3 = Conv2D(16, kernel_size=[3,3], activation=\"relu\",padding='same')(DROPOUT2)\n",
        "DROPOUT3 = Dropout(0.2)(CONV3)\n",
        "OUT = Conv2D(nlabels_mri, kernel_size=[1,1], activation='softmax', padding='same')(DROPOUT3)\n",
        "model = keras.models.Model(inputs=[IN], outputs=OUT)\n",
        "\n",
        "print(model.summary())\n",
        "\n",
        "#set compiler\n",
        "ada = keras.optimizers.Adam(0.0001)\n",
        "\n",
        "#compile the model\n",
        "model.compile(loss = 'binary_crossentropy', optimizer=ada,metrics=['acc'] )\n",
        "#fit model\n",
        "\n",
        "history = model.fit([X_train_mri],Y_train_mri,  validation_data=([X_validate_mri], Y_validate_mri), epochs = 3)\n",
        "#save model   \n",
        "model.save(model_name)\n",
        "\n",
        "test_score = model.evaluate(X_test_mri, Y_test_mri)\n",
        "print(\"Test :\", test_score)\n"
      ],
      "execution_count": 0,
      "outputs": []
    },
    {
      "metadata": {
        "id": "2Ztw_OrtpVVL",
        "colab_type": "text"
      },
      "cell_type": "markdown",
      "source": [
        "## Adding dilations"
      ]
    },
    {
      "metadata": {
        "colab_type": "code",
        "id": "9qhOKYbtEsT1",
        "colab": {}
      },
      "cell_type": "code",
      "source": [
        "import keras\n",
        "from keras.layers.convolutional import Conv2D\n",
        "from keras.layers import Input\n",
        "from custom_loss import *\n",
        "from keras.utils import to_categorical\n",
        "from keras.activations import relu\n",
        "from keras.layers.core import Dropout\n",
        "from keras.callbacks import History, ModelCheckpoint\n",
        "\n",
        "model_name=\"mri_3.hdf5\"\n",
        "\n",
        "IN = Input(shape=(data_mri[\"image_dim\"][1], data_mri[\"image_dim\"][2],1))\n",
        "CONV1 = Conv2D(16, kernel_size=[3,3], dilation_rate=[2,2], activation=\"relu\",padding='same')(IN)\n",
        "CONV2 = Conv2D(16, kernel_size=[3,3], dilation_rate=[2,2], activation=\"relu\",padding='same')(CONV1)\n",
        "CONV3 = Conv2D(16, kernel_size=[3,3], dilation_rate=[2,2], activation=\"relu\",padding='same')(CONV2)\n",
        "OUT = Conv2D(nlabels_mri, kernel_size=[1,1], activation='softmax', padding='same')(CONV3)\n",
        "model = keras.models.Model(inputs=[IN], outputs=OUT)\n",
        "\n",
        "print(model.summary())\n",
        "\n",
        "#set compiler\n",
        "ada = keras.optimizers.Adam(0.0001)\n",
        "\n",
        "#compile the model\n",
        "model.compile(loss = 'binary_crossentropy', optimizer=ada,metrics=['acc'] )\n",
        "#fit model\n",
        "\n",
        "history = model.fit([X_train_mri],Y_train_mri,  validation_data=([X_validate_mri], Y_validate_mri), epochs = 3)\n",
        "#save model   \n",
        "model.save(model_name)\n",
        "\n",
        "test_score = model.evaluate(X_test_mri, Y_test_mri)\n",
        "print(\"Test :\", test_score)\n"
      ],
      "execution_count": 0,
      "outputs": []
    },
    {
      "metadata": {
        "id": "feOljZP6pVVV",
        "colab_type": "text"
      },
      "cell_type": "markdown",
      "source": [
        "## __Exercises__\n",
        "\n",
        "### 1. Modify the drop-out, dilation_rate, and number of kernels for one of the above templates. \n",
        "\n",
        "### 2.  Build a CNN with: 5 convolutional layers, 5x5 kernels and 8, 8, 16, 16, and 32 kernels in each layer\n",
        "\n",
        "### 3. Train a CNN that has better than 0.95 test accuracy. How high can you get the accuracy without overfitting? "
      ]
    },
    {
      "metadata": {
        "id": "UDRgIXTjKiUY",
        "colab_type": "text"
      },
      "cell_type": "markdown",
      "source": [
        "## Solutions"
      ]
    },
    {
      "metadata": {
        "id": "E5UVKxKkJza6",
        "colab_type": "text"
      },
      "cell_type": "markdown",
      "source": [
        "### 1\n",
        "Modify as you like! No wrong answers so long as it runs. "
      ]
    },
    {
      "metadata": {
        "id": "4ttNoEvRJU_-",
        "colab_type": "text"
      },
      "cell_type": "markdown",
      "source": [
        "### 2."
      ]
    },
    {
      "metadata": {
        "colab_type": "code",
        "id": "5Fo61_R0GYoq",
        "colab": {}
      },
      "cell_type": "code",
      "source": [
        "import keras\n",
        "from keras.layers.convolutional import Conv2D\n",
        "from keras.layers import Input\n",
        "from custom_loss import *\n",
        "from keras.utils import to_categorical\n",
        "from keras.activations import relu\n",
        "from keras.layers.core import Dropout\n",
        "\n",
        "\n",
        "model_name=\"mri_4.hdf5\"\n",
        "\n",
        "IN = Input(shape=(data_mri[\"image_dim\"][1], data_mri[\"image_dim\"][2],1))\n",
        "CONV1 = Conv2D(8, kernel_size=[5,5], activation=\"relu\",padding='same')(IN)\n",
        "CONV2 = Conv2D(8, kernel_size=[5,5], activation=\"relu\",padding='same')(CONV1)\n",
        "CONV3 = Conv2D(16, kernel_size=[5,5], activation=\"relu\",padding='same')(CONV2)\n",
        "CONV4 = Conv2D(16, kernel_size=[5,5], activation=\"relu\",padding='same')(CONV3)\n",
        "CONV5 = Conv2D(32, kernel_size=[5,5], activation=\"relu\",padding='same')(CONV4)\n",
        "OUT = Conv2D(nlabels_mri, kernel_size=[1,1], activation='softmax', padding='same')(CONV5)\n",
        "model = keras.models.Model(inputs=[IN], outputs=OUT)\n",
        "\n",
        "print(model.summary())\n",
        "\n",
        "#set compiler\n",
        "ada = keras.optimizers.Adam(0.0001)\n",
        "\n",
        "#compile the model\n",
        "model.compile(loss = 'categorical_crossentropy', optimizer=ada,metrics=['acc'] )\n",
        "#fit model\n",
        "\n",
        "history = model.fit([X_train_mri],Y_train_mri,  validation_data=([X_validate_mri], Y_validate_mri), epochs = 3)\n",
        "#save model   \n",
        "model.save(model_name)\n",
        "\n",
        "test_score = model.evaluate(X_test_mri, Y_test_mri)\n",
        "print(\"Test :\", test_score)\n"
      ],
      "execution_count": 0,
      "outputs": []
    },
    {
      "metadata": {
        "id": "dltIipwsOhpQ",
        "colab_type": "text"
      },
      "cell_type": "markdown",
      "source": [
        "### 3."
      ]
    },
    {
      "metadata": {
        "id": "Cc3StrTcDxV_",
        "colab_type": "text"
      },
      "cell_type": "markdown",
      "source": [
        "Run the previous model for 10 iterations to exceed 0.950 test accuracy."
      ]
    },
    {
      "metadata": {
        "colab_type": "text",
        "id": "D8VmKHg4zTpH"
      },
      "cell_type": "markdown",
      "source": [
        "#U-Net\n",
        "\n",
        ">>> __Input: Racploride PET__\n",
        "\n",
        "![alt text](https://github.com/tfunck/minc_keras/blob/master/images/raclopride.png?raw=true)\n",
        "\n",
        ">>> __Input: FDOPA PET__\n",
        "\n",
        "![alt text](https://github.com/tfunck/minc_keras/blob/master/images/fdopa.png?raw=true)\n",
        "\n",
        ">>> __Input: FDG PET__\n",
        "\n",
        "![alt text](https://github.com/tfunck/minc_keras/blob/master/images/fdg.png?raw=true)\n",
        "\n",
        ">>> __Input: Label__\n",
        "\n",
        "![alt text](https://github.com/tfunck/minc_keras/blob/master/images/brainmask.png?raw=true)"
      ]
    },
    {
      "metadata": {
        "colab_type": "text",
        "id": "rGkJHbkPzTpQ"
      },
      "cell_type": "markdown",
      "source": [
        "## Building a U-NET in Keras\n",
        "\n",
        "![](https://github.com/tfunck/minc_keras/blob/master/images/unet.png?raw=1)\n",
        "\n",
        "Ronneberger, Fischer, and Brox. 2015.\"U-net: Convolutional networks for biomedical image segmentation.\" International Conference on Medical image computing and computer-assisted intervention. https://arxiv.org/abs/1505.04597"
      ]
    },
    {
      "metadata": {
        "colab_type": "code",
        "id": "0SDJ5RvOzTpQ",
        "colab": {}
      },
      "cell_type": "code",
      "source": [
        "import keras\n",
        "from keras.layers.convolutional import Conv2D\n",
        "from keras.layers import Input\n",
        "from custom_loss import *\n",
        "from keras.utils import to_categorical\n",
        "from keras.activations import relu\n",
        "from keras.layers.core import Dropout\n",
        "from keras.layers import Input, Add, Multiply, Dense, BatchNormalization\n",
        "from keras.layers import LeakyReLU, MaxPooling2D, Conv2DTranspose, Concatenate, ZeroPadding2D\n",
        "from prepare_data import pad\n",
        "\n",
        "### Warning : if you change the number of times you downsample with max_pool,\n",
        "###           then you need to rerun prepare_data() with pad_base=<number of downsample nodes>\n",
        "model_name=\"pet_1.hdf5\"\n",
        "\n",
        "\n",
        "### 1) Define architecture of neural network    \n",
        "IN = Input(shape=(data_pet['image_dim'][1],data_pet['image_dim'][2] ,1))\n",
        "\n",
        "BN1 = BatchNormalization()(IN)\n",
        "\n",
        "conv1 = Convolution2D(32, 3, 3, activation='relu', border_mode='same')(BN1)\n",
        "conv1 = Convolution2D(32, 3, 3, activation='relu', border_mode='same')(conv1)\n",
        "pool1 = MaxPooling2D(pool_size=(2, 2))(conv1)\n",
        " \n",
        "conv2 = Convolution2D(64, 3, 3, activation='relu', border_mode='same')(pool1)\n",
        "conv2 = Convolution2D(64, 3, 3, activation='relu', border_mode='same')(conv2)\n",
        "pool2 = MaxPooling2D(pool_size=(2, 2))(conv2)\n",
        "\n",
        "conv3 = Convolution2D(128, 3, 3, activation='relu', border_mode='same')(pool2)\n",
        "conv3 = Convolution2D(128, 3, 3, activation='relu', border_mode='same')(conv3)\n",
        "pool3 = MaxPooling2D(pool_size=(2, 2))(conv3)\n",
        "\n",
        "conv4 = Convolution2D(256, 3, 3, activation='relu', border_mode='same')(pool3)\n",
        "conv4 = Convolution2D(256, 3, 3, activation='relu', border_mode='same')(conv4)\n",
        "\n",
        "up6 = UpSampling2D(size=(2, 2))(conv4)\n",
        "#up6 = Conv2DTranspose( filters=512, kernel_size=(3,3), strides=(2, 2), padding='same')(conv6)\n",
        "conc6 = Concatenate(axis=3)([up6, conv3])\n",
        "conv7 = Convolution2D(128, 3, 3, activation='relu', border_mode='same')(conc6)\n",
        "conv7 = Convolution2D(128, 3, 3, activation='relu', border_mode='same')(conv7)\n",
        "\n",
        "up7 = UpSampling2D(size=(2, 2))(conv7)\n",
        "#up7 = Conv2DTranspose( filters=512, kernel_size=(3,3), strides=(2, 2), padding='same')(conv7)\n",
        "conc7 = Concatenate(axis=3)([up7, conv2])\n",
        "conv8 = Convolution2D(64, 3, 3, activation='relu', border_mode='same')(conc7) #(up8)\n",
        "conv8 = Convolution2D(64, 3, 3, activation='relu', border_mode='same')(conv8)\n",
        "\n",
        "up8 = UpSampling2D(size=(2, 2))(conv8)\n",
        "#up8 = Conv2DTranspose( filters=512, kernel_size=(3,3), strides=(2, 2), padding='same')(conv8)\n",
        "conc8 = Concatenate(axis=3)([up8, conv1])\n",
        "conv9 = Convolution2D(32, 3, 3, activation='relu', border_mode='same')(conc8)\n",
        "conv9 = Convolution2D(32, 3, 3, activation='relu', border_mode='same')(conv9)\n",
        "\n",
        "conv10 = Convolution2D(nlabels_pet, 1, 1, activation='softmax')(conv9)\n",
        "\n",
        "model = keras.models.Model(input=[IN], output=conv10)\n",
        "\n",
        "print(model.summary())\n",
        "\n",
        "#set compiler\n",
        "ada = keras.optimizers.Adam(0.0001)\n",
        "\n",
        "#compile the model\n",
        "model.compile(loss = 'categorical_crossentropy', optimizer=ada,metrics=['acc'] )\n",
        "#fit model\n",
        "\n",
        "history = model.fit([X_train_pet],Y_train_pet,  validation_data=([X_validate_pet], Y_validate_pet), epochs = 3)\n",
        "#save model   \n",
        "model.save(model_name)\n",
        "\n",
        "test_score = model.evaluate(X_test_pet, Y_test_pet)\n",
        "print(\"Test :\", test_score)\n",
        "\n"
      ],
      "execution_count": 0,
      "outputs": []
    },
    {
      "metadata": {
        "id": "ntjdPpO3cvmA",
        "colab_type": "code",
        "colab": {}
      },
      "cell_type": "code",
      "source": [
        "###Create predictions for model\n",
        "from predict import *\n",
        "predict(model_name, 'pet_results/predict/test', 'pet_results/data', 'pet_results/report/images.csv', 'categorical_crossentropy', images_to_predict='all', category=\"test\", verbose=True)\n"
      ],
      "execution_count": 0,
      "outputs": []
    },
    {
      "metadata": {
        "colab_type": "code",
        "id": "uPeNV6NWzTpu",
        "colab": {}
      },
      "cell_type": "code",
      "source": [
        "#If using Google Chrome, can download directly through browser\n",
        "#from google.colab import files\n",
        "#from glob import glob\n",
        "#for fn in glob('pet_results/predict/test/*.png') :  files.download(fn)\n",
        "\n",
        "#import matplotlib.pyplot as plt\n",
        "#plt.imshow(plt.imread('pet_results/predict/test//sub-D13_ses-01_task-01_acq-rcl_dwn-smpl_pet_predict_2.png'))\n"
      ],
      "execution_count": 0,
      "outputs": []
    },
    {
      "metadata": {
        "id": "HPBrekZ2CrtV",
        "colab_type": "text"
      },
      "cell_type": "markdown",
      "source": [
        "##Exercises\n",
        "\n",
        "1. Modify the template above so that it has less than 120,000 parameters.\n",
        "\n",
        "2. Use a transpose convolution to perform upsampling steps in the U-Net template. What happens to the number of parameters? How does accuracy change relative to this? \n",
        "\n",
        "3. Add another level of downsampling and up-sampling to the U-Net template. Remember to re-run the configuration cell with <pad_base=4> and <clobber=True> in order to pad the input images and labels appropriately relative to the number of times you use max pooling to downsample the images. \n",
        "\n",
        "4. Run a U-Net architecture on the GM-WM segementation task from part 1. How does the performance improvement compare to the increased number of parameters?\n",
        "\n",
        "4. Using whatever techniques you like (downsampling, upsampling, dilations, drop-out, etc.), create the best architecture possible with least possible number of parameters. "
      ]
    },
    {
      "metadata": {
        "id": "HNM4QTBrWWnb",
        "colab_type": "text"
      },
      "cell_type": "markdown",
      "source": [
        "## Solutions\n"
      ]
    },
    {
      "metadata": {
        "id": "NmCLa-y_EgLe",
        "colab_type": "text"
      },
      "cell_type": "markdown",
      "source": [
        "### 1."
      ]
    },
    {
      "metadata": {
        "id": "_FXISR5VTer4",
        "colab_type": "code",
        "colab": {}
      },
      "cell_type": "code",
      "source": [
        "import keras\n",
        "from keras.layers.convolutional import Conv2D\n",
        "from keras.layers import Input\n",
        "from custom_loss import *\n",
        "from keras.utils import to_categorical\n",
        "from keras.activations import relu\n",
        "from keras.layers.core import Dropout\n",
        "from keras.layers import Input, Add, Multiply, Dense, BatchNormalization\n",
        "from keras.layers import LeakyReLU, MaxPooling2D, Conv2DTranspose, Concatenate, ZeroPadding2D\n",
        "from prepare_data import pad\n",
        "\n",
        "### Warning : if you change the number of times you downsample with max_pool,\n",
        "###           then you need to rerun prepare_data() with pad_base=<number of downsample nodes>\n",
        "model_name=\"mri_2.hdf5\"\n",
        "\n",
        "\n",
        "### 1) Define architecture of neural network    \n",
        "IN = Input(shape=(data_pet['image_dim'][1],data_pet['image_dim'][2] ,1))\n",
        "\n",
        "BN1 = BatchNormalization()(IN)\n",
        "\n",
        "conv1 = Convolution2D(8, 3, 3, activation='relu', border_mode='same')(BN1)\n",
        "conv1 = Convolution2D(8, 3, 3, activation='relu', border_mode='same')(conv1)\n",
        "pool1 = MaxPooling2D(pool_size=(2, 2))(conv1)\n",
        " \n",
        "conv2 = Convolution2D(16, 3, 3, activation='relu', border_mode='same')(pool1)\n",
        "conv2 = Convolution2D(16, 3, 3, activation='relu', border_mode='same')(conv2)\n",
        "pool2 = MaxPooling2D(pool_size=(2, 2))(conv2)\n",
        "\n",
        "conv3 = Convolution2D(32, 3, 3, activation='relu', border_mode='same')(pool2)\n",
        "conv3 = Convolution2D(32, 3, 3, activation='relu', border_mode='same')(conv3)\n",
        "pool3 = MaxPooling2D(pool_size=(2, 2))(conv3)\n",
        "\n",
        "conv4 = Convolution2D(64, 3, 3, activation='relu', border_mode='same')(pool3)\n",
        "conv4 = Convolution2D(64, 3, 3, activation='relu', border_mode='same')(conv4)\n",
        "\n",
        "up6 = UpSampling2D(size=(2, 2))(conv4)\n",
        "#up6 = Conv2DTranspose( filters=512, kernel_size=(3,3), strides=(2, 2), padding='same')(conv6)\n",
        "conc6 = Concatenate(axis=3)([up6, conv3])\n",
        "conv7 = Convolution2D(32, 3, 3, activation='relu', border_mode='same')(conc6)\n",
        "conv7 = Convolution2D(32, 3, 3, activation='relu', border_mode='same')(conv7)\n",
        "\n",
        "up7 = UpSampling2D(size=(2, 2))(conv7)\n",
        "#up7 = Conv2DTranspose( filters=512, kernel_size=(3,3), strides=(2, 2), padding='same')(conv7)\n",
        "conc7 = Concatenate(axis=3)([up7, conv2])\n",
        "conv8 = Convolution2D(16, 3, 3, activation='relu', border_mode='same')(conc7) #(up8)\n",
        "conv8 = Convolution2D(16, 3, 3, activation='relu', border_mode='same')(conv8)\n",
        "\n",
        "up8 = UpSampling2D(size=(2, 2))(conv8)\n",
        "#up8 = Conv2DTranspose( filters=512, kernel_size=(3,3), strides=(2, 2), padding='same')(conv8)\n",
        "conc8 = Concatenate(axis=3)([up8, conv1])\n",
        "conv9 = Convolution2D(8, 3, 3, activation='relu', border_mode='same')(conc8)\n",
        "conv9 = Convolution2D(8, 3, 3, activation='relu', border_mode='same')(conv9)\n",
        "\n",
        "conv10 = Convolution2D(nlabels_pet, 1, 1, activation='softmax')(conv9)\n",
        "\n",
        "model = keras.models.Model(input=[IN], output=conv10)\n",
        "\n",
        "print(model.summary())\n",
        "\n",
        "#set compiler\n",
        "ada = keras.optimizers.Adam(0.0001)\n",
        "\n",
        "#compile the model\n",
        "model.compile(loss = 'categorical_crossentropy', optimizer=ada,metrics=['acc'] )\n",
        "#fit model\n",
        "\n",
        "history = model.fit([X_train_pet],Y_train_pet,  validation_data=([X_validate_pet], Y_validate_pet), epochs = 3)\n",
        "#save model   \n",
        "model.save(model_name)\n",
        "\n",
        "test_score = model.evaluate(X_test_pet, Y_test_pet)\n",
        "print(\"Test :\", test_score)"
      ],
      "execution_count": 0,
      "outputs": []
    },
    {
      "metadata": {
        "id": "jcGPyuVsWGmn",
        "colab_type": "text"
      },
      "cell_type": "markdown",
      "source": [
        "### 2."
      ]
    },
    {
      "metadata": {
        "id": "GXtx5qDzVNci",
        "colab_type": "code",
        "colab": {}
      },
      "cell_type": "code",
      "source": [
        "import keras\n",
        "from keras.layers.convolutional import Conv2D\n",
        "from keras.layers import Input\n",
        "from custom_loss import *\n",
        "from keras.utils import to_categorical\n",
        "from keras.activations import relu\n",
        "from keras.layers.core import Dropout\n",
        "from keras.layers import Input, Add, Multiply, Dense, BatchNormalization\n",
        "from keras.layers import LeakyReLU, MaxPooling2D, Conv2DTranspose, Concatenate, ZeroPadding2D\n",
        "from prepare_data import pad\n",
        "\n",
        "### Warning : if you change the number of times you downsample with max_pool,\n",
        "###           then you need to rerun prepare_data() with pad_base=<number of downsample nodes>\n",
        "model_name=\"mri_3.hdf5\"\n",
        "\n",
        "\n",
        "### 1) Define architecture of neural network    \n",
        "IN = Input(shape=(data_pet['image_dim'][1],data_pet['image_dim'][2] ,1))\n",
        "\n",
        "BN1 = BatchNormalization()(IN)\n",
        "\n",
        "conv1 = Convolution2D(32, 3, 3, activation='relu', border_mode='same')(BN1)\n",
        "conv1 = Convolution2D(32, 3, 3, activation='relu', border_mode='same')(conv1)\n",
        "pool1 = MaxPooling2D(pool_size=(2, 2))(conv1)\n",
        " \n",
        "conv2 = Convolution2D(64, 3, 3, activation='relu', border_mode='same')(pool1)\n",
        "conv2 = Convolution2D(64, 3, 3, activation='relu', border_mode='same')(conv2)\n",
        "pool2 = MaxPooling2D(pool_size=(2, 2))(conv2)\n",
        "\n",
        "conv3 = Convolution2D(128, 3, 3, activation='relu', border_mode='same')(pool2)\n",
        "conv3 = Convolution2D(128, 3, 3, activation='relu', border_mode='same')(conv3)\n",
        "pool3 = MaxPooling2D(pool_size=(2, 2))(conv3)\n",
        "\n",
        "conv4 = Convolution2D(256, 3, 3, activation='relu', border_mode='same')(pool3)\n",
        "conv4 = Convolution2D(256, 3, 3, activation='relu', border_mode='same')(conv4)\n",
        "\n",
        "up6 = Conv2DTranspose( filters=512, kernel_size=(3,3), strides=(2, 2), padding='same')(conv4)\n",
        "conc6 = Concatenate(axis=3)([up6, conv3])\n",
        "conv7 = Convolution2D(128, 3, 3, activation='relu', border_mode='same')(conc6)\n",
        "conv7 = Convolution2D(128, 3, 3, activation='relu', border_mode='same')(conv7)\n",
        "\n",
        "up7 = Conv2DTranspose( filters=512, kernel_size=(3,3), strides=(2, 2), padding='same')(conv7)\n",
        "conc7 = Concatenate(axis=3)([up7, conv2])\n",
        "conv8 = Convolution2D(64, 3, 3, activation='relu', border_mode='same')(conc7) #(up8)\n",
        "conv8 = Convolution2D(64, 3, 3, activation='relu', border_mode='same')(conv8)\n",
        "\n",
        "up8 = Conv2DTranspose( filters=512, kernel_size=(3,3), strides=(2, 2), padding='same')(conv8)\n",
        "conc8 = Concatenate(axis=3)([up8, conv1])\n",
        "conv9 = Convolution2D(32, 3, 3, activation='relu', border_mode='same')(conc8)\n",
        "conv9 = Convolution2D(32, 3, 3, activation='relu', border_mode='same')(conv9)\n",
        "\n",
        "conv10 = Convolution2D(nlabels_pet, 1, 1, activation='softmax')(conv9)\n",
        "\n",
        "model = keras.models.Model(input=[IN], output=conv10)\n",
        "\n",
        "print(model.summary())\n",
        "\n",
        "#set compiler\n",
        "ada = keras.optimizers.Adam(0.0001)\n",
        "\n",
        "#compile the model\n",
        "model.compile(loss = 'categorical_crossentropy', optimizer=ada,metrics=['acc'] )\n",
        "#fit model\n",
        "\n",
        "history = model.fit([X_train_pet],Y_train_pet,  validation_data=([X_validate_pet], Y_validate_pet), epochs = 3)\n",
        "#save model   \n",
        "model.save(model_name)\n",
        "\n",
        "test_score = model.evaluate(X_test_pet, Y_test_pet)\n",
        "print(\"Test :\", test_score)\n",
        "\n"
      ],
      "execution_count": 0,
      "outputs": []
    },
    {
      "metadata": {
        "id": "Z23en20QVGpC",
        "colab_type": "text"
      },
      "cell_type": "markdown",
      "source": [
        ""
      ]
    },
    {
      "metadata": {
        "id": "J743HAKqWKJ9",
        "colab_type": "text"
      },
      "cell_type": "markdown",
      "source": [
        "### 3."
      ]
    },
    {
      "metadata": {
        "id": "_JVNMLDzWL6b",
        "colab_type": "code",
        "colab": {}
      },
      "cell_type": "code",
      "source": [
        "import keras\n",
        "from keras.layers.convolutional import Conv2D\n",
        "from keras.layers import Input\n",
        "from custom_loss import *\n",
        "from keras.utils import to_categorical\n",
        "from keras.activations import relu\n",
        "from keras.layers.core import Dropout\n",
        "from keras.layers import Input, Add, Multiply, Dense, BatchNormalization\n",
        "from keras.layers import LeakyReLU, MaxPooling2D, Conv2DTranspose, Concatenate, ZeroPadding2D\n",
        "from prepare_data import pad\n",
        "\n",
        "set_base_dir()\n",
        "import minc_keras\n",
        "from utils import *\n",
        "import numpy as np\n",
        "from minc_keras import *\n",
        "\n",
        "setup_dirs('pet_pad_4_results')  \n",
        "### Load data from brain images and save them into .npy. Sort them into train/validate/test splits\n",
        "[images_pet_pad_4, data_pet_pad_4]=prepare_data('pet/','pet_pad_4_results/data','pet_pad_4_results/report',\\\n",
        "                                                input_str='_pet.mnc',label_str='brainmask',pad_base=4,ratios=[0.7,0.15],clobber=True)\n",
        "\n",
        "### 1) Load data\n",
        "Y_validate_pet_pad_4=np.load(data_pet_pad_4[\"validate_y_fn\"]+'.npy')\n",
        "nlabels_pet_pad_4=len(np.unique(Y_validate_pet_pad_4))\n",
        "X_train_pet_pad_4=np.load(data_pet_pad_4[\"train_x_fn\"]+'.npy')\n",
        "Y_train_pet_pad_4=np.load(data_pet_pad_4[\"train_y_fn\"]+'.npy')\n",
        "X_validate_pet_pad_4=np.load(data_pet_pad_4[\"validate_x_fn\"]+'.npy')\n",
        "\n",
        "X_test_pet_pad_4=np.load(data_pet_pad_4[\"test_x_fn\"]+'.npy')\n",
        "Y_test_pet_pad_4=np.load(data_pet_pad_4[\"test_y_fn\"]+'.npy')\n",
        "\n",
        "Y_test_pet_pad_4=to_categorical(Y_test_pet_pad_4)\n",
        "Y_train_pet_pad_4 = to_categorical(Y_train_pet_pad_4, num_classes=nlabels_pet_pad_4)\n",
        "Y_validate_pet_pad_4 = to_categorical(Y_validate_pet_pad_4, num_classes=nlabels_pet_pad_4)\n",
        "\n",
        "\n",
        "### Warning : if you change the number of times you downsample with max_pool,\n",
        "###           then you need to rerun prepare_data() with pad_base=<number of downsample nodes>\n",
        "model_name=\"mri_4.hdf5\"\n",
        "\n",
        "\n",
        "### 1) Define architecture of neural network    \n",
        "IN = Input(shape=(data_pet_pad_4['image_dim'][1],data_pet_pad_4['image_dim'][2] ,1))\n",
        "\n",
        "BN1 = BatchNormalization()(IN)\n",
        "\n",
        "conv1 = Convolution2D(32, 3, 3, activation='relu', border_mode='same')(BN1)\n",
        "conv1 = Convolution2D(32, 3, 3, activation='relu', border_mode='same')(conv1)\n",
        "pool1 = MaxPooling2D(pool_size=(2, 2))(conv1)\n",
        " \n",
        "conv2 = Convolution2D(64, 3, 3, activation='relu', border_mode='same')(pool1)\n",
        "conv2 = Convolution2D(64, 3, 3, activation='relu', border_mode='same')(conv2)\n",
        "pool2 = MaxPooling2D(pool_size=(2, 2))(conv2)\n",
        "\n",
        "conv3 = Convolution2D(128, 3, 3, activation='relu', border_mode='same')(pool2)\n",
        "conv3 = Convolution2D(128, 3, 3, activation='relu', border_mode='same')(conv3)\n",
        "pool3 = MaxPooling2D(pool_size=(2, 2))(conv3)\n",
        "\n",
        "conv4 = Convolution2D(256, 3, 3, activation='relu', border_mode='same')(pool3)\n",
        "conv4 = Convolution2D(256, 3, 3, activation='relu', border_mode='same')(conv4)\n",
        "pool4 = MaxPooling2D(pool_size=(2, 2))(conv4)\n",
        "\n",
        "conv5 = Convolution2D(512, 3, 3, activation='relu', border_mode='same')(pool4)\n",
        "conv5 = Convolution2D(512, 3, 3, activation='relu', border_mode='same')(conv5)\n",
        "\n",
        "up5 = UpSampling2D(size=(2, 2))(conv5)\n",
        "#up6 = Conv2DTranspose( filters=512, kernel_size=(3,3), strides=(2, 2), padding='same')(conv6)\n",
        "conc5 = Concatenate(axis=3)([up5, conv4])\n",
        "conv6 = Convolution2D(256, 3, 3, activation='relu', border_mode='same')(conc5)\n",
        "conv6 = Convolution2D(256, 3, 3, activation='relu', border_mode='same')(conv6)\n",
        "\n",
        "up6 = UpSampling2D(size=(2, 2))(conv6)\n",
        "#up6 = Conv2DTranspose( filters=512, kernel_size=(3,3), strides=(2, 2), padding='same')(conv6)\n",
        "conc6 = Concatenate(axis=3)([up6, conv3])\n",
        "conv7 = Convolution2D(128, 3, 3, activation='relu', border_mode='same')(conc6)\n",
        "conv7 = Convolution2D(128, 3, 3, activation='relu', border_mode='same')(conv7)\n",
        "\n",
        "up7 = UpSampling2D(size=(2, 2))(conv7)\n",
        "#up7 = Conv2DTranspose( filters=512, kernel_size=(3,3), strides=(2, 2), padding='same')(conv7)\n",
        "conc7 = Concatenate(axis=3)([up7, conv2])\n",
        "conv8 = Convolution2D(64, 3, 3, activation='relu', border_mode='same')(conc7) #(up8)\n",
        "conv8 = Convolution2D(64, 3, 3, activation='relu', border_mode='same')(conv8)\n",
        "\n",
        "up8 = UpSampling2D(size=(2, 2))(conv8)\n",
        "#up8 = Conv2DTranspose( filters=512, kernel_size=(3,3), strides=(2, 2), padding='same')(conv8)\n",
        "conc8 = Concatenate(axis=3)([up8, conv1])\n",
        "conv9 = Convolution2D(32, 3, 3, activation='relu', border_mode='same')(conc8)\n",
        "conv9 = Convolution2D(32, 3, 3, activation='relu', border_mode='same')(conv9)\n",
        "\n",
        "conv10 = Convolution2D(nlabels_pet_pad_4, 1, 1, activation='softmax')(conv9)\n",
        "\n",
        "model = keras.models.Model(input=[IN], output=conv10)\n",
        "\n",
        "print(model.summary())\n",
        "\n",
        "#set compiler\n",
        "ada = keras.optimizers.Adam(0.0001)\n",
        "\n",
        "#compile the model\n",
        "model.compile(loss = 'categorical_crossentropy', optimizer=ada,metrics=['acc'] )\n",
        "#fit model\n",
        "\n",
        "history = model.fit([X_train_pet_pad_4],Y_train_pet_pad_4, validation_data=([X_validate_pet_pad_4], Y_validate_pet_pad_4), epochs = 3)\n",
        "#save model   \n",
        "model.save(model_name)\n",
        "\n",
        "test_score = model.evaluate(X_test_pet_pad_4, Y_test_pet_pad_4)\n",
        "print(\"Test :\", test_score)\n",
        "\n"
      ],
      "execution_count": 0,
      "outputs": []
    },
    {
      "metadata": {
        "id": "j6jBPK8qEn26",
        "colab_type": "text"
      },
      "cell_type": "markdown",
      "source": [
        "### 4. "
      ]
    },
    {
      "metadata": {
        "colab_type": "code",
        "id": "lzd3DkZFzTpw",
        "colab": {}
      },
      "cell_type": "code",
      "source": [
        "import keras\n",
        "from keras.layers.convolutional import Conv2D\n",
        "from keras.layers import Input\n",
        "from custom_loss import *\n",
        "from keras.utils import to_categorical\n",
        "from keras.activations import relu\n",
        "from keras.layers.core import Dropout\n",
        "from keras.layers import Input, Add, Multiply, Dense, BatchNormalization\n",
        "from keras.layers import LeakyReLU, MaxPooling2D, Conv2DTranspose, Concatenate, ZeroPadding2D\n",
        "from prepare_data import pad\n",
        "\n",
        "### Load data from brain images and save them into .npy. Sort them into train/validate/test splits\n",
        "setup_dirs('mri_pad_4_results')  \n",
        "[images_mri_pad_4, data_mri_pad_4] = prepare_data('mri','mri_pad_4_results/data', 'mri_pad_4_results/report', input_str='_T1w_anat_rsl.mnc',\\\n",
        "                                                  label_str='variant-seg',images_fn='mri_unet.csv',pad_base=4, clobber=True)\n",
        "\n",
        "### 1) Load data\n",
        "Y_validate_mri_pad_4=np.load(data_mri_pad_4[\"validate_y_fn\"]+'.npy')\n",
        "nlabels_mri_pad_4=len(np.unique(Y_validate_mri_pad_4))\n",
        "\n",
        "X_train_mri_pad_4=np.load(data_mri_pad_4[\"train_x_fn\"]+'.npy')\n",
        "Y_train_mri_pad_4=np.load(data_mri_pad_4[\"train_y_fn\"]+'.npy')\n",
        "X_validate_mri_pad_4=np.load(data_mri_pad_4[\"validate_x_fn\"]+'.npy')\n",
        "\n",
        "X_test_mri_pad_4=np.load(data_mri_pad_4[\"test_x_fn\"]+'.npy')\n",
        "Y_test_mri_pad_4=np.load(data_mri_pad_4[\"test_y_fn\"]+'.npy')\n",
        "\n",
        "Y_test_mri_pad_4=to_categorical(Y_test_mri_pad_4)\n",
        "Y_train_mri_pad_4 = to_categorical(Y_train_mri_pad_4, num_classes=nlabels_mri_pad_4)\n",
        "Y_validate_mri_pad_4 = to_categorical(Y_validate_mri_pad_4, num_classes=nlabels_mri_pad_4)\n",
        "\n",
        "### Warning : if you change the number of times you downsample with max_pool,\n",
        "###           then you need to rerun prepare_data() with pad_base=<number of downsample nodes>\n",
        "model_name=\"mri_unet.hdf5\"\n",
        "\n",
        "\n",
        "### 1) Define architecture of neural network    \n",
        "IN = Input(shape=(data_mri_pad_4['image_dim'][1],data_mri_pad_4['image_dim'][2] ,1))\n",
        "\n",
        "BN1 = BatchNormalization()(IN)\n",
        "\n",
        "conv1 = Convolution2D(32, 3, 3, activation='relu', border_mode='same')(BN1)\n",
        "conv1 = Convolution2D(32, 3, 3, activation='relu', border_mode='same')(conv1)\n",
        "pool1 = MaxPooling2D(pool_size=(2, 2))(conv1)\n",
        " \n",
        "conv2 = Convolution2D(64, 3, 3, activation='relu', border_mode='same')(pool1)\n",
        "conv2 = Convolution2D(64, 3, 3, activation='relu', border_mode='same')(conv2)\n",
        "pool2 = MaxPooling2D(pool_size=(2, 2))(conv2)\n",
        "\n",
        "conv3 = Convolution2D(128, 3, 3, activation='relu', border_mode='same')(pool2)\n",
        "conv3 = Convolution2D(128, 3, 3, activation='relu', border_mode='same')(conv3)\n",
        "pool3 = MaxPooling2D(pool_size=(2, 2))(conv3)\n",
        "\n",
        "conv4 = Convolution2D(256, 3, 3, activation='relu', border_mode='same')(pool3)\n",
        "conv4 = Convolution2D(256, 3, 3, activation='relu', border_mode='same')(conv4)\n",
        "pool4 = MaxPooling2D(pool_size=(2, 2))(conv4)\n",
        "\n",
        "conv5 = Convolution2D(512, 3, 3, activation='relu', border_mode='same')(pool4)\n",
        "conv5 = Convolution2D(512, 3, 3, activation='relu', border_mode='same')(conv5)\n",
        "\n",
        "up5 = UpSampling2D(size=(2, 2))(conv5)\n",
        "#up6 = Conv2DTranspose( filters=512, kernel_size=(3,3), strides=(2, 2), padding='same')(conv6)\n",
        "conc5 = Concatenate(axis=3)([up5, conv4])\n",
        "conv6 = Convolution2D(256, 3, 3, activation='relu', border_mode='same')(conc5)\n",
        "conv6 = Convolution2D(256, 3, 3, activation='relu', border_mode='same')(conv6)\n",
        "\n",
        "up6 = UpSampling2D(size=(2, 2))(conv6)\n",
        "#up6 = Conv2DTranspose( filters=512, kernel_size=(3,3), strides=(2, 2), padding='same')(conv6)\n",
        "conc6 = Concatenate(axis=3)([up6, conv3])\n",
        "conv7 = Convolution2D(128, 3, 3, activation='relu', border_mode='same')(conc6)\n",
        "conv7 = Convolution2D(128, 3, 3, activation='relu', border_mode='same')(conv7)\n",
        "\n",
        "up7 = UpSampling2D(size=(2, 2))(conv7)\n",
        "#up7 = Conv2DTranspose( filters=512, kernel_size=(3,3), strides=(2, 2), padding='same')(conv7)\n",
        "conc7 = Concatenate(axis=3)([up7, conv2])\n",
        "conv8 = Convolution2D(64, 3, 3, activation='relu', border_mode='same')(conc7) #(up8)\n",
        "conv8 = Convolution2D(64, 3, 3, activation='relu', border_mode='same')(conv8)\n",
        "\n",
        "up8 = UpSampling2D(size=(2, 2))(conv8)\n",
        "#up8 = Conv2DTranspose( filters=512, kernel_size=(3,3), strides=(2, 2), padding='same')(conv8)\n",
        "conc8 = Concatenate(axis=3)([up8, conv1])\n",
        "conv9 = Convolution2D(32, 3, 3, activation='relu', border_mode='same')(conc8)\n",
        "conv9 = Convolution2D(32, 3, 3, activation='relu', border_mode='same')(conv9)\n",
        "\n",
        "conv10 = Convolution2D(nlabels_mri_pad_4, 1, 1, activation='softmax')(conv9)\n",
        "\n",
        "model = keras.models.Model(input=[IN], output=conv10)\n",
        "\n",
        "print(model.summary())\n",
        "\n",
        "#set compiler\n",
        "ada = keras.optimizers.Adam(0.0001)\n",
        "#compile the model\n",
        "model.compile(loss = 'categorical_crossentropy', optimizer=ada,metrics=['acc'] )\n",
        "#fit model\n",
        "history = model.fit([X_train_mri_pad_4],Y_train_mri_pad_4,  validation_data=([X_validate_mri_pad_4], Y_validate_mri_pad_4), epochs = 3)\n",
        "#save model   \n",
        "model.save(model_name)\n",
        "\n",
        "test_score = model.evaluate(X_test_mri_pad_4, Y_test_mri_pad_4)\n",
        "print(\"Test :\", test_score)\n"
      ],
      "execution_count": 0,
      "outputs": []
    },
    {
      "metadata": {
        "id": "XlDzUb8nLIzc",
        "colab_type": "code",
        "colab": {}
      },
      "cell_type": "code",
      "source": [
        "###Create predictions for model\n",
        "from predict import *\n",
        "predict('mri_unet.hdf5', test_dir, 'mri_results/data', 'mri_results/report/mri_unet.csv', 'categorical_crossentropy', images_to_predict='all', category=\"test\", verbose=True)"
      ],
      "execution_count": 0,
      "outputs": []
    },
    {
      "metadata": {
        "id": "8SgbItuJdQPd",
        "colab_type": "code",
        "colab": {}
      },
      "cell_type": "code",
      "source": [
        "from google.colab import files\n",
        "from glob import glob\n",
        "for fn in glob('pet_results/predict/test/*.png') :  \n",
        "  print(fn)\n",
        "  files.download(fn)"
      ],
      "execution_count": 0,
      "outputs": []
    },
    {
      "metadata": {
        "id": "v9SQSNiSIz-7",
        "colab_type": "text"
      },
      "cell_type": "markdown",
      "source": [
        "### 5.\n",
        "\n",
        "Modify the code for solutions 3 to improve network for PET segmentation.\n",
        "\n",
        "Modify answer to question 4 to improve MRI segmentation."
      ]
    },
    {
      "metadata": {
        "id": "1fGv2-swLH0i",
        "colab_type": "code",
        "colab": {}
      },
      "cell_type": "code",
      "source": [
        ""
      ],
      "execution_count": 0,
      "outputs": []
    }
  ]
}
