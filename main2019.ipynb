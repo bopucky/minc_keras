{
  "nbformat": 4,
  "nbformat_minor": 0,
  "metadata": {
    "colab": {
      "name": "main2019.ipynb",
      "version": "0.3.2",
      "provenance": []
    },
    "kernelspec": {
      "name": "python3",
      "display_name": "Python 3"
    },
    "accelerator": "GPU"
  },
  "cells": [
    {
      "metadata": {
        "colab_type": "text",
        "id": "a--rFzYazTo2"
      },
      "cell_type": "markdown",
      "source": [
        "# Introduction to Brain Segmentation with Keras\n",
        "\n",
        "# ***MAIN 2019 Educational Course***\n",
        "\n",
        "## Thomas Funck\n",
        "\n",
        "## McGill University\n",
        "\n",
        "## **Contact**: email: [tffunck@gmail.com](mailto:tffunck@gmail.com) , Twitter: [@tffunck](https://twitter.com/tffunck)"
      ]
    },
    {
      "metadata": {
        "colab_type": "code",
        "id": "OPVCbLjaj0An",
        "outputId": "7cd2675f-74d1-4e59-84b8-790122b99999",
        "colab": {
          "base_uri": "https://localhost:8080/",
          "height": 170
        }
      },
      "cell_type": "code",
      "source": [
        "!rm -r /content/minc_keras\n",
        "#Download repository\n",
        "!git clone https://github.com/tfunck/minc_keras\n",
        "  \n",
        "#Switch dir\n",
        "def set_base_dir():\n",
        "  import os\n",
        "  os.chdir('/content/minc_keras')\n",
        "set_base_dir()\n",
        "!pwd"
      ],
      "execution_count": 1,
      "outputs": [
        {
          "output_type": "stream",
          "text": [
            "rm: cannot remove '/content/minc_keras': No such file or directory\n",
            "Cloning into 'minc_keras'...\n",
            "remote: Enumerating objects: 241, done.\u001b[K\n",
            "remote: Counting objects: 100% (241/241), done.\u001b[K\n",
            "remote: Compressing objects: 100% (183/183), done.\u001b[K\n",
            "remote: Total 817 (delta 123), reused 152 (delta 50), pack-reused 576\u001b[K\n",
            "Receiving objects: 100% (817/817), 79.39 MiB | 10.71 MiB/s, done.\n",
            "Resolving deltas: 100% (426/426), done.\n",
            "/content/minc_keras\n"
          ],
          "name": "stdout"
        }
      ]
    },
    {
      "metadata": {
        "id": "ewA4QpL94SZY",
        "colab_type": "code",
        "outputId": "b10e05cb-8b38-4ccf-f232-cff922d3eb69",
        "colab": {
          "base_uri": "https://localhost:8080/",
          "height": 258
        }
      },
      "cell_type": "code",
      "source": [
        "#Download and unzip data\n",
        "!tar -jxvf data/output.tar.bz2  &> /dev/null\n",
        "!mv output mri\n",
        "\n",
        "!wget https://amnesia.cbrain.mcgill.ca/deeplearning/sorteo.tar.bz2 --no-check-certificate\n",
        "  \n",
        "!mkdir -p pet\n",
        "!tar -jxvf sorteo.tar.bz2 -C pet  &> /dev/null"
      ],
      "execution_count": 2,
      "outputs": [
        {
          "output_type": "stream",
          "text": [
            "--2018-12-09 20:38:18--  https://amnesia.cbrain.mcgill.ca/deeplearning/sorteo.tar.bz2\n",
            "Resolving amnesia.cbrain.mcgill.ca (amnesia.cbrain.mcgill.ca)... 132.216.42.90\n",
            "Connecting to amnesia.cbrain.mcgill.ca (amnesia.cbrain.mcgill.ca)|132.216.42.90|:443... connected.\n",
            "WARNING: cannot verify amnesia.cbrain.mcgill.ca's certificate, issued by ‘CN=Go Daddy Secure Certificate Authority - G2,OU=http://certs.godaddy.com/repository/,O=GoDaddy.com\\\\, Inc.,L=Scottsdale,ST=Arizona,C=US’:\n",
            "  Unable to locally verify the issuer's authority.\n",
            "HTTP request sent, awaiting response... 200 OK\n",
            "Length: 322192084 (307M) [application/x-bzip2]\n",
            "Saving to: ‘sorteo.tar.bz2’\n",
            "\n",
            "sorteo.tar.bz2      100%[===================>] 307.27M  15.7MB/s    in 21s     \n",
            "\n",
            "2018-12-09 20:38:40 (14.7 MB/s) - ‘sorteo.tar.bz2’ saved [322192084/322192084]\n",
            "\n"
          ],
          "name": "stdout"
        }
      ]
    },
    {
      "metadata": {
        "id": "SRXWFMrRpVUt",
        "colab_type": "text"
      },
      "cell_type": "markdown",
      "source": [
        "# ***Outline***"
      ]
    },
    {
      "metadata": {
        "colab_type": "text",
        "id": "F5dHDJJBzTo4"
      },
      "cell_type": "markdown",
      "source": [
        "# Simple Convolutional Neural Network"
      ]
    },
    {
      "metadata": {
        "id": "IswkR7t-s4Hc",
        "colab_type": "code",
        "outputId": "f5241a24-3320-4728-ccb4-2138da54342e",
        "colab": {
          "base_uri": "https://localhost:8080/",
          "height": 510
        }
      },
      "cell_type": "code",
      "source": [
        "set_base_dir()\n",
        "import minc_keras\n",
        "from utils import *\n",
        "import numpy as np\n",
        "from minc_keras import *\n",
        "### Set input and label string\n",
        "input_str='_T1w_anat_rsl.mnc' \n",
        "label_str='variant-seg'\n",
        "\n",
        "### Set filename for .csv that will store data frame \n",
        "images_fn='mri.csv'\n",
        "\n",
        "### Set source directory from which data will be read\n",
        "source_dir=\"mri/\"\n",
        "\n",
        "### Set the target directory where output results will be saved\n",
        "target_dir=\"mri_results\"\n",
        "\n",
        "### Set raiots for train/validation/test\n",
        "ratios=[0.7,0.15]\n",
        "\n",
        "### By default we set clobber to False so that we don't overwrite existing files\n",
        "### Feel free to change if needed\n",
        "clobber=True\n",
        "\n",
        "### Size of batches that will be passed to model. The default 2 makes it easy\n",
        "batch_size=2\n",
        "\n",
        "### Image dimensions. We are slicing the 3D images into 2D slices. This serves to augment the data\n",
        "### and make training faster\n",
        "feature_dim=2\n",
        "\n",
        "\n",
        "setup_dirs(target_dir)  \n",
        "\n",
        "### Set filename for .csv file that will contain info about input images\n",
        "images_fn = set_model_name(images_fn, report_dir, '.csv')\n",
        "\n",
        "### Load data from brain images and save them into .npy. Sort them into train/validate/test splits\n",
        "[images, data] = prepare_data(source_dir, data_dir, report_dir, input_str, label_str, ratios, batch_size,feature_dim, images_fn,  clobber=clobber)\n",
        "print(images.iloc[1:5,:])\n",
        "### 1) Load data\n",
        "Y_validate=np.load(data[\"validate_y_fn\"]+'.npy')\n",
        "nlabels=len(np.unique(Y_validate))\n",
        "X_train=np.load(data[\"train_x_fn\"]+'.npy')\n",
        "Y_train=np.load(data[\"train_y_fn\"]+'.npy')\n",
        "X_validate=np.load(data[\"validate_x_fn\"]+'.npy')\n",
        "\n",
        "X_test=np.load(data[\"test_x_fn\"]+'.npy')\n",
        "Y_test=np.load(data[\"test_y_fn\"]+'.npy')\n",
        "\n",
        "Y_test=to_categorical(Y_test)\n",
        "Y_train = to_categorical(Y_train, num_classes=nlabels)\n",
        "Y_validate = to_categorical(Y_validate, num_classes=nlabels)"
      ],
      "execution_count": 5,
      "outputs": [
        {
          "output_type": "stream",
          "text": [
            "train : expected/real ratio = 70.00 / 70.15\n",
            "validate : expected/real ratio = 15.00 / 14.93\n"
          ],
          "name": "stdout"
        },
        {
          "output_type": "stream",
          "text": [
            "/usr/local/lib/python3.6/dist-packages/pandas/core/indexing.py:194: SettingWithCopyWarning: \n",
            "A value is trying to be set on a copy of a slice from a DataFrame\n",
            "\n",
            "See the caveats in the documentation: http://pandas.pydata.org/pandas-docs/stable/indexing.html#indexing-view-versus-copy\n",
            "  self._setitem_with_indexer(indexer, value)\n"
          ],
          "name": "stderr"
        },
        {
          "output_type": "stream",
          "text": [
            "1 [92, 110, 92]\n",
            "2 [92, 110, 92]\n",
            "\n",
            "\n",
            "\n",
            "                                               label  \\\n",
            "1  mri/sub-70106/sub-70106_task-01_ses-01_T1w_var...   \n",
            "2  mri/sub-11043/sub-11043_task-01_ses-01_T1w_var...   \n",
            "3  mri/sub-72215/sub-72215_task-01_ses-01_T1w_var...   \n",
            "4  mri/sub-09644/sub-09644_task-01_ses-01_T1w_var...   \n",
            "\n",
            "                                                 pet    subject task category  \\\n",
            "1  mri/sub-70106/sub-70106_task-01_ses-01_T1w_ana...  sub-70106   01    train   \n",
            "2  mri/sub-11043/sub-11043_task-01_ses-01_T1w_ana...  sub-11043   01    train   \n",
            "3  mri/sub-72215/sub-72215_task-01_ses-01_T1w_ana...  sub-72215   01     test   \n",
            "4  mri/sub-09644/sub-09644_task-01_ses-01_T1w_ana...  sub-09644   01    train   \n",
            "\n",
            "   valid_samples  total_samples  \n",
            "1             47             92  \n",
            "2             60             92  \n",
            "3             64             92  \n",
            "4             64             92  \n"
          ],
          "name": "stdout"
        }
      ]
    },
    {
      "metadata": {
        "colab_type": "text",
        "id": "ZB0ZXe4DzTpF"
      },
      "cell_type": "markdown",
      "source": [
        "## Training a simple model"
      ]
    },
    {
      "metadata": {
        "colab_type": "code",
        "id": "vDqzkarSzTpF",
        "outputId": "6005b474-8d03-44aa-97b2-ab634faa42c3",
        "colab": {
          "base_uri": "https://localhost:8080/",
          "height": 476
        }
      },
      "cell_type": "code",
      "source": [
        "import keras\n",
        "from keras.layers.convolutional import Conv2D\n",
        "from keras.layers import Input\n",
        "from custom_loss import *\n",
        "from keras.utils import to_categorical\n",
        "from keras.activations import relu\n",
        "from keras.layers.core import Dropout\n",
        "from keras.callbacks import History, ModelCheckpoint\n",
        "\n",
        "model_name=\"mri_1.hdf5\"\n",
        "\n",
        "IN = Input(shape=(data[\"image_dim\"][1], data[\"image_dim\"][2],1))\n",
        "CONV1 = Conv2D(16, kernel_size=[3,3], activation=\"relu\",padding='same')(IN)\n",
        "CONV2 = Conv2D(16, kernel_size=[3,3], activation=\"relu\",padding='same')(CONV1)\n",
        "CONV3 = Conv2D(16, kernel_size=[3,3], activation=\"relu\",padding='same')(CONV2)\n",
        "OUT = Conv2D(nlabels, kernel_size=[1,1], activation='softmax', padding='same')(CONV3)\n",
        "model = keras.models.Model(inputs=[IN], outputs=OUT)\n",
        "\n",
        "print(model.summary())\n",
        "\n",
        "#set compiler\n",
        "ada = keras.optimizers.Adam(0.0001)\n",
        "\n",
        "#compile the model\n",
        "model.compile(loss = 'categorical_crossentropy', optimizer=ada,metrics=['acc'] )\n",
        "#fit model\n",
        "\n",
        "history = model.fit([X_train],Y_train,  validation_data=([X_validate], Y_validate), epochs = 3)\n",
        "#save model   \n",
        "model.save(model_name)\n",
        "\n",
        "test_score = model.evaluate(X_test, Y_test)\n",
        "print(\"Test :\", test_score)\n"
      ],
      "execution_count": 6,
      "outputs": [
        {
          "output_type": "stream",
          "text": [
            "_________________________________________________________________\n",
            "Layer (type)                 Output Shape              Param #   \n",
            "=================================================================\n",
            "input_1 (InputLayer)         (None, 110, 92, 1)        0         \n",
            "_________________________________________________________________\n",
            "conv2d_1 (Conv2D)            (None, 110, 92, 16)       160       \n",
            "_________________________________________________________________\n",
            "conv2d_2 (Conv2D)            (None, 110, 92, 16)       2320      \n",
            "_________________________________________________________________\n",
            "conv2d_3 (Conv2D)            (None, 110, 92, 16)       2320      \n",
            "_________________________________________________________________\n",
            "conv2d_4 (Conv2D)            (None, 110, 92, 3)        51        \n",
            "=================================================================\n",
            "Total params: 4,851\n",
            "Trainable params: 4,851\n",
            "Non-trainable params: 0\n",
            "_________________________________________________________________\n",
            "None\n",
            "Train on 11512 samples, validate on 2584 samples\n",
            "Epoch 1/3\n",
            "11512/11512 [==============================] - 19s 2ms/step - loss: 0.7263 - acc: 0.8874 - val_loss: 0.2714 - val_acc: 0.8911\n",
            "Epoch 2/3\n",
            "11512/11512 [==============================] - 15s 1ms/step - loss: 0.2234 - acc: 0.9028 - val_loss: 0.2089 - val_acc: 0.8992\n",
            "Epoch 3/3\n",
            "11512/11512 [==============================] - 15s 1ms/step - loss: 0.1940 - acc: 0.9119 - val_loss: 0.1919 - val_acc: 0.9085\n",
            "2536/2536 [==============================] - 1s 454us/step\n",
            "Test : [0.19317725138615358, 0.9099849475671065]\n"
          ],
          "name": "stdout"
        }
      ]
    },
    {
      "metadata": {
        "id": "ygnxmSu8hqt0",
        "colab_type": "code",
        "colab": {}
      },
      "cell_type": "code",
      "source": [
        "###Create predictions for model\n",
        "from predict import *\n",
        "predict(model_name, test_dir, data_dir, report_dir+'/mri.csv', 'categorical_crossentropy', images_to_predict='1', category=\"test\", verbose=True)"
      ],
      "execution_count": 0,
      "outputs": []
    },
    {
      "metadata": {
        "id": "wg1scPa4uQFX",
        "colab_type": "code",
        "colab": {
          "base_uri": "https://localhost:8080/",
          "height": 34
        },
        "outputId": "3eeed69f-de08-40e3-e987-7a4ca4e216f5"
      },
      "cell_type": "code",
      "source": [
        "#If using Google Chrome, can download directly through browser\n",
        "from google.colab import files\n",
        "from glob import glob\n",
        "for fn in glob('mri_results/predict/test/*.png') :  \n",
        "  print(fn)\n",
        "  files.download(fn)\n",
        "\n",
        "#import matplotlib.pyplot as plt\n",
        "#plt.imshow(plt.imread('mri_results/predict/test//sub-75922_task-01_ses-01_T1w_anat_rsl_predict_0.png'))"
      ],
      "execution_count": 14,
      "outputs": [
        {
          "output_type": "stream",
          "text": [
            "mri_results/predict/test/sub-75922_task-01_ses-01_T1w_anat_rsl_predict_0.png\n"
          ],
          "name": "stdout"
        }
      ]
    },
    {
      "metadata": {
        "id": "ZW3RdNcUpVU-",
        "colab_type": "text"
      },
      "cell_type": "markdown",
      "source": [
        "## Adding drop-out"
      ]
    },
    {
      "metadata": {
        "id": "DRozzICApVVC",
        "colab_type": "code",
        "colab": {}
      },
      "cell_type": "code",
      "source": [
        "import keras\n",
        "from keras.layers.convolutional import Conv2D\n",
        "from keras.layers import Input\n",
        "from custom_loss import *\n",
        "from keras.utils import to_categorical\n",
        "from keras.activations import relu\n",
        "from keras.layers.core import Dropout\n",
        "from keras.callbacks import History, ModelCheckpoint\n",
        "\n",
        "model_name=\"mri_1.hdf5\"\n",
        "\n",
        "IN = Input(shape=(data[\"image_dim\"][1], data[\"image_dim\"][2],1))\n",
        "CONV1 = Conv2D(16, kernel_size=[3,3], activation=\"relu\",padding='same')(IN)\n",
        "DROPOUT1 = Dropout(0.25)(CONV1)\n",
        "CONV2 = Conv2D(16, kernel_size=[3,3], activation=\"relu\",padding='same')(DROPOUT1)\n",
        "DROPOUT2 = Dropout(0.25)(CONV2)\n",
        "CONV3 = Conv2D(16, kernel_size=[3,3], activation=\"relu\",padding='same')(DROPOUT2)\n",
        "DROPOUT3 = Dropout(0.25)(CONV3)\n",
        "OUT = Conv2D(nlabels, kernel_size=[1,1], activation='softmax', padding='same')(DROPOUT3)\n",
        "model = keras.models.Model(inputs=[IN], outputs=OUT)\n",
        "\n",
        "print(model.summary())\n",
        "\n",
        "#set compiler\n",
        "ada = keras.optimizers.Adam(0.0001)\n",
        "\n",
        "#compile the model\n",
        "model.compile(loss = 'categorical_crossentropy', optimizer=ada,metrics=['acc'] )\n",
        "#fit model\n",
        "\n",
        "history = model.fit([X_train],Y_train,  validation_data=([X_validate], Y_validate), epochs = 3)\n",
        "#save model   \n",
        "model.save(model_name)\n",
        "\n",
        "test_score = model.evaluate(X_test, Y_test)\n",
        "print(\"Test :\", test_score)\n"
      ],
      "execution_count": 0,
      "outputs": []
    },
    {
      "metadata": {
        "id": "2Ztw_OrtpVVL",
        "colab_type": "text"
      },
      "cell_type": "markdown",
      "source": [
        "## Adding dilations"
      ]
    },
    {
      "metadata": {
        "colab_type": "code",
        "id": "9qhOKYbtEsT1",
        "colab": {}
      },
      "cell_type": "code",
      "source": [
        "import keras\n",
        "from keras.layers.convolutional import Conv2D\n",
        "from keras.layers import Input\n",
        "from custom_loss import *\n",
        "from keras.utils import to_categorical\n",
        "from keras.activations import relu\n",
        "from keras.layers.core import Dropout\n",
        "from keras.callbacks import History, ModelCheckpoint\n",
        "\n",
        "model_name=\"mri_1.hdf5\"\n",
        "\n",
        "IN = Input(shape=(data[\"image_dim\"][1], data[\"image_dim\"][2],1))\n",
        "CONV1 = Conv2D(16, kernel_size=[3,3], activation=\"relu\",padding='same')(IN)\n",
        "DROPOUT1 = Dropout(0.25)(CONV1)\n",
        "CONV2 = Conv2D(16, kernel_size=[3,3], dilation_rate=[2,2], activation=\"relu\",padding='same')(DROPOUT1)\n",
        "DROPOUT2 = Dropout(0.25)(CONV2)\n",
        "CONV3 = Conv2D(16, kernel_size=[3,3], dilation_rate=[3,3], activation=\"relu\",padding='same')(DROPOUT2)\n",
        "DROPOUT3 = Dropout(0.25)(CONV3)\n",
        "OUT = Conv2D(nlabels, kernel_size=[1,1], activation='softmax', padding='same')(DROPOUT3)\n",
        "model = keras.models.Model(inputs=[IN], outputs=OUT)\n",
        "\n",
        "print(model.summary())\n",
        "\n",
        "#set compiler\n",
        "ada = keras.optimizers.Adam(0.0001)\n",
        "\n",
        "#compile the model\n",
        "model.compile(loss = 'categorical_crossentropy', optimizer=ada,metrics=['acc'] )\n",
        "#fit model\n",
        "\n",
        "history = model.fit([X_train],Y_train,  validation_data=([X_validate], Y_validate), epochs = 3)\n",
        "#save model   \n",
        "model.save(model_name)\n",
        "\n",
        "test_score = model.evaluate(X_test, Y_test)\n",
        "print(\"Test :\", test_score)\n"
      ],
      "execution_count": 0,
      "outputs": []
    },
    {
      "metadata": {
        "id": "feOljZP6pVVV",
        "colab_type": "text"
      },
      "cell_type": "markdown",
      "source": [
        "## __Excercises__\n",
        "\n",
        "### 1. Modify the drop-out rate and dilation_rate\n",
        "\n",
        "### 2.  Build a CNN with: 5 convolutional layers, 5x5 kernels and 8 kernels in each layer\n",
        "\n",
        "### 3. Train a CNN that has better than 0.96 test accuracy. How high can you get the accuracy without overfitting? "
      ]
    },
    {
      "metadata": {
        "id": "UDRgIXTjKiUY",
        "colab_type": "text"
      },
      "cell_type": "markdown",
      "source": [
        "## Solutions\n",
        "### 2.\n"
      ]
    },
    {
      "metadata": {
        "colab_type": "code",
        "id": "5Fo61_R0GYoq",
        "colab": {
          "base_uri": "https://localhost:8080/",
          "height": 544
        },
        "outputId": "5e22a656-139e-4250-d0bc-43fc235f99d1"
      },
      "cell_type": "code",
      "source": [
        "import keras\n",
        "from keras.layers.convolutional import Conv2D\n",
        "from keras.layers import Input\n",
        "from custom_loss import *\n",
        "from keras.utils import to_categorical\n",
        "from keras.activations import relu\n",
        "from keras.layers.core import Dropout\n",
        "\n",
        "\n",
        "model_name=\"mri_1.hdf5\"\n",
        "\n",
        "IN = Input(shape=(data[\"image_dim\"][1], data[\"image_dim\"][2],1))\n",
        "CONV1 = Conv2D(8, kernel_size=[5,5], activation=\"relu\",padding='same')(IN)\n",
        "CONV2 = Conv2D(8, kernel_size=[5,5], activation=\"relu\",padding='same')(CONV1)\n",
        "CONV3 = Conv2D(8, kernel_size=[5,5], activation=\"relu\",padding='same')(CONV2)\n",
        "CONV4 = Conv2D(8, kernel_size=[5,5], activation=\"relu\",padding='same')(CONV3)\n",
        "CONV5 = Conv2D(8, kernel_size=[5,5], activation=\"relu\",padding='same')(CONV4)\n",
        "OUT = Conv2D(nlabels, kernel_size=[1,1], activation='softmax', padding='same')(CONV5)\n",
        "model = keras.models.Model(inputs=[IN], outputs=OUT)\n",
        "\n",
        "print(model.summary())\n",
        "\n",
        "#set compiler\n",
        "ada = keras.optimizers.Adam(0.0001)\n",
        "\n",
        "#compile the model\n",
        "model.compile(loss = 'categorical_crossentropy', optimizer=ada,metrics=['acc'] )\n",
        "#fit model\n",
        "\n",
        "history = model.fit([X_train],Y_train,  validation_data=([X_validate], Y_validate), epochs = 3)\n",
        "#save model   \n",
        "model.save(model_name)\n",
        "\n",
        "test_score = model.evaluate(X_test, Y_test)\n",
        "print(\"Test :\", test_score)\n"
      ],
      "execution_count": 15,
      "outputs": [
        {
          "output_type": "stream",
          "text": [
            "_________________________________________________________________\n",
            "Layer (type)                 Output Shape              Param #   \n",
            "=================================================================\n",
            "input_2 (InputLayer)         (None, 110, 92, 1)        0         \n",
            "_________________________________________________________________\n",
            "conv2d_5 (Conv2D)            (None, 110, 92, 8)        208       \n",
            "_________________________________________________________________\n",
            "conv2d_6 (Conv2D)            (None, 110, 92, 8)        1608      \n",
            "_________________________________________________________________\n",
            "conv2d_7 (Conv2D)            (None, 110, 92, 8)        1608      \n",
            "_________________________________________________________________\n",
            "conv2d_8 (Conv2D)            (None, 110, 92, 8)        1608      \n",
            "_________________________________________________________________\n",
            "conv2d_9 (Conv2D)            (None, 110, 92, 8)        1608      \n",
            "_________________________________________________________________\n",
            "conv2d_10 (Conv2D)           (None, 110, 92, 3)        27        \n",
            "=================================================================\n",
            "Total params: 6,667\n",
            "Trainable params: 6,667\n",
            "Non-trainable params: 0\n",
            "_________________________________________________________________\n",
            "None\n",
            "Train on 11512 samples, validate on 2584 samples\n",
            "Epoch 1/3\n",
            "11512/11512 [==============================] - 21s 2ms/step - loss: 0.5270 - acc: 0.8720 - val_loss: 0.2330 - val_acc: 0.8946\n",
            "Epoch 2/3\n",
            "11512/11512 [==============================] - 20s 2ms/step - loss: 0.2170 - acc: 0.9043 - val_loss: 0.2015 - val_acc: 0.9110\n",
            "Epoch 3/3\n",
            "11512/11512 [==============================] - 20s 2ms/step - loss: 0.1972 - acc: 0.9126 - val_loss: 0.1890 - val_acc: 0.9171\n",
            "2536/2536 [==============================] - 2s 631us/step\n",
            "Test : [0.1909562695642187, 0.915754711778382]\n"
          ],
          "name": "stdout"
        }
      ]
    },
    {
      "metadata": {
        "id": "dltIipwsOhpQ",
        "colab_type": "text"
      },
      "cell_type": "markdown",
      "source": [
        "### 3) Run the previous model for 10 iterations to exceed 0.961 test accuracy."
      ]
    },
    {
      "metadata": {
        "colab_type": "text",
        "id": "D8VmKHg4zTpH"
      },
      "cell_type": "markdown",
      "source": [
        "#U-Net"
      ]
    },
    {
      "metadata": {
        "colab_type": "text",
        "id": "5u7QfjeKzTpN"
      },
      "cell_type": "markdown",
      "source": [
        "![](https://github.com/tfunck/minc_keras/blob/master/images/splits_c_3.png?raw=1)"
      ]
    },
    {
      "metadata": {
        "colab_type": "code",
        "id": "SqBWn-PmzTpO",
        "colab": {}
      },
      "cell_type": "code",
      "source": [
        "set_base_dir()\n",
        "import minc_keras\n",
        "from utils import *\n",
        "import numpy as np\n",
        "from minc_keras import *\n",
        "### Set input and label string\n",
        "input_str='_pet.mnc' \n",
        "label_str='brainmask'\n",
        "\n",
        "### Set filename for .csv that will store data frame \n",
        "images_fn='pet.csv'\n",
        "\n",
        "### Set source directory from which data will be read\n",
        "source_dir=\"pet/\"\n",
        "\n",
        "### Set the target directory where output results will be saved\n",
        "target_dir=\"pet_results\"\n",
        "\n",
        "### Set raiots for train/validation/test\n",
        "ratios=[0.70,0.15]\n",
        "\n",
        "### By default we set clobber to False so that we don't overwrite existing files\n",
        "### Feel free to change if needed\n",
        "clobber=True\n",
        "\n",
        "### Size of batches that will be passed to model. The default 2 makes it easy\n",
        "batch_size=2\n",
        "\n",
        "### Image dimensions. We are slicing the 3D images into 2D slices. This serves to augment the data\n",
        "### and make training faster\n",
        "feature_dim=2\n",
        "\n",
        "setup_dirs(target_dir)  \n",
        "\n",
        "### Set filename for .csv file that will contain info about input images\n",
        "images_fn = set_model_name(images_fn, report_dir, '.csv')\n",
        "\n",
        "### Load data from brain images and save them into .npy. Sort them into train/validate/test splits\n",
        "[images, data] = prepare_data(source_dir, data_dir, report_dir, input_str, label_str, ratios, batch_size,feature_dim, images_fn, pad_base=4,  clobber=clobber)\n",
        "\n",
        "### 1) Load data\n",
        "Y_validate=np.load(data[\"validate_y_fn\"]+'.npy')\n",
        "nlabels=len(np.unique(Y_validate))\n",
        "\n",
        "X_train=np.load(data[\"train_x_fn\"]+'.npy')\n",
        "Y_train=np.load(data[\"train_y_fn\"]+'.npy')\n",
        "X_validate=np.load(data[\"validate_x_fn\"]+'.npy')\n",
        "\n",
        "X_test=np.load(data[\"test_x_fn\"]+'.npy')\n",
        "Y_test=np.load(data[\"test_y_fn\"]+'.npy')\n",
        "\n",
        "Y_test=to_categorical(Y_test)\n",
        "Y_train = to_categorical(Y_train, num_classes=nlabels)\n",
        "Y_validate = to_categorical(Y_validate, num_classes=nlabels)"
      ],
      "execution_count": 0,
      "outputs": []
    },
    {
      "metadata": {
        "colab_type": "text",
        "id": "rGkJHbkPzTpQ"
      },
      "cell_type": "markdown",
      "source": [
        "## Building a U-NET in Keras\n",
        "\n",
        "![](https://github.com/tfunck/minc_keras/blob/master/images/unet.png?raw=1)\n",
        "\n",
        "Ronneberger, Fischer, and Brox. 2015.\"U-net: Convolutional networks for biomedical image segmentation.\" International Conference on Medical image computing and computer-assisted intervention. https://arxiv.org/abs/1505.04597"
      ]
    },
    {
      "metadata": {
        "colab_type": "code",
        "id": "0SDJ5RvOzTpQ",
        "outputId": "484961f0-2c64-4e3d-fb91-efbc85917fe2",
        "colab": {
          "base_uri": "https://localhost:8080/",
          "height": 1841
        }
      },
      "cell_type": "code",
      "source": [
        "import keras\n",
        "from keras.layers.convolutional import Conv2D\n",
        "from keras.layers import Input\n",
        "from custom_loss import *\n",
        "from keras.utils import to_categorical\n",
        "from keras.activations import relu\n",
        "from keras.layers.core import Dropout\n",
        "from keras.layers import Input, Add, Multiply, Dense, BatchNormalization\n",
        "from keras.layers import LeakyReLU, MaxPooling2D, Conv2DTranspose, Concatenate, ZeroPadding2D\n",
        "from prepare_data import pad\n",
        "\n",
        "### Warning : if you change the number of times you downsample with max_pool,\n",
        "###           then you need to rerun prepare_data() with pad_base=<number of downsample nodes>\n",
        "model_name=\"mri_1.hdf5\"\n",
        "\n",
        "#n_max_pool=4\n",
        "#pad_y_dim = pad( data['image_dim'][1], n_max_pool) - data['image_dim'][1] +2 \n",
        "#pad_x_dim = pad( data['image_dim'][2], n_max_pool) - data['image_dim'][2] +2\n",
        "#print(pad_y_dim, pad_x_dim)\n",
        "print(data['image_dim'])\n",
        "### 1) Define architecture of neural network    \n",
        "IN = Input(shape=(data['image_dim'][1],data['image_dim'][2] ,1))\n",
        "\n",
        "BN1 = BatchNormalization()(IN)\n",
        "\n",
        "conv1 = Convolution2D(32, 3, 3, activation='relu', border_mode='same')(BN1)\n",
        "conv1 = Convolution2D(32, 3, 3, activation='relu', border_mode='same')(conv1)\n",
        "pool1 = MaxPooling2D(pool_size=(2, 2))(conv1)\n",
        " \n",
        "conv2 = Convolution2D(64, 3, 3, activation='relu', border_mode='same')(pool1)\n",
        "conv2 = Convolution2D(64, 3, 3, activation='relu', border_mode='same')(conv2)\n",
        "pool2 = MaxPooling2D(pool_size=(2, 2))(conv2)\n",
        "\n",
        "conv3 = Convolution2D(128, 3, 3, activation='relu', border_mode='same')(pool2)\n",
        "conv3 = Convolution2D(128, 3, 3, activation='relu', border_mode='same')(conv3)\n",
        "pool3 = MaxPooling2D(pool_size=(2, 2))(conv3)\n",
        "\n",
        "conv4 = Convolution2D(256, 3, 3, activation='relu', border_mode='same')(pool3)\n",
        "conv4 = Convolution2D(256, 3, 3, activation='relu', border_mode='same')(conv4)\n",
        "pool4 = MaxPooling2D(pool_size=(2, 2))(conv4)\n",
        " \n",
        "conv5 = Convolution2D(512, 3, 3, activation='relu', border_mode='same')(pool4)\n",
        "conv5 = Convolution2D(512, 3, 3, activation='relu', border_mode='same')(conv5)\n",
        "    \n",
        "up5 = UpSampling2D(size=(2, 2))(conv5)\n",
        "#up5 = Conv2DTranspose( filters=512, kernel_size=(3,3), strides=(2, 2), padding='same')(conv5)\n",
        "conc5 = Concatenate(axis=3)([up5, conv4])\n",
        "conv6 = Convolution2D(256, 3, 3, activation='relu', border_mode='same')(conc5)\n",
        "conv6 = Convolution2D(256, 3, 3, activation='relu', border_mode='same')(conv6)\n",
        "\n",
        "up6 = UpSampling2D(size=(2, 2))(conv6)\n",
        "#up6 = Conv2DTranspose( filters=512, kernel_size=(3,3), strides=(2, 2), padding='same')(conv6)\n",
        "conc6 = Concatenate(axis=3)([up6, conv3])\n",
        "conv7 = Convolution2D(128, 3, 3, activation='relu', border_mode='same')(up6)\n",
        "conv7 = Convolution2D(128, 3, 3, activation='relu', border_mode='same')(conv7)\n",
        "\n",
        "up7 = UpSampling2D(size=(2, 2))(conv7)\n",
        "#up7 = Conv2DTranspose( filters=512, kernel_size=(3,3), strides=(2, 2), padding='same')(conv7)\n",
        "conc7 = Concatenate(axis=3)([up7, conv2])\n",
        "conv8 = Convolution2D(64, 3, 3, activation='relu', border_mode='same')(conc7) #(up8)\n",
        "conv8 = Convolution2D(64, 3, 3, activation='relu', border_mode='same')(conv8)\n",
        "\n",
        "up8 = UpSampling2D(size=(2, 2))(conv8)\n",
        "#up8 = Conv2DTranspose( filters=512, kernel_size=(3,3), strides=(2, 2), padding='same')(conv8)\n",
        "conc8 = Concatenate(axis=3)([up8, conv1])\n",
        "conv9 = Convolution2D(32, 3, 3, activation='relu', border_mode='same')(conc8)\n",
        "conv9 = Convolution2D(32, 3, 3, activation='relu', border_mode='same')(conv9)\n",
        "\n",
        "conv10 = Convolution2D(nlabels, 1, 1, activation='softmax')(conv9)\n",
        "\n",
        "model = keras.models.Model(input=[IN], output=conv10)\n",
        "\n",
        "print(model.summary())\n",
        "\n",
        "#set compiler\n",
        "ada = keras.optimizers.Adam(0.0001)\n",
        "\n",
        "#compile the model\n",
        "model.compile(loss = 'categorical_crossentropy', optimizer=ada,metrics=['acc'] )\n",
        "#fit model\n",
        "\n",
        "history = model.fit([X_train],Y_train,  validation_data=([X_validate], Y_validate), epochs = 3)\n",
        "#save model   \n",
        "model.save(model_name)\n",
        "\n",
        "test_score = model.evaluate(X_test, Y_test)\n",
        "print(\"Test :\", test_score)\n",
        "\n"
      ],
      "execution_count": 0,
      "outputs": [
        {
          "output_type": "stream",
          "text": [
            "[100, 112, 112]\n"
          ],
          "name": "stdout"
        },
        {
          "output_type": "stream",
          "text": [
            "/usr/local/lib/python3.6/dist-packages/ipykernel_launcher.py:26: UserWarning: Update your `Conv2D` call to the Keras 2 API: `Conv2D(32, (3, 3), activation=\"relu\", padding=\"same\")`\n",
            "/usr/local/lib/python3.6/dist-packages/ipykernel_launcher.py:27: UserWarning: Update your `Conv2D` call to the Keras 2 API: `Conv2D(32, (3, 3), activation=\"relu\", padding=\"same\")`\n",
            "/usr/local/lib/python3.6/dist-packages/ipykernel_launcher.py:30: UserWarning: Update your `Conv2D` call to the Keras 2 API: `Conv2D(64, (3, 3), activation=\"relu\", padding=\"same\")`\n",
            "/usr/local/lib/python3.6/dist-packages/ipykernel_launcher.py:31: UserWarning: Update your `Conv2D` call to the Keras 2 API: `Conv2D(64, (3, 3), activation=\"relu\", padding=\"same\")`\n",
            "/usr/local/lib/python3.6/dist-packages/ipykernel_launcher.py:34: UserWarning: Update your `Conv2D` call to the Keras 2 API: `Conv2D(128, (3, 3), activation=\"relu\", padding=\"same\")`\n",
            "/usr/local/lib/python3.6/dist-packages/ipykernel_launcher.py:35: UserWarning: Update your `Conv2D` call to the Keras 2 API: `Conv2D(128, (3, 3), activation=\"relu\", padding=\"same\")`\n",
            "/usr/local/lib/python3.6/dist-packages/ipykernel_launcher.py:38: UserWarning: Update your `Conv2D` call to the Keras 2 API: `Conv2D(256, (3, 3), activation=\"relu\", padding=\"same\")`\n",
            "/usr/local/lib/python3.6/dist-packages/ipykernel_launcher.py:39: UserWarning: Update your `Conv2D` call to the Keras 2 API: `Conv2D(256, (3, 3), activation=\"relu\", padding=\"same\")`\n",
            "/usr/local/lib/python3.6/dist-packages/ipykernel_launcher.py:42: UserWarning: Update your `Conv2D` call to the Keras 2 API: `Conv2D(512, (3, 3), activation=\"relu\", padding=\"same\")`\n",
            "/usr/local/lib/python3.6/dist-packages/ipykernel_launcher.py:43: UserWarning: Update your `Conv2D` call to the Keras 2 API: `Conv2D(512, (3, 3), activation=\"relu\", padding=\"same\")`\n",
            "/usr/local/lib/python3.6/dist-packages/ipykernel_launcher.py:48: UserWarning: Update your `Conv2D` call to the Keras 2 API: `Conv2D(256, (3, 3), activation=\"relu\", padding=\"same\")`\n",
            "/usr/local/lib/python3.6/dist-packages/ipykernel_launcher.py:49: UserWarning: Update your `Conv2D` call to the Keras 2 API: `Conv2D(256, (3, 3), activation=\"relu\", padding=\"same\")`\n",
            "/usr/local/lib/python3.6/dist-packages/ipykernel_launcher.py:54: UserWarning: Update your `Conv2D` call to the Keras 2 API: `Conv2D(128, (3, 3), activation=\"relu\", padding=\"same\")`\n",
            "/usr/local/lib/python3.6/dist-packages/ipykernel_launcher.py:55: UserWarning: Update your `Conv2D` call to the Keras 2 API: `Conv2D(128, (3, 3), activation=\"relu\", padding=\"same\")`\n",
            "/usr/local/lib/python3.6/dist-packages/ipykernel_launcher.py:60: UserWarning: Update your `Conv2D` call to the Keras 2 API: `Conv2D(64, (3, 3), activation=\"relu\", padding=\"same\")`\n",
            "/usr/local/lib/python3.6/dist-packages/ipykernel_launcher.py:61: UserWarning: Update your `Conv2D` call to the Keras 2 API: `Conv2D(64, (3, 3), activation=\"relu\", padding=\"same\")`\n",
            "/usr/local/lib/python3.6/dist-packages/ipykernel_launcher.py:66: UserWarning: Update your `Conv2D` call to the Keras 2 API: `Conv2D(32, (3, 3), activation=\"relu\", padding=\"same\")`\n",
            "/usr/local/lib/python3.6/dist-packages/ipykernel_launcher.py:67: UserWarning: Update your `Conv2D` call to the Keras 2 API: `Conv2D(32, (3, 3), activation=\"relu\", padding=\"same\")`\n",
            "/usr/local/lib/python3.6/dist-packages/ipykernel_launcher.py:69: UserWarning: Update your `Conv2D` call to the Keras 2 API: `Conv2D(2, (1, 1), activation=\"softmax\")`\n",
            "/usr/local/lib/python3.6/dist-packages/ipykernel_launcher.py:71: UserWarning: Update your `Model` call to the Keras 2 API: `Model(inputs=[<tf.Tenso..., outputs=Tensor(\"co...)`\n"
          ],
          "name": "stderr"
        },
        {
          "output_type": "stream",
          "text": [
            "__________________________________________________________________________________________________\n",
            "Layer (type)                    Output Shape         Param #     Connected to                     \n",
            "==================================================================================================\n",
            "input_2 (InputLayer)            (None, 112, 112, 1)  0                                            \n",
            "__________________________________________________________________________________________________\n",
            "batch_normalization_2 (BatchNor (None, 112, 112, 1)  4           input_2[0][0]                    \n",
            "__________________________________________________________________________________________________\n",
            "conv2d_20 (Conv2D)              (None, 112, 112, 32) 320         batch_normalization_2[0][0]      \n",
            "__________________________________________________________________________________________________\n",
            "conv2d_21 (Conv2D)              (None, 112, 112, 32) 9248        conv2d_20[0][0]                  \n",
            "__________________________________________________________________________________________________\n",
            "max_pooling2d_5 (MaxPooling2D)  (None, 56, 56, 32)   0           conv2d_21[0][0]                  \n",
            "__________________________________________________________________________________________________\n",
            "conv2d_22 (Conv2D)              (None, 56, 56, 64)   18496       max_pooling2d_5[0][0]            \n",
            "__________________________________________________________________________________________________\n",
            "conv2d_23 (Conv2D)              (None, 56, 56, 64)   36928       conv2d_22[0][0]                  \n",
            "__________________________________________________________________________________________________\n",
            "max_pooling2d_6 (MaxPooling2D)  (None, 28, 28, 64)   0           conv2d_23[0][0]                  \n",
            "__________________________________________________________________________________________________\n",
            "conv2d_24 (Conv2D)              (None, 28, 28, 128)  73856       max_pooling2d_6[0][0]            \n",
            "__________________________________________________________________________________________________\n",
            "conv2d_25 (Conv2D)              (None, 28, 28, 128)  147584      conv2d_24[0][0]                  \n",
            "__________________________________________________________________________________________________\n",
            "max_pooling2d_7 (MaxPooling2D)  (None, 14, 14, 128)  0           conv2d_25[0][0]                  \n",
            "__________________________________________________________________________________________________\n",
            "conv2d_26 (Conv2D)              (None, 14, 14, 256)  295168      max_pooling2d_7[0][0]            \n",
            "__________________________________________________________________________________________________\n",
            "conv2d_27 (Conv2D)              (None, 14, 14, 256)  590080      conv2d_26[0][0]                  \n",
            "__________________________________________________________________________________________________\n",
            "max_pooling2d_8 (MaxPooling2D)  (None, 7, 7, 256)    0           conv2d_27[0][0]                  \n",
            "__________________________________________________________________________________________________\n",
            "conv2d_28 (Conv2D)              (None, 7, 7, 512)    1180160     max_pooling2d_8[0][0]            \n",
            "__________________________________________________________________________________________________\n",
            "conv2d_29 (Conv2D)              (None, 7, 7, 512)    2359808     conv2d_28[0][0]                  \n",
            "__________________________________________________________________________________________________\n",
            "up_sampling2d_5 (UpSampling2D)  (None, 14, 14, 512)  0           conv2d_29[0][0]                  \n",
            "__________________________________________________________________________________________________\n",
            "concatenate_5 (Concatenate)     (None, 14, 14, 768)  0           up_sampling2d_5[0][0]            \n",
            "                                                                 conv2d_27[0][0]                  \n",
            "__________________________________________________________________________________________________\n",
            "conv2d_30 (Conv2D)              (None, 14, 14, 256)  1769728     concatenate_5[0][0]              \n",
            "__________________________________________________________________________________________________\n",
            "conv2d_31 (Conv2D)              (None, 14, 14, 256)  590080      conv2d_30[0][0]                  \n",
            "__________________________________________________________________________________________________\n",
            "up_sampling2d_6 (UpSampling2D)  (None, 28, 28, 256)  0           conv2d_31[0][0]                  \n",
            "__________________________________________________________________________________________________\n",
            "conv2d_32 (Conv2D)              (None, 28, 28, 128)  295040      up_sampling2d_6[0][0]            \n",
            "__________________________________________________________________________________________________\n",
            "conv2d_33 (Conv2D)              (None, 28, 28, 128)  147584      conv2d_32[0][0]                  \n",
            "__________________________________________________________________________________________________\n",
            "up_sampling2d_7 (UpSampling2D)  (None, 56, 56, 128)  0           conv2d_33[0][0]                  \n",
            "__________________________________________________________________________________________________\n",
            "concatenate_7 (Concatenate)     (None, 56, 56, 192)  0           up_sampling2d_7[0][0]            \n",
            "                                                                 conv2d_23[0][0]                  \n",
            "__________________________________________________________________________________________________\n",
            "conv2d_34 (Conv2D)              (None, 56, 56, 64)   110656      concatenate_7[0][0]              \n",
            "__________________________________________________________________________________________________\n",
            "conv2d_35 (Conv2D)              (None, 56, 56, 64)   36928       conv2d_34[0][0]                  \n",
            "__________________________________________________________________________________________________\n",
            "up_sampling2d_8 (UpSampling2D)  (None, 112, 112, 64) 0           conv2d_35[0][0]                  \n",
            "__________________________________________________________________________________________________\n",
            "concatenate_8 (Concatenate)     (None, 112, 112, 96) 0           up_sampling2d_8[0][0]            \n",
            "                                                                 conv2d_21[0][0]                  \n",
            "__________________________________________________________________________________________________\n",
            "conv2d_36 (Conv2D)              (None, 112, 112, 32) 27680       concatenate_8[0][0]              \n",
            "__________________________________________________________________________________________________\n",
            "conv2d_37 (Conv2D)              (None, 112, 112, 32) 9248        conv2d_36[0][0]                  \n",
            "__________________________________________________________________________________________________\n",
            "conv2d_38 (Conv2D)              (None, 112, 112, 2)  66          conv2d_37[0][0]                  \n",
            "==================================================================================================\n",
            "Total params: 7,698,662\n",
            "Trainable params: 7,698,660\n",
            "Non-trainable params: 2\n",
            "__________________________________________________________________________________________________\n",
            "None\n",
            "Train on 2486 samples, validate on 678 samples\n",
            "Epoch 1/3\n",
            "2486/2486 [==============================] - 32s 13ms/step - loss: 0.3087 - acc: 0.8761 - val_loss: 0.1704 - val_acc: 0.9239\n",
            "Epoch 2/3\n",
            "2486/2486 [==============================] - 24s 10ms/step - loss: 0.1582 - acc: 0.9302 - val_loss: 0.1272 - val_acc: 0.9487\n",
            "Epoch 3/3\n",
            "2486/2486 [==============================] - 24s 10ms/step - loss: 0.1106 - acc: 0.9550 - val_loss: 0.0960 - val_acc: 0.9628\n",
            "226/226 [==============================] - 1s 4ms/step\n",
            "Test : [0.10233327196663723, 0.9592478802773805]\n"
          ],
          "name": "stdout"
        }
      ]
    },
    {
      "metadata": {
        "id": "ntjdPpO3cvmA",
        "colab_type": "code",
        "colab": {}
      },
      "cell_type": "code",
      "source": [
        "###Create predictions for model\n",
        "from predict import *\n",
        "predict(model_name, test_dir, data_dir, report_dir+'/pet.csv', 'categorical_crossentropy', images_to_predict='all', category=\"test\", verbose=True)\n"
      ],
      "execution_count": 0,
      "outputs": []
    },
    {
      "metadata": {
        "colab_type": "code",
        "id": "uPeNV6NWzTpu",
        "colab": {}
      },
      "cell_type": "code",
      "source": [
        "#If using Google Chrome, can download directly through browser\n",
        "#from google.colab import files\n",
        "#from glob import glob\n",
        "#for fn in glob('pet_results/predict/test/*.png') :  files.download(fn)\n",
        "\n",
        "import matplotlib.pyplot as plt\n",
        "plt.imshow(plt.imread('pet_results/predict/test//sub-D13_ses-01_task-01_acq-rcl_dwn-smpl_pet_predict_2.png'))\n"
      ],
      "execution_count": 0,
      "outputs": []
    },
    {
      "metadata": {
        "colab_type": "code",
        "id": "lzd3DkZFzTpw",
        "colab": {}
      },
      "cell_type": "code",
      "source": [
        ""
      ],
      "execution_count": 0,
      "outputs": []
    }
  ]
}