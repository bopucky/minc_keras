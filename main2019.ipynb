{
  "nbformat": 4,
  "nbformat_minor": 0,
  "metadata": {
    "colab": {
      "name": "main2019.ipynb",
      "version": "0.3.2",
      "provenance": [],
      "toc_visible": true
    },
    "kernelspec": {
      "name": "python3",
      "display_name": "Python 3"
    },
    "accelerator": "GPU"
  },
  "cells": [
    {
      "metadata": {
        "colab_type": "text",
        "id": "a--rFzYazTo2"
      },
      "cell_type": "markdown",
      "source": [
        "# Introduction to Brain Segmentation with Keras\n",
        "\n",
        "# ***MAIN 2019 Educational Course***\n",
        "\n",
        "## Thomas Funck\n",
        "\n",
        "## McGill University\n",
        "\n",
        "## **Contact**: email: [tffunck@gmail.com](mailto:tffunck@gmail.com) , Twitter: [@tffunck](https://twitter.com/tffunck)"
      ]
    },
    {
      "metadata": {
        "colab_type": "code",
        "id": "OPVCbLjaj0An",
        "outputId": "256d67f3-7fda-40f5-e00e-51d17ebeb026",
        "colab": {
          "base_uri": "https://localhost:8080/",
          "height": 153
        }
      },
      "cell_type": "code",
      "source": [
        "!rm -r /content/minc_keras\n",
        "#Download repository\n",
        "!git clone https://github.com/tfunck/minc_keras\n",
        "  \n",
        "#Switch dir\n",
        "def set_base_dir():\n",
        "  import os\n",
        "  os.chdir('/content/minc_keras')\n",
        "set_base_dir()\n"
      ],
      "execution_count": 1,
      "outputs": [
        {
          "output_type": "stream",
          "text": [
            "rm: cannot remove '/content/minc_keras': No such file or directory\n",
            "Cloning into 'minc_keras'...\n",
            "remote: Enumerating objects: 250, done.\u001b[K\n",
            "remote: Counting objects: 100% (250/250), done.\u001b[K\n",
            "remote: Compressing objects: 100% (192/192), done.\u001b[K\n",
            "remote: Total 826 (delta 129), reused 151 (delta 50), pack-reused 576\u001b[K\n",
            "Receiving objects: 100% (826/826), 79.40 MiB | 32.60 MiB/s, done.\n",
            "Resolving deltas: 100% (432/432), done.\n"
          ],
          "name": "stdout"
        }
      ]
    },
    {
      "metadata": {
        "id": "ewA4QpL94SZY",
        "colab_type": "code",
        "outputId": "2862301a-b8b9-4750-eaf0-9f22229c6795",
        "colab": {
          "base_uri": "https://localhost:8080/",
          "height": 258
        }
      },
      "cell_type": "code",
      "source": [
        "#Download and unzip data\n",
        "!tar -jxvf data/output.tar.bz2  &> /dev/null\n",
        "!mv output mri\n",
        "\n",
        "!wget https://amnesia.cbrain.mcgill.ca/deeplearning/sorteo.tar.bz2 --no-check-certificate\n",
        "  \n",
        "!mkdir -p pet\n",
        "!tar -jxvf sorteo.tar.bz2 -C pet  &> /dev/null"
      ],
      "execution_count": 2,
      "outputs": [
        {
          "output_type": "stream",
          "text": [
            "--2018-12-10 02:59:02--  https://amnesia.cbrain.mcgill.ca/deeplearning/sorteo.tar.bz2\n",
            "Resolving amnesia.cbrain.mcgill.ca (amnesia.cbrain.mcgill.ca)... 132.216.42.90\n",
            "Connecting to amnesia.cbrain.mcgill.ca (amnesia.cbrain.mcgill.ca)|132.216.42.90|:443... connected.\n",
            "WARNING: cannot verify amnesia.cbrain.mcgill.ca's certificate, issued by ‘CN=Go Daddy Secure Certificate Authority - G2,OU=http://certs.godaddy.com/repository/,O=GoDaddy.com\\\\, Inc.,L=Scottsdale,ST=Arizona,C=US’:\n",
            "  Unable to locally verify the issuer's authority.\n",
            "HTTP request sent, awaiting response... 200 OK\n",
            "Length: 322192084 (307M) [application/x-bzip2]\n",
            "Saving to: ‘sorteo.tar.bz2’\n",
            "\n",
            "sorteo.tar.bz2      100%[===================>] 307.27M  86.6MB/s    in 3.8s    \n",
            "\n",
            "2018-12-10 02:59:06 (81.1 MB/s) - ‘sorteo.tar.bz2’ saved [322192084/322192084]\n",
            "\n"
          ],
          "name": "stdout"
        }
      ]
    },
    {
      "metadata": {
        "colab_type": "text",
        "id": "F5dHDJJBzTo4"
      },
      "cell_type": "markdown",
      "source": [
        "# T1 Segmentation"
      ]
    },
    {
      "metadata": {
        "id": "IswkR7t-s4Hc",
        "colab_type": "code",
        "outputId": "6f1288e0-0732-4b15-83e0-27ee411c1282",
        "colab": {
          "base_uri": "https://localhost:8080/",
          "height": 510
        }
      },
      "cell_type": "code",
      "source": [
        "set_base_dir()\n",
        "import minc_keras\n",
        "from utils import *\n",
        "import numpy as np\n",
        "from minc_keras import *\n",
        "### Set input and label string\n",
        "input_str='_T1w_anat_rsl.mnc' \n",
        "label_str='variant-seg'\n",
        "\n",
        "### Set filename for .csv that will store data frame \n",
        "images_fn='mri.csv'\n",
        "\n",
        "### Set source directory from which data will be read\n",
        "source_dir=\"mri/\"\n",
        "\n",
        "### Set the target directory where output results will be saved\n",
        "target_dir=\"mri_results\"\n",
        "\n",
        "setup_dirs(target_dir)  \n",
        "\n",
        "### Set filename for .csv file that will contain info about input images\n",
        "images_fn = set_model_name(images_fn, report_dir, '.csv')\n",
        "\n",
        "### Load data from brain images and save them into .npy. Sort them into train/validate/test splits\n",
        "[images, data] = prepare_data(source_dir, data_dir, report_dir, input_str, label_str, ratios=[0.7,0.15], batch_size=2,feature_dim=2, images_fn,  clobber=False)\n",
        "print(images.iloc[1:5,:])\n",
        "### 1) Load data\n",
        "Y_validate=np.load(data[\"validate_y_fn\"]+'.npy')\n",
        "nlabels=len(np.unique(Y_validate))\n",
        "X_train=np.load(data[\"train_x_fn\"]+'.npy')\n",
        "Y_train=np.load(data[\"train_y_fn\"]+'.npy')\n",
        "X_validate=np.load(data[\"validate_x_fn\"]+'.npy')\n",
        "\n",
        "X_test=np.load(data[\"test_x_fn\"]+'.npy')\n",
        "Y_test=np.load(data[\"test_y_fn\"]+'.npy')\n",
        "\n",
        "Y_test=to_categorical(Y_test)\n",
        "Y_train = to_categorical(Y_train, num_classes=nlabels)\n",
        "Y_validate = to_categorical(Y_validate, num_classes=nlabels)\n"
      ],
      "execution_count": 0,
      "outputs": [
        {
          "output_type": "stream",
          "text": [
            "train : expected/real ratio = 70.00 / 70.15\n",
            "validate : expected/real ratio = 15.00 / 14.93\n"
          ],
          "name": "stdout"
        },
        {
          "output_type": "stream",
          "text": [
            "/usr/local/lib/python3.6/dist-packages/pandas/core/indexing.py:194: SettingWithCopyWarning: \n",
            "A value is trying to be set on a copy of a slice from a DataFrame\n",
            "\n",
            "See the caveats in the documentation: http://pandas.pydata.org/pandas-docs/stable/indexing.html#indexing-view-versus-copy\n",
            "  self._setitem_with_indexer(indexer, value)\n"
          ],
          "name": "stderr"
        },
        {
          "output_type": "stream",
          "text": [
            "1 [92, 110, 92]\n",
            "2 [92, 110, 92]\n",
            "\n",
            "\n",
            "\n",
            "                                               label  \\\n",
            "1  mri/sub-70106/sub-70106_task-01_ses-01_T1w_var...   \n",
            "2  mri/sub-11043/sub-11043_task-01_ses-01_T1w_var...   \n",
            "3  mri/sub-72215/sub-72215_task-01_ses-01_T1w_var...   \n",
            "4  mri/sub-09644/sub-09644_task-01_ses-01_T1w_var...   \n",
            "\n",
            "                                                 pet    subject task  \\\n",
            "1  mri/sub-70106/sub-70106_task-01_ses-01_T1w_ana...  sub-70106   01   \n",
            "2  mri/sub-11043/sub-11043_task-01_ses-01_T1w_ana...  sub-11043   01   \n",
            "3  mri/sub-72215/sub-72215_task-01_ses-01_T1w_ana...  sub-72215   01   \n",
            "4  mri/sub-09644/sub-09644_task-01_ses-01_T1w_ana...  sub-09644   01   \n",
            "\n",
            "   category  valid_samples  total_samples  \n",
            "1      test             47             92  \n",
            "2     train             60             92  \n",
            "3     train             64             92  \n",
            "4  validate             64             92  \n"
          ],
          "name": "stdout"
        }
      ]
    },
    {
      "metadata": {
        "colab_type": "text",
        "id": "ZB0ZXe4DzTpF"
      },
      "cell_type": "markdown",
      "source": [
        "## Training a simple model"
      ]
    },
    {
      "metadata": {
        "colab_type": "code",
        "id": "vDqzkarSzTpF",
        "outputId": "1a233da9-b4ba-4de0-c950-254f5bed5eb4",
        "colab": {
          "base_uri": "https://localhost:8080/",
          "height": 476
        }
      },
      "cell_type": "code",
      "source": [
        "import keras\n",
        "from keras.layers.convolutional import Conv2D\n",
        "from keras.layers import Input\n",
        "from custom_loss import *\n",
        "from keras.utils import to_categorical\n",
        "from keras.activations import relu\n",
        "from keras.layers.core import Dropout\n",
        "from keras.callbacks import History, ModelCheckpoint\n",
        "\n",
        "model_name=\"mri_1.hdf5\"\n",
        "\n",
        "IN = Input(shape=(data[\"image_dim\"][1], data[\"image_dim\"][2],1))\n",
        "CONV1 = Conv2D(16, kernel_size=[3,3], activation=\"relu\",padding='same')(IN)\n",
        "CONV2 = Conv2D(16, kernel_size=[3,3], activation=\"relu\",padding='same')(CONV1)\n",
        "CONV3 = Conv2D(16, kernel_size=[3,3], activation=\"relu\",padding='same')(CONV2)\n",
        "OUT = Conv2D(nlabels, kernel_size=[1,1], activation='softmax', padding='same')(CONV3)\n",
        "model = keras.models.Model(inputs=[IN], outputs=OUT)\n",
        "\n",
        "print(model.summary())\n",
        "\n",
        "#set compiler\n",
        "ada = keras.optimizers.Adam(0.0001)\n",
        "\n",
        "#compile the model\n",
        "model.compile(loss = 'binary_crossentropy', optimizer=ada,metrics=['acc'] )\n",
        "#fit model\n",
        "\n",
        "history = model.fit([X_train],Y_train,  validation_data=([X_validate], Y_validate), epochs = 3)\n",
        "#save model   \n",
        "model.save(model_name)\n",
        "\n",
        "test_score = model.evaluate(X_test, Y_test)\n",
        "print(\"Test :\", test_score)\n"
      ],
      "execution_count": 0,
      "outputs": [
        {
          "output_type": "stream",
          "text": [
            "_________________________________________________________________\n",
            "Layer (type)                 Output Shape              Param #   \n",
            "=================================================================\n",
            "input_15 (InputLayer)        (None, 110, 92, 1)        0         \n",
            "_________________________________________________________________\n",
            "conv2d_69 (Conv2D)           (None, 110, 92, 16)       160       \n",
            "_________________________________________________________________\n",
            "conv2d_70 (Conv2D)           (None, 110, 92, 16)       2320      \n",
            "_________________________________________________________________\n",
            "conv2d_71 (Conv2D)           (None, 110, 92, 16)       2320      \n",
            "_________________________________________________________________\n",
            "conv2d_72 (Conv2D)           (None, 110, 92, 3)        51        \n",
            "=================================================================\n",
            "Total params: 4,851\n",
            "Trainable params: 4,851\n",
            "Non-trainable params: 0\n",
            "_________________________________________________________________\n",
            "None\n",
            "Train on 11640 samples, validate on 2439 samples\n",
            "Epoch 1/3\n",
            "11640/11640 [==============================] - 17s 1ms/step - loss: 0.6951 - acc: 0.8732 - val_loss: 0.2568 - val_acc: 0.8972\n",
            "Epoch 2/3\n",
            "11640/11640 [==============================] - 15s 1ms/step - loss: 0.2240 - acc: 0.9022 - val_loss: 0.2060 - val_acc: 0.9073\n",
            "Epoch 3/3\n",
            "11640/11640 [==============================] - 15s 1ms/step - loss: 0.1953 - acc: 0.9139 - val_loss: 0.1864 - val_acc: 0.9189\n",
            "2553/2553 [==============================] - 1s 455us/step\n",
            "Test : [0.19086605651304855, 0.9146600347428148]\n"
          ],
          "name": "stdout"
        }
      ]
    },
    {
      "metadata": {
        "id": "ygnxmSu8hqt0",
        "colab_type": "code",
        "outputId": "713d384f-8a3a-43a7-826b-0a8a1415ff45",
        "colab": {
          "base_uri": "https://localhost:8080/",
          "height": 272
        }
      },
      "cell_type": "code",
      "source": [
        "###Create predictions for model\n",
        "from predict import *\n",
        "predict('mri_1.hdf5', test_dir, data_dir, report_dir+'/mri.csv', 'categorical_crossentropy', images_to_predict='1', category=\"test\", verbose=True)"
      ],
      "execution_count": 0,
      "outputs": [
        {
          "output_type": "stream",
          "text": [
            "Model successfully loaded <keras.engine.training.Model object at 0x7f5d4bb25048>\n",
            "Data loaded for prediction\n",
            "label            mri/sub-58029/sub-58029_task-01_ses-01_T1w_var...\n",
            "pet              mri/sub-58029/sub-58029_task-01_ses-01_T1w_ana...\n",
            "subject                                                  sub-58029\n",
            "task                                                             1\n",
            "category                                                      test\n",
            "valid_samples                                                   66\n",
            "total_samples                                                   92\n",
            "Name: 1, dtype: object\n",
            "sub-58029_task-01_ses-01_T1w_anat_rsl.mnc 47 113\n",
            "Saving prediction to: mri_results/predict/test//sub-58029_task-01_ses-01_T1w_anat_rsl_predict_1.png\n",
            "Prediction completed\n"
          ],
          "name": "stdout"
        },
        {
          "output_type": "execute_result",
          "data": {
            "text/plain": [
              "0"
            ]
          },
          "metadata": {
            "tags": []
          },
          "execution_count": 17
        },
        {
          "output_type": "display_data",
          "data": {
            "text/plain": [
              "<matplotlib.figure.Figure at 0x7f5d4ab81b38>"
            ]
          },
          "metadata": {
            "tags": []
          }
        }
      ]
    },
    {
      "metadata": {
        "id": "wg1scPa4uQFX",
        "colab_type": "code",
        "outputId": "3eeed69f-de08-40e3-e987-7a4ca4e216f5",
        "colab": {
          "base_uri": "https://localhost:8080/",
          "height": 34
        }
      },
      "cell_type": "code",
      "source": [
        "#If using Google Chrome, can download directly through browser\n",
        "from google.colab import files\n",
        "from glob import glob\n",
        "for fn in glob('mri_results/predict/test/*.png') :  \n",
        "  print(fn)\n",
        "  files.download(fn)\n",
        "\n",
        "#import matplotlib.pyplot as plt\n",
        "#plt.imshow(plt.imread('mri_results/predict/test//sub-75922_task-01_ses-01_T1w_anat_rsl_predict_0.png'))"
      ],
      "execution_count": 0,
      "outputs": [
        {
          "output_type": "stream",
          "text": [
            "mri_results/predict/test/sub-75922_task-01_ses-01_T1w_anat_rsl_predict_0.png\n"
          ],
          "name": "stdout"
        }
      ]
    },
    {
      "metadata": {
        "id": "ZW3RdNcUpVU-",
        "colab_type": "text"
      },
      "cell_type": "markdown",
      "source": [
        "## Adding drop-out"
      ]
    },
    {
      "metadata": {
        "id": "DRozzICApVVC",
        "colab_type": "code",
        "colab": {}
      },
      "cell_type": "code",
      "source": [
        "import keras\n",
        "from keras.layers.convolutional import Conv2D\n",
        "from keras.layers import Input\n",
        "from custom_loss import *\n",
        "from keras.utils import to_categorical\n",
        "from keras.activations import relu\n",
        "from keras.layers.core import Dropout\n",
        "from keras.callbacks import History, ModelCheckpoint\n",
        "\n",
        "model_name=\"mri_2.hdf5\"\n",
        "\n",
        "IN = Input(shape=(data[\"image_dim\"][1], data[\"image_dim\"][2],1))\n",
        "CONV1 = Conv2D(16, kernel_size=[3,3], activation=\"relu\",padding='same')(IN)\n",
        "DROPOUT1 = Dropout(0.2)(CONV1)\n",
        "CONV2 = Conv2D(16, kernel_size=[3,3], activation=\"relu\",padding='same')(DROPOUT1)\n",
        "DROPOUT2 = Dropout(0.2)(CONV2)\n",
        "CONV3 = Conv2D(16, kernel_size=[3,3], activation=\"relu\",padding='same')(DROPOUT2)\n",
        "DROPOUT3 = Dropout(0.2)(CONV3)\n",
        "OUT = Conv2D(nlabels, kernel_size=[1,1], activation='softmax', padding='same')(DROPOUT3)\n",
        "model = keras.models.Model(inputs=[IN], outputs=OUT)\n",
        "\n",
        "print(model.summary())\n",
        "\n",
        "#set compiler\n",
        "ada = keras.optimizers.Adam(0.0001)\n",
        "\n",
        "#compile the model\n",
        "model.compile(loss = 'binary_crossentropy', optimizer=ada,metrics=['acc'] )\n",
        "#fit model\n",
        "\n",
        "history = model.fit([X_train],Y_train,  validation_data=([X_validate], Y_validate), epochs = 3)\n",
        "#save model   \n",
        "model.save(model_name)\n",
        "\n",
        "test_score = model.evaluate(X_test, Y_test)\n",
        "print(\"Test :\", test_score)\n"
      ],
      "execution_count": 0,
      "outputs": []
    },
    {
      "metadata": {
        "id": "2Ztw_OrtpVVL",
        "colab_type": "text"
      },
      "cell_type": "markdown",
      "source": [
        "## Adding dilations"
      ]
    },
    {
      "metadata": {
        "colab_type": "code",
        "id": "9qhOKYbtEsT1",
        "colab": {}
      },
      "cell_type": "code",
      "source": [
        "import keras\n",
        "from keras.layers.convolutional import Conv2D\n",
        "from keras.layers import Input\n",
        "from custom_loss import *\n",
        "from keras.utils import to_categorical\n",
        "from keras.activations import relu\n",
        "from keras.layers.core import Dropout\n",
        "from keras.callbacks import History, ModelCheckpoint\n",
        "\n",
        "model_name=\"mri_3.hdf5\"\n",
        "\n",
        "IN = Input(shape=(data[\"image_dim\"][1], data[\"image_dim\"][2],1))\n",
        "CONV1 = Conv2D(16, kernel_size=[3,3], dilation_rate=[2,2], activation=\"relu\",padding='same')(IN)\n",
        "CONV2 = Conv2D(16, kernel_size=[3,3], dilation_rate=[2,2], activation=\"relu\",padding='same')(CONV1)\n",
        "CONV3 = Conv2D(16, kernel_size=[3,3], dilation_rate=[2,2], activation=\"relu\",padding='same')(CONV2)\n",
        "OUT = Conv2D(nlabels, kernel_size=[1,1], activation='softmax', padding='same')(CONV3)\n",
        "model = keras.models.Model(inputs=[IN], outputs=OUT)\n",
        "\n",
        "print(model.summary())\n",
        "\n",
        "#set compiler\n",
        "ada = keras.optimizers.Adam(0.0001)\n",
        "\n",
        "#compile the model\n",
        "model.compile(loss = 'binary_crossentropy', optimizer=ada,metrics=['acc'] )\n",
        "#fit model\n",
        "\n",
        "history = model.fit([X_train],Y_train,  validation_data=([X_validate], Y_validate), epochs = 3)\n",
        "#save model   \n",
        "model.save(model_name)\n",
        "\n",
        "test_score = model.evaluate(X_test, Y_test)\n",
        "print(\"Test :\", test_score)\n"
      ],
      "execution_count": 0,
      "outputs": []
    },
    {
      "metadata": {
        "id": "feOljZP6pVVV",
        "colab_type": "text"
      },
      "cell_type": "markdown",
      "source": [
        "## __Exercises__\n",
        "\n",
        "### 1. Modify the drop-out, dilation_rate, and number of kernels for one of the above templates. \n",
        "\n",
        "### 2.  Build a CNN with: 5 convolutional layers, 5x5 kernels and 8, 8, 16, 16, and 32 kernels in each layer\n",
        "\n",
        "### 3. Train a CNN that has better than 0.95 test accuracy. How high can you get the accuracy without overfitting? "
      ]
    },
    {
      "metadata": {
        "id": "UDRgIXTjKiUY",
        "colab_type": "text"
      },
      "cell_type": "markdown",
      "source": [
        "## Solutions"
      ]
    },
    {
      "metadata": {
        "id": "4ttNoEvRJU_-",
        "colab_type": "text"
      },
      "cell_type": "markdown",
      "source": [
        "### 2."
      ]
    },
    {
      "metadata": {
        "colab_type": "code",
        "id": "5Fo61_R0GYoq",
        "outputId": "c939293a-8d79-43fd-93b6-76dafc4f472d",
        "colab": {
          "base_uri": "https://localhost:8080/",
          "height": 782
        }
      },
      "cell_type": "code",
      "source": [
        "import keras\n",
        "from keras.layers.convolutional import Conv2D\n",
        "from keras.layers import Input\n",
        "from custom_loss import *\n",
        "from keras.utils import to_categorical\n",
        "from keras.activations import relu\n",
        "from keras.layers.core import Dropout\n",
        "\n",
        "\n",
        "model_name=\"mri_1.hdf5\"\n",
        "\n",
        "IN = Input(shape=(data[\"image_dim\"][1], data[\"image_dim\"][2],1))\n",
        "CONV1 = Conv2D(8, kernel_size=[5,5], activation=\"relu\",padding='same')(IN)\n",
        "CONV2 = Conv2D(8, kernel_size=[5,5], activation=\"relu\",padding='same')(CONV1)\n",
        "CONV3 = Conv2D(16, kernel_size=[5,5], activation=\"relu\",padding='same')(CONV2)\n",
        "CONV4 = Conv2D(16, kernel_size=[5,5], activation=\"relu\",padding='same')(CONV3)\n",
        "CONV5 = Conv2D(32, kernel_size=[5,5], activation=\"relu\",padding='same')(CONV4)\n",
        "OUT = Conv2D(nlabels, kernel_size=[1,1], activation='softmax', padding='same')(CONV5)\n",
        "model = keras.models.Model(inputs=[IN], outputs=OUT)\n",
        "\n",
        "print(model.summary())\n",
        "\n",
        "#set compiler\n",
        "ada = keras.optimizers.Adam(0.0001)\n",
        "\n",
        "#compile the model\n",
        "model.compile(loss = 'categorical_crossentropy', optimizer=ada,metrics=['acc'] )\n",
        "#fit model\n",
        "\n",
        "history = model.fit([X_train],Y_train,  validation_data=([X_validate], Y_validate), epochs = 10)\n",
        "#save model   \n",
        "model.save(model_name)\n",
        "\n",
        "test_score = model.evaluate(X_test, Y_test)\n",
        "print(\"Test :\", test_score)\n"
      ],
      "execution_count": 0,
      "outputs": [
        {
          "output_type": "stream",
          "text": [
            "_________________________________________________________________\n",
            "Layer (type)                 Output Shape              Param #   \n",
            "=================================================================\n",
            "input_7 (InputLayer)         (None, 110, 92, 1)        0         \n",
            "_________________________________________________________________\n",
            "conv2d_35 (Conv2D)           (None, 110, 92, 8)        208       \n",
            "_________________________________________________________________\n",
            "conv2d_36 (Conv2D)           (None, 110, 92, 8)        1608      \n",
            "_________________________________________________________________\n",
            "conv2d_37 (Conv2D)           (None, 110, 92, 16)       3216      \n",
            "_________________________________________________________________\n",
            "conv2d_38 (Conv2D)           (None, 110, 92, 16)       6416      \n",
            "_________________________________________________________________\n",
            "conv2d_39 (Conv2D)           (None, 110, 92, 32)       12832     \n",
            "_________________________________________________________________\n",
            "conv2d_40 (Conv2D)           (None, 110, 92, 3)        99        \n",
            "=================================================================\n",
            "Total params: 24,379\n",
            "Trainable params: 24,379\n",
            "Non-trainable params: 0\n",
            "_________________________________________________________________\n",
            "None\n",
            "Train on 11640 samples, validate on 2439 samples\n",
            "Epoch 1/10\n",
            "11640/11640 [==============================] - 30s 3ms/step - loss: 0.4001 - acc: 0.8818 - val_loss: 0.2131 - val_acc: 0.9054\n",
            "Epoch 2/10\n",
            "11640/11640 [==============================] - 29s 2ms/step - loss: 0.1921 - acc: 0.9164 - val_loss: 0.1756 - val_acc: 0.9242\n",
            "Epoch 3/10\n",
            "11640/11640 [==============================] - 29s 2ms/step - loss: 0.1662 - acc: 0.9294 - val_loss: 0.1582 - val_acc: 0.9336\n",
            "Epoch 4/10\n",
            "11640/11640 [==============================] - 29s 2ms/step - loss: 0.1533 - acc: 0.9357 - val_loss: 0.1486 - val_acc: 0.9372\n",
            "Epoch 5/10\n",
            "11640/11640 [==============================] - 29s 2ms/step - loss: 0.1445 - acc: 0.9398 - val_loss: 0.1414 - val_acc: 0.9411\n",
            "Epoch 6/10\n",
            "11640/11640 [==============================] - 28s 2ms/step - loss: 0.1382 - acc: 0.9426 - val_loss: 0.1361 - val_acc: 0.9433\n",
            "Epoch 7/10\n",
            "11640/11640 [==============================] - 28s 2ms/step - loss: 0.1333 - acc: 0.9448 - val_loss: 0.1322 - val_acc: 0.9452\n",
            "Epoch 8/10\n",
            "11640/11640 [==============================] - 28s 2ms/step - loss: 0.1294 - acc: 0.9465 - val_loss: 0.1315 - val_acc: 0.9456\n",
            "Epoch 9/10\n",
            "11640/11640 [==============================] - 28s 2ms/step - loss: 0.1262 - acc: 0.9479 - val_loss: 0.1258 - val_acc: 0.9480\n",
            "Epoch 10/10\n",
            "11640/11640 [==============================] - 28s 2ms/step - loss: 0.1230 - acc: 0.9492 - val_loss: 0.1231 - val_acc: 0.9492\n",
            "2553/2553 [==============================] - 2s 872us/step\n",
            "Test : [0.12232311012181776, 0.9502856831573011]\n"
          ],
          "name": "stdout"
        }
      ]
    },
    {
      "metadata": {
        "id": "dltIipwsOhpQ",
        "colab_type": "text"
      },
      "cell_type": "markdown",
      "source": [
        "### 3."
      ]
    },
    {
      "metadata": {
        "id": "Cc3StrTcDxV_",
        "colab_type": "text"
      },
      "cell_type": "markdown",
      "source": [
        "Run the previous model for 10 iterations to exceed 0.950 test accuracy."
      ]
    },
    {
      "metadata": {
        "colab_type": "text",
        "id": "D8VmKHg4zTpH"
      },
      "cell_type": "markdown",
      "source": [
        "#U-Net"
      ]
    },
    {
      "metadata": {
        "colab_type": "text",
        "id": "5u7QfjeKzTpN"
      },
      "cell_type": "markdown",
      "source": [
        "![](https://github.com/tfunck/minc_keras/blob/master/images/splits_c_3.png?raw=1)"
      ]
    },
    {
      "metadata": {
        "colab_type": "code",
        "id": "SqBWn-PmzTpO",
        "outputId": "998fc6e3-79b0-43d5-d1c4-858a45c1e00c",
        "colab": {
          "base_uri": "https://localhost:8080/",
          "height": 221
        }
      },
      "cell_type": "code",
      "source": [
        "set_base_dir()\n",
        "import minc_keras\n",
        "from utils import *\n",
        "import numpy as np\n",
        "from minc_keras import *\n",
        "### Set input and label string\n",
        "input_str='_pet.mnc' \n",
        "label_str='brainmask'\n",
        "\n",
        "### Set filename for .csv that will store data frame \n",
        "images_fn='pet.csv'\n",
        "\n",
        "### Set source directory from which data will be read\n",
        "source_dir=\"pet/\"\n",
        "\n",
        "### Set the target directory where output results will be saved\n",
        "target_dir=\"pet_results\"\n",
        "\n",
        "### Set raiots for train/validation/test\n",
        "ratios=[0.70,0.15]\n",
        "\n",
        "### By default we set clobber to False so that we don't overwrite existing files\n",
        "### Feel free to change if needed\n",
        "clobber=True\n",
        "\n",
        "### Size of batches that will be passed to model. The default 2 makes it easy\n",
        "batch_size=2\n",
        "\n",
        "### Image dimensions. We are slicing the 3D images into 2D slices. This serves to augment the data\n",
        "### and make training faster\n",
        "feature_dim=2\n",
        "\n",
        "setup_dirs(target_dir)  \n",
        "\n",
        "### Set filename for .csv file that will contain info about input images\n",
        "images_fn = set_model_name(images_fn, report_dir, '.csv')\n",
        "\n",
        "### Load data from brain images and save them into .npy. Sort them into train/validate/test splits\n",
        "[images, data] = prepare_data(source_dir, data_dir, report_dir, input_str, label_str, ratios, batch_size,feature_dim, images_fn, pad_base=3,  clobber=clobber)\n",
        "\n",
        "### 1) Load data\n",
        "Y_validate=np.load(data[\"validate_y_fn\"]+'.npy')\n",
        "nlabels=len(np.unique(Y_validate))\n",
        "\n",
        "X_train=np.load(data[\"train_x_fn\"]+'.npy')\n",
        "Y_train=np.load(data[\"train_y_fn\"]+'.npy')\n",
        "X_validate=np.load(data[\"validate_x_fn\"]+'.npy')\n",
        "\n",
        "X_test=np.load(data[\"test_x_fn\"]+'.npy')\n",
        "Y_test=np.load(data[\"test_y_fn\"]+'.npy')\n",
        "\n",
        "Y_test=to_categorical(Y_test)\n",
        "Y_train = to_categorical(Y_train, num_classes=nlabels)\n",
        "Y_validate = to_categorical(Y_validate, num_classes=nlabels)"
      ],
      "execution_count": 4,
      "outputs": [
        {
          "output_type": "stream",
          "text": [
            "train : expected/real ratio = 70.00 / 73.33\n",
            "validate : expected/real ratio = 15.00 / 20.00\n"
          ],
          "name": "stdout"
        },
        {
          "output_type": "stream",
          "text": [
            "/usr/local/lib/python3.6/dist-packages/pandas/core/indexing.py:194: SettingWithCopyWarning: \n",
            "A value is trying to be set on a copy of a slice from a DataFrame\n",
            "\n",
            "See the caveats in the documentation: http://pandas.pydata.org/pandas-docs/stable/indexing.html#indexing-view-versus-copy\n",
            "  self._setitem_with_indexer(indexer, value)\n"
          ],
          "name": "stderr"
        },
        {
          "output_type": "stream",
          "text": [
            "1 [100, 100, 100]\n",
            "2 [100, 104, 104]\n",
            "\n",
            "\n",
            "\n"
          ],
          "name": "stdout"
        }
      ]
    },
    {
      "metadata": {
        "colab_type": "text",
        "id": "rGkJHbkPzTpQ"
      },
      "cell_type": "markdown",
      "source": [
        "## Building a U-NET in Keras\n",
        "\n",
        "![](https://github.com/tfunck/minc_keras/blob/master/images/unet.png?raw=1)\n",
        "\n",
        "Ronneberger, Fischer, and Brox. 2015.\"U-net: Convolutional networks for biomedical image segmentation.\" International Conference on Medical image computing and computer-assisted intervention. https://arxiv.org/abs/1505.04597"
      ]
    },
    {
      "metadata": {
        "colab_type": "code",
        "id": "0SDJ5RvOzTpQ",
        "outputId": "ece0593a-4d7d-4523-efe9-d0b5c122afeb",
        "colab": {
          "base_uri": "https://localhost:8080/",
          "height": 2308
        }
      },
      "cell_type": "code",
      "source": [
        "import keras\n",
        "from keras.layers.convolutional import Conv2D\n",
        "from keras.layers import Input\n",
        "from custom_loss import *\n",
        "from keras.utils import to_categorical\n",
        "from keras.activations import relu\n",
        "from keras.layers.core import Dropout\n",
        "from keras.layers import Input, Add, Multiply, Dense, BatchNormalization\n",
        "from keras.layers import LeakyReLU, MaxPooling2D, Conv2DTranspose, Concatenate, ZeroPadding2D\n",
        "from prepare_data import pad\n",
        "\n",
        "### Warning : if you change the number of times you downsample with max_pool,\n",
        "###           then you need to rerun prepare_data() with pad_base=<number of downsample nodes>\n",
        "model_name=\"pet_1.hdf5\"\n",
        "\n",
        "\n",
        "### 1) Define architecture of neural network    \n",
        "IN = Input(shape=(data['image_dim'][1],data['image_dim'][2] ,1))\n",
        "\n",
        "BN1 = BatchNormalization()(IN)\n",
        "\n",
        "conv1 = Convolution2D(32, 3, 3, activation='relu', border_mode='same')(BN1)\n",
        "conv1 = Convolution2D(32, 3, 3, activation='relu', border_mode='same')(conv1)\n",
        "pool1 = MaxPooling2D(pool_size=(2, 2))(conv1)\n",
        " \n",
        "conv2 = Convolution2D(64, 3, 3, activation='relu', border_mode='same')(pool1)\n",
        "conv2 = Convolution2D(64, 3, 3, activation='relu', border_mode='same')(conv2)\n",
        "pool2 = MaxPooling2D(pool_size=(2, 2))(conv2)\n",
        "\n",
        "conv3 = Convolution2D(128, 3, 3, activation='relu', border_mode='same')(pool2)\n",
        "conv3 = Convolution2D(128, 3, 3, activation='relu', border_mode='same')(conv3)\n",
        "pool3 = MaxPooling2D(pool_size=(2, 2))(conv3)\n",
        "\n",
        "conv4 = Convolution2D(256, 3, 3, activation='relu', border_mode='same')(pool3)\n",
        "conv4 = Convolution2D(256, 3, 3, activation='relu', border_mode='same')(conv4)\n",
        "\n",
        "up6 = UpSampling2D(size=(2, 2))(conv4)\n",
        "#up6 = Conv2DTranspose( filters=512, kernel_size=(3,3), strides=(2, 2), padding='same')(conv6)\n",
        "conc6 = Concatenate(axis=3)([up6, conv3])\n",
        "conv7 = Convolution2D(128, 3, 3, activation='relu', border_mode='same')(conc6)\n",
        "conv7 = Convolution2D(128, 3, 3, activation='relu', border_mode='same')(conv7)\n",
        "\n",
        "up7 = UpSampling2D(size=(2, 2))(conv7)\n",
        "#up7 = Conv2DTranspose( filters=512, kernel_size=(3,3), strides=(2, 2), padding='same')(conv7)\n",
        "conc7 = Concatenate(axis=3)([up7, conv2])\n",
        "conv8 = Convolution2D(64, 3, 3, activation='relu', border_mode='same')(conc7) #(up8)\n",
        "conv8 = Convolution2D(64, 3, 3, activation='relu', border_mode='same')(conv8)\n",
        "\n",
        "up8 = UpSampling2D(size=(2, 2))(conv8)\n",
        "#up8 = Conv2DTranspose( filters=512, kernel_size=(3,3), strides=(2, 2), padding='same')(conv8)\n",
        "conc8 = Concatenate(axis=3)([up8, conv1])\n",
        "conv9 = Convolution2D(32, 3, 3, activation='relu', border_mode='same')(conc8)\n",
        "conv9 = Convolution2D(32, 3, 3, activation='relu', border_mode='same')(conv9)\n",
        "\n",
        "conv10 = Convolution2D(nlabels, 1, 1, activation='softmax')(conv9)\n",
        "\n",
        "model = keras.models.Model(input=[IN], output=conv10)\n",
        "\n",
        "print(model.summary())\n",
        "\n",
        "#set compiler\n",
        "ada = keras.optimizers.Adam(0.0001)\n",
        "\n",
        "#compile the model\n",
        "model.compile(loss = 'categorical_crossentropy', optimizer=ada,metrics=['acc'] )\n",
        "#fit model\n",
        "\n",
        "history = model.fit([X_train],Y_train,  validation_data=([X_validate], Y_validate), epochs = 3)\n",
        "#save model   \n",
        "model.save(model_name)\n",
        "\n",
        "test_score = model.evaluate(X_test, Y_test)\n",
        "print(\"Test :\", test_score)\n",
        "\n"
      ],
      "execution_count": 0,
      "outputs": [
        {
          "output_type": "stream",
          "text": [
            "/usr/local/lib/python3.6/dist-packages/ipykernel_launcher.py:22: UserWarning: Update your `Conv2D` call to the Keras 2 API: `Conv2D(32, (3, 3), activation=\"relu\", padding=\"same\")`\n",
            "/usr/local/lib/python3.6/dist-packages/ipykernel_launcher.py:23: UserWarning: Update your `Conv2D` call to the Keras 2 API: `Conv2D(32, (3, 3), activation=\"relu\", padding=\"same\")`\n",
            "/usr/local/lib/python3.6/dist-packages/ipykernel_launcher.py:26: UserWarning: Update your `Conv2D` call to the Keras 2 API: `Conv2D(64, (3, 3), activation=\"relu\", padding=\"same\")`\n",
            "/usr/local/lib/python3.6/dist-packages/ipykernel_launcher.py:27: UserWarning: Update your `Conv2D` call to the Keras 2 API: `Conv2D(64, (3, 3), activation=\"relu\", padding=\"same\")`\n",
            "/usr/local/lib/python3.6/dist-packages/ipykernel_launcher.py:30: UserWarning: Update your `Conv2D` call to the Keras 2 API: `Conv2D(128, (3, 3), activation=\"relu\", padding=\"same\")`\n",
            "/usr/local/lib/python3.6/dist-packages/ipykernel_launcher.py:31: UserWarning: Update your `Conv2D` call to the Keras 2 API: `Conv2D(128, (3, 3), activation=\"relu\", padding=\"same\")`\n",
            "/usr/local/lib/python3.6/dist-packages/ipykernel_launcher.py:34: UserWarning: Update your `Conv2D` call to the Keras 2 API: `Conv2D(256, (3, 3), activation=\"relu\", padding=\"same\")`\n",
            "/usr/local/lib/python3.6/dist-packages/ipykernel_launcher.py:35: UserWarning: Update your `Conv2D` call to the Keras 2 API: `Conv2D(256, (3, 3), activation=\"relu\", padding=\"same\")`\n",
            "/usr/local/lib/python3.6/dist-packages/ipykernel_launcher.py:40: UserWarning: Update your `Conv2D` call to the Keras 2 API: `Conv2D(128, (3, 3), activation=\"relu\", padding=\"same\")`\n",
            "/usr/local/lib/python3.6/dist-packages/ipykernel_launcher.py:41: UserWarning: Update your `Conv2D` call to the Keras 2 API: `Conv2D(128, (3, 3), activation=\"relu\", padding=\"same\")`\n",
            "/usr/local/lib/python3.6/dist-packages/ipykernel_launcher.py:46: UserWarning: Update your `Conv2D` call to the Keras 2 API: `Conv2D(64, (3, 3), activation=\"relu\", padding=\"same\")`\n",
            "/usr/local/lib/python3.6/dist-packages/ipykernel_launcher.py:47: UserWarning: Update your `Conv2D` call to the Keras 2 API: `Conv2D(64, (3, 3), activation=\"relu\", padding=\"same\")`\n",
            "/usr/local/lib/python3.6/dist-packages/ipykernel_launcher.py:52: UserWarning: Update your `Conv2D` call to the Keras 2 API: `Conv2D(32, (3, 3), activation=\"relu\", padding=\"same\")`\n",
            "/usr/local/lib/python3.6/dist-packages/ipykernel_launcher.py:53: UserWarning: Update your `Conv2D` call to the Keras 2 API: `Conv2D(32, (3, 3), activation=\"relu\", padding=\"same\")`\n",
            "/usr/local/lib/python3.6/dist-packages/ipykernel_launcher.py:55: UserWarning: Update your `Conv2D` call to the Keras 2 API: `Conv2D(2, (1, 1), activation=\"softmax\")`\n",
            "/usr/local/lib/python3.6/dist-packages/ipykernel_launcher.py:57: UserWarning: Update your `Model` call to the Keras 2 API: `Model(inputs=[<tf.Tenso..., outputs=Tensor(\"co...)`\n"
          ],
          "name": "stderr"
        },
        {
          "output_type": "stream",
          "text": [
            "__________________________________________________________________________________________________\n",
            "Layer (type)                    Output Shape         Param #     Connected to                     \n",
            "==================================================================================================\n",
            "input_23 (InputLayer)           (None, 104, 104, 1)  0                                            \n",
            "__________________________________________________________________________________________________\n",
            "batch_normalization_6 (BatchNor (None, 104, 104, 1)  4           input_23[0][0]                   \n",
            "__________________________________________________________________________________________________\n",
            "conv2d_144 (Conv2D)             (None, 104, 104, 32) 320         batch_normalization_6[0][0]      \n",
            "__________________________________________________________________________________________________\n",
            "conv2d_145 (Conv2D)             (None, 104, 104, 32) 9248        conv2d_144[0][0]                 \n",
            "__________________________________________________________________________________________________\n",
            "max_pooling2d_17 (MaxPooling2D) (None, 52, 52, 32)   0           conv2d_145[0][0]                 \n",
            "__________________________________________________________________________________________________\n",
            "conv2d_146 (Conv2D)             (None, 52, 52, 64)   18496       max_pooling2d_17[0][0]           \n",
            "__________________________________________________________________________________________________\n",
            "conv2d_147 (Conv2D)             (None, 52, 52, 64)   36928       conv2d_146[0][0]                 \n",
            "__________________________________________________________________________________________________\n",
            "max_pooling2d_18 (MaxPooling2D) (None, 26, 26, 64)   0           conv2d_147[0][0]                 \n",
            "__________________________________________________________________________________________________\n",
            "conv2d_148 (Conv2D)             (None, 26, 26, 128)  73856       max_pooling2d_18[0][0]           \n",
            "__________________________________________________________________________________________________\n",
            "conv2d_149 (Conv2D)             (None, 26, 26, 128)  147584      conv2d_148[0][0]                 \n",
            "__________________________________________________________________________________________________\n",
            "max_pooling2d_19 (MaxPooling2D) (None, 13, 13, 128)  0           conv2d_149[0][0]                 \n",
            "__________________________________________________________________________________________________\n",
            "conv2d_150 (Conv2D)             (None, 13, 13, 256)  295168      max_pooling2d_19[0][0]           \n",
            "__________________________________________________________________________________________________\n",
            "conv2d_151 (Conv2D)             (None, 13, 13, 256)  590080      conv2d_150[0][0]                 \n",
            "__________________________________________________________________________________________________\n",
            "up_sampling2d_8 (UpSampling2D)  (None, 26, 26, 256)  0           conv2d_151[0][0]                 \n",
            "__________________________________________________________________________________________________\n",
            "concatenate_11 (Concatenate)    (None, 26, 26, 384)  0           up_sampling2d_8[0][0]            \n",
            "                                                                 conv2d_149[0][0]                 \n",
            "__________________________________________________________________________________________________\n",
            "conv2d_152 (Conv2D)             (None, 26, 26, 128)  442496      concatenate_11[0][0]             \n",
            "__________________________________________________________________________________________________\n",
            "conv2d_153 (Conv2D)             (None, 26, 26, 128)  147584      conv2d_152[0][0]                 \n",
            "__________________________________________________________________________________________________\n",
            "up_sampling2d_9 (UpSampling2D)  (None, 52, 52, 128)  0           conv2d_153[0][0]                 \n",
            "__________________________________________________________________________________________________\n",
            "concatenate_12 (Concatenate)    (None, 52, 52, 192)  0           up_sampling2d_9[0][0]            \n",
            "                                                                 conv2d_147[0][0]                 \n",
            "__________________________________________________________________________________________________\n",
            "conv2d_154 (Conv2D)             (None, 52, 52, 64)   110656      concatenate_12[0][0]             \n",
            "__________________________________________________________________________________________________\n",
            "conv2d_155 (Conv2D)             (None, 52, 52, 64)   36928       conv2d_154[0][0]                 \n",
            "__________________________________________________________________________________________________\n",
            "up_sampling2d_10 (UpSampling2D) (None, 104, 104, 64) 0           conv2d_155[0][0]                 \n",
            "__________________________________________________________________________________________________\n",
            "concatenate_13 (Concatenate)    (None, 104, 104, 96) 0           up_sampling2d_10[0][0]           \n",
            "                                                                 conv2d_145[0][0]                 \n",
            "__________________________________________________________________________________________________\n",
            "conv2d_156 (Conv2D)             (None, 104, 104, 32) 27680       concatenate_13[0][0]             \n",
            "__________________________________________________________________________________________________\n",
            "conv2d_157 (Conv2D)             (None, 104, 104, 32) 9248        conv2d_156[0][0]                 \n",
            "__________________________________________________________________________________________________\n",
            "conv2d_158 (Conv2D)             (None, 104, 104, 2)  66          conv2d_157[0][0]                 \n",
            "==================================================================================================\n",
            "Total params: 1,946,342\n",
            "Trainable params: 1,946,340\n",
            "Non-trainable params: 2\n",
            "__________________________________________________________________________________________________\n",
            "None\n",
            "Train on 2486 samples, validate on 678 samples\n",
            "Epoch 1/3\n",
            "2486/2486 [==============================] - 23s 9ms/step - loss: 0.3061 - acc: 0.8868 - val_loss: 0.1889 - val_acc: 0.9181\n",
            "Epoch 2/3\n",
            "2486/2486 [==============================] - 19s 8ms/step - loss: 0.1777 - acc: 0.9218 - val_loss: 0.1475 - val_acc: 0.9348\n",
            "Epoch 3/3\n",
            " 384/2486 [===>..........................] - ETA: 14s - loss: 0.1646 - acc: 0.9281"
          ],
          "name": "stdout"
        },
        {
          "output_type": "error",
          "ename": "KeyboardInterrupt",
          "evalue": "ignored",
          "traceback": [
            "\u001b[0;31m---------------------------------------------------------------------------\u001b[0m",
            "\u001b[0;31mKeyboardInterrupt\u001b[0m                         Traceback (most recent call last)",
            "\u001b[0;32m<ipython-input-40-231f274aefbf>\u001b[0m in \u001b[0;36m<module>\u001b[0;34m()\u001b[0m\n\u001b[1;32m     66\u001b[0m \u001b[0;31m#fit model\u001b[0m\u001b[0;34m\u001b[0m\u001b[0;34m\u001b[0m\u001b[0;34m\u001b[0m\u001b[0m\n\u001b[1;32m     67\u001b[0m \u001b[0;34m\u001b[0m\u001b[0m\n\u001b[0;32m---> 68\u001b[0;31m \u001b[0mhistory\u001b[0m \u001b[0;34m=\u001b[0m \u001b[0mmodel\u001b[0m\u001b[0;34m.\u001b[0m\u001b[0mfit\u001b[0m\u001b[0;34m(\u001b[0m\u001b[0;34m[\u001b[0m\u001b[0mX_train\u001b[0m\u001b[0;34m]\u001b[0m\u001b[0;34m,\u001b[0m\u001b[0mY_train\u001b[0m\u001b[0;34m,\u001b[0m  \u001b[0mvalidation_data\u001b[0m\u001b[0;34m=\u001b[0m\u001b[0;34m(\u001b[0m\u001b[0;34m[\u001b[0m\u001b[0mX_validate\u001b[0m\u001b[0;34m]\u001b[0m\u001b[0;34m,\u001b[0m \u001b[0mY_validate\u001b[0m\u001b[0;34m)\u001b[0m\u001b[0;34m,\u001b[0m \u001b[0mepochs\u001b[0m \u001b[0;34m=\u001b[0m \u001b[0;36m3\u001b[0m\u001b[0;34m)\u001b[0m\u001b[0;34m\u001b[0m\u001b[0;34m\u001b[0m\u001b[0m\n\u001b[0m\u001b[1;32m     69\u001b[0m \u001b[0;31m#save model\u001b[0m\u001b[0;34m\u001b[0m\u001b[0;34m\u001b[0m\u001b[0;34m\u001b[0m\u001b[0m\n\u001b[1;32m     70\u001b[0m \u001b[0mmodel\u001b[0m\u001b[0;34m.\u001b[0m\u001b[0msave\u001b[0m\u001b[0;34m(\u001b[0m\u001b[0mmodel_name\u001b[0m\u001b[0;34m)\u001b[0m\u001b[0;34m\u001b[0m\u001b[0;34m\u001b[0m\u001b[0m\n",
            "\u001b[0;32m/usr/local/lib/python3.6/dist-packages/keras/engine/training.py\u001b[0m in \u001b[0;36mfit\u001b[0;34m(self, x, y, batch_size, epochs, verbose, callbacks, validation_split, validation_data, shuffle, class_weight, sample_weight, initial_epoch, steps_per_epoch, validation_steps, **kwargs)\u001b[0m\n\u001b[1;32m   1037\u001b[0m                                         \u001b[0minitial_epoch\u001b[0m\u001b[0;34m=\u001b[0m\u001b[0minitial_epoch\u001b[0m\u001b[0;34m,\u001b[0m\u001b[0;34m\u001b[0m\u001b[0;34m\u001b[0m\u001b[0m\n\u001b[1;32m   1038\u001b[0m                                         \u001b[0msteps_per_epoch\u001b[0m\u001b[0;34m=\u001b[0m\u001b[0msteps_per_epoch\u001b[0m\u001b[0;34m,\u001b[0m\u001b[0;34m\u001b[0m\u001b[0;34m\u001b[0m\u001b[0m\n\u001b[0;32m-> 1039\u001b[0;31m                                         validation_steps=validation_steps)\n\u001b[0m\u001b[1;32m   1040\u001b[0m \u001b[0;34m\u001b[0m\u001b[0m\n\u001b[1;32m   1041\u001b[0m     def evaluate(self, x=None, y=None,\n",
            "\u001b[0;32m/usr/local/lib/python3.6/dist-packages/keras/engine/training_arrays.py\u001b[0m in \u001b[0;36mfit_loop\u001b[0;34m(model, f, ins, out_labels, batch_size, epochs, verbose, callbacks, val_f, val_ins, shuffle, callback_metrics, initial_epoch, steps_per_epoch, validation_steps)\u001b[0m\n\u001b[1;32m    197\u001b[0m                     \u001b[0mins_batch\u001b[0m\u001b[0;34m[\u001b[0m\u001b[0mi\u001b[0m\u001b[0;34m]\u001b[0m \u001b[0;34m=\u001b[0m \u001b[0mins_batch\u001b[0m\u001b[0;34m[\u001b[0m\u001b[0mi\u001b[0m\u001b[0;34m]\u001b[0m\u001b[0;34m.\u001b[0m\u001b[0mtoarray\u001b[0m\u001b[0;34m(\u001b[0m\u001b[0;34m)\u001b[0m\u001b[0;34m\u001b[0m\u001b[0;34m\u001b[0m\u001b[0m\n\u001b[1;32m    198\u001b[0m \u001b[0;34m\u001b[0m\u001b[0m\n\u001b[0;32m--> 199\u001b[0;31m                 \u001b[0mouts\u001b[0m \u001b[0;34m=\u001b[0m \u001b[0mf\u001b[0m\u001b[0;34m(\u001b[0m\u001b[0mins_batch\u001b[0m\u001b[0;34m)\u001b[0m\u001b[0;34m\u001b[0m\u001b[0;34m\u001b[0m\u001b[0m\n\u001b[0m\u001b[1;32m    200\u001b[0m                 \u001b[0mouts\u001b[0m \u001b[0;34m=\u001b[0m \u001b[0mto_list\u001b[0m\u001b[0;34m(\u001b[0m\u001b[0mouts\u001b[0m\u001b[0;34m)\u001b[0m\u001b[0;34m\u001b[0m\u001b[0;34m\u001b[0m\u001b[0m\n\u001b[1;32m    201\u001b[0m                 \u001b[0;32mfor\u001b[0m \u001b[0ml\u001b[0m\u001b[0;34m,\u001b[0m \u001b[0mo\u001b[0m \u001b[0;32min\u001b[0m \u001b[0mzip\u001b[0m\u001b[0;34m(\u001b[0m\u001b[0mout_labels\u001b[0m\u001b[0;34m,\u001b[0m \u001b[0mouts\u001b[0m\u001b[0;34m)\u001b[0m\u001b[0;34m:\u001b[0m\u001b[0;34m\u001b[0m\u001b[0;34m\u001b[0m\u001b[0m\n",
            "\u001b[0;32m/usr/local/lib/python3.6/dist-packages/keras/backend/tensorflow_backend.py\u001b[0m in \u001b[0;36m__call__\u001b[0;34m(self, inputs)\u001b[0m\n\u001b[1;32m   2713\u001b[0m                 \u001b[0;32mreturn\u001b[0m \u001b[0mself\u001b[0m\u001b[0;34m.\u001b[0m\u001b[0m_legacy_call\u001b[0m\u001b[0;34m(\u001b[0m\u001b[0minputs\u001b[0m\u001b[0;34m)\u001b[0m\u001b[0;34m\u001b[0m\u001b[0;34m\u001b[0m\u001b[0m\n\u001b[1;32m   2714\u001b[0m \u001b[0;34m\u001b[0m\u001b[0m\n\u001b[0;32m-> 2715\u001b[0;31m             \u001b[0;32mreturn\u001b[0m \u001b[0mself\u001b[0m\u001b[0;34m.\u001b[0m\u001b[0m_call\u001b[0m\u001b[0;34m(\u001b[0m\u001b[0minputs\u001b[0m\u001b[0;34m)\u001b[0m\u001b[0;34m\u001b[0m\u001b[0;34m\u001b[0m\u001b[0m\n\u001b[0m\u001b[1;32m   2716\u001b[0m         \u001b[0;32melse\u001b[0m\u001b[0;34m:\u001b[0m\u001b[0;34m\u001b[0m\u001b[0;34m\u001b[0m\u001b[0m\n\u001b[1;32m   2717\u001b[0m             \u001b[0;32mif\u001b[0m \u001b[0mpy_any\u001b[0m\u001b[0;34m(\u001b[0m\u001b[0mis_tensor\u001b[0m\u001b[0;34m(\u001b[0m\u001b[0mx\u001b[0m\u001b[0;34m)\u001b[0m \u001b[0;32mfor\u001b[0m \u001b[0mx\u001b[0m \u001b[0;32min\u001b[0m \u001b[0minputs\u001b[0m\u001b[0;34m)\u001b[0m\u001b[0;34m:\u001b[0m\u001b[0;34m\u001b[0m\u001b[0;34m\u001b[0m\u001b[0m\n",
            "\u001b[0;32m/usr/local/lib/python3.6/dist-packages/keras/backend/tensorflow_backend.py\u001b[0m in \u001b[0;36m_call\u001b[0;34m(self, inputs)\u001b[0m\n\u001b[1;32m   2673\u001b[0m             \u001b[0mfetched\u001b[0m \u001b[0;34m=\u001b[0m \u001b[0mself\u001b[0m\u001b[0;34m.\u001b[0m\u001b[0m_callable_fn\u001b[0m\u001b[0;34m(\u001b[0m\u001b[0;34m*\u001b[0m\u001b[0marray_vals\u001b[0m\u001b[0;34m,\u001b[0m \u001b[0mrun_metadata\u001b[0m\u001b[0;34m=\u001b[0m\u001b[0mself\u001b[0m\u001b[0;34m.\u001b[0m\u001b[0mrun_metadata\u001b[0m\u001b[0;34m)\u001b[0m\u001b[0;34m\u001b[0m\u001b[0;34m\u001b[0m\u001b[0m\n\u001b[1;32m   2674\u001b[0m         \u001b[0;32melse\u001b[0m\u001b[0;34m:\u001b[0m\u001b[0;34m\u001b[0m\u001b[0;34m\u001b[0m\u001b[0m\n\u001b[0;32m-> 2675\u001b[0;31m             \u001b[0mfetched\u001b[0m \u001b[0;34m=\u001b[0m \u001b[0mself\u001b[0m\u001b[0;34m.\u001b[0m\u001b[0m_callable_fn\u001b[0m\u001b[0;34m(\u001b[0m\u001b[0;34m*\u001b[0m\u001b[0marray_vals\u001b[0m\u001b[0;34m)\u001b[0m\u001b[0;34m\u001b[0m\u001b[0;34m\u001b[0m\u001b[0m\n\u001b[0m\u001b[1;32m   2676\u001b[0m         \u001b[0;32mreturn\u001b[0m \u001b[0mfetched\u001b[0m\u001b[0;34m[\u001b[0m\u001b[0;34m:\u001b[0m\u001b[0mlen\u001b[0m\u001b[0;34m(\u001b[0m\u001b[0mself\u001b[0m\u001b[0;34m.\u001b[0m\u001b[0moutputs\u001b[0m\u001b[0;34m)\u001b[0m\u001b[0;34m]\u001b[0m\u001b[0;34m\u001b[0m\u001b[0;34m\u001b[0m\u001b[0m\n\u001b[1;32m   2677\u001b[0m \u001b[0;34m\u001b[0m\u001b[0m\n",
            "\u001b[0;32m/usr/local/lib/python3.6/dist-packages/tensorflow/python/client/session.py\u001b[0m in \u001b[0;36m__call__\u001b[0;34m(self, *args, **kwargs)\u001b[0m\n\u001b[1;32m   1437\u001b[0m           ret = tf_session.TF_SessionRunCallable(\n\u001b[1;32m   1438\u001b[0m               \u001b[0mself\u001b[0m\u001b[0;34m.\u001b[0m\u001b[0m_session\u001b[0m\u001b[0;34m.\u001b[0m\u001b[0m_session\u001b[0m\u001b[0;34m,\u001b[0m \u001b[0mself\u001b[0m\u001b[0;34m.\u001b[0m\u001b[0m_handle\u001b[0m\u001b[0;34m,\u001b[0m \u001b[0margs\u001b[0m\u001b[0;34m,\u001b[0m \u001b[0mstatus\u001b[0m\u001b[0;34m,\u001b[0m\u001b[0;34m\u001b[0m\u001b[0;34m\u001b[0m\u001b[0m\n\u001b[0;32m-> 1439\u001b[0;31m               run_metadata_ptr)\n\u001b[0m\u001b[1;32m   1440\u001b[0m         \u001b[0;32mif\u001b[0m \u001b[0mrun_metadata\u001b[0m\u001b[0;34m:\u001b[0m\u001b[0;34m\u001b[0m\u001b[0;34m\u001b[0m\u001b[0m\n\u001b[1;32m   1441\u001b[0m           \u001b[0mproto_data\u001b[0m \u001b[0;34m=\u001b[0m \u001b[0mtf_session\u001b[0m\u001b[0;34m.\u001b[0m\u001b[0mTF_GetBuffer\u001b[0m\u001b[0;34m(\u001b[0m\u001b[0mrun_metadata_ptr\u001b[0m\u001b[0;34m)\u001b[0m\u001b[0;34m\u001b[0m\u001b[0;34m\u001b[0m\u001b[0m\n",
            "\u001b[0;31mKeyboardInterrupt\u001b[0m: "
          ]
        }
      ]
    },
    {
      "metadata": {
        "id": "ntjdPpO3cvmA",
        "colab_type": "code",
        "colab": {}
      },
      "cell_type": "code",
      "source": [
        "###Create predictions for model\n",
        "from predict import *\n",
        "predict(model_name, test_dir, data_dir, report_dir+'/pet.csv', 'categorical_crossentropy', images_to_predict='all', category=\"test\", verbose=True)\n"
      ],
      "execution_count": 0,
      "outputs": []
    },
    {
      "metadata": {
        "colab_type": "code",
        "id": "uPeNV6NWzTpu",
        "colab": {}
      },
      "cell_type": "code",
      "source": [
        "#If using Google Chrome, can download directly through browser\n",
        "#from google.colab import files\n",
        "#from glob import glob\n",
        "#for fn in glob('pet_results/predict/test/*.png') :  files.download(fn)\n",
        "\n",
        "import matplotlib.pyplot as plt\n",
        "plt.imshow(plt.imread('pet_results/predict/test//sub-D13_ses-01_task-01_acq-rcl_dwn-smpl_pet_predict_2.png'))\n"
      ],
      "execution_count": 0,
      "outputs": []
    },
    {
      "metadata": {
        "id": "HPBrekZ2CrtV",
        "colab_type": "text"
      },
      "cell_type": "markdown",
      "source": [
        "##Exercises\n",
        "\n",
        "1. Modify the template above so that it has less than 120,000 parameters.\n",
        "\n",
        "2. Use a transpose convolution to perform upsampling steps in the U-Net template. What happens to the number of parameters? How does accuracy change relative to this? \n",
        "\n",
        "3. Add another level of downsampling and up-sampling to the U-Net template. Remember to re-run the configuration cell with <pad_base=4> and <clobber=True> in order to pad the input images and labels appropriately relative to the number of times you use max pooling to downsample the images. \n",
        "\n",
        "4. Run a U-Net architecture on the GM-WM segementation task from part 1. How does the performance improvement compare to the increased number of parameters?\n",
        "\n",
        "4. Using whatever techniques you like (downsampling, upsampling, dilations, drop-out, etc.), create the best architecture possible without over-fitting the data."
      ]
    },
    {
      "metadata": {
        "id": "HNM4QTBrWWnb",
        "colab_type": "text"
      },
      "cell_type": "markdown",
      "source": [
        "## Solutions\n"
      ]
    },
    {
      "metadata": {
        "id": "NmCLa-y_EgLe",
        "colab_type": "text"
      },
      "cell_type": "markdown",
      "source": [
        "### 1."
      ]
    },
    {
      "metadata": {
        "id": "_FXISR5VTer4",
        "colab_type": "code",
        "outputId": "8eadb9b6-2496-42b6-9ae5-02f453e366bb",
        "colab": {
          "base_uri": "https://localhost:8080/",
          "height": 1513
        }
      },
      "cell_type": "code",
      "source": [
        "import keras\n",
        "from keras.layers.convolutional import Conv2D\n",
        "from keras.layers import Input\n",
        "from custom_loss import *\n",
        "from keras.utils import to_categorical\n",
        "from keras.activations import relu\n",
        "from keras.layers.core import Dropout\n",
        "from keras.layers import Input, Add, Multiply, Dense, BatchNormalization\n",
        "from keras.layers import LeakyReLU, MaxPooling2D, Conv2DTranspose, Concatenate, ZeroPadding2D\n",
        "from prepare_data import pad\n",
        "\n",
        "### Warning : if you change the number of times you downsample with max_pool,\n",
        "###           then you need to rerun prepare_data() with pad_base=<number of downsample nodes>\n",
        "model_name=\"pet_2.hdf5\"\n",
        "\n",
        "\n",
        "### 1) Define architecture of neural network    \n",
        "IN = Input(shape=(data['image_dim'][1],data['image_dim'][2] ,1))\n",
        "\n",
        "BN1 = BatchNormalization()(IN)\n",
        "\n",
        "conv1 = Convolution2D(8, 3, 3, activation='relu', border_mode='same')(BN1)\n",
        "conv1 = Convolution2D(8, 3, 3, activation='relu', border_mode='same')(conv1)\n",
        "pool1 = MaxPooling2D(pool_size=(2, 2))(conv1)\n",
        " \n",
        "conv2 = Convolution2D(16, 3, 3, activation='relu', border_mode='same')(pool1)\n",
        "conv2 = Convolution2D(16, 3, 3, activation='relu', border_mode='same')(conv2)\n",
        "pool2 = MaxPooling2D(pool_size=(2, 2))(conv2)\n",
        "\n",
        "conv3 = Convolution2D(32, 3, 3, activation='relu', border_mode='same')(pool2)\n",
        "conv3 = Convolution2D(32, 3, 3, activation='relu', border_mode='same')(conv3)\n",
        "pool3 = MaxPooling2D(pool_size=(2, 2))(conv3)\n",
        "\n",
        "conv4 = Convolution2D(64, 3, 3, activation='relu', border_mode='same')(pool3)\n",
        "conv4 = Convolution2D(64, 3, 3, activation='relu', border_mode='same')(conv4)\n",
        "\n",
        "up6 = UpSampling2D(size=(2, 2))(conv4)\n",
        "#up6 = Conv2DTranspose( filters=512, kernel_size=(3,3), strides=(2, 2), padding='same')(conv6)\n",
        "conc6 = Concatenate(axis=3)([up6, conv3])\n",
        "conv7 = Convolution2D(32, 3, 3, activation='relu', border_mode='same')(conc6)\n",
        "conv7 = Convolution2D(32, 3, 3, activation='relu', border_mode='same')(conv7)\n",
        "\n",
        "up7 = UpSampling2D(size=(2, 2))(conv7)\n",
        "#up7 = Conv2DTranspose( filters=512, kernel_size=(3,3), strides=(2, 2), padding='same')(conv7)\n",
        "conc7 = Concatenate(axis=3)([up7, conv2])\n",
        "conv8 = Convolution2D(16, 3, 3, activation='relu', border_mode='same')(conc7) #(up8)\n",
        "conv8 = Convolution2D(16, 3, 3, activation='relu', border_mode='same')(conv8)\n",
        "\n",
        "up8 = UpSampling2D(size=(2, 2))(conv8)\n",
        "#up8 = Conv2DTranspose( filters=512, kernel_size=(3,3), strides=(2, 2), padding='same')(conv8)\n",
        "conc8 = Concatenate(axis=3)([up8, conv1])\n",
        "conv9 = Convolution2D(8, 3, 3, activation='relu', border_mode='same')(conc8)\n",
        "conv9 = Convolution2D(8, 3, 3, activation='relu', border_mode='same')(conv9)\n",
        "\n",
        "conv10 = Convolution2D(nlabels, 1, 1, activation='softmax')(conv9)\n",
        "\n",
        "model = keras.models.Model(input=[IN], output=conv10)\n",
        "\n",
        "print(model.summary())\n",
        "\n",
        "#set compiler\n",
        "ada = keras.optimizers.Adam(0.0001)\n",
        "\n",
        "#compile the model\n",
        "model.compile(loss = 'categorical_crossentropy', optimizer=ada,metrics=['acc'] )\n",
        "#fit model\n",
        "\n",
        "history = model.fit([X_train],Y_train,  validation_data=([X_validate], Y_validate), epochs = 3)\n",
        "#save model   \n",
        "model.save(model_name)\n",
        "\n",
        "test_score = model.evaluate(X_test, Y_test)\n",
        "print(\"Test :\", test_score)"
      ],
      "execution_count": 0,
      "outputs": [
        {
          "output_type": "stream",
          "text": [
            "/usr/local/lib/python3.6/dist-packages/ipykernel_launcher.py:22: UserWarning: Update your `Conv2D` call to the Keras 2 API: `Conv2D(8, (3, 3), activation=\"relu\", padding=\"same\")`\n",
            "/usr/local/lib/python3.6/dist-packages/ipykernel_launcher.py:23: UserWarning: Update your `Conv2D` call to the Keras 2 API: `Conv2D(8, (3, 3), activation=\"relu\", padding=\"same\")`\n",
            "/usr/local/lib/python3.6/dist-packages/ipykernel_launcher.py:26: UserWarning: Update your `Conv2D` call to the Keras 2 API: `Conv2D(16, (3, 3), activation=\"relu\", padding=\"same\")`\n",
            "/usr/local/lib/python3.6/dist-packages/ipykernel_launcher.py:27: UserWarning: Update your `Conv2D` call to the Keras 2 API: `Conv2D(16, (3, 3), activation=\"relu\", padding=\"same\")`\n",
            "/usr/local/lib/python3.6/dist-packages/ipykernel_launcher.py:30: UserWarning: Update your `Conv2D` call to the Keras 2 API: `Conv2D(32, (3, 3), activation=\"relu\", padding=\"same\")`\n",
            "/usr/local/lib/python3.6/dist-packages/ipykernel_launcher.py:31: UserWarning: Update your `Conv2D` call to the Keras 2 API: `Conv2D(32, (3, 3), activation=\"relu\", padding=\"same\")`\n",
            "/usr/local/lib/python3.6/dist-packages/ipykernel_launcher.py:34: UserWarning: Update your `Conv2D` call to the Keras 2 API: `Conv2D(64, (3, 3), activation=\"relu\", padding=\"same\")`\n",
            "/usr/local/lib/python3.6/dist-packages/ipykernel_launcher.py:35: UserWarning: Update your `Conv2D` call to the Keras 2 API: `Conv2D(64, (3, 3), activation=\"relu\", padding=\"same\")`\n",
            "/usr/local/lib/python3.6/dist-packages/ipykernel_launcher.py:40: UserWarning: Update your `Conv2D` call to the Keras 2 API: `Conv2D(32, (3, 3), activation=\"relu\", padding=\"same\")`\n",
            "/usr/local/lib/python3.6/dist-packages/ipykernel_launcher.py:41: UserWarning: Update your `Conv2D` call to the Keras 2 API: `Conv2D(32, (3, 3), activation=\"relu\", padding=\"same\")`\n",
            "/usr/local/lib/python3.6/dist-packages/ipykernel_launcher.py:46: UserWarning: Update your `Conv2D` call to the Keras 2 API: `Conv2D(16, (3, 3), activation=\"relu\", padding=\"same\")`\n",
            "/usr/local/lib/python3.6/dist-packages/ipykernel_launcher.py:47: UserWarning: Update your `Conv2D` call to the Keras 2 API: `Conv2D(16, (3, 3), activation=\"relu\", padding=\"same\")`\n",
            "/usr/local/lib/python3.6/dist-packages/ipykernel_launcher.py:52: UserWarning: Update your `Conv2D` call to the Keras 2 API: `Conv2D(8, (3, 3), activation=\"relu\", padding=\"same\")`\n",
            "/usr/local/lib/python3.6/dist-packages/ipykernel_launcher.py:53: UserWarning: Update your `Conv2D` call to the Keras 2 API: `Conv2D(8, (3, 3), activation=\"relu\", padding=\"same\")`\n",
            "/usr/local/lib/python3.6/dist-packages/ipykernel_launcher.py:55: UserWarning: Update your `Conv2D` call to the Keras 2 API: `Conv2D(2, (1, 1), activation=\"softmax\")`\n",
            "/usr/local/lib/python3.6/dist-packages/ipykernel_launcher.py:57: UserWarning: Update your `Model` call to the Keras 2 API: `Model(inputs=[<tf.Tenso..., outputs=Tensor(\"co...)`\n"
          ],
          "name": "stderr"
        },
        {
          "output_type": "stream",
          "text": [
            "__________________________________________________________________________________________________\n",
            "Layer (type)                    Output Shape         Param #     Connected to                     \n",
            "==================================================================================================\n",
            "input_24 (InputLayer)           (None, 104, 104, 1)  0                                            \n",
            "__________________________________________________________________________________________________\n",
            "batch_normalization_7 (BatchNor (None, 104, 104, 1)  4           input_24[0][0]                   \n",
            "__________________________________________________________________________________________________\n",
            "conv2d_159 (Conv2D)             (None, 104, 104, 8)  80          batch_normalization_7[0][0]      \n",
            "__________________________________________________________________________________________________\n",
            "conv2d_160 (Conv2D)             (None, 104, 104, 8)  584         conv2d_159[0][0]                 \n",
            "__________________________________________________________________________________________________\n",
            "max_pooling2d_20 (MaxPooling2D) (None, 52, 52, 8)    0           conv2d_160[0][0]                 \n",
            "__________________________________________________________________________________________________\n",
            "conv2d_161 (Conv2D)             (None, 52, 52, 16)   1168        max_pooling2d_20[0][0]           \n",
            "__________________________________________________________________________________________________\n",
            "conv2d_162 (Conv2D)             (None, 52, 52, 16)   2320        conv2d_161[0][0]                 \n",
            "__________________________________________________________________________________________________\n",
            "max_pooling2d_21 (MaxPooling2D) (None, 26, 26, 16)   0           conv2d_162[0][0]                 \n",
            "__________________________________________________________________________________________________\n",
            "conv2d_163 (Conv2D)             (None, 26, 26, 32)   4640        max_pooling2d_21[0][0]           \n",
            "__________________________________________________________________________________________________\n",
            "conv2d_164 (Conv2D)             (None, 26, 26, 32)   9248        conv2d_163[0][0]                 \n",
            "__________________________________________________________________________________________________\n",
            "max_pooling2d_22 (MaxPooling2D) (None, 13, 13, 32)   0           conv2d_164[0][0]                 \n",
            "__________________________________________________________________________________________________\n",
            "conv2d_165 (Conv2D)             (None, 13, 13, 64)   18496       max_pooling2d_22[0][0]           \n",
            "__________________________________________________________________________________________________\n",
            "conv2d_166 (Conv2D)             (None, 13, 13, 64)   36928       conv2d_165[0][0]                 \n",
            "__________________________________________________________________________________________________\n",
            "up_sampling2d_11 (UpSampling2D) (None, 26, 26, 64)   0           conv2d_166[0][0]                 \n",
            "__________________________________________________________________________________________________\n",
            "concatenate_14 (Concatenate)    (None, 26, 26, 96)   0           up_sampling2d_11[0][0]           \n",
            "                                                                 conv2d_164[0][0]                 \n",
            "__________________________________________________________________________________________________\n",
            "conv2d_167 (Conv2D)             (None, 26, 26, 32)   27680       concatenate_14[0][0]             \n",
            "__________________________________________________________________________________________________\n",
            "conv2d_168 (Conv2D)             (None, 26, 26, 32)   9248        conv2d_167[0][0]                 \n",
            "__________________________________________________________________________________________________\n",
            "up_sampling2d_12 (UpSampling2D) (None, 52, 52, 32)   0           conv2d_168[0][0]                 \n",
            "__________________________________________________________________________________________________\n",
            "concatenate_15 (Concatenate)    (None, 52, 52, 48)   0           up_sampling2d_12[0][0]           \n",
            "                                                                 conv2d_162[0][0]                 \n",
            "__________________________________________________________________________________________________\n",
            "conv2d_169 (Conv2D)             (None, 52, 52, 16)   6928        concatenate_15[0][0]             \n",
            "__________________________________________________________________________________________________\n",
            "conv2d_170 (Conv2D)             (None, 52, 52, 16)   2320        conv2d_169[0][0]                 \n",
            "__________________________________________________________________________________________________\n",
            "up_sampling2d_13 (UpSampling2D) (None, 104, 104, 16) 0           conv2d_170[0][0]                 \n",
            "__________________________________________________________________________________________________\n",
            "concatenate_16 (Concatenate)    (None, 104, 104, 24) 0           up_sampling2d_13[0][0]           \n",
            "                                                                 conv2d_160[0][0]                 \n",
            "__________________________________________________________________________________________________\n",
            "conv2d_171 (Conv2D)             (None, 104, 104, 8)  1736        concatenate_16[0][0]             \n",
            "__________________________________________________________________________________________________\n",
            "conv2d_172 (Conv2D)             (None, 104, 104, 8)  584         conv2d_171[0][0]                 \n",
            "__________________________________________________________________________________________________\n",
            "conv2d_173 (Conv2D)             (None, 104, 104, 2)  18          conv2d_172[0][0]                 \n",
            "==================================================================================================\n",
            "Total params: 121,982\n",
            "Trainable params: 121,980\n",
            "Non-trainable params: 2\n",
            "__________________________________________________________________________________________________\n",
            "None\n",
            "Train on 2486 samples, validate on 678 samples\n",
            "Epoch 1/3\n",
            "2486/2486 [==============================] - 11s 4ms/step - loss: 0.5364 - acc: 0.7528 - val_loss: 0.2897 - val_acc: 0.8975\n",
            "Epoch 2/3\n",
            "2486/2486 [==============================] - 7s 3ms/step - loss: 0.2074 - acc: 0.9149 - val_loss: 0.1796 - val_acc: 0.9226\n",
            "Epoch 3/3\n",
            "2486/2486 [==============================] - 7s 3ms/step - loss: 0.1804 - acc: 0.9210 - val_loss: 0.1713 - val_acc: 0.9259\n",
            "226/226 [==============================] - 0s 861us/step\n",
            "Test : [0.179350826114548, 0.9217657668400655]\n"
          ],
          "name": "stdout"
        }
      ]
    },
    {
      "metadata": {
        "id": "jcGPyuVsWGmn",
        "colab_type": "text"
      },
      "cell_type": "markdown",
      "source": [
        "### 2."
      ]
    },
    {
      "metadata": {
        "id": "GXtx5qDzVNci",
        "colab_type": "code",
        "outputId": "a5b41f6f-0bc1-43f6-b146-80276c153730",
        "colab": {
          "base_uri": "https://localhost:8080/",
          "height": 1462
        }
      },
      "cell_type": "code",
      "source": [
        "import keras\n",
        "from keras.layers.convolutional import Conv2D\n",
        "from keras.layers import Input\n",
        "from custom_loss import *\n",
        "from keras.utils import to_categorical\n",
        "from keras.activations import relu\n",
        "from keras.layers.core import Dropout\n",
        "from keras.layers import Input, Add, Multiply, Dense, BatchNormalization\n",
        "from keras.layers import LeakyReLU, MaxPooling2D, Conv2DTranspose, Concatenate, ZeroPadding2D\n",
        "from prepare_data import pad\n",
        "\n",
        "### Warning : if you change the number of times you downsample with max_pool,\n",
        "###           then you need to rerun prepare_data() with pad_base=<number of downsample nodes>\n",
        "model_name=\"pet_3.hdf5\"\n",
        "\n",
        "\n",
        "### 1) Define architecture of neural network    \n",
        "IN = Input(shape=(data['image_dim'][1],data['image_dim'][2] ,1))\n",
        "\n",
        "BN1 = BatchNormalization()(IN)\n",
        "\n",
        "conv1 = Convolution2D(32, 3, 3, activation='relu', border_mode='same')(BN1)\n",
        "conv1 = Convolution2D(32, 3, 3, activation='relu', border_mode='same')(conv1)\n",
        "pool1 = MaxPooling2D(pool_size=(2, 2))(conv1)\n",
        " \n",
        "conv2 = Convolution2D(64, 3, 3, activation='relu', border_mode='same')(pool1)\n",
        "conv2 = Convolution2D(64, 3, 3, activation='relu', border_mode='same')(conv2)\n",
        "pool2 = MaxPooling2D(pool_size=(2, 2))(conv2)\n",
        "\n",
        "conv3 = Convolution2D(128, 3, 3, activation='relu', border_mode='same')(pool2)\n",
        "conv3 = Convolution2D(128, 3, 3, activation='relu', border_mode='same')(conv3)\n",
        "pool3 = MaxPooling2D(pool_size=(2, 2))(conv3)\n",
        "\n",
        "conv4 = Convolution2D(256, 3, 3, activation='relu', border_mode='same')(pool3)\n",
        "conv4 = Convolution2D(256, 3, 3, activation='relu', border_mode='same')(conv4)\n",
        "\n",
        "up6 = Conv2DTranspose( filters=512, kernel_size=(3,3), strides=(2, 2), padding='same')(conv4)\n",
        "conc6 = Concatenate(axis=3)([up6, conv3])\n",
        "conv7 = Convolution2D(128, 3, 3, activation='relu', border_mode='same')(conc6)\n",
        "conv7 = Convolution2D(128, 3, 3, activation='relu', border_mode='same')(conv7)\n",
        "\n",
        "up7 = Conv2DTranspose( filters=512, kernel_size=(3,3), strides=(2, 2), padding='same')(conv7)\n",
        "conc7 = Concatenate(axis=3)([up7, conv2])\n",
        "conv8 = Convolution2D(64, 3, 3, activation='relu', border_mode='same')(conc7) #(up8)\n",
        "conv8 = Convolution2D(64, 3, 3, activation='relu', border_mode='same')(conv8)\n",
        "\n",
        "up8 = Conv2DTranspose( filters=512, kernel_size=(3,3), strides=(2, 2), padding='same')(conv8)\n",
        "conc8 = Concatenate(axis=3)([up8, conv1])\n",
        "conv9 = Convolution2D(32, 3, 3, activation='relu', border_mode='same')(conc8)\n",
        "conv9 = Convolution2D(32, 3, 3, activation='relu', border_mode='same')(conv9)\n",
        "\n",
        "conv10 = Convolution2D(nlabels, 1, 1, activation='softmax')(conv9)\n",
        "\n",
        "model = keras.models.Model(input=[IN], output=conv10)\n",
        "\n",
        "print(model.summary())\n",
        "\n",
        "#set compiler\n",
        "ada = keras.optimizers.Adam(0.0001)\n",
        "\n",
        "#compile the model\n",
        "model.compile(loss = 'categorical_crossentropy', optimizer=ada,metrics=['acc'] )\n",
        "#fit model\n",
        "\n",
        "history = model.fit([X_train],Y_train,  validation_data=([X_validate], Y_validate), epochs = 3)\n",
        "#save model   \n",
        "model.save(model_name)\n",
        "\n",
        "test_score = model.evaluate(X_test, Y_test)\n",
        "print(\"Test :\", test_score)\n",
        "\n"
      ],
      "execution_count": 0,
      "outputs": [
        {
          "output_type": "stream",
          "text": [
            "/usr/local/lib/python3.6/dist-packages/ipykernel_launcher.py:22: UserWarning: Update your `Conv2D` call to the Keras 2 API: `Conv2D(32, (3, 3), activation=\"relu\", padding=\"same\")`\n",
            "/usr/local/lib/python3.6/dist-packages/ipykernel_launcher.py:23: UserWarning: Update your `Conv2D` call to the Keras 2 API: `Conv2D(32, (3, 3), activation=\"relu\", padding=\"same\")`\n",
            "/usr/local/lib/python3.6/dist-packages/ipykernel_launcher.py:26: UserWarning: Update your `Conv2D` call to the Keras 2 API: `Conv2D(64, (3, 3), activation=\"relu\", padding=\"same\")`\n",
            "/usr/local/lib/python3.6/dist-packages/ipykernel_launcher.py:27: UserWarning: Update your `Conv2D` call to the Keras 2 API: `Conv2D(64, (3, 3), activation=\"relu\", padding=\"same\")`\n",
            "/usr/local/lib/python3.6/dist-packages/ipykernel_launcher.py:30: UserWarning: Update your `Conv2D` call to the Keras 2 API: `Conv2D(128, (3, 3), activation=\"relu\", padding=\"same\")`\n",
            "/usr/local/lib/python3.6/dist-packages/ipykernel_launcher.py:31: UserWarning: Update your `Conv2D` call to the Keras 2 API: `Conv2D(128, (3, 3), activation=\"relu\", padding=\"same\")`\n",
            "/usr/local/lib/python3.6/dist-packages/ipykernel_launcher.py:34: UserWarning: Update your `Conv2D` call to the Keras 2 API: `Conv2D(256, (3, 3), activation=\"relu\", padding=\"same\")`\n",
            "/usr/local/lib/python3.6/dist-packages/ipykernel_launcher.py:35: UserWarning: Update your `Conv2D` call to the Keras 2 API: `Conv2D(256, (3, 3), activation=\"relu\", padding=\"same\")`\n",
            "/usr/local/lib/python3.6/dist-packages/ipykernel_launcher.py:39: UserWarning: Update your `Conv2D` call to the Keras 2 API: `Conv2D(128, (3, 3), activation=\"relu\", padding=\"same\")`\n",
            "/usr/local/lib/python3.6/dist-packages/ipykernel_launcher.py:40: UserWarning: Update your `Conv2D` call to the Keras 2 API: `Conv2D(128, (3, 3), activation=\"relu\", padding=\"same\")`\n",
            "/usr/local/lib/python3.6/dist-packages/ipykernel_launcher.py:44: UserWarning: Update your `Conv2D` call to the Keras 2 API: `Conv2D(64, (3, 3), activation=\"relu\", padding=\"same\")`\n",
            "/usr/local/lib/python3.6/dist-packages/ipykernel_launcher.py:45: UserWarning: Update your `Conv2D` call to the Keras 2 API: `Conv2D(64, (3, 3), activation=\"relu\", padding=\"same\")`\n",
            "/usr/local/lib/python3.6/dist-packages/ipykernel_launcher.py:49: UserWarning: Update your `Conv2D` call to the Keras 2 API: `Conv2D(32, (3, 3), activation=\"relu\", padding=\"same\")`\n",
            "/usr/local/lib/python3.6/dist-packages/ipykernel_launcher.py:50: UserWarning: Update your `Conv2D` call to the Keras 2 API: `Conv2D(32, (3, 3), activation=\"relu\", padding=\"same\")`\n",
            "/usr/local/lib/python3.6/dist-packages/ipykernel_launcher.py:52: UserWarning: Update your `Conv2D` call to the Keras 2 API: `Conv2D(2, (1, 1), activation=\"softmax\")`\n",
            "/usr/local/lib/python3.6/dist-packages/ipykernel_launcher.py:54: UserWarning: Update your `Model` call to the Keras 2 API: `Model(inputs=[<tf.Tenso..., outputs=Tensor(\"co...)`\n"
          ],
          "name": "stderr"
        },
        {
          "output_type": "stream",
          "text": [
            "__________________________________________________________________________________________________\n",
            "Layer (type)                    Output Shape         Param #     Connected to                     \n",
            "==================================================================================================\n",
            "input_22 (InputLayer)           (None, 104, 104, 1)  0                                            \n",
            "__________________________________________________________________________________________________\n",
            "batch_normalization_5 (BatchNor (None, 104, 104, 1)  4           input_22[0][0]                   \n",
            "__________________________________________________________________________________________________\n",
            "conv2d_129 (Conv2D)             (None, 104, 104, 32) 320         batch_normalization_5[0][0]      \n",
            "__________________________________________________________________________________________________\n",
            "conv2d_130 (Conv2D)             (None, 104, 104, 32) 9248        conv2d_129[0][0]                 \n",
            "__________________________________________________________________________________________________\n",
            "max_pooling2d_14 (MaxPooling2D) (None, 52, 52, 32)   0           conv2d_130[0][0]                 \n",
            "__________________________________________________________________________________________________\n",
            "conv2d_131 (Conv2D)             (None, 52, 52, 64)   18496       max_pooling2d_14[0][0]           \n",
            "__________________________________________________________________________________________________\n",
            "conv2d_132 (Conv2D)             (None, 52, 52, 64)   36928       conv2d_131[0][0]                 \n",
            "__________________________________________________________________________________________________\n",
            "max_pooling2d_15 (MaxPooling2D) (None, 26, 26, 64)   0           conv2d_132[0][0]                 \n",
            "__________________________________________________________________________________________________\n",
            "conv2d_133 (Conv2D)             (None, 26, 26, 128)  73856       max_pooling2d_15[0][0]           \n",
            "__________________________________________________________________________________________________\n",
            "conv2d_134 (Conv2D)             (None, 26, 26, 128)  147584      conv2d_133[0][0]                 \n",
            "__________________________________________________________________________________________________\n",
            "max_pooling2d_16 (MaxPooling2D) (None, 13, 13, 128)  0           conv2d_134[0][0]                 \n",
            "__________________________________________________________________________________________________\n",
            "conv2d_135 (Conv2D)             (None, 13, 13, 256)  295168      max_pooling2d_16[0][0]           \n",
            "__________________________________________________________________________________________________\n",
            "conv2d_136 (Conv2D)             (None, 13, 13, 256)  590080      conv2d_135[0][0]                 \n",
            "__________________________________________________________________________________________________\n",
            "conv2d_transpose_2 (Conv2DTrans (None, 26, 26, 512)  1180160     conv2d_136[0][0]                 \n",
            "__________________________________________________________________________________________________\n",
            "conv2d_137 (Conv2D)             (None, 26, 26, 128)  589952      conv2d_transpose_2[0][0]         \n",
            "__________________________________________________________________________________________________\n",
            "conv2d_138 (Conv2D)             (None, 26, 26, 128)  147584      conv2d_137[0][0]                 \n",
            "__________________________________________________________________________________________________\n",
            "conv2d_transpose_3 (Conv2DTrans (None, 52, 52, 512)  590336      conv2d_138[0][0]                 \n",
            "__________________________________________________________________________________________________\n",
            "concatenate_9 (Concatenate)     (None, 52, 52, 576)  0           conv2d_transpose_3[0][0]         \n",
            "                                                                 conv2d_132[0][0]                 \n",
            "__________________________________________________________________________________________________\n",
            "conv2d_139 (Conv2D)             (None, 52, 52, 64)   331840      concatenate_9[0][0]              \n",
            "__________________________________________________________________________________________________\n",
            "conv2d_140 (Conv2D)             (None, 52, 52, 64)   36928       conv2d_139[0][0]                 \n",
            "__________________________________________________________________________________________________\n",
            "conv2d_transpose_4 (Conv2DTrans (None, 104, 104, 512 295424      conv2d_140[0][0]                 \n",
            "__________________________________________________________________________________________________\n",
            "concatenate_10 (Concatenate)    (None, 104, 104, 544 0           conv2d_transpose_4[0][0]         \n",
            "                                                                 conv2d_130[0][0]                 \n",
            "__________________________________________________________________________________________________\n",
            "conv2d_141 (Conv2D)             (None, 104, 104, 32) 156704      concatenate_10[0][0]             \n",
            "__________________________________________________________________________________________________\n",
            "conv2d_142 (Conv2D)             (None, 104, 104, 32) 9248        conv2d_141[0][0]                 \n",
            "__________________________________________________________________________________________________\n",
            "conv2d_143 (Conv2D)             (None, 104, 104, 2)  66          conv2d_142[0][0]                 \n",
            "==================================================================================================\n",
            "Total params: 4,509,926\n",
            "Trainable params: 4,509,924\n",
            "Non-trainable params: 2\n",
            "__________________________________________________________________________________________________\n",
            "None\n",
            "Train on 2486 samples, validate on 678 samples\n",
            "Epoch 1/3\n",
            "2486/2486 [==============================] - 74s 30ms/step - loss: 0.3547 - acc: 0.8827 - val_loss: 0.1971 - val_acc: 0.9147\n",
            "Epoch 2/3\n",
            "2486/2486 [==============================] - 64s 26ms/step - loss: 0.1920 - acc: 0.9163 - val_loss: 0.1798 - val_acc: 0.9230\n",
            "Epoch 3/3\n",
            "2486/2486 [==============================] - 64s 26ms/step - loss: 0.1585 - acc: 0.9332 - val_loss: 0.1303 - val_acc: 0.9476\n",
            "226/226 [==============================] - 3s 11ms/step\n",
            "Test : [0.1473092999127982, 0.9402114812251741]\n"
          ],
          "name": "stdout"
        }
      ]
    },
    {
      "metadata": {
        "id": "Z23en20QVGpC",
        "colab_type": "text"
      },
      "cell_type": "markdown",
      "source": [
        ""
      ]
    },
    {
      "metadata": {
        "id": "J743HAKqWKJ9",
        "colab_type": "text"
      },
      "cell_type": "markdown",
      "source": [
        "### 3."
      ]
    },
    {
      "metadata": {
        "id": "_JVNMLDzWL6b",
        "colab_type": "code",
        "colab": {}
      },
      "cell_type": "code",
      "source": [
        "import keras\n",
        "from keras.layers.convolutional import Conv2D\n",
        "from keras.layers import Input\n",
        "from custom_loss import *\n",
        "from keras.utils import to_categorical\n",
        "from keras.activations import relu\n",
        "from keras.layers.core import Dropout\n",
        "from keras.layers import Input, Add, Multiply, Dense, BatchNormalization\n",
        "from keras.layers import LeakyReLU, MaxPooling2D, Conv2DTranspose, Concatenate, ZeroPadding2D\n",
        "from prepare_data import pad\n",
        "\n",
        "### Warning : if you change the number of times you downsample with max_pool,\n",
        "###           then you need to rerun prepare_data() with pad_base=<number of downsample nodes>\n",
        "model_name=\"pet_4.hdf5\"\n",
        "\n",
        "\n",
        "### 1) Define architecture of neural network    \n",
        "IN = Input(shape=(data['image_dim'][1],data['image_dim'][2] ,1))\n",
        "\n",
        "BN1 = BatchNormalization()(IN)\n",
        "\n",
        "conv1 = Convolution2D(32, 3, 3, activation='relu', border_mode='same')(BN1)\n",
        "conv1 = Convolution2D(32, 3, 3, activation='relu', border_mode='same')(conv1)\n",
        "pool1 = MaxPooling2D(pool_size=(2, 2))(conv1)\n",
        " \n",
        "conv2 = Convolution2D(64, 3, 3, activation='relu', border_mode='same')(pool1)\n",
        "conv2 = Convolution2D(64, 3, 3, activation='relu', border_mode='same')(conv2)\n",
        "pool2 = MaxPooling2D(pool_size=(2, 2))(conv2)\n",
        "\n",
        "conv3 = Convolution2D(128, 3, 3, activation='relu', border_mode='same')(pool2)\n",
        "conv3 = Convolution2D(128, 3, 3, activation='relu', border_mode='same')(conv3)\n",
        "pool3 = MaxPooling2D(pool_size=(2, 2))(conv3)\n",
        "\n",
        "conv4 = Convolution2D(256, 3, 3, activation='relu', border_mode='same')(pool3)\n",
        "conv4 = Convolution2D(256, 3, 3, activation='relu', border_mode='same')(conv4)\n",
        "pool4 = MaxPooling2D(pool_size=(2, 2))(conv4)\n",
        "\n",
        "conv5 = Convolution2D(512, 3, 3, activation='relu', border_mode='same')(pool4)\n",
        "conv5 = Convolution2D(512, 3, 3, activation='relu', border_mode='same')(conv5)\n",
        "\n",
        "up5 = UpSampling2D(size=(2, 2))(conv5)\n",
        "#up6 = Conv2DTranspose( filters=512, kernel_size=(3,3), strides=(2, 2), padding='same')(conv6)\n",
        "conc5 = Concatenate(axis=3)([up5, conv4])\n",
        "conv6 = Convolution2D(256, 3, 3, activation='relu', border_mode='same')(conc5)\n",
        "conv6 = Convolution2D(256, 3, 3, activation='relu', border_mode='same')(conv6)\n",
        "\n",
        "up6 = UpSampling2D(size=(2, 2))(conv6)\n",
        "#up6 = Conv2DTranspose( filters=512, kernel_size=(3,3), strides=(2, 2), padding='same')(conv6)\n",
        "conc6 = Concatenate(axis=3)([up6, conv3])\n",
        "conv7 = Convolution2D(128, 3, 3, activation='relu', border_mode='same')(conc6)\n",
        "conv7 = Convolution2D(128, 3, 3, activation='relu', border_mode='same')(conv7)\n",
        "\n",
        "up7 = UpSampling2D(size=(2, 2))(conv7)\n",
        "#up7 = Conv2DTranspose( filters=512, kernel_size=(3,3), strides=(2, 2), padding='same')(conv7)\n",
        "conc7 = Concatenate(axis=3)([up7, conv2])\n",
        "conv8 = Convolution2D(64, 3, 3, activation='relu', border_mode='same')(conc7) #(up8)\n",
        "conv8 = Convolution2D(64, 3, 3, activation='relu', border_mode='same')(conv8)\n",
        "\n",
        "up8 = UpSampling2D(size=(2, 2))(conv8)\n",
        "#up8 = Conv2DTranspose( filters=512, kernel_size=(3,3), strides=(2, 2), padding='same')(conv8)\n",
        "conc8 = Concatenate(axis=3)([up8, conv1])\n",
        "conv9 = Convolution2D(32, 3, 3, activation='relu', border_mode='same')(conc8)\n",
        "conv9 = Convolution2D(32, 3, 3, activation='relu', border_mode='same')(conv9)\n",
        "\n",
        "conv10 = Convolution2D(nlabels, 1, 1, activation='softmax')(conv9)\n",
        "\n",
        "model = keras.models.Model(input=[IN], output=conv10)\n",
        "\n",
        "print(model.summary())\n",
        "\n",
        "#set compiler\n",
        "ada = keras.optimizers.Adam(0.0001)\n",
        "\n",
        "#compile the model\n",
        "model.compile(loss = 'categorical_crossentropy', optimizer=ada,metrics=['acc'] )\n",
        "#fit model\n",
        "\n",
        "history = model.fit([X_train],Y_train,  validation_data=([X_validate], Y_validate), epochs = 3)\n",
        "#save model   \n",
        "model.save(model_name)\n",
        "\n",
        "test_score = model.evaluate(X_test, Y_test)\n",
        "print(\"Test :\", test_score)\n",
        "\n"
      ],
      "execution_count": 0,
      "outputs": []
    },
    {
      "metadata": {
        "id": "j6jBPK8qEn26",
        "colab_type": "text"
      },
      "cell_type": "markdown",
      "source": [
        "### 4. "
      ]
    },
    {
      "metadata": {
        "id": "SQ3kIxndFBZf",
        "colab_type": "code",
        "colab": {
          "base_uri": "https://localhost:8080/",
          "height": 34
        },
        "outputId": "ed6b3817-22c3-4c19-8a61-65f17c93e579"
      },
      "cell_type": "code",
      "source": [
        "!ls mri_results"
      ],
      "execution_count": 14,
      "outputs": [
        {
          "output_type": "stream",
          "text": [
            "ls: cannot access 'mri_results': No such file or directory\n"
          ],
          "name": "stdout"
        }
      ]
    },
    {
      "metadata": {
        "colab_type": "code",
        "id": "lzd3DkZFzTpw",
        "colab": {
          "base_uri": "https://localhost:8080/",
          "height": 238
        },
        "outputId": "d9f3e982-c50e-4934-9057-3b32ce0bc1c7"
      },
      "cell_type": "code",
      "source": [
        "import keras\n",
        "from keras.layers.convolutional import Conv2D\n",
        "from keras.layers import Input\n",
        "from custom_loss import *\n",
        "from keras.utils import to_categorical\n",
        "from keras.activations import relu\n",
        "from keras.layers.core import Dropout\n",
        "from keras.layers import Input, Add, Multiply, Dense, BatchNormalization\n",
        "from keras.layers import LeakyReLU, MaxPooling2D, Conv2DTranspose, Concatenate, ZeroPadding2D\n",
        "from prepare_data import pad\n",
        "\n",
        "### Load data from brain images and save them into .npy. Sort them into train/validate/test splits\n",
        "setup_dirs('mri_results/report')  \n",
        "[images_mri, data_mri] = prepare_data('mri','mri_results/data', 'mri_results/report', input_str='_T1w_anat_rsl.mnc',label_str='variant-seg',\\\n",
        "                                      ratios=[0.75,0.15],batch_size=2,images_fn='mri_results/report/mri.csv',pad_base=4, clobber=True)\n",
        "\n",
        "### 1) Load data\n",
        "Y_validate_mri=np.load(data_mri[\"validate_y_fn\"]+'.npy')\n",
        "nlabels_mri=len(np.unique(Y_validate_mri))\n",
        "\n",
        "X_train_mri=np.load(data_mri[\"train_x_fn\"]+'.npy')\n",
        "Y_train_mri=np.load(data_mri[\"train_y_fn\"]+'.npy')\n",
        "X_validate_mri=np.load(data_mri[\"validate_x_fn\"]+'.npy')\n",
        "\n",
        "X_test_mri=np.load(data_mri[\"test_x_fn\"]+'.npy')\n",
        "Y_test_mri=np.load(data_mri[\"test_y_fn\"]+'.npy')\n",
        "\n",
        "Y_test_mri=to_categorical(Y_test_mri)\n",
        "Y_train_mri = to_categorical(Y_train_mri, num_classes=nlabels_mri)\n",
        "Y_validate_mri = to_categorical(Y_validate_mri, num_classes=nlabels_mri)\n",
        "\n",
        "### Warning : if you change the number of times you downsample with max_pool,\n",
        "###           then you need to rerun prepare_data() with pad_base=<number of downsample nodes>\n",
        "model_name=\"pet_5.hdf5\"\n",
        "\n",
        "\n",
        "### 1) Define architecture of neural network    \n",
        "IN = Input(shape=(data_mri['image_dim'][1],data_mri['image_dim'][2] ,1))\n",
        "\n",
        "BN1 = BatchNormalization()(IN)\n",
        "\n",
        "conv1 = Convolution2D(32, 3, 3, activation='relu', border_mode='same')(BN1)\n",
        "conv1 = Convolution2D(32, 3, 3, activation='relu', border_mode='same')(conv1)\n",
        "pool1 = MaxPooling2D(pool_size=(2, 2))(conv1)\n",
        " \n",
        "conv2 = Convolution2D(64, 3, 3, activation='relu', border_mode='same')(pool1)\n",
        "conv2 = Convolution2D(64, 3, 3, activation='relu', border_mode='same')(conv2)\n",
        "pool2 = MaxPooling2D(pool_size=(2, 2))(conv2)\n",
        "\n",
        "conv3 = Convolution2D(128, 3, 3, activation='relu', border_mode='same')(pool2)\n",
        "conv3 = Convolution2D(128, 3, 3, activation='relu', border_mode='same')(conv3)\n",
        "pool3 = MaxPooling2D(pool_size=(2, 2))(conv3)\n",
        "\n",
        "conv4 = Convolution2D(256, 3, 3, activation='relu', border_mode='same')(pool3)\n",
        "conv4 = Convolution2D(256, 3, 3, activation='relu', border_mode='same')(conv4)\n",
        "pool4 = MaxPooling2D(pool_size=(2, 2))(conv4)\n",
        "\n",
        "conv5 = Convolution2D(512, 3, 3, activation='relu', border_mode='same')(pool4)\n",
        "conv5 = Convolution2D(512, 3, 3, activation='relu', border_mode='same')(conv5)\n",
        "\n",
        "up5 = UpSampling2D(size=(2, 2))(conv5)\n",
        "#up6 = Conv2DTranspose( filters=512, kernel_size=(3,3), strides=(2, 2), padding='same')(conv6)\n",
        "conc5 = Concatenate(axis=3)([up5, conv4])\n",
        "conv6 = Convolution2D(256, 3, 3, activation='relu', border_mode='same')(conc5)\n",
        "conv6 = Convolution2D(256, 3, 3, activation='relu', border_mode='same')(conv6)\n",
        "\n",
        "up6 = UpSampling2D(size=(2, 2))(conv6)\n",
        "#up6 = Conv2DTranspose( filters=512, kernel_size=(3,3), strides=(2, 2), padding='same')(conv6)\n",
        "conc6 = Concatenate(axis=3)([up6, conv3])\n",
        "conv7 = Convolution2D(128, 3, 3, activation='relu', border_mode='same')(conc6)\n",
        "conv7 = Convolution2D(128, 3, 3, activation='relu', border_mode='same')(conv7)\n",
        "\n",
        "up7 = UpSampling2D(size=(2, 2))(conv7)\n",
        "#up7 = Conv2DTranspose( filters=512, kernel_size=(3,3), strides=(2, 2), padding='same')(conv7)\n",
        "conc7 = Concatenate(axis=3)([up7, conv2])\n",
        "conv8 = Convolution2D(64, 3, 3, activation='relu', border_mode='same')(conc7) #(up8)\n",
        "conv8 = Convolution2D(64, 3, 3, activation='relu', border_mode='same')(conv8)\n",
        "\n",
        "up8 = UpSampling2D(size=(2, 2))(conv8)\n",
        "#up8 = Conv2DTranspose( filters=512, kernel_size=(3,3), strides=(2, 2), padding='same')(conv8)\n",
        "conc8 = Concatenate(axis=3)([up8, conv1])\n",
        "conv9 = Convolution2D(32, 3, 3, activation='relu', border_mode='same')(conc8)\n",
        "conv9 = Convolution2D(32, 3, 3, activation='relu', border_mode='same')(conv9)\n",
        "\n",
        "conv10 = Convolution2D(nlabels, 1, 1, activation='softmax')(conv9)\n",
        "\n",
        "model = keras.models.Model(input=[IN], output=conv10)\n",
        "\n",
        "print(model.summary())\n",
        "\n",
        "#set compiler\n",
        "ada = keras.optimizers.Adam(0.0001)\n",
        "\n",
        "#compile the model\n",
        "model.compile(loss = 'categorical_crossentropy', optimizer=ada,metrics=['acc'] )\n",
        "#fit model\n",
        "\n",
        "history = model.fit([X_train_mri],Y_train_mri,  validation_data=([X_validate_mri], Y_validate_mri), epochs = 3)\n",
        "#save model   \n",
        "model.save(model_name)\n",
        "\n",
        "test_score = model.evaluate(X_test_mri, Y_test_mri)\n",
        "print(\"Test :\", test_score)\n"
      ],
      "execution_count": 0,
      "outputs": [
        {
          "output_type": "stream",
          "text": [
            "Created directory: mri_results/report/predict/train/\n",
            "Created directory: mri_results/report/predict/test/\n",
            "Created directory: mri_results/report/predict/validate/\n",
            "Created directory: mri_results/report/data/\n",
            "Created directory: mri_results/report/report/\n",
            "Created directory: mri_results/report/model\n",
            "train : expected/real ratio = 75.00 / 75.00\n",
            "validate : expected/real ratio = 15.00 / 14.93\n"
          ],
          "name": "stdout"
        },
        {
          "output_type": "stream",
          "text": [
            "/usr/local/lib/python3.6/dist-packages/pandas/core/indexing.py:194: SettingWithCopyWarning: \n",
            "A value is trying to be set on a copy of a slice from a DataFrame\n",
            "\n",
            "See the caveats in the documentation: http://pandas.pydata.org/pandas-docs/stable/indexing.html#indexing-view-versus-copy\n",
            "  self._setitem_with_indexer(indexer, value)\n"
          ],
          "name": "stderr"
        }
      ]
    }
  ]
}