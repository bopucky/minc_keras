{
  "nbformat": 4,
  "nbformat_minor": 0,
  "metadata": {
    "colab": {
      "name": "main2019.ipynb",
      "version": "0.3.2",
      "provenance": [],
      "toc_visible": true
    },
    "kernelspec": {
      "name": "python3",
      "display_name": "Python 3"
    },
    "accelerator": "GPU"
  },
  "cells": [
    {
      "metadata": {
        "colab_type": "text",
        "id": "a--rFzYazTo2"
      },
      "cell_type": "markdown",
      "source": [
        "# Introduction to Brain Segmentation with Keras\n",
        "\n",
        "# ***MAIN 2019 Educational Course***\n",
        "\n",
        "## Thomas Funck\n",
        "\n",
        "## McGill University\n",
        "\n",
        "## **Contact**: email: [tffunck@gmail.com](mailto:tffunck@gmail.com) , Twitter: [@tffunck](https://twitter.com/tffunck)"
      ]
    },
    {
      "metadata": {
        "id": "BEzld-ZDKjwq",
        "colab_type": "text"
      },
      "cell_type": "markdown",
      "source": [
        "# Load Code & Data"
      ]
    },
    {
      "metadata": {
        "id": "_YbNsbqxa-KL",
        "colab_type": "text"
      },
      "cell_type": "markdown",
      "source": [
        "## Pull minc_keras from github"
      ]
    },
    {
      "metadata": {
        "colab_type": "code",
        "id": "OPVCbLjaj0An",
        "outputId": "a790d1b1-2267-46db-f666-d7cfe8e457ee",
        "colab": {
          "base_uri": "https://localhost:8080/",
          "height": 153
        }
      },
      "cell_type": "code",
      "source": [
        "!rm -r /content/minc_keras\n",
        "#Download repository\n",
        "!git clone https://github.com/tfunck/minc_keras\n",
        "  \n",
        "#Switch dir\n",
        "def set_base_dir():\n",
        "  import os\n",
        "  os.chdir('/content/minc_keras')\n",
        "set_base_dir()\n"
      ],
      "execution_count": 1,
      "outputs": [
        {
          "output_type": "stream",
          "text": [
            "rm: cannot remove '/content/minc_keras': No such file or directory\n",
            "Cloning into 'minc_keras'...\n",
            "remote: Enumerating objects: 6, done.\u001b[K\n",
            "remote: Counting objects: 100% (6/6), done.\u001b[K\n",
            "remote: Compressing objects: 100% (6/6), done.\u001b[K\n",
            "remote: Total 851 (delta 2), reused 0 (delta 0), pack-reused 845\u001b[K\n",
            "Receiving objects: 100% (851/851), 79.93 MiB | 32.61 MiB/s, done.\n",
            "Resolving deltas: 100% (450/450), done.\n"
          ],
          "name": "stdout"
        }
      ]
    },
    {
      "metadata": {
        "id": "iGVV41VsbD7U",
        "colab_type": "text"
      },
      "cell_type": "markdown",
      "source": [
        "## Download and unzip data"
      ]
    },
    {
      "metadata": {
        "id": "ewA4QpL94SZY",
        "colab_type": "code",
        "outputId": "d982f85f-ed2d-479e-8031-f0d6448c540b",
        "colab": {
          "base_uri": "https://localhost:8080/",
          "height": 258
        }
      },
      "cell_type": "code",
      "source": [
        "#Download and unzip data\n",
        "!tar -jxvf data/output.tar.bz2  &> /dev/null\n",
        "!mv output mri\n",
        "\n",
        "!wget https://amnesia.cbrain.mcgill.ca/deeplearning/sorteo.tar.bz2 --no-check-certificate\n",
        "  \n",
        "!mkdir -p pet\n",
        "!tar -jxvf sorteo.tar.bz2 -C pet  &> /dev/null"
      ],
      "execution_count": 2,
      "outputs": [
        {
          "output_type": "stream",
          "text": [
            "--2018-12-10 18:23:15--  https://amnesia.cbrain.mcgill.ca/deeplearning/sorteo.tar.bz2\n",
            "Resolving amnesia.cbrain.mcgill.ca (amnesia.cbrain.mcgill.ca)... 132.216.42.90\n",
            "Connecting to amnesia.cbrain.mcgill.ca (amnesia.cbrain.mcgill.ca)|132.216.42.90|:443... connected.\n",
            "WARNING: cannot verify amnesia.cbrain.mcgill.ca's certificate, issued by ‘CN=Go Daddy Secure Certificate Authority - G2,OU=http://certs.godaddy.com/repository/,O=GoDaddy.com\\\\, Inc.,L=Scottsdale,ST=Arizona,C=US’:\n",
            "  Unable to locally verify the issuer's authority.\n",
            "HTTP request sent, awaiting response... 200 OK\n",
            "Length: 322192084 (307M) [application/x-bzip2]\n",
            "Saving to: ‘sorteo.tar.bz2’\n",
            "\n",
            "sorteo.tar.bz2      100%[===================>] 307.27M  85.8MB/s    in 3.8s    \n",
            "\n",
            "2018-12-10 18:23:19 (80.9 MB/s) - ‘sorteo.tar.bz2’ saved [322192084/322192084]\n",
            "\n"
          ],
          "name": "stdout"
        }
      ]
    },
    {
      "metadata": {
        "id": "tU5GWfhobSZQ",
        "colab_type": "text"
      },
      "cell_type": "markdown",
      "source": [
        "## Initialize T1 MRI data"
      ]
    },
    {
      "metadata": {
        "id": "IswkR7t-s4Hc",
        "colab_type": "code",
        "outputId": "418fa7e0-635b-41dc-bd85-8d0cf685f521",
        "colab": {
          "base_uri": "https://localhost:8080/",
          "height": 51
        }
      },
      "cell_type": "code",
      "source": [
        "set_base_dir()\n",
        "from utils import *\n",
        "import numpy as np\n",
        "from minc_keras import *\n",
        "\n",
        "setup_dirs('mri_results')  \n",
        "### Load data from brain images and save them into .npy. Sort them into train/validate/test splits\n",
        "[images_mri, data_mri] = prepare_data('mri/', 'mri_results/data', 'mri_results/report', input_str='_T1w_anat_rsl', label_str='variant-seg',  clobber=False)\n",
        "\n",
        "### 1) Load data\n",
        "Y_validate_mri=np.load(data_mri[\"validate_y_fn\"]+'.npy')\n",
        "nlabels_mri=len(np.unique(Y_validate_mri))\n",
        "X_train_mri=np.load(data_mri[\"train_x_fn\"]+'.npy')\n",
        "Y_train_mri=np.load(data_mri[\"train_y_fn\"]+'.npy')\n",
        "X_validate_mri=np.load(data_mri[\"validate_x_fn\"]+'.npy')\n",
        "\n",
        "X_test_mri=np.load(data_mri[\"test_x_fn\"]+'.npy')\n",
        "Y_test_mri=np.load(data_mri[\"test_y_fn\"]+'.npy')\n",
        "\n",
        "Y_test_mri=to_categorical(Y_test_mri)\n",
        "Y_train_mri = to_categorical(Y_train_mri, num_classes=nlabels_mri)\n",
        "Y_validate_mri = to_categorical(Y_validate_mri, num_classes=nlabels_mri)\n"
      ],
      "execution_count": 0,
      "outputs": [
        {
          "output_type": "stream",
          "text": [
            "1 [92, 110, 92]\n",
            "2 [92, 110, 92]\n"
          ],
          "name": "stdout"
        }
      ]
    },
    {
      "metadata": {
        "id": "_eOBMRDabKgD",
        "colab_type": "text"
      },
      "cell_type": "markdown",
      "source": [
        "## Initialize PET data"
      ]
    },
    {
      "metadata": {
        "colab_type": "code",
        "id": "SqBWn-PmzTpO",
        "outputId": "f87d56f9-1900-44e9-c793-6dd01fa37e80",
        "colab": {
          "base_uri": "https://localhost:8080/",
          "height": 221
        }
      },
      "cell_type": "code",
      "source": [
        "set_base_dir()\n",
        "import minc_keras\n",
        "from utils import *\n",
        "import numpy as np\n",
        "from minc_keras import *\n",
        "\n",
        "setup_dirs('pet_results')  \n",
        "### Load data from brain images and save them into .npy. Sort them into train/validate/test splits\n",
        "[images_pet, data_pet] = prepare_data('pet/','pet_results/data','pet_results/report',input_str='_pet.mnc', label_str='brainmask', pad_base=3,ratios=[0.7,0.15], clobber=True)\n",
        "\n",
        "### 1) Load data\n",
        "Y_validate_pet=np.load(data_pet[\"validate_y_fn\"]+'.npy')\n",
        "nlabels_pet=len(np.unique(Y_validate_pet))\n",
        "X_train_pet=np.load(data_pet[\"train_x_fn\"]+'.npy')\n",
        "Y_train_pet=np.load(data_pet[\"train_y_fn\"]+'.npy')\n",
        "X_validate_pet=np.load(data_pet[\"validate_x_fn\"]+'.npy')\n",
        "\n",
        "X_test_pet=np.load(data_pet[\"test_x_fn\"]+'.npy')\n",
        "Y_test_pet=np.load(data_pet[\"test_y_fn\"]+'.npy')\n",
        "\n",
        "Y_test_pet=to_categorical(Y_test_pet)\n",
        "Y_train_pet = to_categorical(Y_train_pet, num_classes=nlabels_pet)\n",
        "Y_validate_pet = to_categorical(Y_validate_pet, num_classes=nlabels_pet)\n"
      ],
      "execution_count": 12,
      "outputs": [
        {
          "output_type": "stream",
          "text": [
            "train : expected/real ratio = 70.00 / 73.33\n",
            "validate : expected/real ratio = 15.00 / 20.00\n"
          ],
          "name": "stdout"
        },
        {
          "output_type": "stream",
          "text": [
            "/usr/local/lib/python3.6/dist-packages/pandas/core/indexing.py:194: SettingWithCopyWarning: \n",
            "A value is trying to be set on a copy of a slice from a DataFrame\n",
            "\n",
            "See the caveats in the documentation: http://pandas.pydata.org/pandas-docs/stable/indexing.html#indexing-view-versus-copy\n",
            "  self._setitem_with_indexer(indexer, value)\n"
          ],
          "name": "stderr"
        },
        {
          "output_type": "stream",
          "text": [
            "1 [100, 100, 100]\n",
            "2 [100, 104, 104]\n",
            "\n",
            "\n",
            "\n"
          ],
          "name": "stdout"
        }
      ]
    },
    {
      "metadata": {
        "colab_type": "text",
        "id": "F5dHDJJBzTo4"
      },
      "cell_type": "markdown",
      "source": [
        "# T1 Segmentation\n",
        "\n",
        "* 261 MRI (skull stripped) \n",
        " \n",
        "* [1000 Functional Connectomes](http://fcon_1000.projects.nitrc.org/fcpClassic/FcpTable.html)\n",
        "\n",
        "* GM/WM segmentation produced with FSL-5.0-fast\n",
        "\n",
        ">>>>> __Input__\n",
        "\n",
        "![alt text](https://github.com/tfunck/minc_keras/blob/master/images/t1_skullstripped.png?raw=true)\n",
        "\n",
        ">>>>> __Label__\n",
        "\n",
        "![alt text](https://github.com/tfunck/minc_keras/blob/master/images/gm_label.png?raw=true)\n",
        "\n",
        "\n",
        "\n",
        "\n",
        "\n"
      ]
    },
    {
      "metadata": {
        "colab_type": "text",
        "id": "ZB0ZXe4DzTpF"
      },
      "cell_type": "markdown",
      "source": [
        "## Training a simple model"
      ]
    },
    {
      "metadata": {
        "colab_type": "code",
        "id": "vDqzkarSzTpF",
        "outputId": "ca9f9661-83a5-47a0-cb55-3a0d57677584",
        "colab": {
          "base_uri": "https://localhost:8080/",
          "height": 476
        }
      },
      "cell_type": "code",
      "source": [
        "import keras\n",
        "from keras.layers.convolutional import Conv2D\n",
        "from keras.layers import Input\n",
        "from custom_loss import *\n",
        "from keras.utils import to_categorical\n",
        "from keras.activations import relu\n",
        "from keras.layers.core import Dropout\n",
        "from keras.callbacks import History, ModelCheckpoint\n",
        "\n",
        "model_name=\"mri_1.hdf5\"\n",
        "\n",
        "IN = Input(shape=(data_mri[\"image_dim\"][1], data_mri[\"image_dim\"][2],1))\n",
        "CONV1 = Conv2D(16, kernel_size=[3,3], activation=\"relu\",padding='same')(IN)\n",
        "CONV2 = Conv2D(16, kernel_size=[3,3], activation=\"relu\",padding='same')(CONV1)\n",
        "CONV3 = Conv2D(16, kernel_size=[3,3], activation=\"relu\",padding='same')(CONV2)\n",
        "OUT = Conv2D(nlabels_mri, kernel_size=[1,1], activation='softmax', padding='same')(CONV3)\n",
        "model = keras.models.Model(inputs=[IN], outputs=OUT)\n",
        "print(model.summary())\n",
        "#set compiler\n",
        "ada = keras.optimizers.Adam(0.0001)\n",
        "#compile the model\n",
        "model.compile(loss = 'binary_crossentropy', optimizer=ada,metrics=['acc'] )\n",
        "#fit model\n",
        "history = model.fit([X_train_mri],Y_train_mri, validation_data=([X_validate_mri], Y_validate_mri), epochs = 3)\n",
        "#save model   \n",
        "model.save(model_name)\n",
        "\n",
        "test_score = model.evaluate(X_test_mri, Y_test_mri)\n",
        "print(\"Test :\", test_score)\n"
      ],
      "execution_count": 6,
      "outputs": [
        {
          "output_type": "stream",
          "text": [
            "_________________________________________________________________\n",
            "Layer (type)                 Output Shape              Param #   \n",
            "=================================================================\n",
            "input_2 (InputLayer)         (None, 110, 92, 1)        0         \n",
            "_________________________________________________________________\n",
            "conv2d_4 (Conv2D)            (None, 110, 92, 16)       160       \n",
            "_________________________________________________________________\n",
            "conv2d_5 (Conv2D)            (None, 110, 92, 16)       2320      \n",
            "_________________________________________________________________\n",
            "conv2d_6 (Conv2D)            (None, 110, 92, 16)       2320      \n",
            "_________________________________________________________________\n",
            "conv2d_7 (Conv2D)            (None, 110, 92, 3)        51        \n",
            "=================================================================\n",
            "Total params: 4,851\n",
            "Trainable params: 4,851\n",
            "Non-trainable params: 0\n",
            "_________________________________________________________________\n",
            "None\n",
            "Train on 12539 samples, validate on 2391 samples\n",
            "Epoch 1/3\n",
            "12539/12539 [==============================] - 22s 2ms/step - loss: 0.4087 - acc: 0.8015 - val_loss: 0.1519 - val_acc: 0.9264\n",
            "Epoch 2/3\n",
            "12539/12539 [==============================] - 18s 1ms/step - loss: 0.1379 - acc: 0.9305 - val_loss: 0.1311 - val_acc: 0.9315\n",
            "Epoch 3/3\n",
            "12539/12539 [==============================] - 17s 1ms/step - loss: 0.1259 - acc: 0.9373 - val_loss: 0.1220 - val_acc: 0.9377\n",
            "1702/1702 [==============================] - 1s 549us/step\n",
            "Test : [0.12804967071970466, 0.936263382434845]\n"
          ],
          "name": "stdout"
        }
      ]
    },
    {
      "metadata": {
        "id": "ygnxmSu8hqt0",
        "colab_type": "code",
        "outputId": "713d384f-8a3a-43a7-826b-0a8a1415ff45",
        "colab": {
          "base_uri": "https://localhost:8080/",
          "height": 272
        }
      },
      "cell_type": "code",
      "source": [
        "###Create predictions for model\n",
        "from predict import *\n",
        "predict('mri_1.hdf5', 'mri_results/predict/test', 'mri_results/data', 'mri_results/report/mri.csv', 'categorical_crossentropy', images_to_predict='1', category=\"test\", verbose=True)"
      ],
      "execution_count": 0,
      "outputs": [
        {
          "output_type": "stream",
          "text": [
            "Model successfully loaded <keras.engine.training.Model object at 0x7f5d4bb25048>\n",
            "Data loaded for prediction\n",
            "label            mri/sub-58029/sub-58029_task-01_ses-01_T1w_var...\n",
            "pet              mri/sub-58029/sub-58029_task-01_ses-01_T1w_ana...\n",
            "subject                                                  sub-58029\n",
            "task                                                             1\n",
            "category                                                      test\n",
            "valid_samples                                                   66\n",
            "total_samples                                                   92\n",
            "Name: 1, dtype: object\n",
            "sub-58029_task-01_ses-01_T1w_anat_rsl.mnc 47 113\n",
            "Saving prediction to: mri_results/predict/test//sub-58029_task-01_ses-01_T1w_anat_rsl_predict_1.png\n",
            "Prediction completed\n"
          ],
          "name": "stdout"
        },
        {
          "output_type": "execute_result",
          "data": {
            "text/plain": [
              "0"
            ]
          },
          "metadata": {
            "tags": []
          },
          "execution_count": 17
        },
        {
          "output_type": "display_data",
          "data": {
            "text/plain": [
              "<matplotlib.figure.Figure at 0x7f5d4ab81b38>"
            ]
          },
          "metadata": {
            "tags": []
          }
        }
      ]
    },
    {
      "metadata": {
        "id": "wg1scPa4uQFX",
        "colab_type": "code",
        "outputId": "3eeed69f-de08-40e3-e987-7a4ca4e216f5",
        "colab": {
          "base_uri": "https://localhost:8080/",
          "height": 34
        }
      },
      "cell_type": "code",
      "source": [
        "#If using Google Chrome, can download directly through browser\n",
        "from google.colab import files\n",
        "from glob import glob\n",
        "for fn in glob('mri_results/predict/test/*.png') :  \n",
        "  print(fn)\n",
        "  files.download(fn)\n",
        "\n",
        "#import matplotlib.pyplot as plt\n",
        "#plt.imshow(plt.imread('mri_results/predict/test//sub-75922_task-01_ses-01_T1w_anat_rsl_predict_0.png'))"
      ],
      "execution_count": 0,
      "outputs": [
        {
          "output_type": "stream",
          "text": [
            "mri_results/predict/test/sub-75922_task-01_ses-01_T1w_anat_rsl_predict_0.png\n"
          ],
          "name": "stdout"
        }
      ]
    },
    {
      "metadata": {
        "id": "ZW3RdNcUpVU-",
        "colab_type": "text"
      },
      "cell_type": "markdown",
      "source": [
        "## Adding drop-out"
      ]
    },
    {
      "metadata": {
        "id": "DRozzICApVVC",
        "colab_type": "code",
        "colab": {}
      },
      "cell_type": "code",
      "source": [
        "import keras\n",
        "from keras.layers.convolutional import Conv2D\n",
        "from keras.layers import Input\n",
        "from custom_loss import *\n",
        "from keras.utils import to_categorical\n",
        "from keras.activations import relu\n",
        "from keras.layers.core import Dropout\n",
        "from keras.callbacks import History, ModelCheckpoint\n",
        "\n",
        "model_name=\"mri_2.hdf5\"\n",
        "\n",
        "IN = Input(shape=(data_mri[\"image_dim\"][1], data_mri[\"image_dim\"][2],1))\n",
        "CONV1 = Conv2D(16, kernel_size=[3,3], activation=\"relu\",padding='same')(IN)\n",
        "DROPOUT1 = Dropout(0.2)(CONV1)\n",
        "CONV2 = Conv2D(16, kernel_size=[3,3], activation=\"relu\",padding='same')(DROPOUT1)\n",
        "DROPOUT2 = Dropout(0.2)(CONV2)\n",
        "CONV3 = Conv2D(16, kernel_size=[3,3], activation=\"relu\",padding='same')(DROPOUT2)\n",
        "DROPOUT3 = Dropout(0.2)(CONV3)\n",
        "OUT = Conv2D(nlabels_mri, kernel_size=[1,1], activation='softmax', padding='same')(DROPOUT3)\n",
        "model = keras.models.Model(inputs=[IN], outputs=OUT)\n",
        "\n",
        "print(model.summary())\n",
        "\n",
        "#set compiler\n",
        "ada = keras.optimizers.Adam(0.0001)\n",
        "\n",
        "#compile the model\n",
        "model.compile(loss = 'binary_crossentropy', optimizer=ada,metrics=['acc'] )\n",
        "#fit model\n",
        "\n",
        "history = model.fit([X_train_mri],Y_train_mri,  validation_data=([X_validate_mri], Y_validate_mri), epochs = 3)\n",
        "#save model   \n",
        "model.save(model_name)\n",
        "\n",
        "test_score = model.evaluate(X_test_mri, Y_test_mri)\n",
        "print(\"Test :\", test_score)\n"
      ],
      "execution_count": 0,
      "outputs": []
    },
    {
      "metadata": {
        "id": "2Ztw_OrtpVVL",
        "colab_type": "text"
      },
      "cell_type": "markdown",
      "source": [
        "## Adding dilations"
      ]
    },
    {
      "metadata": {
        "colab_type": "code",
        "id": "9qhOKYbtEsT1",
        "colab": {}
      },
      "cell_type": "code",
      "source": [
        "import keras\n",
        "from keras.layers.convolutional import Conv2D\n",
        "from keras.layers import Input\n",
        "from custom_loss import *\n",
        "from keras.utils import to_categorical\n",
        "from keras.activations import relu\n",
        "from keras.layers.core import Dropout\n",
        "from keras.callbacks import History, ModelCheckpoint\n",
        "\n",
        "model_name=\"mri_3.hdf5\"\n",
        "\n",
        "IN = Input(shape=(data_mri[\"image_dim\"][1], data_mri[\"image_dim\"][2],1))\n",
        "CONV1 = Conv2D(16, kernel_size=[3,3], dilation_rate=[2,2], activation=\"relu\",padding='same')(IN)\n",
        "CONV2 = Conv2D(16, kernel_size=[3,3], dilation_rate=[2,2], activation=\"relu\",padding='same')(CONV1)\n",
        "CONV3 = Conv2D(16, kernel_size=[3,3], dilation_rate=[2,2], activation=\"relu\",padding='same')(CONV2)\n",
        "OUT = Conv2D(nlabels_mri, kernel_size=[1,1], activation='softmax', padding='same')(CONV3)\n",
        "model = keras.models.Model(inputs=[IN], outputs=OUT)\n",
        "\n",
        "print(model.summary())\n",
        "\n",
        "#set compiler\n",
        "ada = keras.optimizers.Adam(0.0001)\n",
        "\n",
        "#compile the model\n",
        "model.compile(loss = 'binary_crossentropy', optimizer=ada,metrics=['acc'] )\n",
        "#fit model\n",
        "\n",
        "history = model.fit([X_train_mri],Y_train_mri,  validation_data=([X_validate_mri], Y_validate_mri), epochs = 3)\n",
        "#save model   \n",
        "model.save(model_name)\n",
        "\n",
        "test_score = model.evaluate(X_test_mri, Y_test_mri)\n",
        "print(\"Test :\", test_score)\n"
      ],
      "execution_count": 0,
      "outputs": []
    },
    {
      "metadata": {
        "id": "feOljZP6pVVV",
        "colab_type": "text"
      },
      "cell_type": "markdown",
      "source": [
        "## __Exercises__\n",
        "\n",
        "### 1. Modify the drop-out, dilation_rate, and number of kernels for one of the above templates. \n",
        "\n",
        "### 2.  Build a CNN with: 5 convolutional layers, 5x5 kernels and 8, 8, 16, 16, and 32 kernels in each layer\n",
        "\n",
        "### 3. Train a CNN that has better than 0.95 test accuracy. How high can you get the accuracy without overfitting? "
      ]
    },
    {
      "metadata": {
        "id": "UDRgIXTjKiUY",
        "colab_type": "text"
      },
      "cell_type": "markdown",
      "source": [
        "## Solutions"
      ]
    },
    {
      "metadata": {
        "id": "E5UVKxKkJza6",
        "colab_type": "text"
      },
      "cell_type": "markdown",
      "source": [
        "### 1\n",
        "Modify as you like! No wrong answers so long as it runs. "
      ]
    },
    {
      "metadata": {
        "id": "4ttNoEvRJU_-",
        "colab_type": "text"
      },
      "cell_type": "markdown",
      "source": [
        "### 2."
      ]
    },
    {
      "metadata": {
        "colab_type": "code",
        "id": "5Fo61_R0GYoq",
        "outputId": "c939293a-8d79-43fd-93b6-76dafc4f472d",
        "colab": {
          "base_uri": "https://localhost:8080/",
          "height": 782
        }
      },
      "cell_type": "code",
      "source": [
        "import keras\n",
        "from keras.layers.convolutional import Conv2D\n",
        "from keras.layers import Input\n",
        "from custom_loss import *\n",
        "from keras.utils import to_categorical\n",
        "from keras.activations import relu\n",
        "from keras.layers.core import Dropout\n",
        "\n",
        "\n",
        "model_name=\"mri_4.hdf5\"\n",
        "\n",
        "IN = Input(shape=(data_mri[\"image_dim\"][1], data_mri[\"image_dim\"][2],1))\n",
        "CONV1 = Conv2D(8, kernel_size=[5,5], activation=\"relu\",padding='same')(IN)\n",
        "CONV2 = Conv2D(8, kernel_size=[5,5], activation=\"relu\",padding='same')(CONV1)\n",
        "CONV3 = Conv2D(16, kernel_size=[5,5], activation=\"relu\",padding='same')(CONV2)\n",
        "CONV4 = Conv2D(16, kernel_size=[5,5], activation=\"relu\",padding='same')(CONV3)\n",
        "CONV5 = Conv2D(32, kernel_size=[5,5], activation=\"relu\",padding='same')(CONV4)\n",
        "OUT = Conv2D(nlabels_mri, kernel_size=[1,1], activation='softmax', padding='same')(CONV5)\n",
        "model = keras.models.Model(inputs=[IN], outputs=OUT)\n",
        "\n",
        "print(model.summary())\n",
        "\n",
        "#set compiler\n",
        "ada = keras.optimizers.Adam(0.0001)\n",
        "\n",
        "#compile the model\n",
        "model.compile(loss = 'categorical_crossentropy', optimizer=ada,metrics=['acc'] )\n",
        "#fit model\n",
        "\n",
        "history = model.fit([X_train_mri],Y_train_mri,  validation_data=([X_validate_mri], Y_validate_mri), epochs = 10)\n",
        "#save model   \n",
        "model.save(model_name)\n",
        "\n",
        "test_score = model.evaluate(X_test_mri, Y_test_mri)\n",
        "print(\"Test :\", test_score)\n"
      ],
      "execution_count": 0,
      "outputs": [
        {
          "output_type": "stream",
          "text": [
            "_________________________________________________________________\n",
            "Layer (type)                 Output Shape              Param #   \n",
            "=================================================================\n",
            "input_7 (InputLayer)         (None, 110, 92, 1)        0         \n",
            "_________________________________________________________________\n",
            "conv2d_35 (Conv2D)           (None, 110, 92, 8)        208       \n",
            "_________________________________________________________________\n",
            "conv2d_36 (Conv2D)           (None, 110, 92, 8)        1608      \n",
            "_________________________________________________________________\n",
            "conv2d_37 (Conv2D)           (None, 110, 92, 16)       3216      \n",
            "_________________________________________________________________\n",
            "conv2d_38 (Conv2D)           (None, 110, 92, 16)       6416      \n",
            "_________________________________________________________________\n",
            "conv2d_39 (Conv2D)           (None, 110, 92, 32)       12832     \n",
            "_________________________________________________________________\n",
            "conv2d_40 (Conv2D)           (None, 110, 92, 3)        99        \n",
            "=================================================================\n",
            "Total params: 24,379\n",
            "Trainable params: 24,379\n",
            "Non-trainable params: 0\n",
            "_________________________________________________________________\n",
            "None\n",
            "Train on 11640 samples, validate on 2439 samples\n",
            "Epoch 1/10\n",
            "11640/11640 [==============================] - 30s 3ms/step - loss: 0.4001 - acc: 0.8818 - val_loss: 0.2131 - val_acc: 0.9054\n",
            "Epoch 2/10\n",
            "11640/11640 [==============================] - 29s 2ms/step - loss: 0.1921 - acc: 0.9164 - val_loss: 0.1756 - val_acc: 0.9242\n",
            "Epoch 3/10\n",
            "11640/11640 [==============================] - 29s 2ms/step - loss: 0.1662 - acc: 0.9294 - val_loss: 0.1582 - val_acc: 0.9336\n",
            "Epoch 4/10\n",
            "11640/11640 [==============================] - 29s 2ms/step - loss: 0.1533 - acc: 0.9357 - val_loss: 0.1486 - val_acc: 0.9372\n",
            "Epoch 5/10\n",
            "11640/11640 [==============================] - 29s 2ms/step - loss: 0.1445 - acc: 0.9398 - val_loss: 0.1414 - val_acc: 0.9411\n",
            "Epoch 6/10\n",
            "11640/11640 [==============================] - 28s 2ms/step - loss: 0.1382 - acc: 0.9426 - val_loss: 0.1361 - val_acc: 0.9433\n",
            "Epoch 7/10\n",
            "11640/11640 [==============================] - 28s 2ms/step - loss: 0.1333 - acc: 0.9448 - val_loss: 0.1322 - val_acc: 0.9452\n",
            "Epoch 8/10\n",
            "11640/11640 [==============================] - 28s 2ms/step - loss: 0.1294 - acc: 0.9465 - val_loss: 0.1315 - val_acc: 0.9456\n",
            "Epoch 9/10\n",
            "11640/11640 [==============================] - 28s 2ms/step - loss: 0.1262 - acc: 0.9479 - val_loss: 0.1258 - val_acc: 0.9480\n",
            "Epoch 10/10\n",
            "11640/11640 [==============================] - 28s 2ms/step - loss: 0.1230 - acc: 0.9492 - val_loss: 0.1231 - val_acc: 0.9492\n",
            "2553/2553 [==============================] - 2s 872us/step\n",
            "Test : [0.12232311012181776, 0.9502856831573011]\n"
          ],
          "name": "stdout"
        }
      ]
    },
    {
      "metadata": {
        "id": "dltIipwsOhpQ",
        "colab_type": "text"
      },
      "cell_type": "markdown",
      "source": [
        "### 3."
      ]
    },
    {
      "metadata": {
        "id": "Cc3StrTcDxV_",
        "colab_type": "text"
      },
      "cell_type": "markdown",
      "source": [
        "Run the previous model for 10 iterations to exceed 0.950 test accuracy."
      ]
    },
    {
      "metadata": {
        "colab_type": "text",
        "id": "D8VmKHg4zTpH"
      },
      "cell_type": "markdown",
      "source": [
        "#U-Net\n",
        "\n",
        ">>> __Input: Racploride PET__\n",
        "\n",
        "![alt text](https://github.com/tfunck/minc_keras/blob/master/images/raclopride.png?raw=true)\n",
        "\n",
        ">>> __Input: FDOPA PET__\n",
        "\n",
        "![alt text](https://github.com/tfunck/minc_keras/blob/master/images/fdopa.png?raw=true)\n",
        "\n",
        ">>> __Input: FDG PET__\n",
        "\n",
        "![alt text](https://github.com/tfunck/minc_keras/blob/master/images/fdg.png?raw=true)\n",
        "\n",
        ">>> __Input: Label__\n",
        "\n",
        "![alt text](https://github.com/tfunck/minc_keras/blob/master/images/brainmask.png?raw=true)"
      ]
    },
    {
      "metadata": {
        "colab_type": "text",
        "id": "rGkJHbkPzTpQ"
      },
      "cell_type": "markdown",
      "source": [
        "## Building a U-NET in Keras\n",
        "\n",
        "![](https://github.com/tfunck/minc_keras/blob/master/images/unet.png?raw=1)\n",
        "\n",
        "Ronneberger, Fischer, and Brox. 2015.\"U-net: Convolutional networks for biomedical image segmentation.\" International Conference on Medical image computing and computer-assisted intervention. https://arxiv.org/abs/1505.04597"
      ]
    },
    {
      "metadata": {
        "colab_type": "code",
        "id": "0SDJ5RvOzTpQ",
        "outputId": "f029dd39-ba43-42c8-b2a7-1ea9ae71f6c7",
        "colab": {
          "base_uri": "https://localhost:8080/",
          "height": 1533
        }
      },
      "cell_type": "code",
      "source": [
        "import keras\n",
        "from keras.layers.convolutional import Conv2D\n",
        "from keras.layers import Input\n",
        "from custom_loss import *\n",
        "from keras.utils import to_categorical\n",
        "from keras.activations import relu\n",
        "from keras.layers.core import Dropout\n",
        "from keras.layers import Input, Add, Multiply, Dense, BatchNormalization\n",
        "from keras.layers import LeakyReLU, MaxPooling2D, Conv2DTranspose, Concatenate, ZeroPadding2D\n",
        "from prepare_data import pad\n",
        "\n",
        "### Warning : if you change the number of times you downsample with max_pool,\n",
        "###           then you need to rerun prepare_data() with pad_base=<number of downsample nodes>\n",
        "model_name=\"pet_1.hdf5\"\n",
        "\n",
        "\n",
        "### 1) Define architecture of neural network    \n",
        "IN = Input(shape=(data_pet['image_dim'][1],data_pet['image_dim'][2] ,1))\n",
        "\n",
        "BN1 = BatchNormalization()(IN)\n",
        "\n",
        "conv1 = Convolution2D(32, 3, 3, activation='relu', border_mode='same')(BN1)\n",
        "conv1 = Convolution2D(32, 3, 3, activation='relu', border_mode='same')(conv1)\n",
        "pool1 = MaxPooling2D(pool_size=(2, 2))(conv1)\n",
        " \n",
        "conv2 = Convolution2D(64, 3, 3, activation='relu', border_mode='same')(pool1)\n",
        "conv2 = Convolution2D(64, 3, 3, activation='relu', border_mode='same')(conv2)\n",
        "pool2 = MaxPooling2D(pool_size=(2, 2))(conv2)\n",
        "\n",
        "conv3 = Convolution2D(128, 3, 3, activation='relu', border_mode='same')(pool2)\n",
        "conv3 = Convolution2D(128, 3, 3, activation='relu', border_mode='same')(conv3)\n",
        "pool3 = MaxPooling2D(pool_size=(2, 2))(conv3)\n",
        "\n",
        "conv4 = Convolution2D(256, 3, 3, activation='relu', border_mode='same')(pool3)\n",
        "conv4 = Convolution2D(256, 3, 3, activation='relu', border_mode='same')(conv4)\n",
        "\n",
        "up6 = UpSampling2D(size=(2, 2))(conv4)\n",
        "#up6 = Conv2DTranspose( filters=512, kernel_size=(3,3), strides=(2, 2), padding='same')(conv6)\n",
        "conc6 = Concatenate(axis=3)([up6, conv3])\n",
        "conv7 = Convolution2D(128, 3, 3, activation='relu', border_mode='same')(conc6)\n",
        "conv7 = Convolution2D(128, 3, 3, activation='relu', border_mode='same')(conv7)\n",
        "\n",
        "up7 = UpSampling2D(size=(2, 2))(conv7)\n",
        "#up7 = Conv2DTranspose( filters=512, kernel_size=(3,3), strides=(2, 2), padding='same')(conv7)\n",
        "conc7 = Concatenate(axis=3)([up7, conv2])\n",
        "conv8 = Convolution2D(64, 3, 3, activation='relu', border_mode='same')(conc7) #(up8)\n",
        "conv8 = Convolution2D(64, 3, 3, activation='relu', border_mode='same')(conv8)\n",
        "\n",
        "up8 = UpSampling2D(size=(2, 2))(conv8)\n",
        "#up8 = Conv2DTranspose( filters=512, kernel_size=(3,3), strides=(2, 2), padding='same')(conv8)\n",
        "conc8 = Concatenate(axis=3)([up8, conv1])\n",
        "conv9 = Convolution2D(32, 3, 3, activation='relu', border_mode='same')(conc8)\n",
        "conv9 = Convolution2D(32, 3, 3, activation='relu', border_mode='same')(conv9)\n",
        "\n",
        "conv10 = Convolution2D(nlabels_pet, 1, 1, activation='softmax')(conv9)\n",
        "\n",
        "model = keras.models.Model(input=[IN], output=conv10)\n",
        "\n",
        "print(model.summary())\n",
        "\n",
        "#set compiler\n",
        "ada = keras.optimizers.Adam(0.0001)\n",
        "\n",
        "#compile the model\n",
        "model.compile(loss = 'categorical_crossentropy', optimizer=ada,metrics=['acc'] )\n",
        "#fit model\n",
        "\n",
        "history = model.fit([X_train_pet],Y_train_pet,  validation_data=([X_validate_pet], Y_validate_pet), epochs = 3)\n",
        "#save model   \n",
        "model.save(model_name)\n",
        "\n",
        "test_score = model.evaluate(X_test_pet, Y_test_pet)\n",
        "print(\"Test :\", test_score)\n",
        "\n"
      ],
      "execution_count": 13,
      "outputs": [
        {
          "output_type": "stream",
          "text": [
            "/usr/local/lib/python3.6/dist-packages/ipykernel_launcher.py:22: UserWarning: Update your `Conv2D` call to the Keras 2 API: `Conv2D(32, (3, 3), activation=\"relu\", padding=\"same\")`\n",
            "/usr/local/lib/python3.6/dist-packages/ipykernel_launcher.py:23: UserWarning: Update your `Conv2D` call to the Keras 2 API: `Conv2D(32, (3, 3), activation=\"relu\", padding=\"same\")`\n",
            "/usr/local/lib/python3.6/dist-packages/ipykernel_launcher.py:26: UserWarning: Update your `Conv2D` call to the Keras 2 API: `Conv2D(64, (3, 3), activation=\"relu\", padding=\"same\")`\n",
            "/usr/local/lib/python3.6/dist-packages/ipykernel_launcher.py:27: UserWarning: Update your `Conv2D` call to the Keras 2 API: `Conv2D(64, (3, 3), activation=\"relu\", padding=\"same\")`\n",
            "/usr/local/lib/python3.6/dist-packages/ipykernel_launcher.py:30: UserWarning: Update your `Conv2D` call to the Keras 2 API: `Conv2D(128, (3, 3), activation=\"relu\", padding=\"same\")`\n",
            "/usr/local/lib/python3.6/dist-packages/ipykernel_launcher.py:31: UserWarning: Update your `Conv2D` call to the Keras 2 API: `Conv2D(128, (3, 3), activation=\"relu\", padding=\"same\")`\n",
            "/usr/local/lib/python3.6/dist-packages/ipykernel_launcher.py:34: UserWarning: Update your `Conv2D` call to the Keras 2 API: `Conv2D(256, (3, 3), activation=\"relu\", padding=\"same\")`\n",
            "/usr/local/lib/python3.6/dist-packages/ipykernel_launcher.py:35: UserWarning: Update your `Conv2D` call to the Keras 2 API: `Conv2D(256, (3, 3), activation=\"relu\", padding=\"same\")`\n",
            "/usr/local/lib/python3.6/dist-packages/ipykernel_launcher.py:40: UserWarning: Update your `Conv2D` call to the Keras 2 API: `Conv2D(128, (3, 3), activation=\"relu\", padding=\"same\")`\n",
            "/usr/local/lib/python3.6/dist-packages/ipykernel_launcher.py:41: UserWarning: Update your `Conv2D` call to the Keras 2 API: `Conv2D(128, (3, 3), activation=\"relu\", padding=\"same\")`\n",
            "/usr/local/lib/python3.6/dist-packages/ipykernel_launcher.py:46: UserWarning: Update your `Conv2D` call to the Keras 2 API: `Conv2D(64, (3, 3), activation=\"relu\", padding=\"same\")`\n",
            "/usr/local/lib/python3.6/dist-packages/ipykernel_launcher.py:47: UserWarning: Update your `Conv2D` call to the Keras 2 API: `Conv2D(64, (3, 3), activation=\"relu\", padding=\"same\")`\n",
            "/usr/local/lib/python3.6/dist-packages/ipykernel_launcher.py:52: UserWarning: Update your `Conv2D` call to the Keras 2 API: `Conv2D(32, (3, 3), activation=\"relu\", padding=\"same\")`\n",
            "/usr/local/lib/python3.6/dist-packages/ipykernel_launcher.py:53: UserWarning: Update your `Conv2D` call to the Keras 2 API: `Conv2D(32, (3, 3), activation=\"relu\", padding=\"same\")`\n",
            "/usr/local/lib/python3.6/dist-packages/ipykernel_launcher.py:55: UserWarning: Update your `Conv2D` call to the Keras 2 API: `Conv2D(2, (1, 1), activation=\"softmax\")`\n",
            "/usr/local/lib/python3.6/dist-packages/ipykernel_launcher.py:57: UserWarning: Update your `Model` call to the Keras 2 API: `Model(inputs=[<tf.Tenso..., outputs=Tensor(\"co...)`\n"
          ],
          "name": "stderr"
        },
        {
          "output_type": "stream",
          "text": [
            "__________________________________________________________________________________________________\n",
            "Layer (type)                    Output Shape         Param #     Connected to                     \n",
            "==================================================================================================\n",
            "input_4 (InputLayer)            (None, 104, 104, 1)  0                                            \n",
            "__________________________________________________________________________________________________\n",
            "batch_normalization_2 (BatchNor (None, 104, 104, 1)  4           input_4[0][0]                    \n",
            "__________________________________________________________________________________________________\n",
            "conv2d_16 (Conv2D)              (None, 104, 104, 32) 320         batch_normalization_2[0][0]      \n",
            "__________________________________________________________________________________________________\n",
            "conv2d_17 (Conv2D)              (None, 104, 104, 32) 9248        conv2d_16[0][0]                  \n",
            "__________________________________________________________________________________________________\n",
            "max_pooling2d_4 (MaxPooling2D)  (None, 52, 52, 32)   0           conv2d_17[0][0]                  \n",
            "__________________________________________________________________________________________________\n",
            "conv2d_18 (Conv2D)              (None, 52, 52, 64)   18496       max_pooling2d_4[0][0]            \n",
            "__________________________________________________________________________________________________\n",
            "conv2d_19 (Conv2D)              (None, 52, 52, 64)   36928       conv2d_18[0][0]                  \n",
            "__________________________________________________________________________________________________\n",
            "max_pooling2d_5 (MaxPooling2D)  (None, 26, 26, 64)   0           conv2d_19[0][0]                  \n",
            "__________________________________________________________________________________________________\n",
            "conv2d_20 (Conv2D)              (None, 26, 26, 128)  73856       max_pooling2d_5[0][0]            \n",
            "__________________________________________________________________________________________________\n",
            "conv2d_21 (Conv2D)              (None, 26, 26, 128)  147584      conv2d_20[0][0]                  \n",
            "__________________________________________________________________________________________________\n",
            "max_pooling2d_6 (MaxPooling2D)  (None, 13, 13, 128)  0           conv2d_21[0][0]                  \n",
            "__________________________________________________________________________________________________\n",
            "conv2d_22 (Conv2D)              (None, 13, 13, 256)  295168      max_pooling2d_6[0][0]            \n",
            "__________________________________________________________________________________________________\n",
            "conv2d_23 (Conv2D)              (None, 13, 13, 256)  590080      conv2d_22[0][0]                  \n",
            "__________________________________________________________________________________________________\n",
            "up_sampling2d_2 (UpSampling2D)  (None, 26, 26, 256)  0           conv2d_23[0][0]                  \n",
            "__________________________________________________________________________________________________\n",
            "concatenate_2 (Concatenate)     (None, 26, 26, 384)  0           up_sampling2d_2[0][0]            \n",
            "                                                                 conv2d_21[0][0]                  \n",
            "__________________________________________________________________________________________________\n",
            "conv2d_24 (Conv2D)              (None, 26, 26, 128)  442496      concatenate_2[0][0]              \n",
            "__________________________________________________________________________________________________\n",
            "conv2d_25 (Conv2D)              (None, 26, 26, 128)  147584      conv2d_24[0][0]                  \n",
            "__________________________________________________________________________________________________\n",
            "up_sampling2d_3 (UpSampling2D)  (None, 52, 52, 128)  0           conv2d_25[0][0]                  \n",
            "__________________________________________________________________________________________________\n",
            "concatenate_3 (Concatenate)     (None, 52, 52, 192)  0           up_sampling2d_3[0][0]            \n",
            "                                                                 conv2d_19[0][0]                  \n",
            "__________________________________________________________________________________________________\n",
            "conv2d_26 (Conv2D)              (None, 52, 52, 64)   110656      concatenate_3[0][0]              \n",
            "__________________________________________________________________________________________________\n",
            "conv2d_27 (Conv2D)              (None, 52, 52, 64)   36928       conv2d_26[0][0]                  \n",
            "__________________________________________________________________________________________________\n",
            "up_sampling2d_4 (UpSampling2D)  (None, 104, 104, 64) 0           conv2d_27[0][0]                  \n",
            "__________________________________________________________________________________________________\n",
            "concatenate_4 (Concatenate)     (None, 104, 104, 96) 0           up_sampling2d_4[0][0]            \n",
            "                                                                 conv2d_17[0][0]                  \n",
            "__________________________________________________________________________________________________\n",
            "conv2d_28 (Conv2D)              (None, 104, 104, 32) 27680       concatenate_4[0][0]              \n",
            "__________________________________________________________________________________________________\n",
            "conv2d_29 (Conv2D)              (None, 104, 104, 32) 9248        conv2d_28[0][0]                  \n",
            "__________________________________________________________________________________________________\n",
            "conv2d_30 (Conv2D)              (None, 104, 104, 2)  66          conv2d_29[0][0]                  \n",
            "==================================================================================================\n",
            "Total params: 1,946,342\n",
            "Trainable params: 1,946,340\n",
            "Non-trainable params: 2\n",
            "__________________________________________________________________________________________________\n",
            "None\n",
            "Train on 2486 samples, validate on 678 samples\n",
            "Epoch 1/3\n",
            "2486/2486 [==============================] - 23s 9ms/step - loss: 0.3094 - acc: 0.8606 - val_loss: 0.1927 - val_acc: 0.9138\n",
            "Epoch 2/3\n",
            "2486/2486 [==============================] - 19s 8ms/step - loss: 0.1916 - acc: 0.9154 - val_loss: 0.1676 - val_acc: 0.9242\n",
            "Epoch 3/3\n",
            "2486/2486 [==============================] - 19s 8ms/step - loss: 0.1624 - acc: 0.9299 - val_loss: 0.1471 - val_acc: 0.9384\n",
            "226/226 [==============================] - 1s 3ms/step\n",
            "Test : [0.15213899588855231, 0.9364932153077252]\n"
          ],
          "name": "stdout"
        }
      ]
    },
    {
      "metadata": {
        "id": "ntjdPpO3cvmA",
        "colab_type": "code",
        "colab": {}
      },
      "cell_type": "code",
      "source": [
        "###Create predictions for model\n",
        "from predict import *\n",
        "predict(model_name, test_dir, data_dir, report_dir+'/pet.csv', 'categorical_crossentropy', images_to_predict='all', category=\"test\", verbose=True)\n"
      ],
      "execution_count": 0,
      "outputs": []
    },
    {
      "metadata": {
        "colab_type": "code",
        "id": "uPeNV6NWzTpu",
        "colab": {}
      },
      "cell_type": "code",
      "source": [
        "#If using Google Chrome, can download directly through browser\n",
        "#from google.colab import files\n",
        "#from glob import glob\n",
        "#for fn in glob('pet_results/predict/test/*.png') :  files.download(fn)\n",
        "\n",
        "import matplotlib.pyplot as plt\n",
        "plt.imshow(plt.imread('pet_results/predict/test//sub-D13_ses-01_task-01_acq-rcl_dwn-smpl_pet_predict_2.png'))\n"
      ],
      "execution_count": 0,
      "outputs": []
    },
    {
      "metadata": {
        "id": "HPBrekZ2CrtV",
        "colab_type": "text"
      },
      "cell_type": "markdown",
      "source": [
        "##Exercises\n",
        "\n",
        "1. Modify the template above so that it has less than 120,000 parameters.\n",
        "\n",
        "2. Use a transpose convolution to perform upsampling steps in the U-Net template. What happens to the number of parameters? How does accuracy change relative to this? \n",
        "\n",
        "3. Add another level of downsampling and up-sampling to the U-Net template. Remember to re-run the configuration cell with <pad_base=4> and <clobber=True> in order to pad the input images and labels appropriately relative to the number of times you use max pooling to downsample the images. \n",
        "\n",
        "4. Run a U-Net architecture on the GM-WM segementation task from part 1. How does the performance improvement compare to the increased number of parameters?\n",
        "\n",
        "4. Using whatever techniques you like (downsampling, upsampling, dilations, drop-out, etc.), create the best architecture possible with least possible number of parameters. "
      ]
    },
    {
      "metadata": {
        "id": "HNM4QTBrWWnb",
        "colab_type": "text"
      },
      "cell_type": "markdown",
      "source": [
        "## Solutions\n"
      ]
    },
    {
      "metadata": {
        "id": "NmCLa-y_EgLe",
        "colab_type": "text"
      },
      "cell_type": "markdown",
      "source": [
        "### 1."
      ]
    },
    {
      "metadata": {
        "id": "_FXISR5VTer4",
        "colab_type": "code",
        "outputId": "5d920ff5-dc32-4a74-f8ea-e0d4cd047646",
        "colab": {
          "base_uri": "https://localhost:8080/",
          "height": 1533
        }
      },
      "cell_type": "code",
      "source": [
        "import keras\n",
        "from keras.layers.convolutional import Conv2D\n",
        "from keras.layers import Input\n",
        "from custom_loss import *\n",
        "from keras.utils import to_categorical\n",
        "from keras.activations import relu\n",
        "from keras.layers.core import Dropout\n",
        "from keras.layers import Input, Add, Multiply, Dense, BatchNormalization\n",
        "from keras.layers import LeakyReLU, MaxPooling2D, Conv2DTranspose, Concatenate, ZeroPadding2D\n",
        "from prepare_data import pad\n",
        "\n",
        "### Warning : if you change the number of times you downsample with max_pool,\n",
        "###           then you need to rerun prepare_data() with pad_base=<number of downsample nodes>\n",
        "model_name=\"mri_2.hdf5\"\n",
        "\n",
        "\n",
        "### 1) Define architecture of neural network    \n",
        "IN = Input(shape=(data_pet['image_dim'][1],data_pet['image_dim'][2] ,1))\n",
        "\n",
        "BN1 = BatchNormalization()(IN)\n",
        "\n",
        "conv1 = Convolution2D(8, 3, 3, activation='relu', border_mode='same')(BN1)\n",
        "conv1 = Convolution2D(8, 3, 3, activation='relu', border_mode='same')(conv1)\n",
        "pool1 = MaxPooling2D(pool_size=(2, 2))(conv1)\n",
        " \n",
        "conv2 = Convolution2D(16, 3, 3, activation='relu', border_mode='same')(pool1)\n",
        "conv2 = Convolution2D(16, 3, 3, activation='relu', border_mode='same')(conv2)\n",
        "pool2 = MaxPooling2D(pool_size=(2, 2))(conv2)\n",
        "\n",
        "conv3 = Convolution2D(32, 3, 3, activation='relu', border_mode='same')(pool2)\n",
        "conv3 = Convolution2D(32, 3, 3, activation='relu', border_mode='same')(conv3)\n",
        "pool3 = MaxPooling2D(pool_size=(2, 2))(conv3)\n",
        "\n",
        "conv4 = Convolution2D(64, 3, 3, activation='relu', border_mode='same')(pool3)\n",
        "conv4 = Convolution2D(64, 3, 3, activation='relu', border_mode='same')(conv4)\n",
        "\n",
        "up6 = UpSampling2D(size=(2, 2))(conv4)\n",
        "#up6 = Conv2DTranspose( filters=512, kernel_size=(3,3), strides=(2, 2), padding='same')(conv6)\n",
        "conc6 = Concatenate(axis=3)([up6, conv3])\n",
        "conv7 = Convolution2D(32, 3, 3, activation='relu', border_mode='same')(conc6)\n",
        "conv7 = Convolution2D(32, 3, 3, activation='relu', border_mode='same')(conv7)\n",
        "\n",
        "up7 = UpSampling2D(size=(2, 2))(conv7)\n",
        "#up7 = Conv2DTranspose( filters=512, kernel_size=(3,3), strides=(2, 2), padding='same')(conv7)\n",
        "conc7 = Concatenate(axis=3)([up7, conv2])\n",
        "conv8 = Convolution2D(16, 3, 3, activation='relu', border_mode='same')(conc7) #(up8)\n",
        "conv8 = Convolution2D(16, 3, 3, activation='relu', border_mode='same')(conv8)\n",
        "\n",
        "up8 = UpSampling2D(size=(2, 2))(conv8)\n",
        "#up8 = Conv2DTranspose( filters=512, kernel_size=(3,3), strides=(2, 2), padding='same')(conv8)\n",
        "conc8 = Concatenate(axis=3)([up8, conv1])\n",
        "conv9 = Convolution2D(8, 3, 3, activation='relu', border_mode='same')(conc8)\n",
        "conv9 = Convolution2D(8, 3, 3, activation='relu', border_mode='same')(conv9)\n",
        "\n",
        "conv10 = Convolution2D(nlabels_pet, 1, 1, activation='softmax')(conv9)\n",
        "\n",
        "model = keras.models.Model(input=[IN], output=conv10)\n",
        "\n",
        "print(model.summary())\n",
        "\n",
        "#set compiler\n",
        "ada = keras.optimizers.Adam(0.0001)\n",
        "\n",
        "#compile the model\n",
        "model.compile(loss = 'categorical_crossentropy', optimizer=ada,metrics=['acc'] )\n",
        "#fit model\n",
        "\n",
        "history = model.fit([X_train_pet],Y_train_pet,  validation_data=([X_validate_pet], Y_validate_pet), epochs = 3)\n",
        "#save model   \n",
        "model.save(model_name)\n",
        "\n",
        "test_score = model.evaluate(X_test_pet, Y_test_pet)\n",
        "print(\"Test :\", test_score)"
      ],
      "execution_count": 15,
      "outputs": [
        {
          "output_type": "stream",
          "text": [
            "/usr/local/lib/python3.6/dist-packages/ipykernel_launcher.py:22: UserWarning: Update your `Conv2D` call to the Keras 2 API: `Conv2D(8, (3, 3), activation=\"relu\", padding=\"same\")`\n",
            "/usr/local/lib/python3.6/dist-packages/ipykernel_launcher.py:23: UserWarning: Update your `Conv2D` call to the Keras 2 API: `Conv2D(8, (3, 3), activation=\"relu\", padding=\"same\")`\n",
            "/usr/local/lib/python3.6/dist-packages/ipykernel_launcher.py:26: UserWarning: Update your `Conv2D` call to the Keras 2 API: `Conv2D(16, (3, 3), activation=\"relu\", padding=\"same\")`\n",
            "/usr/local/lib/python3.6/dist-packages/ipykernel_launcher.py:27: UserWarning: Update your `Conv2D` call to the Keras 2 API: `Conv2D(16, (3, 3), activation=\"relu\", padding=\"same\")`\n",
            "/usr/local/lib/python3.6/dist-packages/ipykernel_launcher.py:30: UserWarning: Update your `Conv2D` call to the Keras 2 API: `Conv2D(32, (3, 3), activation=\"relu\", padding=\"same\")`\n",
            "/usr/local/lib/python3.6/dist-packages/ipykernel_launcher.py:31: UserWarning: Update your `Conv2D` call to the Keras 2 API: `Conv2D(32, (3, 3), activation=\"relu\", padding=\"same\")`\n",
            "/usr/local/lib/python3.6/dist-packages/ipykernel_launcher.py:34: UserWarning: Update your `Conv2D` call to the Keras 2 API: `Conv2D(64, (3, 3), activation=\"relu\", padding=\"same\")`\n",
            "/usr/local/lib/python3.6/dist-packages/ipykernel_launcher.py:35: UserWarning: Update your `Conv2D` call to the Keras 2 API: `Conv2D(64, (3, 3), activation=\"relu\", padding=\"same\")`\n",
            "/usr/local/lib/python3.6/dist-packages/ipykernel_launcher.py:40: UserWarning: Update your `Conv2D` call to the Keras 2 API: `Conv2D(32, (3, 3), activation=\"relu\", padding=\"same\")`\n",
            "/usr/local/lib/python3.6/dist-packages/ipykernel_launcher.py:41: UserWarning: Update your `Conv2D` call to the Keras 2 API: `Conv2D(32, (3, 3), activation=\"relu\", padding=\"same\")`\n",
            "/usr/local/lib/python3.6/dist-packages/ipykernel_launcher.py:46: UserWarning: Update your `Conv2D` call to the Keras 2 API: `Conv2D(16, (3, 3), activation=\"relu\", padding=\"same\")`\n",
            "/usr/local/lib/python3.6/dist-packages/ipykernel_launcher.py:47: UserWarning: Update your `Conv2D` call to the Keras 2 API: `Conv2D(16, (3, 3), activation=\"relu\", padding=\"same\")`\n",
            "/usr/local/lib/python3.6/dist-packages/ipykernel_launcher.py:52: UserWarning: Update your `Conv2D` call to the Keras 2 API: `Conv2D(8, (3, 3), activation=\"relu\", padding=\"same\")`\n",
            "/usr/local/lib/python3.6/dist-packages/ipykernel_launcher.py:53: UserWarning: Update your `Conv2D` call to the Keras 2 API: `Conv2D(8, (3, 3), activation=\"relu\", padding=\"same\")`\n",
            "/usr/local/lib/python3.6/dist-packages/ipykernel_launcher.py:55: UserWarning: Update your `Conv2D` call to the Keras 2 API: `Conv2D(2, (1, 1), activation=\"softmax\")`\n",
            "/usr/local/lib/python3.6/dist-packages/ipykernel_launcher.py:57: UserWarning: Update your `Model` call to the Keras 2 API: `Model(inputs=[<tf.Tenso..., outputs=Tensor(\"co...)`\n"
          ],
          "name": "stderr"
        },
        {
          "output_type": "stream",
          "text": [
            "__________________________________________________________________________________________________\n",
            "Layer (type)                    Output Shape         Param #     Connected to                     \n",
            "==================================================================================================\n",
            "input_6 (InputLayer)            (None, 104, 104, 1)  0                                            \n",
            "__________________________________________________________________________________________________\n",
            "batch_normalization_4 (BatchNor (None, 104, 104, 1)  4           input_6[0][0]                    \n",
            "__________________________________________________________________________________________________\n",
            "conv2d_46 (Conv2D)              (None, 104, 104, 8)  80          batch_normalization_4[0][0]      \n",
            "__________________________________________________________________________________________________\n",
            "conv2d_47 (Conv2D)              (None, 104, 104, 8)  584         conv2d_46[0][0]                  \n",
            "__________________________________________________________________________________________________\n",
            "max_pooling2d_10 (MaxPooling2D) (None, 52, 52, 8)    0           conv2d_47[0][0]                  \n",
            "__________________________________________________________________________________________________\n",
            "conv2d_48 (Conv2D)              (None, 52, 52, 16)   1168        max_pooling2d_10[0][0]           \n",
            "__________________________________________________________________________________________________\n",
            "conv2d_49 (Conv2D)              (None, 52, 52, 16)   2320        conv2d_48[0][0]                  \n",
            "__________________________________________________________________________________________________\n",
            "max_pooling2d_11 (MaxPooling2D) (None, 26, 26, 16)   0           conv2d_49[0][0]                  \n",
            "__________________________________________________________________________________________________\n",
            "conv2d_50 (Conv2D)              (None, 26, 26, 32)   4640        max_pooling2d_11[0][0]           \n",
            "__________________________________________________________________________________________________\n",
            "conv2d_51 (Conv2D)              (None, 26, 26, 32)   9248        conv2d_50[0][0]                  \n",
            "__________________________________________________________________________________________________\n",
            "max_pooling2d_12 (MaxPooling2D) (None, 13, 13, 32)   0           conv2d_51[0][0]                  \n",
            "__________________________________________________________________________________________________\n",
            "conv2d_52 (Conv2D)              (None, 13, 13, 64)   18496       max_pooling2d_12[0][0]           \n",
            "__________________________________________________________________________________________________\n",
            "conv2d_53 (Conv2D)              (None, 13, 13, 64)   36928       conv2d_52[0][0]                  \n",
            "__________________________________________________________________________________________________\n",
            "up_sampling2d_8 (UpSampling2D)  (None, 26, 26, 64)   0           conv2d_53[0][0]                  \n",
            "__________________________________________________________________________________________________\n",
            "concatenate_8 (Concatenate)     (None, 26, 26, 96)   0           up_sampling2d_8[0][0]            \n",
            "                                                                 conv2d_51[0][0]                  \n",
            "__________________________________________________________________________________________________\n",
            "conv2d_54 (Conv2D)              (None, 26, 26, 32)   27680       concatenate_8[0][0]              \n",
            "__________________________________________________________________________________________________\n",
            "conv2d_55 (Conv2D)              (None, 26, 26, 32)   9248        conv2d_54[0][0]                  \n",
            "__________________________________________________________________________________________________\n",
            "up_sampling2d_9 (UpSampling2D)  (None, 52, 52, 32)   0           conv2d_55[0][0]                  \n",
            "__________________________________________________________________________________________________\n",
            "concatenate_9 (Concatenate)     (None, 52, 52, 48)   0           up_sampling2d_9[0][0]            \n",
            "                                                                 conv2d_49[0][0]                  \n",
            "__________________________________________________________________________________________________\n",
            "conv2d_56 (Conv2D)              (None, 52, 52, 16)   6928        concatenate_9[0][0]              \n",
            "__________________________________________________________________________________________________\n",
            "conv2d_57 (Conv2D)              (None, 52, 52, 16)   2320        conv2d_56[0][0]                  \n",
            "__________________________________________________________________________________________________\n",
            "up_sampling2d_10 (UpSampling2D) (None, 104, 104, 16) 0           conv2d_57[0][0]                  \n",
            "__________________________________________________________________________________________________\n",
            "concatenate_10 (Concatenate)    (None, 104, 104, 24) 0           up_sampling2d_10[0][0]           \n",
            "                                                                 conv2d_47[0][0]                  \n",
            "__________________________________________________________________________________________________\n",
            "conv2d_58 (Conv2D)              (None, 104, 104, 8)  1736        concatenate_10[0][0]             \n",
            "__________________________________________________________________________________________________\n",
            "conv2d_59 (Conv2D)              (None, 104, 104, 8)  584         conv2d_58[0][0]                  \n",
            "__________________________________________________________________________________________________\n",
            "conv2d_60 (Conv2D)              (None, 104, 104, 2)  18          conv2d_59[0][0]                  \n",
            "==================================================================================================\n",
            "Total params: 121,982\n",
            "Trainable params: 121,980\n",
            "Non-trainable params: 2\n",
            "__________________________________________________________________________________________________\n",
            "None\n",
            "Train on 2486 samples, validate on 678 samples\n",
            "Epoch 1/3\n",
            "2486/2486 [==============================] - 9s 4ms/step - loss: 0.4702 - acc: 0.8026 - val_loss: 0.2564 - val_acc: 0.9030\n",
            "Epoch 2/3\n",
            "2486/2486 [==============================] - 7s 3ms/step - loss: 0.2259 - acc: 0.9021 - val_loss: 0.2000 - val_acc: 0.9093\n",
            "Epoch 3/3\n",
            "2486/2486 [==============================] - 7s 3ms/step - loss: 0.2042 - acc: 0.9095 - val_loss: 0.1880 - val_acc: 0.9179\n",
            "226/226 [==============================] - 0s 1ms/step\n",
            "Test : [0.1981147105714916, 0.9110478774636193]\n"
          ],
          "name": "stdout"
        }
      ]
    },
    {
      "metadata": {
        "id": "jcGPyuVsWGmn",
        "colab_type": "text"
      },
      "cell_type": "markdown",
      "source": [
        "### 2."
      ]
    },
    {
      "metadata": {
        "id": "GXtx5qDzVNci",
        "colab_type": "code",
        "outputId": "a5b41f6f-0bc1-43f6-b146-80276c153730",
        "colab": {
          "base_uri": "https://localhost:8080/",
          "height": 1462
        }
      },
      "cell_type": "code",
      "source": [
        "import keras\n",
        "from keras.layers.convolutional import Conv2D\n",
        "from keras.layers import Input\n",
        "from custom_loss import *\n",
        "from keras.utils import to_categorical\n",
        "from keras.activations import relu\n",
        "from keras.layers.core import Dropout\n",
        "from keras.layers import Input, Add, Multiply, Dense, BatchNormalization\n",
        "from keras.layers import LeakyReLU, MaxPooling2D, Conv2DTranspose, Concatenate, ZeroPadding2D\n",
        "from prepare_data import pad\n",
        "\n",
        "### Warning : if you change the number of times you downsample with max_pool,\n",
        "###           then you need to rerun prepare_data() with pad_base=<number of downsample nodes>\n",
        "model_name=\"mri_3.hdf5\"\n",
        "\n",
        "\n",
        "### 1) Define architecture of neural network    \n",
        "IN = Input(shape=(data['image_dim'][1],data['image_dim'][2] ,1))\n",
        "\n",
        "BN1 = BatchNormalization()(IN)\n",
        "\n",
        "conv1 = Convolution2D(32, 3, 3, activation='relu', border_mode='same')(BN1)\n",
        "conv1 = Convolution2D(32, 3, 3, activation='relu', border_mode='same')(conv1)\n",
        "pool1 = MaxPooling2D(pool_size=(2, 2))(conv1)\n",
        " \n",
        "conv2 = Convolution2D(64, 3, 3, activation='relu', border_mode='same')(pool1)\n",
        "conv2 = Convolution2D(64, 3, 3, activation='relu', border_mode='same')(conv2)\n",
        "pool2 = MaxPooling2D(pool_size=(2, 2))(conv2)\n",
        "\n",
        "conv3 = Convolution2D(128, 3, 3, activation='relu', border_mode='same')(pool2)\n",
        "conv3 = Convolution2D(128, 3, 3, activation='relu', border_mode='same')(conv3)\n",
        "pool3 = MaxPooling2D(pool_size=(2, 2))(conv3)\n",
        "\n",
        "conv4 = Convolution2D(256, 3, 3, activation='relu', border_mode='same')(pool3)\n",
        "conv4 = Convolution2D(256, 3, 3, activation='relu', border_mode='same')(conv4)\n",
        "\n",
        "up6 = Conv2DTranspose( filters=512, kernel_size=(3,3), strides=(2, 2), padding='same')(conv4)\n",
        "conc6 = Concatenate(axis=3)([up6, conv3])\n",
        "conv7 = Convolution2D(128, 3, 3, activation='relu', border_mode='same')(conc6)\n",
        "conv7 = Convolution2D(128, 3, 3, activation='relu', border_mode='same')(conv7)\n",
        "\n",
        "up7 = Conv2DTranspose( filters=512, kernel_size=(3,3), strides=(2, 2), padding='same')(conv7)\n",
        "conc7 = Concatenate(axis=3)([up7, conv2])\n",
        "conv8 = Convolution2D(64, 3, 3, activation='relu', border_mode='same')(conc7) #(up8)\n",
        "conv8 = Convolution2D(64, 3, 3, activation='relu', border_mode='same')(conv8)\n",
        "\n",
        "up8 = Conv2DTranspose( filters=512, kernel_size=(3,3), strides=(2, 2), padding='same')(conv8)\n",
        "conc8 = Concatenate(axis=3)([up8, conv1])\n",
        "conv9 = Convolution2D(32, 3, 3, activation='relu', border_mode='same')(conc8)\n",
        "conv9 = Convolution2D(32, 3, 3, activation='relu', border_mode='same')(conv9)\n",
        "\n",
        "conv10 = Convolution2D(nlabels, 1, 1, activation='softmax')(conv9)\n",
        "\n",
        "model = keras.models.Model(input=[IN], output=conv10)\n",
        "\n",
        "print(model.summary())\n",
        "\n",
        "#set compiler\n",
        "ada = keras.optimizers.Adam(0.0001)\n",
        "\n",
        "#compile the model\n",
        "model.compile(loss = 'categorical_crossentropy', optimizer=ada,metrics=['acc'] )\n",
        "#fit model\n",
        "\n",
        "history = model.fit([X_train],Y_train,  validation_data=([X_validate], Y_validate), epochs = 3)\n",
        "#save model   \n",
        "model.save(model_name)\n",
        "\n",
        "test_score = model.evaluate(X_test, Y_test)\n",
        "print(\"Test :\", test_score)\n",
        "\n"
      ],
      "execution_count": 0,
      "outputs": [
        {
          "output_type": "stream",
          "text": [
            "/usr/local/lib/python3.6/dist-packages/ipykernel_launcher.py:22: UserWarning: Update your `Conv2D` call to the Keras 2 API: `Conv2D(32, (3, 3), activation=\"relu\", padding=\"same\")`\n",
            "/usr/local/lib/python3.6/dist-packages/ipykernel_launcher.py:23: UserWarning: Update your `Conv2D` call to the Keras 2 API: `Conv2D(32, (3, 3), activation=\"relu\", padding=\"same\")`\n",
            "/usr/local/lib/python3.6/dist-packages/ipykernel_launcher.py:26: UserWarning: Update your `Conv2D` call to the Keras 2 API: `Conv2D(64, (3, 3), activation=\"relu\", padding=\"same\")`\n",
            "/usr/local/lib/python3.6/dist-packages/ipykernel_launcher.py:27: UserWarning: Update your `Conv2D` call to the Keras 2 API: `Conv2D(64, (3, 3), activation=\"relu\", padding=\"same\")`\n",
            "/usr/local/lib/python3.6/dist-packages/ipykernel_launcher.py:30: UserWarning: Update your `Conv2D` call to the Keras 2 API: `Conv2D(128, (3, 3), activation=\"relu\", padding=\"same\")`\n",
            "/usr/local/lib/python3.6/dist-packages/ipykernel_launcher.py:31: UserWarning: Update your `Conv2D` call to the Keras 2 API: `Conv2D(128, (3, 3), activation=\"relu\", padding=\"same\")`\n",
            "/usr/local/lib/python3.6/dist-packages/ipykernel_launcher.py:34: UserWarning: Update your `Conv2D` call to the Keras 2 API: `Conv2D(256, (3, 3), activation=\"relu\", padding=\"same\")`\n",
            "/usr/local/lib/python3.6/dist-packages/ipykernel_launcher.py:35: UserWarning: Update your `Conv2D` call to the Keras 2 API: `Conv2D(256, (3, 3), activation=\"relu\", padding=\"same\")`\n",
            "/usr/local/lib/python3.6/dist-packages/ipykernel_launcher.py:39: UserWarning: Update your `Conv2D` call to the Keras 2 API: `Conv2D(128, (3, 3), activation=\"relu\", padding=\"same\")`\n",
            "/usr/local/lib/python3.6/dist-packages/ipykernel_launcher.py:40: UserWarning: Update your `Conv2D` call to the Keras 2 API: `Conv2D(128, (3, 3), activation=\"relu\", padding=\"same\")`\n",
            "/usr/local/lib/python3.6/dist-packages/ipykernel_launcher.py:44: UserWarning: Update your `Conv2D` call to the Keras 2 API: `Conv2D(64, (3, 3), activation=\"relu\", padding=\"same\")`\n",
            "/usr/local/lib/python3.6/dist-packages/ipykernel_launcher.py:45: UserWarning: Update your `Conv2D` call to the Keras 2 API: `Conv2D(64, (3, 3), activation=\"relu\", padding=\"same\")`\n",
            "/usr/local/lib/python3.6/dist-packages/ipykernel_launcher.py:49: UserWarning: Update your `Conv2D` call to the Keras 2 API: `Conv2D(32, (3, 3), activation=\"relu\", padding=\"same\")`\n",
            "/usr/local/lib/python3.6/dist-packages/ipykernel_launcher.py:50: UserWarning: Update your `Conv2D` call to the Keras 2 API: `Conv2D(32, (3, 3), activation=\"relu\", padding=\"same\")`\n",
            "/usr/local/lib/python3.6/dist-packages/ipykernel_launcher.py:52: UserWarning: Update your `Conv2D` call to the Keras 2 API: `Conv2D(2, (1, 1), activation=\"softmax\")`\n",
            "/usr/local/lib/python3.6/dist-packages/ipykernel_launcher.py:54: UserWarning: Update your `Model` call to the Keras 2 API: `Model(inputs=[<tf.Tenso..., outputs=Tensor(\"co...)`\n"
          ],
          "name": "stderr"
        },
        {
          "output_type": "stream",
          "text": [
            "__________________________________________________________________________________________________\n",
            "Layer (type)                    Output Shape         Param #     Connected to                     \n",
            "==================================================================================================\n",
            "input_22 (InputLayer)           (None, 104, 104, 1)  0                                            \n",
            "__________________________________________________________________________________________________\n",
            "batch_normalization_5 (BatchNor (None, 104, 104, 1)  4           input_22[0][0]                   \n",
            "__________________________________________________________________________________________________\n",
            "conv2d_129 (Conv2D)             (None, 104, 104, 32) 320         batch_normalization_5[0][0]      \n",
            "__________________________________________________________________________________________________\n",
            "conv2d_130 (Conv2D)             (None, 104, 104, 32) 9248        conv2d_129[0][0]                 \n",
            "__________________________________________________________________________________________________\n",
            "max_pooling2d_14 (MaxPooling2D) (None, 52, 52, 32)   0           conv2d_130[0][0]                 \n",
            "__________________________________________________________________________________________________\n",
            "conv2d_131 (Conv2D)             (None, 52, 52, 64)   18496       max_pooling2d_14[0][0]           \n",
            "__________________________________________________________________________________________________\n",
            "conv2d_132 (Conv2D)             (None, 52, 52, 64)   36928       conv2d_131[0][0]                 \n",
            "__________________________________________________________________________________________________\n",
            "max_pooling2d_15 (MaxPooling2D) (None, 26, 26, 64)   0           conv2d_132[0][0]                 \n",
            "__________________________________________________________________________________________________\n",
            "conv2d_133 (Conv2D)             (None, 26, 26, 128)  73856       max_pooling2d_15[0][0]           \n",
            "__________________________________________________________________________________________________\n",
            "conv2d_134 (Conv2D)             (None, 26, 26, 128)  147584      conv2d_133[0][0]                 \n",
            "__________________________________________________________________________________________________\n",
            "max_pooling2d_16 (MaxPooling2D) (None, 13, 13, 128)  0           conv2d_134[0][0]                 \n",
            "__________________________________________________________________________________________________\n",
            "conv2d_135 (Conv2D)             (None, 13, 13, 256)  295168      max_pooling2d_16[0][0]           \n",
            "__________________________________________________________________________________________________\n",
            "conv2d_136 (Conv2D)             (None, 13, 13, 256)  590080      conv2d_135[0][0]                 \n",
            "__________________________________________________________________________________________________\n",
            "conv2d_transpose_2 (Conv2DTrans (None, 26, 26, 512)  1180160     conv2d_136[0][0]                 \n",
            "__________________________________________________________________________________________________\n",
            "conv2d_137 (Conv2D)             (None, 26, 26, 128)  589952      conv2d_transpose_2[0][0]         \n",
            "__________________________________________________________________________________________________\n",
            "conv2d_138 (Conv2D)             (None, 26, 26, 128)  147584      conv2d_137[0][0]                 \n",
            "__________________________________________________________________________________________________\n",
            "conv2d_transpose_3 (Conv2DTrans (None, 52, 52, 512)  590336      conv2d_138[0][0]                 \n",
            "__________________________________________________________________________________________________\n",
            "concatenate_9 (Concatenate)     (None, 52, 52, 576)  0           conv2d_transpose_3[0][0]         \n",
            "                                                                 conv2d_132[0][0]                 \n",
            "__________________________________________________________________________________________________\n",
            "conv2d_139 (Conv2D)             (None, 52, 52, 64)   331840      concatenate_9[0][0]              \n",
            "__________________________________________________________________________________________________\n",
            "conv2d_140 (Conv2D)             (None, 52, 52, 64)   36928       conv2d_139[0][0]                 \n",
            "__________________________________________________________________________________________________\n",
            "conv2d_transpose_4 (Conv2DTrans (None, 104, 104, 512 295424      conv2d_140[0][0]                 \n",
            "__________________________________________________________________________________________________\n",
            "concatenate_10 (Concatenate)    (None, 104, 104, 544 0           conv2d_transpose_4[0][0]         \n",
            "                                                                 conv2d_130[0][0]                 \n",
            "__________________________________________________________________________________________________\n",
            "conv2d_141 (Conv2D)             (None, 104, 104, 32) 156704      concatenate_10[0][0]             \n",
            "__________________________________________________________________________________________________\n",
            "conv2d_142 (Conv2D)             (None, 104, 104, 32) 9248        conv2d_141[0][0]                 \n",
            "__________________________________________________________________________________________________\n",
            "conv2d_143 (Conv2D)             (None, 104, 104, 2)  66          conv2d_142[0][0]                 \n",
            "==================================================================================================\n",
            "Total params: 4,509,926\n",
            "Trainable params: 4,509,924\n",
            "Non-trainable params: 2\n",
            "__________________________________________________________________________________________________\n",
            "None\n",
            "Train on 2486 samples, validate on 678 samples\n",
            "Epoch 1/3\n",
            "2486/2486 [==============================] - 74s 30ms/step - loss: 0.3547 - acc: 0.8827 - val_loss: 0.1971 - val_acc: 0.9147\n",
            "Epoch 2/3\n",
            "2486/2486 [==============================] - 64s 26ms/step - loss: 0.1920 - acc: 0.9163 - val_loss: 0.1798 - val_acc: 0.9230\n",
            "Epoch 3/3\n",
            "2486/2486 [==============================] - 64s 26ms/step - loss: 0.1585 - acc: 0.9332 - val_loss: 0.1303 - val_acc: 0.9476\n",
            "226/226 [==============================] - 3s 11ms/step\n",
            "Test : [0.1473092999127982, 0.9402114812251741]\n"
          ],
          "name": "stdout"
        }
      ]
    },
    {
      "metadata": {
        "id": "Z23en20QVGpC",
        "colab_type": "text"
      },
      "cell_type": "markdown",
      "source": [
        ""
      ]
    },
    {
      "metadata": {
        "id": "J743HAKqWKJ9",
        "colab_type": "text"
      },
      "cell_type": "markdown",
      "source": [
        "### 3."
      ]
    },
    {
      "metadata": {
        "id": "_JVNMLDzWL6b",
        "colab_type": "code",
        "colab": {
          "base_uri": "https://localhost:8080/",
          "height": 659
        },
        "outputId": "46c31a71-43bc-4bfb-f18a-f75dbca70d2a"
      },
      "cell_type": "code",
      "source": [
        "import keras\n",
        "from keras.layers.convolutional import Conv2D\n",
        "from keras.layers import Input\n",
        "from custom_loss import *\n",
        "from keras.utils import to_categorical\n",
        "from keras.activations import relu\n",
        "from keras.layers.core import Dropout\n",
        "from keras.layers import Input, Add, Multiply, Dense, BatchNormalization\n",
        "from keras.layers import LeakyReLU, MaxPooling2D, Conv2DTranspose, Concatenate, ZeroPadding2D\n",
        "from prepare_data import pad\n",
        "\n",
        "set_base_dir()\n",
        "import minc_keras\n",
        "from utils import *\n",
        "import numpy as np\n",
        "from minc_keras import *\n",
        "\n",
        "setup_dirs('pet_results')  \n",
        "### Load data from brain images and save them into .npy. Sort them into train/validate/test splits\n",
        "[images_pet, data_pet] = prepare_data('pet/','pet_results/data','pet_results/report',input_str='_pet.mnc', images_fn='pet.csv', label_str='brainmask', pad_base=3,ratios=[0.7,0.15], clobber=True)\n",
        "\n",
        "### 1) Load data\n",
        "Y_validate_pet=np.load(data_pet[\"validate_y_fn\"]+'.npy')\n",
        "nlabels_pet=len(np.unique(Y_validate_pet))\n",
        "X_train_pet=np.load(data_pet[\"train_x_fn\"]+'.npy')\n",
        "Y_train_pet=np.load(data_pet[\"train_y_fn\"]+'.npy')\n",
        "X_validate_pet=np.load(data_pet[\"validate_x_fn\"]+'.npy')\n",
        "\n",
        "X_test_pet=np.load(data_pet[\"test_x_fn\"]+'.npy')\n",
        "Y_test_pet=np.load(data_pet[\"test_y_fn\"]+'.npy')\n",
        "\n",
        "Y_test_pet=to_categorical(Y_test_pet)\n",
        "Y_train_pet = to_categorical(Y_train_pet, num_classes=nlabels_pet)\n",
        "Y_validate_pet = to_categorical(Y_validate_pet, num_classes=nlabels_pet)\n",
        "\n",
        "\n",
        "### Warning : if you change the number of times you downsample with max_pool,\n",
        "###           then you need to rerun prepare_data() with pad_base=<number of downsample nodes>\n",
        "model_name=\"mri_4.hdf5\"\n",
        "\n",
        "\n",
        "### 1) Define architecture of neural network    \n",
        "IN = Input(shape=(data_pet['image_dim'][1],data_pet['image_dim'][2] ,1))\n",
        "\n",
        "BN1 = BatchNormalization()(IN)\n",
        "\n",
        "conv1 = Convolution2D(32, 3, 3, activation='relu', border_mode='same')(BN1)\n",
        "conv1 = Convolution2D(32, 3, 3, activation='relu', border_mode='same')(conv1)\n",
        "pool1 = MaxPooling2D(pool_size=(2, 2))(conv1)\n",
        " \n",
        "conv2 = Convolution2D(64, 3, 3, activation='relu', border_mode='same')(pool1)\n",
        "conv2 = Convolution2D(64, 3, 3, activation='relu', border_mode='same')(conv2)\n",
        "pool2 = MaxPooling2D(pool_size=(2, 2))(conv2)\n",
        "\n",
        "conv3 = Convolution2D(128, 3, 3, activation='relu', border_mode='same')(pool2)\n",
        "conv3 = Convolution2D(128, 3, 3, activation='relu', border_mode='same')(conv3)\n",
        "pool3 = MaxPooling2D(pool_size=(2, 2))(conv3)\n",
        "\n",
        "conv4 = Convolution2D(256, 3, 3, activation='relu', border_mode='same')(pool3)\n",
        "conv4 = Convolution2D(256, 3, 3, activation='relu', border_mode='same')(conv4)\n",
        "pool4 = MaxPooling2D(pool_size=(2, 2))(conv4)\n",
        "\n",
        "conv5 = Convolution2D(512, 3, 3, activation='relu', border_mode='same')(pool4)\n",
        "conv5 = Convolution2D(512, 3, 3, activation='relu', border_mode='same')(conv5)\n",
        "\n",
        "up5 = UpSampling2D(size=(2, 2))(conv5)\n",
        "#up6 = Conv2DTranspose( filters=512, kernel_size=(3,3), strides=(2, 2), padding='same')(conv6)\n",
        "conc5 = Concatenate(axis=3)([up5, conv4])\n",
        "conv6 = Convolution2D(256, 3, 3, activation='relu', border_mode='same')(conc5)\n",
        "conv6 = Convolution2D(256, 3, 3, activation='relu', border_mode='same')(conv6)\n",
        "\n",
        "up6 = UpSampling2D(size=(2, 2))(conv6)\n",
        "#up6 = Conv2DTranspose( filters=512, kernel_size=(3,3), strides=(2, 2), padding='same')(conv6)\n",
        "conc6 = Concatenate(axis=3)([up6, conv3])\n",
        "conv7 = Convolution2D(128, 3, 3, activation='relu', border_mode='same')(conc6)\n",
        "conv7 = Convolution2D(128, 3, 3, activation='relu', border_mode='same')(conv7)\n",
        "\n",
        "up7 = UpSampling2D(size=(2, 2))(conv7)\n",
        "#up7 = Conv2DTranspose( filters=512, kernel_size=(3,3), strides=(2, 2), padding='same')(conv7)\n",
        "conc7 = Concatenate(axis=3)([up7, conv2])\n",
        "conv8 = Convolution2D(64, 3, 3, activation='relu', border_mode='same')(conc7) #(up8)\n",
        "conv8 = Convolution2D(64, 3, 3, activation='relu', border_mode='same')(conv8)\n",
        "\n",
        "up8 = UpSampling2D(size=(2, 2))(conv8)\n",
        "#up8 = Conv2DTranspose( filters=512, kernel_size=(3,3), strides=(2, 2), padding='same')(conv8)\n",
        "conc8 = Concatenate(axis=3)([up8, conv1])\n",
        "conv9 = Convolution2D(32, 3, 3, activation='relu', border_mode='same')(conc8)\n",
        "conv9 = Convolution2D(32, 3, 3, activation='relu', border_mode='same')(conv9)\n",
        "\n",
        "conv10 = Convolution2D(nlabels_pet, 1, 1, activation='softmax')(conv9)\n",
        "\n",
        "model = keras.models.Model(input=[IN], output=conv10)\n",
        "\n",
        "print(model.summary())\n",
        "\n",
        "#set compiler\n",
        "ada = keras.optimizers.Adam(0.0001)\n",
        "\n",
        "#compile the model\n",
        "model.compile(loss = 'categorical_crossentropy', optimizer=ada,metrics=['acc'] )\n",
        "#fit model\n",
        "\n",
        "history = model.fit([X_train_pet],Y_train_pet,  validation_data=([X_validate_pet], Y_validate_pet), epochs = 3)\n",
        "#save model   \n",
        "model.save(model_name)\n",
        "\n",
        "test_score = model.evaluate(X_test_pet, Y_test_pet)\n",
        "print(\"Test :\", test_score)\n",
        "\n"
      ],
      "execution_count": 16,
      "outputs": [
        {
          "output_type": "stream",
          "text": [
            "/usr/local/lib/python3.6/dist-packages/ipykernel_launcher.py:22: UserWarning: Update your `Conv2D` call to the Keras 2 API: `Conv2D(32, (3, 3), activation=\"relu\", padding=\"same\")`\n",
            "/usr/local/lib/python3.6/dist-packages/ipykernel_launcher.py:23: UserWarning: Update your `Conv2D` call to the Keras 2 API: `Conv2D(32, (3, 3), activation=\"relu\", padding=\"same\")`\n",
            "/usr/local/lib/python3.6/dist-packages/ipykernel_launcher.py:26: UserWarning: Update your `Conv2D` call to the Keras 2 API: `Conv2D(64, (3, 3), activation=\"relu\", padding=\"same\")`\n",
            "/usr/local/lib/python3.6/dist-packages/ipykernel_launcher.py:27: UserWarning: Update your `Conv2D` call to the Keras 2 API: `Conv2D(64, (3, 3), activation=\"relu\", padding=\"same\")`\n",
            "/usr/local/lib/python3.6/dist-packages/ipykernel_launcher.py:30: UserWarning: Update your `Conv2D` call to the Keras 2 API: `Conv2D(128, (3, 3), activation=\"relu\", padding=\"same\")`\n",
            "/usr/local/lib/python3.6/dist-packages/ipykernel_launcher.py:31: UserWarning: Update your `Conv2D` call to the Keras 2 API: `Conv2D(128, (3, 3), activation=\"relu\", padding=\"same\")`\n",
            "/usr/local/lib/python3.6/dist-packages/ipykernel_launcher.py:34: UserWarning: Update your `Conv2D` call to the Keras 2 API: `Conv2D(256, (3, 3), activation=\"relu\", padding=\"same\")`\n",
            "/usr/local/lib/python3.6/dist-packages/ipykernel_launcher.py:35: UserWarning: Update your `Conv2D` call to the Keras 2 API: `Conv2D(256, (3, 3), activation=\"relu\", padding=\"same\")`\n",
            "/usr/local/lib/python3.6/dist-packages/ipykernel_launcher.py:38: UserWarning: Update your `Conv2D` call to the Keras 2 API: `Conv2D(512, (3, 3), activation=\"relu\", padding=\"same\")`\n",
            "/usr/local/lib/python3.6/dist-packages/ipykernel_launcher.py:39: UserWarning: Update your `Conv2D` call to the Keras 2 API: `Conv2D(512, (3, 3), activation=\"relu\", padding=\"same\")`\n"
          ],
          "name": "stderr"
        },
        {
          "output_type": "error",
          "ename": "ValueError",
          "evalue": "ignored",
          "traceback": [
            "\u001b[0;31m---------------------------------------------------------------------------\u001b[0m",
            "\u001b[0;31mValueError\u001b[0m                                Traceback (most recent call last)",
            "\u001b[0;32m<ipython-input-16-b846ff294059>\u001b[0m in \u001b[0;36m<module>\u001b[0;34m()\u001b[0m\n\u001b[1;32m     41\u001b[0m \u001b[0mup5\u001b[0m \u001b[0;34m=\u001b[0m \u001b[0mUpSampling2D\u001b[0m\u001b[0;34m(\u001b[0m\u001b[0msize\u001b[0m\u001b[0;34m=\u001b[0m\u001b[0;34m(\u001b[0m\u001b[0;36m2\u001b[0m\u001b[0;34m,\u001b[0m \u001b[0;36m2\u001b[0m\u001b[0;34m)\u001b[0m\u001b[0;34m)\u001b[0m\u001b[0;34m(\u001b[0m\u001b[0mconv5\u001b[0m\u001b[0;34m)\u001b[0m\u001b[0;34m\u001b[0m\u001b[0;34m\u001b[0m\u001b[0m\n\u001b[1;32m     42\u001b[0m \u001b[0;31m#up6 = Conv2DTranspose( filters=512, kernel_size=(3,3), strides=(2, 2), padding='same')(conv6)\u001b[0m\u001b[0;34m\u001b[0m\u001b[0;34m\u001b[0m\u001b[0;34m\u001b[0m\u001b[0m\n\u001b[0;32m---> 43\u001b[0;31m \u001b[0mconc5\u001b[0m \u001b[0;34m=\u001b[0m \u001b[0mConcatenate\u001b[0m\u001b[0;34m(\u001b[0m\u001b[0maxis\u001b[0m\u001b[0;34m=\u001b[0m\u001b[0;36m3\u001b[0m\u001b[0;34m)\u001b[0m\u001b[0;34m(\u001b[0m\u001b[0;34m[\u001b[0m\u001b[0mup5\u001b[0m\u001b[0;34m,\u001b[0m \u001b[0mconv4\u001b[0m\u001b[0;34m]\u001b[0m\u001b[0;34m)\u001b[0m\u001b[0;34m\u001b[0m\u001b[0;34m\u001b[0m\u001b[0m\n\u001b[0m\u001b[1;32m     44\u001b[0m \u001b[0mconv6\u001b[0m \u001b[0;34m=\u001b[0m \u001b[0mConvolution2D\u001b[0m\u001b[0;34m(\u001b[0m\u001b[0;36m256\u001b[0m\u001b[0;34m,\u001b[0m \u001b[0;36m3\u001b[0m\u001b[0;34m,\u001b[0m \u001b[0;36m3\u001b[0m\u001b[0;34m,\u001b[0m \u001b[0mactivation\u001b[0m\u001b[0;34m=\u001b[0m\u001b[0;34m'relu'\u001b[0m\u001b[0;34m,\u001b[0m \u001b[0mborder_mode\u001b[0m\u001b[0;34m=\u001b[0m\u001b[0;34m'same'\u001b[0m\u001b[0;34m)\u001b[0m\u001b[0;34m(\u001b[0m\u001b[0mconc5\u001b[0m\u001b[0;34m)\u001b[0m\u001b[0;34m\u001b[0m\u001b[0;34m\u001b[0m\u001b[0m\n\u001b[1;32m     45\u001b[0m \u001b[0mconv6\u001b[0m \u001b[0;34m=\u001b[0m \u001b[0mConvolution2D\u001b[0m\u001b[0;34m(\u001b[0m\u001b[0;36m256\u001b[0m\u001b[0;34m,\u001b[0m \u001b[0;36m3\u001b[0m\u001b[0;34m,\u001b[0m \u001b[0;36m3\u001b[0m\u001b[0;34m,\u001b[0m \u001b[0mactivation\u001b[0m\u001b[0;34m=\u001b[0m\u001b[0;34m'relu'\u001b[0m\u001b[0;34m,\u001b[0m \u001b[0mborder_mode\u001b[0m\u001b[0;34m=\u001b[0m\u001b[0;34m'same'\u001b[0m\u001b[0;34m)\u001b[0m\u001b[0;34m(\u001b[0m\u001b[0mconv6\u001b[0m\u001b[0;34m)\u001b[0m\u001b[0;34m\u001b[0m\u001b[0;34m\u001b[0m\u001b[0m\n",
            "\u001b[0;32m/usr/local/lib/python3.6/dist-packages/keras/engine/base_layer.py\u001b[0m in \u001b[0;36m__call__\u001b[0;34m(self, inputs, **kwargs)\u001b[0m\n\u001b[1;32m    429\u001b[0m                                          \u001b[0;34m'You can build it manually via: '\u001b[0m\u001b[0;34m\u001b[0m\u001b[0;34m\u001b[0m\u001b[0m\n\u001b[1;32m    430\u001b[0m                                          '`layer.build(batch_input_shape)`')\n\u001b[0;32m--> 431\u001b[0;31m                 \u001b[0mself\u001b[0m\u001b[0;34m.\u001b[0m\u001b[0mbuild\u001b[0m\u001b[0;34m(\u001b[0m\u001b[0munpack_singleton\u001b[0m\u001b[0;34m(\u001b[0m\u001b[0minput_shapes\u001b[0m\u001b[0;34m)\u001b[0m\u001b[0;34m)\u001b[0m\u001b[0;34m\u001b[0m\u001b[0;34m\u001b[0m\u001b[0m\n\u001b[0m\u001b[1;32m    432\u001b[0m                 \u001b[0mself\u001b[0m\u001b[0;34m.\u001b[0m\u001b[0mbuilt\u001b[0m \u001b[0;34m=\u001b[0m \u001b[0;32mTrue\u001b[0m\u001b[0;34m\u001b[0m\u001b[0;34m\u001b[0m\u001b[0m\n\u001b[1;32m    433\u001b[0m \u001b[0;34m\u001b[0m\u001b[0m\n",
            "\u001b[0;32m/usr/local/lib/python3.6/dist-packages/keras/layers/merge.py\u001b[0m in \u001b[0;36mbuild\u001b[0;34m(self, input_shape)\u001b[0m\n\u001b[1;32m    360\u001b[0m                              \u001b[0;34m'inputs with matching shapes '\u001b[0m\u001b[0;34m\u001b[0m\u001b[0;34m\u001b[0m\u001b[0m\n\u001b[1;32m    361\u001b[0m                              \u001b[0;34m'except for the concat axis. '\u001b[0m\u001b[0;34m\u001b[0m\u001b[0;34m\u001b[0m\u001b[0m\n\u001b[0;32m--> 362\u001b[0;31m                              'Got inputs shapes: %s' % (input_shape))\n\u001b[0m\u001b[1;32m    363\u001b[0m \u001b[0;34m\u001b[0m\u001b[0m\n\u001b[1;32m    364\u001b[0m     \u001b[0;32mdef\u001b[0m \u001b[0m_merge_function\u001b[0m\u001b[0;34m(\u001b[0m\u001b[0mself\u001b[0m\u001b[0;34m,\u001b[0m \u001b[0minputs\u001b[0m\u001b[0;34m)\u001b[0m\u001b[0;34m:\u001b[0m\u001b[0;34m\u001b[0m\u001b[0;34m\u001b[0m\u001b[0m\n",
            "\u001b[0;31mValueError\u001b[0m: A `Concatenate` layer requires inputs with matching shapes except for the concat axis. Got inputs shapes: [(None, 12, 12, 512), (None, 13, 13, 256)]"
          ]
        }
      ]
    },
    {
      "metadata": {
        "id": "j6jBPK8qEn26",
        "colab_type": "text"
      },
      "cell_type": "markdown",
      "source": [
        "### 4. "
      ]
    },
    {
      "metadata": {
        "colab_type": "code",
        "id": "lzd3DkZFzTpw",
        "colab": {}
      },
      "cell_type": "code",
      "source": [
        "import keras\n",
        "from keras.layers.convolutional import Conv2D\n",
        "from keras.layers import Input\n",
        "from custom_loss import *\n",
        "from keras.utils import to_categorical\n",
        "from keras.activations import relu\n",
        "from keras.layers.core import Dropout\n",
        "from keras.layers import Input, Add, Multiply, Dense, BatchNormalization\n",
        "from keras.layers import LeakyReLU, MaxPooling2D, Conv2DTranspose, Concatenate, ZeroPadding2D\n",
        "from prepare_data import pad\n",
        "\n",
        "### Load data from brain images and save them into .npy. Sort them into train/validate/test splits\n",
        "setup_dirs('mri_results')  \n",
        "[images_mri_pad_4, data_mri_pad_4] = prepare_data('mri','mri_results/data', 'mri_results/report', input_str='_T1w_anat_rsl.mnc',\\\n",
        "                                                  label_str='variant-seg',images_fn='mri_unet.csv',pad_base=4, clobber=True)\n",
        "\n",
        "### 1) Load data\n",
        "Y_validate_mri_pad_4=np.load(data_mri_pad_4[\"validate_y_fn\"]+'.npy')\n",
        "nlabels_mri_pad_4=len(np.unique(Y_validate_mri_pad_4))\n",
        "\n",
        "X_train_mri_pad_4=np.load(data_mri_pad_4[\"train_x_fn\"]+'.npy')\n",
        "Y_train_mri_pad_4=np.load(data_mri_pad_4[\"train_y_fn\"]+'.npy')\n",
        "X_validate_mri_pad_4=np.load(data_mri_pad_4[\"validate_x_fn\"]+'.npy')\n",
        "\n",
        "X_test_mri_pad_4=np.load(data_mri_pad_4[\"test_x_fn\"]+'.npy')\n",
        "Y_test_mri_pad_4=np.load(data_mri_pad_4[\"test_y_fn\"]+'.npy')\n",
        "\n",
        "Y_test_mri_pad_4=to_categorical(Y_test_mri_pad_4)\n",
        "Y_train_mri_pad_4 = to_categorical(Y_train_mri_pad_4, num_classes=nlabels_mri_pad_4)\n",
        "Y_validate_mri_pad_4 = to_categorical(Y_validate_mri_pad_4, num_classes=nlabels_mri_pad_4)\n",
        "\n",
        "### Warning : if you change the number of times you downsample with max_pool,\n",
        "###           then you need to rerun prepare_data() with pad_base=<number of downsample nodes>\n",
        "model_name=\"mri_unet.hdf5\"\n",
        "\n",
        "\n",
        "### 1) Define architecture of neural network    \n",
        "IN = Input(shape=(data_mri_pad_4['image_dim'][1],data_mri_pad_4['image_dim'][2] ,1))\n",
        "\n",
        "BN1 = BatchNormalization()(IN)\n",
        "\n",
        "conv1 = Convolution2D(32, 3, 3, activation='relu', border_mode='same')(BN1)\n",
        "conv1 = Convolution2D(32, 3, 3, activation='relu', border_mode='same')(conv1)\n",
        "pool1 = MaxPooling2D(pool_size=(2, 2))(conv1)\n",
        " \n",
        "conv2 = Convolution2D(64, 3, 3, activation='relu', border_mode='same')(pool1)\n",
        "conv2 = Convolution2D(64, 3, 3, activation='relu', border_mode='same')(conv2)\n",
        "pool2 = MaxPooling2D(pool_size=(2, 2))(conv2)\n",
        "\n",
        "conv3 = Convolution2D(128, 3, 3, activation='relu', border_mode='same')(pool2)\n",
        "conv3 = Convolution2D(128, 3, 3, activation='relu', border_mode='same')(conv3)\n",
        "pool3 = MaxPooling2D(pool_size=(2, 2))(conv3)\n",
        "\n",
        "conv4 = Convolution2D(256, 3, 3, activation='relu', border_mode='same')(pool3)\n",
        "conv4 = Convolution2D(256, 3, 3, activation='relu', border_mode='same')(conv4)\n",
        "pool4 = MaxPooling2D(pool_size=(2, 2))(conv4)\n",
        "\n",
        "conv5 = Convolution2D(512, 3, 3, activation='relu', border_mode='same')(pool4)\n",
        "conv5 = Convolution2D(512, 3, 3, activation='relu', border_mode='same')(conv5)\n",
        "\n",
        "up5 = UpSampling2D(size=(2, 2))(conv5)\n",
        "#up6 = Conv2DTranspose( filters=512, kernel_size=(3,3), strides=(2, 2), padding='same')(conv6)\n",
        "conc5 = Concatenate(axis=3)([up5, conv4])\n",
        "conv6 = Convolution2D(256, 3, 3, activation='relu', border_mode='same')(conc5)\n",
        "conv6 = Convolution2D(256, 3, 3, activation='relu', border_mode='same')(conv6)\n",
        "\n",
        "up6 = UpSampling2D(size=(2, 2))(conv6)\n",
        "#up6 = Conv2DTranspose( filters=512, kernel_size=(3,3), strides=(2, 2), padding='same')(conv6)\n",
        "conc6 = Concatenate(axis=3)([up6, conv3])\n",
        "conv7 = Convolution2D(128, 3, 3, activation='relu', border_mode='same')(conc6)\n",
        "conv7 = Convolution2D(128, 3, 3, activation='relu', border_mode='same')(conv7)\n",
        "\n",
        "up7 = UpSampling2D(size=(2, 2))(conv7)\n",
        "#up7 = Conv2DTranspose( filters=512, kernel_size=(3,3), strides=(2, 2), padding='same')(conv7)\n",
        "conc7 = Concatenate(axis=3)([up7, conv2])\n",
        "conv8 = Convolution2D(64, 3, 3, activation='relu', border_mode='same')(conc7) #(up8)\n",
        "conv8 = Convolution2D(64, 3, 3, activation='relu', border_mode='same')(conv8)\n",
        "\n",
        "up8 = UpSampling2D(size=(2, 2))(conv8)\n",
        "#up8 = Conv2DTranspose( filters=512, kernel_size=(3,3), strides=(2, 2), padding='same')(conv8)\n",
        "conc8 = Concatenate(axis=3)([up8, conv1])\n",
        "conv9 = Convolution2D(32, 3, 3, activation='relu', border_mode='same')(conc8)\n",
        "conv9 = Convolution2D(32, 3, 3, activation='relu', border_mode='same')(conv9)\n",
        "\n",
        "conv10 = Convolution2D(nlabels_mri_pad_4, 1, 1, activation='softmax')(conv9)\n",
        "\n",
        "model = keras.models.Model(input=[IN], output=conv10)\n",
        "\n",
        "print(model.summary())\n",
        "\n",
        "#set compiler\n",
        "ada = keras.optimizers.Adam(0.0001)\n",
        "#compile the model\n",
        "model.compile(loss = 'categorical_crossentropy', optimizer=ada,metrics=['acc'] )\n",
        "#fit model\n",
        "history = model.fit([X_train_mri_pad_4],Y_train_mri_pad_4,  validation_data=([X_validate_mri_pad_4], Y_validate_mri_pad_4), epochs = 3)\n",
        "#save model   \n",
        "model.save(model_name)\n",
        "\n",
        "test_score = model.evaluate(X_test_mri_pad_4, Y_test_mri_pad_4)\n",
        "print(\"Test :\", test_score)\n"
      ],
      "execution_count": 0,
      "outputs": []
    },
    {
      "metadata": {
        "id": "XlDzUb8nLIzc",
        "colab_type": "code",
        "colab": {}
      },
      "cell_type": "code",
      "source": [
        "###Create predictions for model\n",
        "from predict import *\n",
        "predict('mri_unet.hdf5', test_dir, 'mri_results/data', 'mri_results/report/mri_unet.csv', 'categorical_crossentropy', images_to_predict='all', category=\"test\", verbose=True)"
      ],
      "execution_count": 0,
      "outputs": []
    },
    {
      "metadata": {
        "id": "8SgbItuJdQPd",
        "colab_type": "code",
        "colab": {
          "base_uri": "https://localhost:8080/",
          "height": 68
        },
        "outputId": "af86cd8a-cc85-40c0-e1d7-9cb878512eb1"
      },
      "cell_type": "code",
      "source": [
        "from google.colab import files\n",
        "from glob import glob\n",
        "for fn in glob('pet_results/predict/test/*.png') :  \n",
        "  print(fn)\n",
        "  files.download(fn)"
      ],
      "execution_count": 27,
      "outputs": [
        {
          "output_type": "stream",
          "text": [
            "pet_results/predict/test/sub-70106_task-01_ses-01_T1w_anat_rsl_predict_0.png\n",
            "pet_results/predict/test/sub-55652_task-01_ses-01_T1w_anat_rsl_predict_2.png\n",
            "pet_results/predict/test/sub-06880_task-01_ses-01_T1w_anat_rsl_predict_1.png\n"
          ],
          "name": "stdout"
        }
      ]
    },
    {
      "metadata": {
        "id": "v9SQSNiSIz-7",
        "colab_type": "text"
      },
      "cell_type": "markdown",
      "source": [
        "### 5.\n",
        "\n",
        "Modify the code for solutions 3 to improve network for PET segmentation.\n",
        "\n",
        "Modify answer to question 4 to improve MRI segmentation."
      ]
    },
    {
      "metadata": {
        "id": "1fGv2-swLH0i",
        "colab_type": "code",
        "colab": {}
      },
      "cell_type": "code",
      "source": [
        ""
      ],
      "execution_count": 0,
      "outputs": []
    }
  ]
}