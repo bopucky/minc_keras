{
  "nbformat": 4,
  "nbformat_minor": 0,
  "metadata": {
    "colab": {
      "name": "main2019.ipynb",
      "version": "0.3.2",
      "provenance": []
    },
    "kernelspec": {
      "display_name": "Python 3",
      "language": "python",
      "name": "python3"
    }
  },
  "cells": [
    {
      "metadata": {
        "id": "a--rFzYazTo2",
        "colab_type": "text"
      },
      "cell_type": "markdown",
      "source": [
        "# Introduction to Brain Segmentation with Keras\n",
        "\n",
        "# ***MAIN 2019 Educational Course***\n",
        "\n",
        "## Thomas Funck\n",
        "\n",
        "## McGill University\n",
        "\n",
        "## **Contact**: email: [tffunck@gmail.com](mailto:tffunck@gmail.com) , Twitter: [@tffunck](https://twitter.com/tffunck)"
      ]
    },
    {
      "metadata": {
        "id": "65Sg-1ESzv8O",
        "colab_type": "code",
        "colab": {
          "base_uri": "https://localhost:8080/",
          "height": 85
        },
        "outputId": "4c10ac0b-6e84-4007-841f-121e270e6d32"
      },
      "cell_type": "code",
      "source": [
        "#Download repository\n",
        "!git init\n",
        "!git remote add origin https://github.com/tfunck/minc_keras\n",
        "!git fetch origin master\n",
        "\n",
        "#Switch dir\n",
        "import os\n",
        "if os.getcwd() == '/content/minc_keras/' : os.chdir('minc_keras')\n",
        "\n",
        "#Unzip\n",
        "!tar -jxvf data/output.tar.bz2 &> /dev/null"
      ],
      "execution_count": 45,
      "outputs": [
        {
          "output_type": "stream",
          "text": [
            "Reinitialized existing Git repository in /content/minc_keras/.git/\n",
            "fatal: remote origin already exists.\n",
            "From https://github.com/tfunck/minc_keras\n",
            " * branch            master     -> FETCH_HEAD\n"
          ],
          "name": "stdout"
        }
      ]
    },
    {
      "metadata": {
        "id": "F5dHDJJBzTo4",
        "colab_type": "text"
      },
      "cell_type": "markdown",
      "source": [
        "# ***Outline***\n",
        "# 1. Basic Concepts\n",
        "## --1.1 Introductory Examples\n",
        "## --1.2 Parameters\n",
        "## --1.3 Receptive Field\n",
        "## --1.4 Cross-validation\n",
        "## --1.5 Final activation functions\n",
        "# 2. Simple Networks\n",
        "## --2.1 Base\n",
        "## --2.2 Drop-out\n",
        "## --2.4 Dilations\n",
        "# 3. U-Net\n",
        "## --3.1 Max-pool \n",
        "## --3.2 Upsampling\n",
        "## --3.3 Concatenating"
      ]
    },
    {
      "metadata": {
        "id": "rp0rzqT5zTo5",
        "colab_type": "text"
      },
      "cell_type": "markdown",
      "source": [
        "# Example of a simple convolutional neural network\n",
        "## 1 Layer, 3 Kernels of 3x3 size\n",
        "\n",
        "![](https://github.com/tfunck/minc_keras/blob/master/images/conv_1.png?raw=1)\n",
        "\n",
        "## ***Keras Output:***"
      ]
    },
    {
      "metadata": {
        "id": "yWuBDhTYzTo6",
        "colab_type": "code",
        "colab": {
          "base_uri": "https://localhost:8080/",
          "height": 476
        },
        "outputId": "fb9d17d2-b9ac-4189-d7e1-f30990949ead"
      },
      "cell_type": "code",
      "source": [
        "from minc_keras import minc_keras\n",
        "minc_keras.minc_keras(source_dir=\"output\", target_dir=\"results\", input_str=\"T1w_anat_rsl.mnc\",\\\n",
        "           label_str=\"variant-seg_rsl.mnc\", ratios=[0.7,0.15,0.15], nK=\"3\", kernel_size=3,\\\n",
        "           model_type=\"custom\", nb_epoch=0, make_model_only=True, verbose=0) \n"
      ],
      "execution_count": 55,
      "outputs": [
        {
          "output_type": "stream",
          "text": [
            "1 [92, 110, 92]\n",
            "2 [92, 110, 92]\n",
            "N Labels: 3\n",
            "Kernels per layer [3]\n",
            "Kernel size: 3\n",
            "Drop out: 0\n",
            "Activation hidden: relu\n",
            "Activation output: sigmoid\n",
            "Layer: 0 3 3\n",
            "N Labels: 3\n",
            "_________________________________________________________________\n",
            "Layer (type)                 Output Shape              Param #   \n",
            "=================================================================\n",
            "input_4 (InputLayer)         (None, 110, 92, 1)        0         \n",
            "_________________________________________________________________\n",
            "conv2d_7 (Conv2D)            (None, 110, 92, 3)        30        \n",
            "_________________________________________________________________\n",
            "dropout_4 (Dropout)          (None, 110, 92, 3)        0         \n",
            "_________________________________________________________________\n",
            "conv2d_8 (Conv2D)            (None, 110, 92, 3)        12        \n",
            "=================================================================\n",
            "Total params: 42\n",
            "Trainable params: 42\n",
            "Non-trainable params: 0\n",
            "_________________________________________________________________\n",
            "None\n"
          ],
          "name": "stdout"
        },
        {
          "output_type": "execute_result",
          "data": {
            "text/plain": [
              "0"
            ]
          },
          "metadata": {
            "tags": []
          },
          "execution_count": 55
        }
      ]
    },
    {
      "metadata": {
        "id": "SEejHgeS_hSX",
        "colab_type": "text"
      },
      "cell_type": "markdown",
      "source": [
        "```\n",
        "Layer (type)                 Output Shape              Param #   \n",
        "=================================================================\n",
        "input_1 (InputLayer)         (None, 110, 92, 1)        0         \n",
        "_________________________________________________________________\n",
        "conv2d_1 (Conv2D)            (None, 110, 92, 3)        30        \n",
        "_________________________________________________________________\n",
        "dropout_1 (Dropout)          (None, 110, 92, 3)        0         \n",
        "_________________________________________________________________\n",
        "conv2d_2 (Conv2D)            (None, 110, 92, 3)        12        \n",
        "=================================================================\n",
        "Total params: 42\n",
        "Trainable params: 42\n",
        "Non-trainable params: 0\n",
        "_________________________________________________________________\n",
        "None\n",
        "```"
      ]
    },
    {
      "metadata": {
        "id": "hqV5xJPY_fcr",
        "colab_type": "text"
      },
      "cell_type": "markdown",
      "source": [
        ""
      ]
    },
    {
      "metadata": {
        "id": "6hydP1gbzTo8",
        "colab_type": "text"
      },
      "cell_type": "markdown",
      "source": [
        "# Adding in a second layer\n",
        "## 2 Layers, 3 Kernels of 3x3 size\n",
        "![](https://github.com/tfunck/minc_keras/blob/master/images/conv_2.png?raw=1)\n",
        "## ***Keras Output:***"
      ]
    },
    {
      "metadata": {
        "id": "gWIM3Ra-zTo8",
        "colab_type": "code",
        "colab": {
          "base_uri": "https://localhost:8080/",
          "height": 561
        },
        "outputId": "db332050-7bce-4029-e2d1-8436fdf01e85"
      },
      "cell_type": "code",
      "source": [
        "minc_keras.minc_keras(source_dir=\"data/output\", target_dir=\"results\", input_str=\"T1w_anat_rsl.mnc\",\\\n",
        "           label_str=\"variant-seg_rsl.mnc\", ratios=[0.7,0.15,0.15], nK=\"3,3\", kernel_size=3,\\\n",
        "           model_type=\"custom\", nb_epoch=0, make_model_only=True)"
      ],
      "execution_count": 56,
      "outputs": [
        {
          "output_type": "stream",
          "text": [
            "1 [92, 110, 92]\n",
            "2 [92, 110, 92]\n",
            "N Labels: 3\n",
            "Kernels per layer [3, 3]\n",
            "Kernel size: 3\n",
            "Drop out: 0\n",
            "Activation hidden: relu\n",
            "Activation output: sigmoid\n",
            "Layer: 0 3 3\n",
            "Layer: 1 3 3\n",
            "N Labels: 3\n",
            "_________________________________________________________________\n",
            "Layer (type)                 Output Shape              Param #   \n",
            "=================================================================\n",
            "input_5 (InputLayer)         (None, 110, 92, 1)        0         \n",
            "_________________________________________________________________\n",
            "conv2d_9 (Conv2D)            (None, 110, 92, 3)        30        \n",
            "_________________________________________________________________\n",
            "dropout_5 (Dropout)          (None, 110, 92, 3)        0         \n",
            "_________________________________________________________________\n",
            "conv2d_10 (Conv2D)           (None, 110, 92, 3)        84        \n",
            "_________________________________________________________________\n",
            "dropout_6 (Dropout)          (None, 110, 92, 3)        0         \n",
            "_________________________________________________________________\n",
            "conv2d_11 (Conv2D)           (None, 110, 92, 3)        12        \n",
            "=================================================================\n",
            "Total params: 126\n",
            "Trainable params: 126\n",
            "Non-trainable params: 0\n",
            "_________________________________________________________________\n",
            "None\n"
          ],
          "name": "stdout"
        },
        {
          "output_type": "execute_result",
          "data": {
            "text/plain": [
              "0"
            ]
          },
          "metadata": {
            "tags": []
          },
          "execution_count": 56
        }
      ]
    },
    {
      "metadata": {
        "id": "I9R1zJD8zTo_",
        "colab_type": "text"
      },
      "cell_type": "markdown",
      "source": [
        "# Adding in a second layer\n",
        "## 3 Layers, 3 Kernels of 3x3 size\n",
        "![](https://github.com/tfunck/minc_keras/blob/master/images/conv_3.png?raw=1)\n",
        "## ***Keras Output:***"
      ]
    },
    {
      "metadata": {
        "id": "n2nAiMxUzTo_",
        "colab_type": "code",
        "colab": {
          "base_uri": "https://localhost:8080/",
          "height": 646
        },
        "outputId": "d2a3d9e2-9305-49d5-ceba-c09cd219df8d"
      },
      "cell_type": "code",
      "source": [
        "minc_keras.minc_keras(source_dir=\"data/output\", target_dir=\"results\", input_str=\"T1w_anat_rsl.mnc\",\\\n",
        "           label_str=\"variant-seg_rsl.mnc\", ratios=[0.7,0.15,0.15], nK=\"3,3,3\", kernel_size=3,\\\n",
        "           model_type=\"custom\", nb_epoch=0, make_model_only=True)"
      ],
      "execution_count": 58,
      "outputs": [
        {
          "output_type": "stream",
          "text": [
            "1 [92, 110, 92]\n",
            "2 [92, 110, 92]\n",
            "N Labels: 3\n",
            "Kernels per layer [3, 3, 3]\n",
            "Kernel size: 3\n",
            "Drop out: 0\n",
            "Activation hidden: relu\n",
            "Activation output: sigmoid\n",
            "Layer: 0 3 3\n",
            "Layer: 1 3 3\n",
            "Layer: 2 3 3\n",
            "N Labels: 3\n",
            "_________________________________________________________________\n",
            "Layer (type)                 Output Shape              Param #   \n",
            "=================================================================\n",
            "input_6 (InputLayer)         (None, 110, 92, 1)        0         \n",
            "_________________________________________________________________\n",
            "conv2d_12 (Conv2D)           (None, 110, 92, 3)        30        \n",
            "_________________________________________________________________\n",
            "dropout_7 (Dropout)          (None, 110, 92, 3)        0         \n",
            "_________________________________________________________________\n",
            "conv2d_13 (Conv2D)           (None, 110, 92, 3)        84        \n",
            "_________________________________________________________________\n",
            "dropout_8 (Dropout)          (None, 110, 92, 3)        0         \n",
            "_________________________________________________________________\n",
            "conv2d_14 (Conv2D)           (None, 110, 92, 3)        84        \n",
            "_________________________________________________________________\n",
            "dropout_9 (Dropout)          (None, 110, 92, 3)        0         \n",
            "_________________________________________________________________\n",
            "conv2d_15 (Conv2D)           (None, 110, 92, 3)        12        \n",
            "=================================================================\n",
            "Total params: 210\n",
            "Trainable params: 210\n",
            "Non-trainable params: 0\n",
            "_________________________________________________________________\n",
            "None\n"
          ],
          "name": "stdout"
        },
        {
          "output_type": "execute_result",
          "data": {
            "text/plain": [
              "0"
            ]
          },
          "metadata": {
            "tags": []
          },
          "execution_count": 58
        }
      ]
    },
    {
      "metadata": {
        "id": "QSxAll0fzTpB",
        "colab_type": "text"
      },
      "cell_type": "markdown",
      "source": [
        "# How many parameters in a convolutional layer?\n",
        "## $N_{parameters} = N_{kernels} \\times Kernel_{Dimension1} \\times Kernel_{Dimension2}  + N_{kernels}$\n",
        "### ***Example: Layer with 3 kernels of 3x3 size + 1 bias parameter per kernel = 3x3x3+3 = 30 parameters*** \n",
        "\n",
        "\n",
        "```\n",
        "Layer (type)                 Output Shape              Param #   \n",
        "=================================================================\n",
        "input_2 (InputLayer)         (None, 110, 92, 1)        0         \n",
        "_________________________________________________________________\n",
        "conv2d_3 (Conv2D)            (None, 110, 92, 3)        30        \n",
        "_________________________________________________________________\n",
        "dropout_2 (Dropout)          (None, 110, 92, 3)        0         \n",
        "_________________________________________________________________\n",
        "conv2d_4 (Conv2D)            (None, 110, 92, 3)        84        \n",
        "_________________________________________________________________\n",
        "dropout_3 (Dropout)          (None, 110, 92, 3)        0         \n",
        "_________________________________________________________________\n",
        "conv2d_5 (Conv2D)            (None, 110, 92, 3)        84        \n",
        "_________________________________________________________________\n",
        "dropout_4 (Dropout)          (None, 110, 92, 3)        0         \n",
        "_________________________________________________________________\n",
        "conv2d_6 (Conv2D)            (None, 110, 92, 3)        12        \n",
        "=================================================================\n",
        "Total params: 210\n",
        "Trainable params: 210\n",
        "Non-trainable params: 0\n",
        "_________________________________________________________________\n",
        "None\n",
        "```\n",
        "# Parameters in ***conv2d_3***  and ***conv2d_4*** are different? What gives?"
      ]
    },
    {
      "metadata": {
        "id": "K9nEml0-zTpB",
        "colab_type": "text"
      },
      "cell_type": "markdown",
      "source": [
        "![](https://github.com/tfunck/minc_keras/blob/master/images/depth_0_1.png?raw=1)\n",
        "## Layer with N kernels with turn a 2D (X,Y) input into a 3D (X,Y,N) array\n",
        "## --> 3x3 kernels for next layer must have dimensions of (3,3,N) to convolve (X,Y,N) image"
      ]
    },
    {
      "metadata": {
        "id": "GSqejpTPzTpD",
        "colab_type": "text"
      },
      "cell_type": "markdown",
      "source": [
        "![](https://github.com/tfunck/minc_keras/blob/master/images/depth_0_2.png?raw=1)\n",
        "## $N_{parameters} = N_{kernels} \\times Kernel_{Dimension1} \\times Kernel_{Dimension2} \\times Input_{Channels}  + N_{kernels}$\n",
        "### ***Example: Layer with 3 3x3 kernels and 3 channels + 3 bias parameters = 3x3x3x3+3 = 84 parameters*** "
      ]
    },
    {
      "metadata": {
        "id": "1zXZTwrJzTpD",
        "colab_type": "text"
      },
      "cell_type": "markdown",
      "source": [
        "# How to transform multi-channel layers so that final output layer matches labels? \n",
        "![](https://github.com/tfunck/minc_keras/blob/master/images/depth_1.png?raw=1)"
      ]
    },
    {
      "metadata": {
        "id": "EaK2zUn0zTpE",
        "colab_type": "text"
      },
      "cell_type": "markdown",
      "source": [
        "![](https://github.com/tfunck/minc_keras/blob/master/images/depth_2.png?raw=1)"
      ]
    },
    {
      "metadata": {
        "id": "B921eE6KzTpF",
        "colab_type": "text"
      },
      "cell_type": "markdown",
      "source": [
        "# Receptive Field\n",
        "\n",
        "## 3 Layers, 16 Kernels of 3x3 size\n",
        "![](https://github.com/tfunck/minc_keras/blob/master/images/conv_3.png?raw=1)"
      ]
    },
    {
      "metadata": {
        "id": "ZB0ZXe4DzTpF",
        "colab_type": "text"
      },
      "cell_type": "markdown",
      "source": [
        "# Training a simple model"
      ]
    },
    {
      "metadata": {
        "id": "vDqzkarSzTpF",
        "colab_type": "code",
        "colab": {}
      },
      "cell_type": "code",
      "source": [
        "minc_keras.minc_keras(source_dir=\"data/output\", target_dir=\"results\", input_str=\"T1w_anat_rsl.mnc\",\\\n",
        "           label_str=\"variant-seg_rsl.mnc\", ratios=[0.7,0.15,0.15], nK=\"16,16,16\", kernel_size=3,\\\n",
        "           model_type=\"custom\", nb_epoch=)"
      ],
      "execution_count": 0,
      "outputs": []
    },
    {
      "metadata": {
        "id": "1_J1YOL_Lw05",
        "colab_type": "text"
      },
      "cell_type": "markdown",
      "source": [
        "## Understanding Keras output\n",
        "```\n",
        "Layer (type)                 Output Shape              Param #   \n",
        "=================================================================\n",
        "input_7 (InputLayer)         (None, 110, 92, 1)        0         \n",
        "_________________________________________________________________\n",
        "conv2d_16 (Conv2D)           (None, 110, 92, 16)       160       \n",
        "_________________________________________________________________\n",
        "dropout_10 (Dropout)         (None, 110, 92, 16)       0         \n",
        "_________________________________________________________________\n",
        "conv2d_17 (Conv2D)           (None, 110, 92, 16)       2320      \n",
        "_________________________________________________________________\n",
        "dropout_11 (Dropout)         (None, 110, 92, 16)       0         \n",
        "_________________________________________________________________\n",
        "conv2d_18 (Conv2D)           (None, 110, 92, 16)       2320      \n",
        "_________________________________________________________________\n",
        "dropout_12 (Dropout)         (None, 110, 92, 16)       0         \n",
        "_________________________________________________________________\n",
        "conv2d_19 (Conv2D)           (None, 110, 92, 3)        51        \n",
        "=================================================================\n",
        "Total params: 4,851\n",
        "Trainable params: 4,851\n",
        "Non-trainable params: 0\n",
        "_________________________________________________________________\n",
        "None\n",
        "Model: results/model/model.hdf5\n",
        "Running with 5\n",
        "(11598, 110, 92, 1) (11598, 110, 92, 3) (2556, 110, 92, 1) (2556, 110, 92, 3)\n",
        "Train on 11598 samples, validate on 2556 samples\n",
        "Epoch 1/5\n",
        "11598/11598 [==============================] - 355s 31ms/step - loss: 0.7399 - categorical_accuracy: 0.8595 - val_loss: 0.2688 - val_categorical_accuracy: 0.8872\n",
        "Epoch 2/5\n",
        "11598/11598 [==============================] - 353s 30ms/step - loss: 0.2238 - categorical_accuracy: 0.9010 - val_loss: 0.2193 - val_categorical_accuracy: 0.8986\n",
        "Epoch 3/5\n",
        "11598/11598 [==============================] - 352s 30ms/step - loss: 0.1969 - categorical_accuracy: 0.9111 - val_loss: 0.1999 - val_categorical_accuracy: 0.9083\n",
        "Epoch 4/5\n",
        "11598/11598 [==============================] - 350s 30ms/step - loss: 0.1807 - categorical_accuracy: 0.9204 - val_loss: 0.1863 - val_categorical_accuracy: 0.9184\n",
        "Epoch 5/5\n",
        "11598/11598 [==============================] - 352s 30ms/step - loss: 0.1689 - categorical_accuracy: 0.9272 - val_loss: 0.1745 - val_categorical_accuracy: 0.9243\n",
        "2478/2478 [==============================] - 21s 9ms/step\n",
        "Test: Loss= 0.16739090936765064 Metric= 0.9286423676239087\n",
        "No images were specified for prediction.\n",
        "Model training plot written to  results/report//model_loss_plot.png\n",
        "```"
      ]
    },
    {
      "metadata": {
        "id": "9qhOKYbtEsT1",
        "colab_type": "code",
        "colab": {}
      },
      "cell_type": "code",
      "source": [
        "minc_keras.minc_keras(source_dir=\"data/output\", target_dir=\"results\", input_str=\"T1w_anat_rsl.mnc\",\\\n",
        "           label_str=\"variant-seg_rsl.mnc\", ratios=[0.7,0.15,0.15], nK=\"16,16,16\", kernel_size=3,\\\n",
        "           model_type=\"custom\", dropout=0.25, nb_epoch=5)"
      ],
      "execution_count": 0,
      "outputs": []
    },
    {
      "metadata": {
        "id": "5Fo61_R0GYoq",
        "colab_type": "code",
        "colab": {}
      },
      "cell_type": "code",
      "source": [
        "minc_keras.minc_keras(source_dir=\"data/output\", target_dir=\"results\", input_str=\"T1w_anat_rsl.mnc\",\\\n",
        "           label_str=\"variant-seg_rsl.mnc\", ratios=[0.7,0.15,0.15], nK=\"16,16,16\", n_dil=\"2,2,2\" kernel_size=3,\\\n",
        "           model_type=\"custom\", dropout=0.25, nb_epoch=5)"
      ],
      "execution_count": 0,
      "outputs": []
    },
    {
      "metadata": {
        "id": "D8VmKHg4zTpH",
        "colab_type": "text"
      },
      "cell_type": "markdown",
      "source": [
        "## Configuring basic options"
      ]
    },
    {
      "metadata": {
        "id": "sUFWF1w_zTpJ",
        "colab_type": "code",
        "colab": {}
      },
      "cell_type": "code",
      "source": [
        "from utils import *\n",
        "import numpy as np\n",
        "from minc_keras import *\n",
        "### Set input and label string\n",
        "input_str='pet.mnc' \n",
        "label_str='dtissue.mnc'\n",
        "\n",
        "### Set filename for .csv that will store data frame \n",
        "images_fn='data.csv'\n",
        "\n",
        "### Set source directory from which data will be read\n",
        "source_dir=\"/data1/users/tfunck/pet/data_ses/\"\n",
        "\n",
        "### Set the target directory where output results will be saved\n",
        "target_dir=\"/data1/users/tfunck/pet/results\"\n",
        "\n",
        "### Set raiots for train/validation/test\n",
        "ratios=[0.7,0.15]\n",
        "\n",
        "### By default we set clobber to False so that we don't overwrite existing files\n",
        "### Feel free to change if needed\n",
        "clobber=True\n",
        "\n",
        "### Size of batches that will be passed to model. The default 2 makes it easy\n",
        "batch_size=2\n",
        "\n",
        "### Image dimensions. We are slicing the 3D images into 2D slices. This serves to augment the data\n",
        "### and make training faster\n",
        "image_dim=2\n",
        "\n",
        "setup_dirs()  \n",
        "\n",
        "### Set filename for .csv file that will contain info about input images\n",
        "images_fn = set_model_name(images_fn, report_dir, '.csv')"
      ],
      "execution_count": 0,
      "outputs": []
    },
    {
      "metadata": {
        "id": "-4yD2CyZzTpL",
        "colab_type": "text"
      },
      "cell_type": "markdown",
      "source": [
        "# __Spliting Data for Cross Validation__\n",
        "## 1) Uncorrelated data\n",
        "## ***Train*** : Data on which network will be trained\n",
        "## ***Validation*** : Data on which network is evaluated between iterations\n",
        "## ***Test*** : Data for final evaluation of network\n",
        "![](https://github.com/tfunck/minc_keras/blob/master/images/splits_a_1.png?raw=0)"
      ]
    },
    {
      "metadata": {
        "id": "amJEatoDzTpM",
        "colab_type": "text"
      },
      "cell_type": "markdown",
      "source": [
        "## 2) Correlated data\n",
        "\n",
        "### Example: T1 MRI images collected from on different scanners\n",
        "![](https://github.com/tfunck/minc_keras/blob/master/images/splits_b_1.png?raw=1)\n",
        "\n",
        "### ***Don't*** create splits with only very unbalanced splits:\n",
        "![](https://github.com/tfunck/minc_keras/blob/master/images/splits_b_2.png?raw=1)\n",
        "### ***Do*** balance your subtypes between splits:\n",
        "![](https://github.com/tfunck/minc_keras/blob/master/images/splits_b_3.png?raw=1)"
      ]
    },
    {
      "metadata": {
        "id": "vare5DRUzTpN",
        "colab_type": "text"
      },
      "cell_type": "markdown",
      "source": [
        "## 3) Splits with correlated data and repeated subjects\n",
        "### 3 images x 5 subjects\n",
        "### 3 subtypes of images (e.g. scanner type)\n",
        "![](https://github.com/tfunck/minc_keras/blob/master/images/splits_c.png?raw=1)"
      ]
    },
    {
      "metadata": {
        "id": "5u7QfjeKzTpN",
        "colab_type": "text"
      },
      "cell_type": "markdown",
      "source": [
        "![](https://github.com/tfunck/minc_keras/blob/master/images/splits_c_3.png?raw=1)"
      ]
    },
    {
      "metadata": {
        "id": "SqBWn-PmzTpO",
        "colab_type": "code",
        "colab": {}
      },
      "cell_type": "code",
      "source": [
        "[images, data] = prepare_data(source_dir, data_dir, report_dir, input_str, label_str, ratios, batch_size,feature_dim, images_fn,  clobber=clobber)"
      ],
      "execution_count": 0,
      "outputs": []
    },
    {
      "metadata": {
        "id": "rGkJHbkPzTpQ",
        "colab_type": "text"
      },
      "cell_type": "markdown",
      "source": [
        "## Building a U-NET in Keras\n",
        "\n",
        "![](https://github.com/tfunck/minc_keras/blob/master/images/unet.png?raw=1)\n",
        "\n",
        "Ronneberger, Fischer, and Brox. 2015.\"U-net: Convolutional networks for biomedical image segmentation.\" International Conference on Medical image computing and computer-assisted intervention. https://arxiv.org/abs/1505.04597"
      ]
    },
    {
      "metadata": {
        "id": "0SDJ5RvOzTpQ",
        "colab_type": "code",
        "colab": {}
      },
      "cell_type": "code",
      "source": [
        "    ### 1) Define architecture of neural network\n",
        "    Y_validate=np.load(data[\"validate_y_fn\"]+'.npy')\n",
        "    nlabels=len(np.unique(Y_validate))#Number of unique labels in the labeled images\n",
        "    \n",
        "    img_rows=image_dim[1]\n",
        "    img_cols=image_dim[2]\n",
        "    nMLP=16\n",
        "    nRshp=int(sqrt(nMLP))\n",
        "    nUpSm=int(image_dim[0]/nRshp)\n",
        "    image = Input(shape=(image_dim[1], image_dim[2],1))\n",
        "    \n",
        "    BN1 = BatchNormalization()(image)"
      ],
      "execution_count": 0,
      "outputs": []
    },
    {
      "metadata": {
        "id": "0lS5aBHfzTpS",
        "colab_type": "code",
        "colab": {}
      },
      "cell_type": "code",
      "source": [
        "    conv1 = Convolution2D(32, 3, 3, activation='relu', border_mode='same')(BN1)\n",
        "    conv1 = Convolution2D(32, 3, 3, activation='relu', border_mode='same')(conv1)\n",
        "    pool1 = MaxPooling2D(pool_size=(2, 2))(conv1)"
      ],
      "execution_count": 0,
      "outputs": []
    },
    {
      "metadata": {
        "id": "EMOPQmvKzTpU",
        "colab_type": "text"
      },
      "cell_type": "markdown",
      "source": [
        "# Max Pool\n",
        "\n",
        "![](https://github.com/tfunck/minc_keras/blob/master/images/max_pool.png?raw=1)\n",
        "\n",
        "## Becareful: 2x2 max pool reduces image dimensions by 2\n",
        "## --> Applying max pool 4 times reduces image dimensions by 2^4\n",
        "## --> Make sure image can be evenly divided, otherwise end up with problems"
      ]
    },
    {
      "metadata": {
        "id": "2SEtPk_uzTpU",
        "colab_type": "code",
        "colab": {}
      },
      "cell_type": "code",
      "source": [
        "    conv2 = Convolution2D(64, 3, 3, activation='relu', border_mode='same')(pool1)\n",
        "    conv2 = Convolution2D(64, 3, 3, activation='relu', border_mode='same')(conv2)\n",
        "    pool2 = MaxPooling2D(pool_size=(2, 2))(conv2)"
      ],
      "execution_count": 0,
      "outputs": []
    },
    {
      "metadata": {
        "id": "hn5NNyCEzTpW",
        "colab_type": "code",
        "colab": {}
      },
      "cell_type": "code",
      "source": [
        "    conv3 = Convolution2D(128, 3, 3, activation='relu', border_mode='same')(pool2)\n",
        "    conv3 = Convolution2D(128, 3, 3, activation='relu', border_mode='same')(conv3)\n",
        "    pool3 = MaxPooling2D(pool_size=(2, 2))(conv3)"
      ],
      "execution_count": 0,
      "outputs": []
    },
    {
      "metadata": {
        "id": "0R-_cVwvzTpY",
        "colab_type": "code",
        "colab": {}
      },
      "cell_type": "code",
      "source": [
        "    conv4 = Convolution2D(256, 3, 3, activation='relu', border_mode='same')(pool3)\n",
        "    conv4 = Convolution2D(256, 3, 3, activation='relu', border_mode='same')(conv4)\n",
        "    pool4 = MaxPooling2D(pool_size=(2, 2))(conv4)"
      ],
      "execution_count": 0,
      "outputs": []
    },
    {
      "metadata": {
        "id": "cf7dXkBHzTpb",
        "colab_type": "code",
        "colab": {}
      },
      "cell_type": "code",
      "source": [
        "    conv5 = Convolution2D(512, 3, 3, activation='relu', border_mode='same')(pool4)\n",
        "    conv5 = Convolution2D(512, 3, 3, activation='relu', border_mode='same')(conv5)"
      ],
      "execution_count": 0,
      "outputs": []
    },
    {
      "metadata": {
        "id": "8hXeLMq5zTpe",
        "colab_type": "code",
        "colab": {}
      },
      "cell_type": "code",
      "source": [
        "    up6 = merge([UpSampling2D(size=(2, 2))(conv5), conv4], mode='concat', concat_axis=3)\n",
        "    conv6 = Convolution2D(512, 3, 3, activation='relu', border_mode='same')(up6)\n",
        "    conv6 = Convolution2D(256, 3, 3, activation='relu', border_mode='same')(conv6)"
      ],
      "execution_count": 0,
      "outputs": []
    },
    {
      "metadata": {
        "id": "7THYQRXSzTpi",
        "colab_type": "text"
      },
      "cell_type": "markdown",
      "source": [
        "# ***Upsampling***\n",
        "\n",
        "# 1. Transpose Convolution\n",
        "\n",
        "## $M \\circledast k = N$, where $k$ is a $(x,x)$ max pool filter, $M$ is a $(y,y)$ 2D array\n",
        "## $N$ is a downsampled 2D array with dimensions $(i,i)$, where $i = y-x+1$\n",
        "![](https://github.com/tfunck/minc_keras/blob/master/images/upsample_1.png?raw=1)\n",
        "\n"
      ]
    },
    {
      "metadata": {
        "id": "S8_6X7rKzTpi",
        "colab_type": "text"
      },
      "cell_type": "markdown",
      "source": [
        "## The 2D array can be \"flattened\" into a $(i^2,1)$ vector 1D $m$ \n",
        "## The convolution kernel, $k$, can also be expressed as a $(i^2,y^2)$ matrix $K$  \n",
        "## --> $K m = n$, where $(i^2,y^2) \\times (y^2,1) = (i^2,1)$ and $n$ is a $(y^2,1)$ 1D vector \n",
        "\n",
        "![](https://github.com/tfunck/minc_keras/blob/master/images/upsample_2.png?raw=1)"
      ]
    },
    {
      "metadata": {
        "id": "LyjQqzQvzTpi",
        "colab_type": "text"
      },
      "cell_type": "markdown",
      "source": [
        "### If we take the transpose of the matrix $K$, $K^T$ to create a $(y^2,i^2)$ matrix\n",
        "### We can write $K^T N = M_1$,  $(y^2,i^2) \\times (i^2,1) = (y^2,1)$ which can then be converted back into a $(y,y)$ 2D array\n",
        "![](https://github.com/tfunck/minc_keras/blob/master/images/upsample_3.png?raw=1)"
      ]
    },
    {
      "metadata": {
        "id": "GN2IedTVzTpj",
        "colab_type": "text"
      },
      "cell_type": "markdown",
      "source": [
        "# 2. Interpolation\n",
        "\n",
        "## Simply use interpolation (e.g., nearest neighbour) to higher resolution\n",
        "## Does not require extra parameters"
      ]
    },
    {
      "metadata": {
        "id": "3vdanc3YzTpk",
        "colab_type": "text"
      },
      "cell_type": "markdown",
      "source": [
        "# Merge"
      ]
    },
    {
      "metadata": {
        "id": "QUEgJX0tzTpl",
        "colab_type": "code",
        "colab": {}
      },
      "cell_type": "code",
      "source": [
        "    conv6_up = UpSampling2D(size=(2, 2))(conv6)\n",
        "    conv6_pad = ZeroPadding2D( ((1,0),(1,0)) )(conv6_up)\n",
        "    up7 = merge([conv6_pad, conv3], mode='concat', concat_axis=3)\n",
        "    conv7 = Convolution2D(128, 3, 3, activation='relu', border_mode='same')(up7)\n",
        "    conv7 = Convolution2D(128, 3, 3, activation='relu', border_mode='same')(conv7)"
      ],
      "execution_count": 0,
      "outputs": []
    },
    {
      "metadata": {
        "id": "T9pxn42wzTpl",
        "colab_type": "code",
        "colab": {}
      },
      "cell_type": "code",
      "source": [
        "    up8 = merge([UpSampling2D(size=(2, 2))(conv7), conv2], mode='concat', concat_axis=3)\n",
        "    conv8 = Convolution2D(64, 3, 3, activation='relu', border_mode='same')(up8)\n",
        "    conv8 = Convolution2D(64, 3, 3, activation='relu', border_mode='same')(conv8)"
      ],
      "execution_count": 0,
      "outputs": []
    },
    {
      "metadata": {
        "id": "pY-AJDGBzTpo",
        "colab_type": "code",
        "colab": {}
      },
      "cell_type": "code",
      "source": [
        "    up9 = merge([UpSampling2D(size=(2, 2))(conv8), conv1], mode='concat', concat_axis=3)\n",
        "    conv9 = Convolution2D(32, 3, 3, activation='relu', border_mode='same')(up9)\n",
        "    conv9 = Convolution2D(32, 3, 3, activation='relu', border_mode='same')(conv9)"
      ],
      "execution_count": 0,
      "outputs": []
    },
    {
      "metadata": {
        "id": "7fVqv-YHzTpp",
        "colab_type": "text"
      },
      "cell_type": "markdown",
      "source": [
        "# ***Choosing final activation function***\n",
        "## Last activation function is used to compare output of network to labels\n",
        "## Type of activation function depends on purpose of network\n",
        "## Classification often means mapping real valued inputs to integer outputs\n",
        "## --> Shouldn't use ReLu for classification \n",
        "\n",
        "\n",
        "![](https://github.com/tfunck/minc_keras/blob/master/images/pet_mask.png?raw=1)"
      ]
    },
    {
      "metadata": {
        "id": "Qkr3FXMDzTpq",
        "colab_type": "text"
      },
      "cell_type": "markdown",
      "source": [
        "## Binary classification\n",
        "![](https://github.com/tfunck/minc_keras/blob/master/images/sigmoid.png?raw=1)\n",
        "![](https://github.com/tfunck/minc_keras/blob/master/images/sigmoid_eq.png?raw=1)"
      ]
    },
    {
      "metadata": {
        "id": "QnZ70smkzTpq",
        "colab_type": "text"
      },
      "cell_type": "markdown",
      "source": [
        "## Multi-category classification\n",
        "### Generalization of sigmoid function\n",
        "### Creates a pseudo-probability distribution for each label: values between 0 and 1 and sum to 1\n",
        "### Label with highest probability is attributed to pixel \n",
        "\n",
        "![](https://github.com/tfunck/minc_keras/blob/master/images/multi_sigmoid_eq.png?raw=1)"
      ]
    },
    {
      "metadata": {
        "id": "Y30hs3e2zTpr",
        "colab_type": "code",
        "colab": {}
      },
      "cell_type": "code",
      "source": [
        "### Output activation function\n",
        "activation_output=\"softmax\""
      ],
      "execution_count": 0,
      "outputs": []
    },
    {
      "metadata": {
        "id": "Uo_puMm2zTpt",
        "colab_type": "code",
        "colab": {}
      },
      "cell_type": "code",
      "source": [
        "    conv10 = Convolution2D(nlabels, 1, 1, activation=activation)(conv9)\n",
        "\n",
        "    model = keras.models.Model(input=[image], output=conv10)"
      ],
      "execution_count": 0,
      "outputs": []
    },
    {
      "metadata": {
        "id": "uPeNV6NWzTpu",
        "colab_type": "code",
        "colab": {}
      },
      "cell_type": "code",
      "source": [
        "### 2) Train network on data\n",
        "model_fn =set_model_name(model_fn, model_dir)\n",
        "history_fn = splitext(model_fn)[0] + '_history.json'\n",
        "\n",
        "print( 'Model:', model_fn)\n",
        "if not exists(model_fn) or clobber:\n",
        "    #If model_fn does not exist, or user wishes to write over (clobber) existing model\n",
        "    #then train a new model and save it\n",
        "    \n",
        "    #Load input images for training data\n",
        "    X_train=np.load(data[\"train_x_fn\"]+'.npy')\n",
        "    #Load labels for training data\n",
        "    Y_train=np.load(data[\"train_y_fn\"]+'.npy')\n",
        "    #Load input images for validation data set\n",
        "    X_validate=np.load(data[\"validate_x_fn\"]+'.npy')\n",
        "    #Set compiler\n",
        "    ada = keras.optimizers.Adam(0.0001)\n",
        "    #Create filename to save checkpoints \n",
        "    checkpoint_fn = splitext(model_name)[0]+\"_checkpoint-{epoch:02d}-{val_loss:.2f}.hdf5\"\n",
        "    #Create checkpoint callback function for model\n",
        "    checkpoint = ModelCheckpoint(checkpoint_fn, monitor='val_loss', verbose=0, save_best_only=True, mode='max')\n",
        "    #Compile the model\n",
        "    model.compile(loss = loss, optimizer=ada,metrics=[metric] )\n",
        "    \n",
        "  \n",
        "    print(\"Running with\", nb_epoch)\n",
        "    #\n",
        "    if loss in categorical_functions : \n",
        "        #Convert training data to categorical format\n",
        "        Y_train = to_categorical(Y_train, num_classes=nlabels)\n",
        "        #Convert validation data to categorical format\n",
        "        Y_validate = to_categorical(Y_validate, num_classes=nlabels)\n",
        "    #Fit model\n",
        "    history = model.fit([X_train],Y_train,  validation_data=([X_validate], Y_validate), epochs = nb_epoch,callbacks=[ checkpoint])\n",
        "    #save model   \n",
        "    model.save(model_name)\n",
        "\n",
        "    with open(history_fn, 'w+') as fp: json.dump(history.history, fp)\n",
        "        \n",
        "        "
      ],
      "execution_count": 0,
      "outputs": []
    },
    {
      "metadata": {
        "id": "lzd3DkZFzTpw",
        "colab_type": "code",
        "colab": {}
      },
      "cell_type": "code",
      "source": [
        "    ### 3) Evaluate model on test data\n",
        "    model = load_model(model_fn)\n",
        "    X_test=np.load(data[\"test_x_fn\"]+'.npy')\n",
        "    Y_test=np.load(data[\"test_y_fn\"]+'.npy')\n",
        "    if loss in categorical_functions :\n",
        "        Y_test=to_categorical(Y_test)\n",
        "    test_score = model.evaluate(X_test, Y_test, verbose=1)\n",
        "    print('Test: Loss=', test_score[0], 'Metric=', test_score[1])\n",
        "    #np.savetxt(report_dir+os.sep+'model_evaluate.csv', np.array(test_score) )\n",
        "\n",
        "    ### 4) Produce prediction\n",
        "    #predict(model_fn, validate_dir, data_dir, images_fn, images_to_predict=images_to_predict, category=\"validate\", verbose=verbose)\n",
        "    #predict(model_fn, train_dir, data_dir, images_fn, images_to_predict=images_to_predict, category=\"train\", verbose=verbose)\n",
        "    predict(model_fn, test_dir, data_dir, images_fn, loss, images_to_predict=images_to_predict, category=\"test\", verbose=verbose)\n",
        "    plot_loss(metric, history_fn, model_fn, report_dir)"
      ],
      "execution_count": 0,
      "outputs": []
    }
  ]
}