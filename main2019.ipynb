{
 "cells": [
  {
   "cell_type": "markdown",
   "metadata": {
    "colab_type": "text",
    "id": "a--rFzYazTo2"
   },
   "source": [
    "# Introduction to Brain Segmentation with Keras\n",
    "\n",
    "# ***MAIN 2019 Educational Course***\n",
    "\n",
    "## Thomas Funck\n",
    "\n",
    "## McGill University\n",
    "\n",
    "## **Contact**: email: [tffunck@gmail.com](mailto:tffunck@gmail.com) , Twitter: [@tffunck](https://twitter.com/tffunck)"
   ]
  },
  {
   "cell_type": "code",
   "execution_count": null,
   "metadata": {
    "colab": {
     "base_uri": "https://localhost:8080/",
     "height": 139
    },
    "colab_type": "code",
    "id": "OPVCbLjaj0An",
    "outputId": "73e1fa15-456a-44af-a446-e786bb44738d"
   },
   "outputs": [],
   "source": [
    "#Download repository\n",
    "!git clone https://github.com/tfunck/minc_keras"
   ]
  },
  {
   "cell_type": "code",
   "execution_count": null,
   "metadata": {
    "colab": {},
    "colab_type": "code",
    "id": "65Sg-1ESzv8O"
   },
   "outputs": [],
   "source": [
    "#Switch dir\n",
    "import os\n",
    "if os.getcwd() != '/content/minc_keras/' : os.chdir('/content/minc_keras')\n",
    "\n",
    "#Unzip\n",
    "!tar -jxvf data/output.tar.bz2 "
   ]
  },
  {
   "cell_type": "code",
   "execution_count": 1,
   "metadata": {},
   "outputs": [
    {
     "name": "stdout",
     "output_type": "stream",
     "text": [
      "--2018-12-08 13:40:52--  https://amnesia.cbrain.mcgill.ca/deeplearning/sorteo.tar.bz2\n",
      "Resolving amnesia.cbrain.mcgill.ca (amnesia.cbrain.mcgill.ca)... 132.216.42.90\n",
      "Connecting to amnesia.cbrain.mcgill.ca (amnesia.cbrain.mcgill.ca)|132.216.42.90|:443... connected.\n",
      "WARNING: cannot verify amnesia.cbrain.mcgill.ca's certificate, issued by ‘CN=Go Daddy Secure Certificate Authority - G2,OU=http://certs.godaddy.com/repository/,O=GoDaddy.com\\\\, Inc.,L=Scottsdale,ST=Arizona,C=US’:\n",
      "  Unable to locally verify the issuer's authority.\n",
      "HTTP request sent, awaiting response... 200 OK\n",
      "Length: 322192084 (307M) [application/x-bzip2]\n",
      "Saving to: ‘sorteo.tar.bz2.1’\n",
      "\n",
      "sorteo.tar.bz2.1    100%[===================>] 307.27M  1.64MB/s    in 3m 39s  \n",
      "\n",
      "2018-12-08 13:44:32 (1.40 MB/s) - ‘sorteo.tar.bz2.1’ saved [322192084/322192084]\n",
      "\n"
     ]
    }
   ],
   "source": [
    "!wget https://amnesia.cbrain.mcgill.ca/deeplearning/sorteo.tar.bz2 --no-check-certificate"
   ]
  },
  {
   "cell_type": "code",
   "execution_count": 12,
   "metadata": {},
   "outputs": [
    {
     "name": "stdout",
     "output_type": "stream",
     "text": [
      "sub-D01/\n",
      "sub-D01/_ses-01/\n",
      "sub-D01/_ses-01/sub-D01_ses-01_task-01_space-mni_variant-brainmask-cer_dwn-smpl_dtissue.mnc\n",
      "sub-D01/_ses-01/sub-D01_ses-01_task-flip-01_space-mni_variant-brainmask-cer_dwn-smpl_dtissue.mnc\n",
      "sub-D01/_ses-01/sub-D01_ses-01_task-flip-01_acq-rcl_dwn-smpl_pet.mnc\n",
      "sub-D01/_ses-01/sub-D01_ses-01_task-01_acq-fdg_dwn-smpl_pet.mnc\n",
      "sub-D01/_ses-01/sub-D01_ses-01_task-01_acq-rcl_dwn-smpl_pet.mnc\n",
      "sub-D01/_ses-01/sub-D01_ses-01_task-01_acq-fdopa_dwn-smpl_pet.mnc\n",
      "sub-D01/_ses-01/sub-D01_ses-01_task-flip-01_acq-fdg_dwn-smpl_pet.mnc\n",
      "sub-D01/_ses-01/sub-D01_ses-01_task-flip-01_labels_space-mni_variant-brainmask-cer_dwn-smpl_dtissue.mnc\n",
      "sub-D01/_ses-01/sub-D01_ses-01_task-flip-01_acq-fdopa_dwn-smpl_pet.mnc\n",
      "sub-D01/_ses-01/sub-D01_ses-01_task-01_labels_space-mni_variant-brainmask-cer_dwn-smpl_dtissue.mnc\n",
      "sub-D02/\n",
      "sub-D02/_ses-01/\n",
      "sub-D02/_ses-01/sub-D02_ses-01_task-flip-01_labels_space-mni_variant-brainmask-cer_dwn-smpl_dtissue.mnc\n",
      "sub-D02/_ses-01/sub-D02_ses-01_task-flip-01_acq-rcl_dwn-smpl_pet.mnc\n",
      "sub-D02/_ses-01/sub-D02_ses-01_task-flip-01_acq-fdg_dwn-smpl_pet.mnc\n",
      "sub-D02/_ses-01/sub-D02_ses-01_task-01_labels_space-mni_variant-brainmask-cer_dwn-smpl_dtissue.mnc\n",
      "sub-D02/_ses-01/sub-D02_ses-01_task-01_acq-fdg_dwn-smpl_pet.mnc\n",
      "sub-D02/_ses-01/sub-D02_ses-01_task-flip-01_acq-fdopa_dwn-smpl_pet.mnc\n",
      "sub-D02/_ses-01/sub-D02_ses-01_task-01_space-mni_variant-brainmask-cer_dwn-smpl_dtissue.mnc\n",
      "sub-D02/_ses-01/sub-D02_ses-01_task-01_acq-rcl_dwn-smpl_pet.mnc\n",
      "sub-D02/_ses-01/sub-D02_ses-01_task-01_acq-fdopa_dwn-smpl_pet.mnc\n",
      "sub-D02/_ses-01/sub-D02_ses-01_task-flip-01_space-mni_variant-brainmask-cer_dwn-smpl_dtissue.mnc\n",
      "sub-D03/\n",
      "sub-D03/_ses-01/\n",
      "sub-D03/_ses-01/sub-D03_ses-01_task-flip-01_acq-fdopa_dwn-smpl_pet.mnc\n",
      "sub-D03/_ses-01/sub-D03_ses-01_task-flip-01_space-mni_variant-brainmask-cer_dwn-smpl_dtissue.mnc\n",
      "sub-D03/_ses-01/sub-D03_ses-01_task-01_space-mni_variant-brainmask-cer_dwn-smpl_dtissue.mnc\n",
      "sub-D03/_ses-01/sub-D03_ses-01_task-01_labels_space-mni_variant-brainmask-cer_dwn-smpl_dtissue.mnc\n",
      "sub-D03/_ses-01/sub-D03_ses-01_task-01_acq-rcl_dwn-smpl_pet.mnc\n",
      "sub-D03/_ses-01/sub-D03_ses-01_task-flip-01_acq-rcl_dwn-smpl_pet.mnc\n",
      "sub-D03/_ses-01/sub-D03_ses-01_task-01_acq-fdg_dwn-smpl_pet.mnc\n",
      "sub-D03/_ses-01/sub-D03_ses-01_task-flip-01_acq-fdg_dwn-smpl_pet.mnc\n",
      "sub-D03/_ses-01/sub-D03_ses-01_task-flip-01_labels_space-mni_variant-brainmask-cer_dwn-smpl_dtissue.mnc\n",
      "sub-D03/_ses-01/sub-D03_ses-01_task-01_acq-fdopa_dwn-smpl_pet.mnc\n",
      "sub-D04/\n",
      "sub-D04/_ses-01/\n",
      "sub-D04/_ses-01/sub-D04_ses-01_task-flip-01_space-mni_variant-brainmask-cer_dwn-smpl_dtissue.mnc\n",
      "sub-D04/_ses-01/sub-D04_ses-01_task-01_space-mni_variant-brainmask-cer_dwn-smpl_dtissue.mnc\n",
      "sub-D04/_ses-01/sub-D04_ses-01_task-flip-01_acq-fdg_dwn-smpl_pet.mnc\n",
      "sub-D04/_ses-01/sub-D04_ses-01_task-01_acq-fdg_dwn-smpl_pet.mnc\n",
      "sub-D04/_ses-01/sub-D04_ses-01_task-flip-01_labels_space-mni_variant-brainmask-cer_dwn-smpl_dtissue.mnc\n",
      "sub-D04/_ses-01/sub-D04_ses-01_task-01_acq-rcl_dwn-smpl_pet.mnc\n",
      "sub-D04/_ses-01/sub-D04_ses-01_task-flip-01_acq-rcl_dwn-smpl_pet.mnc\n",
      "sub-D04/_ses-01/sub-D04_ses-01_task-flip-01_acq-fdopa_dwn-smpl_pet.mnc\n",
      "sub-D04/_ses-01/sub-D04_ses-01_task-01_labels_space-mni_variant-brainmask-cer_dwn-smpl_dtissue.mnc\n",
      "sub-D04/_ses-01/sub-D04_ses-01_task-01_acq-fdopa_dwn-smpl_pet.mnc\n",
      "sub-D05/\n",
      "sub-D05/_ses-01/\n",
      "sub-D05/_ses-01/sub-D05_ses-01_task-01_labels_space-mni_variant-brainmask-cer_dwn-smpl_dtissue.mnc\n",
      "sub-D05/_ses-01/sub-D05_ses-01_task-flip-01_acq-rcl_dwn-smpl_pet.mnc\n",
      "sub-D05/_ses-01/sub-D05_ses-01_task-01_space-mni_variant-brainmask-cer_dwn-smpl_dtissue.mnc\n",
      "sub-D05/_ses-01/sub-D05_ses-01_task-01_acq-rcl_dwn-smpl_pet.mnc\n",
      "sub-D05/_ses-01/sub-D05_ses-01_task-flip-01_labels_space-mni_variant-brainmask-cer_dwn-smpl_dtissue.mnc\n",
      "sub-D05/_ses-01/sub-D05_ses-01_task-flip-01_acq-fdopa_dwn-smpl_pet.mnc\n",
      "sub-D05/_ses-01/sub-D05_ses-01_task-01_acq-fdg_dwn-smpl_pet.mnc\n",
      "sub-D05/_ses-01/sub-D05_ses-01_task-flip-01_space-mni_variant-brainmask-cer_dwn-smpl_dtissue.mnc\n",
      "sub-D05/_ses-01/sub-D05_ses-01_task-01_acq-fdopa_dwn-smpl_pet.mnc\n",
      "sub-D05/_ses-01/sub-D05_ses-01_task-flip-01_acq-fdg_dwn-smpl_pet.mnc\n",
      "sub-D06/\n",
      "sub-D06/_ses-01/\n",
      "sub-D06/_ses-01/sub-D06_ses-01_task-flip-01_labels_space-mni_variant-brainmask-cer_dwn-smpl_dtissue.mnc\n",
      "sub-D06/_ses-01/sub-D06_ses-01_task-flip-01_acq-fdg_dwn-smpl_pet.mnc\n",
      "sub-D06/_ses-01/sub-D06_ses-01_task-flip-01_acq-rcl_dwn-smpl_pet.mnc\n",
      "sub-D06/_ses-01/sub-D06_ses-01_task-01_space-mni_variant-brainmask-cer_dwn-smpl_dtissue.mnc\n",
      "sub-D06/_ses-01/sub-D06_ses-01_task-01_acq-rcl_dwn-smpl_pet.mnc\n",
      "sub-D06/_ses-01/sub-D06_ses-01_task-flip-01_space-mni_variant-brainmask-cer_dwn-smpl_dtissue.mnc\n",
      "sub-D06/_ses-01/sub-D06_ses-01_task-01_acq-fdg_dwn-smpl_pet.mnc\n",
      "sub-D06/_ses-01/sub-D06_ses-01_task-01_labels_space-mni_variant-brainmask-cer_dwn-smpl_dtissue.mnc\n",
      "sub-D06/_ses-01/sub-D06_ses-01_task-01_acq-fdopa_dwn-smpl_pet.mnc\n",
      "sub-D06/_ses-01/sub-D06_ses-01_task-flip-01_acq-fdopa_dwn-smpl_pet.mnc\n",
      "sub-D07/\n",
      "sub-D07/_ses-01/\n",
      "sub-D07/_ses-01/sub-D07_ses-01_task-01_acq-rcl_dwn-smpl_pet.mnc\n",
      "sub-D07/_ses-01/sub-D07_ses-01_task-flip-01_acq-rcl_dwn-smpl_pet.mnc\n",
      "sub-D07/_ses-01/sub-D07_ses-01_task-flip-01_labels_space-mni_variant-brainmask-cer_dwn-smpl_dtissue.mnc\n",
      "sub-D07/_ses-01/sub-D07_ses-01_task-flip-01_acq-fdopa_dwn-smpl_pet.mnc\n",
      "sub-D07/_ses-01/sub-D07_ses-01_task-01_acq-fdg_dwn-smpl_pet.mnc\n",
      "sub-D07/_ses-01/sub-D07_ses-01_task-01_space-mni_variant-brainmask-cer_dwn-smpl_dtissue.mnc\n",
      "sub-D07/_ses-01/sub-D07_ses-01_task-01_labels_space-mni_variant-brainmask-cer_dwn-smpl_dtissue.mnc\n",
      "sub-D07/_ses-01/sub-D07_ses-01_task-01_acq-fdopa_dwn-smpl_pet.mnc\n",
      "sub-D07/_ses-01/sub-D07_ses-01_task-flip-01_space-mni_variant-brainmask-cer_dwn-smpl_dtissue.mnc\n",
      "sub-D07/_ses-01/sub-D07_ses-01_task-flip-01_acq-fdg_dwn-smpl_pet.mnc\n",
      "sub-D08/\n",
      "sub-D08/_ses-01/\n",
      "sub-D08/_ses-01/sub-D08_ses-01_task-flip-01_acq-fdopa_dwn-smpl_pet.mnc\n",
      "sub-D08/_ses-01/sub-D08_ses-01_task-01_acq-fdopa_dwn-smpl_pet.mnc\n",
      "sub-D08/_ses-01/sub-D08_ses-01_task-01_acq-fdg_dwn-smpl_pet.mnc\n",
      "sub-D08/_ses-01/sub-D08_ses-01_task-flip-01_acq-fdg_dwn-smpl_pet.mnc\n",
      "sub-D08/_ses-01/sub-D08_ses-01_task-flip-01_acq-rcl_dwn-smpl_pet.mnc\n",
      "sub-D08/_ses-01/sub-D08_ses-01_task-flip-01_labels_space-mni_variant-brainmask-cer_dwn-smpl_dtissue.mnc\n",
      "sub-D08/_ses-01/sub-D08_ses-01_task-01_space-mni_variant-brainmask-cer_dwn-smpl_dtissue.mnc\n",
      "sub-D08/_ses-01/sub-D08_ses-01_task-01_acq-rcl_dwn-smpl_pet.mnc\n",
      "sub-D08/_ses-01/sub-D08_ses-01_task-flip-01_space-mni_variant-brainmask-cer_dwn-smpl_dtissue.mnc\n",
      "sub-D08/_ses-01/sub-D08_ses-01_task-01_labels_space-mni_variant-brainmask-cer_dwn-smpl_dtissue.mnc\n",
      "sub-D09/\n",
      "sub-D09/_ses-01/\n",
      "sub-D09/_ses-01/sub-D09_ses-01_task-01_labels_space-mni_variant-brainmask-cer_dwn-smpl_dtissue.mnc\n",
      "sub-D09/_ses-01/sub-D09_ses-01_task-01_acq-fdopa_dwn-smpl_pet.mnc\n",
      "sub-D09/_ses-01/sub-D09_ses-01_task-01_acq-rcl_dwn-smpl_pet.mnc\n",
      "sub-D09/_ses-01/sub-D09_ses-01_task-01_acq-fdg_dwn-smpl_pet.mnc\n",
      "sub-D09/_ses-01/sub-D09_ses-01_task-flip-01_acq-fdg_dwn-smpl_pet.mnc\n",
      "sub-D09/_ses-01/sub-D09_ses-01_task-flip-01_space-mni_variant-brainmask-cer_dwn-smpl_dtissue.mnc\n",
      "sub-D09/_ses-01/sub-D09_ses-01_task-01_space-mni_variant-brainmask-cer_dwn-smpl_dtissue.mnc\n",
      "sub-D09/_ses-01/sub-D09_ses-01_task-flip-01_acq-fdopa_dwn-smpl_pet.mnc\n",
      "sub-D09/_ses-01/sub-D09_ses-01_task-flip-01_labels_space-mni_variant-brainmask-cer_dwn-smpl_dtissue.mnc\n",
      "sub-D09/_ses-01/sub-D09_ses-01_task-flip-01_acq-rcl_dwn-smpl_pet.mnc\n",
      "sub-D10/\n",
      "sub-D10/_ses-01/\n",
      "sub-D10/_ses-01/sub-D10_ses-01_task-01_acq-fdopa_dwn-smpl_pet.mnc\n",
      "sub-D10/_ses-01/sub-D10_ses-01_task-01_space-mni_variant-brainmask-cer_dwn-smpl_dtissue.mnc\n",
      "sub-D10/_ses-01/sub-D10_ses-01_task-01_labels_space-mni_variant-brainmask-cer_dwn-smpl_dtissue.mnc\n",
      "sub-D10/_ses-01/sub-D10_ses-01_task-flip-01_acq-fdg_dwn-smpl_pet.mnc\n",
      "sub-D10/_ses-01/sub-D10_ses-01_task-01_acq-fdg_dwn-smpl_pet.mnc\n",
      "sub-D10/_ses-01/sub-D10_ses-01_task-flip-01_labels_space-mni_variant-brainmask-cer_dwn-smpl_dtissue.mnc\n",
      "sub-D10/_ses-01/sub-D10_ses-01_task-01_acq-rcl_dwn-smpl_pet.mnc\n",
      "sub-D10/_ses-01/sub-D10_ses-01_task-flip-01_acq-rcl_dwn-smpl_pet.mnc\n",
      "sub-D10/_ses-01/sub-D10_ses-01_task-flip-01_space-mni_variant-brainmask-cer_dwn-smpl_dtissue.mnc\n",
      "sub-D10/_ses-01/sub-D10_ses-01_task-flip-01_acq-fdopa_dwn-smpl_pet.mnc\n"
     ]
    },
    {
     "name": "stdout",
     "output_type": "stream",
     "text": [
      "sub-D11/\n",
      "sub-D11/_ses-01/\n",
      "sub-D11/_ses-01/sub-D11_ses-01_task-flip-01_acq-fdopa_dwn-smpl_pet.mnc\n",
      "sub-D11/_ses-01/sub-D11_ses-01_task-01_acq-rcl_dwn-smpl_pet.mnc\n",
      "sub-D11/_ses-01/sub-D11_ses-01_task-01_labels_space-mni_variant-brainmask-cer_dwn-smpl_dtissue.mnc\n",
      "sub-D11/_ses-01/sub-D11_ses-01_task-01_acq-fdopa_dwn-smpl_pet.mnc\n",
      "sub-D11/_ses-01/sub-D11_ses-01_task-flip-01_labels_space-mni_variant-brainmask-cer_dwn-smpl_dtissue.mnc\n",
      "sub-D11/_ses-01/sub-D11_ses-01_task-flip-01_space-mni_variant-brainmask-cer_dwn-smpl_dtissue.mnc\n",
      "sub-D11/_ses-01/sub-D11_ses-01_task-flip-01_acq-rcl_dwn-smpl_pet.mnc\n",
      "sub-D11/_ses-01/sub-D11_ses-01_task-01_acq-fdg_dwn-smpl_pet.mnc\n",
      "sub-D11/_ses-01/sub-D11_ses-01_task-flip-01_acq-fdg_dwn-smpl_pet.mnc\n",
      "sub-D11/_ses-01/sub-D11_ses-01_task-01_space-mni_variant-brainmask-cer_dwn-smpl_dtissue.mnc\n",
      "sub-D12/\n",
      "sub-D12/_ses-01/\n",
      "sub-D12/_ses-01/sub-D12_ses-01_task-01_space-mni_variant-brainmask-cer_dwn-smpl_dtissue.mnc\n",
      "sub-D12/_ses-01/sub-D12_ses-01_task-flip-01_acq-rcl_dwn-smpl_pet.mnc\n",
      "sub-D12/_ses-01/sub-D12_ses-01_task-flip-01_acq-fdopa_dwn-smpl_pet.mnc\n",
      "sub-D12/_ses-01/sub-D12_ses-01_task-01_acq-fdopa_dwn-smpl_pet.mnc\n",
      "sub-D12/_ses-01/sub-D12_ses-01_task-flip-01_labels_space-mni_variant-brainmask-cer_dwn-smpl_dtissue.mnc\n",
      "sub-D12/_ses-01/sub-D12_ses-01_task-01_acq-rcl_dwn-smpl_pet.mnc\n",
      "sub-D12/_ses-01/sub-D12_ses-01_task-01_acq-fdg_dwn-smpl_pet.mnc\n",
      "sub-D12/_ses-01/sub-D12_ses-01_task-01_labels_space-mni_variant-brainmask-cer_dwn-smpl_dtissue.mnc\n",
      "sub-D12/_ses-01/sub-D12_ses-01_task-flip-01_space-mni_variant-brainmask-cer_dwn-smpl_dtissue.mnc\n",
      "sub-D12/_ses-01/sub-D12_ses-01_task-flip-01_acq-fdg_dwn-smpl_pet.mnc\n",
      "sub-D13/\n",
      "sub-D13/_ses-01/\n",
      "sub-D13/_ses-01/sub-D13_ses-01_task-01_acq-fdopa_dwn-smpl_pet.mnc\n",
      "sub-D13/_ses-01/sub-D13_ses-01_task-flip-01_acq-fdg_dwn-smpl_pet.mnc\n",
      "sub-D13/_ses-01/sub-D13_ses-01_task-flip-01_acq-fdopa_dwn-smpl_pet.mnc\n",
      "sub-D13/_ses-01/sub-D13_ses-01_task-flip-01_labels_space-mni_variant-brainmask-cer_dwn-smpl_dtissue.mnc\n",
      "sub-D13/_ses-01/sub-D13_ses-01_task-flip-01_acq-rcl_dwn-smpl_pet.mnc\n",
      "sub-D13/_ses-01/sub-D13_ses-01_task-01_space-mni_variant-brainmask-cer_dwn-smpl_dtissue.mnc\n",
      "sub-D13/_ses-01/sub-D13_ses-01_task-flip-01_space-mni_variant-brainmask-cer_dwn-smpl_dtissue.mnc\n",
      "sub-D13/_ses-01/sub-D13_ses-01_task-01_labels_space-mni_variant-brainmask-cer_dwn-smpl_dtissue.mnc\n",
      "sub-D13/_ses-01/sub-D13_ses-01_task-01_acq-rcl_dwn-smpl_pet.mnc\n",
      "sub-D13/_ses-01/sub-D13_ses-01_task-01_acq-fdg_dwn-smpl_pet.mnc\n",
      "sub-D14/\n",
      "sub-D14/_ses-01/\n",
      "sub-D14/_ses-01/sub-D14_ses-01_task-flip-01_acq-fdg_dwn-smpl_pet.mnc\n",
      "sub-D14/_ses-01/sub-D14_ses-01_task-01_space-mni_variant-brainmask-cer_dwn-smpl_dtissue.mnc\n",
      "sub-D14/_ses-01/sub-D14_ses-01_task-flip-01_space-mni_variant-brainmask-cer_dwn-smpl_dtissue.mnc\n",
      "sub-D14/_ses-01/sub-D14_ses-01_task-flip-01_labels_space-mni_variant-brainmask-cer_dwn-smpl_dtissue.mnc\n",
      "sub-D14/_ses-01/sub-D14_ses-01_task-01_acq-rcl_dwn-smpl_pet.mnc\n",
      "sub-D14/_ses-01/sub-D14_ses-01_task-flip-01_acq-fdopa_dwn-smpl_pet.mnc\n",
      "sub-D14/_ses-01/sub-D14_ses-01_task-01_acq-fdopa_dwn-smpl_pet.mnc\n",
      "sub-D14/_ses-01/sub-D14_ses-01_task-flip-01_acq-rcl_dwn-smpl_pet.mnc\n",
      "sub-D14/_ses-01/sub-D14_ses-01_task-01_labels_space-mni_variant-brainmask-cer_dwn-smpl_dtissue.mnc\n",
      "sub-D14/_ses-01/sub-D14_ses-01_task-01_acq-fdg_dwn-smpl_pet.mnc\n",
      "sub-D15/\n",
      "sub-D15/_ses-01/\n",
      "sub-D15/_ses-01/sub-D15_ses-01_task-flip-01_space-mni_variant-brainmask-cer_dwn-smpl_dtissue.mnc\n",
      "sub-D15/_ses-01/sub-D15_ses-01_task-flip-01_labels_space-mni_variant-brainmask-cer_dwn-smpl_dtissue.mnc\n",
      "sub-D15/_ses-01/sub-D15_ses-01_task-01_space-mni_variant-brainmask-cer_dwn-smpl_dtissue.mnc\n",
      "sub-D15/_ses-01/sub-D15_ses-01_task-01_acq-rcl_dwn-smpl_pet.mnc\n",
      "sub-D15/_ses-01/sub-D15_ses-01_task-01_labels_space-mni_variant-brainmask-cer_dwn-smpl_dtissue.mnc\n",
      "sub-D15/_ses-01/sub-D15_ses-01_task-01_acq-fdg_dwn-smpl_pet.mnc\n",
      "sub-D15/_ses-01/sub-D15_ses-01_task-flip-01_acq-fdopa_dwn-smpl_pet.mnc\n",
      "sub-D15/_ses-01/sub-D15_ses-01_task-flip-01_acq-rcl_dwn-smpl_pet.mnc\n",
      "sub-D15/_ses-01/sub-D15_ses-01_task-01_acq-fdopa_dwn-smpl_pet.mnc\n",
      "sub-D15/_ses-01/sub-D15_ses-01_task-flip-01_acq-fdg_dwn-smpl_pet.mnc\n"
     ]
    }
   ],
   "source": [
    "!mkdir -p sorteo\n",
    "!tar -jxvf sorteo.tar.bz2 -C sorteo # &> /dev/null"
   ]
  },
  {
   "cell_type": "markdown",
   "metadata": {},
   "source": [
    "# ***Outline***"
   ]
  },
  {
   "cell_type": "code",
   "execution_count": 14,
   "metadata": {
    "colab_type": "text",
    "id": "F5dHDJJBzTo4"
   },
   "outputs": [
    {
     "name": "stdout",
     "output_type": "stream",
     "text": [
      "Requirement already satisfied: pandas in /usr/local/lib/python3.6/dist-packages (0.22.0)\n",
      "Requirement already satisfied: pytz>=2011k in /usr/local/lib/python3.6/dist-packages (from pandas) (2018.3)\n",
      "Requirement already satisfied: python-dateutil>=2 in /usr/local/lib/python3.6/dist-packages (from pandas) (2.6.1)\n",
      "Requirement already satisfied: numpy>=1.9.0 in /usr/local/lib/python3.6/dist-packages (from pandas) (1.14.1)\n",
      "Requirement already satisfied: six>=1.5 in /usr/local/lib/python3.6/dist-packages (from python-dateutil>=2->pandas) (1.11.0)\n"
     ]
    },
    {
     "name": "stderr",
     "output_type": "stream",
     "text": [
      "Using TensorFlow backend.\n"
     ]
    },
    {
     "ename": "AttributeError",
     "evalue": "module 'pandas' has no attribute 'plotting'",
     "output_type": "error",
     "traceback": [
      "\u001b[0;31m---------------------------------------------------------------------------\u001b[0m",
      "\u001b[0;31mAttributeError\u001b[0m                            Traceback (most recent call last)",
      "\u001b[0;32m<ipython-input-14-7228040e00fc>\u001b[0m in \u001b[0;36m<module>\u001b[0;34m()\u001b[0m\n\u001b[1;32m      1\u001b[0m \u001b[0mget_ipython\u001b[0m\u001b[0;34m(\u001b[0m\u001b[0;34m)\u001b[0m\u001b[0;34m.\u001b[0m\u001b[0msystem\u001b[0m\u001b[0;34m(\u001b[0m\u001b[0;34m'pip install pandas'\u001b[0m\u001b[0;34m)\u001b[0m\u001b[0;34m\u001b[0m\u001b[0m\n\u001b[0;32m----> 2\u001b[0;31m \u001b[0;32mimport\u001b[0m \u001b[0mminc_keras\u001b[0m\u001b[0;34m\u001b[0m\u001b[0m\n\u001b[0m\u001b[1;32m      3\u001b[0m \u001b[0;32mfrom\u001b[0m \u001b[0mutils\u001b[0m \u001b[0;32mimport\u001b[0m \u001b[0;34m*\u001b[0m\u001b[0;34m\u001b[0m\u001b[0m\n\u001b[1;32m      4\u001b[0m \u001b[0;32mimport\u001b[0m \u001b[0mnumpy\u001b[0m \u001b[0;32mas\u001b[0m \u001b[0mnp\u001b[0m\u001b[0;34m\u001b[0m\u001b[0m\n\u001b[1;32m      5\u001b[0m \u001b[0;32mfrom\u001b[0m \u001b[0mminc_keras\u001b[0m \u001b[0;32mimport\u001b[0m \u001b[0;34m*\u001b[0m\u001b[0;34m\u001b[0m\u001b[0m\n",
      "\u001b[0;32m~/neuro/projects/minc_keras/minc_keras.py\u001b[0m in \u001b[0;36m<module>\u001b[0;34m()\u001b[0m\n\u001b[1;32m      7\u001b[0m \u001b[0;32mimport\u001b[0m \u001b[0margparse\u001b[0m\u001b[0;34m\u001b[0m\u001b[0m\n\u001b[1;32m      8\u001b[0m \u001b[0;31m#local modules defined in current project\u001b[0m\u001b[0;34m\u001b[0m\u001b[0;34m\u001b[0m\u001b[0m\n\u001b[0;32m----> 9\u001b[0;31m \u001b[0;32mfrom\u001b[0m \u001b[0mmake_and_run_model\u001b[0m \u001b[0;32mimport\u001b[0m \u001b[0;34m*\u001b[0m\u001b[0;34m\u001b[0m\u001b[0m\n\u001b[0m\u001b[1;32m     10\u001b[0m \u001b[0;32mfrom\u001b[0m \u001b[0mpredict\u001b[0m \u001b[0;32mimport\u001b[0m \u001b[0;34m*\u001b[0m\u001b[0;34m\u001b[0m\u001b[0m\n\u001b[1;32m     11\u001b[0m \u001b[0;32mfrom\u001b[0m \u001b[0mprepare_data\u001b[0m \u001b[0;32mimport\u001b[0m \u001b[0;34m*\u001b[0m\u001b[0;34m\u001b[0m\u001b[0m\n",
      "\u001b[0;32m~/neuro/projects/minc_keras/make_and_run_model.py\u001b[0m in \u001b[0;36m<module>\u001b[0;34m()\u001b[0m\n\u001b[0;32m----> 1\u001b[0;31m \u001b[0;32mimport\u001b[0m \u001b[0mkeras\u001b[0m\u001b[0;34m\u001b[0m\u001b[0m\n\u001b[0m\u001b[1;32m      2\u001b[0m \u001b[0;32mfrom\u001b[0m \u001b[0mkeras\u001b[0m\u001b[0;34m.\u001b[0m\u001b[0mmodels\u001b[0m \u001b[0;32mimport\u001b[0m \u001b[0mSequential\u001b[0m\u001b[0;34m,\u001b[0m \u001b[0mload_model\u001b[0m\u001b[0;34m\u001b[0m\u001b[0m\n\u001b[1;32m      3\u001b[0m \u001b[0;32mfrom\u001b[0m \u001b[0mkeras\u001b[0m\u001b[0;34m.\u001b[0m\u001b[0mlayers\u001b[0m \u001b[0;32mimport\u001b[0m \u001b[0mInput\u001b[0m\u001b[0;34m,\u001b[0m \u001b[0mAdd\u001b[0m\u001b[0;34m,\u001b[0m \u001b[0mMultiply\u001b[0m\u001b[0;34m,\u001b[0m \u001b[0mDense\u001b[0m\u001b[0;34m,\u001b[0m \u001b[0mMaxPooling3D\u001b[0m\u001b[0;34m,\u001b[0m \u001b[0mBatchNormalization\u001b[0m\u001b[0;34m,\u001b[0m \u001b[0mReshape\u001b[0m\u001b[0;34m\u001b[0m\u001b[0m\n\u001b[1;32m      4\u001b[0m \u001b[0;32mfrom\u001b[0m \u001b[0mkeras\u001b[0m\u001b[0;34m.\u001b[0m\u001b[0mlayers\u001b[0m\u001b[0;34m.\u001b[0m\u001b[0mconvolutional\u001b[0m \u001b[0;32mimport\u001b[0m \u001b[0mConv1D\u001b[0m\u001b[0;34m,\u001b[0m \u001b[0mConv2D\u001b[0m\u001b[0;34m,\u001b[0m \u001b[0mConv3D\u001b[0m\u001b[0;34m,\u001b[0m \u001b[0mConvolution2D\u001b[0m\u001b[0;34m\u001b[0m\u001b[0m\n\u001b[1;32m      5\u001b[0m \u001b[0;32mfrom\u001b[0m \u001b[0mkeras\u001b[0m\u001b[0;34m.\u001b[0m\u001b[0mpreprocessing\u001b[0m\u001b[0;34m.\u001b[0m\u001b[0mimage\u001b[0m \u001b[0;32mimport\u001b[0m \u001b[0mImageDataGenerator\u001b[0m\u001b[0;34m\u001b[0m\u001b[0m\n",
      "\u001b[0;32m/usr/local/lib/python3.6/dist-packages/keras/__init__.py\u001b[0m in \u001b[0;36m<module>\u001b[0;34m()\u001b[0m\n\u001b[1;32m      1\u001b[0m \u001b[0;32mfrom\u001b[0m \u001b[0m__future__\u001b[0m \u001b[0;32mimport\u001b[0m \u001b[0mabsolute_import\u001b[0m\u001b[0;34m\u001b[0m\u001b[0m\n\u001b[1;32m      2\u001b[0m \u001b[0;34m\u001b[0m\u001b[0m\n\u001b[0;32m----> 3\u001b[0;31m \u001b[0;32mfrom\u001b[0m \u001b[0;34m.\u001b[0m \u001b[0;32mimport\u001b[0m \u001b[0mutils\u001b[0m\u001b[0;34m\u001b[0m\u001b[0m\n\u001b[0m\u001b[1;32m      4\u001b[0m \u001b[0;32mfrom\u001b[0m \u001b[0;34m.\u001b[0m \u001b[0;32mimport\u001b[0m \u001b[0mactivations\u001b[0m\u001b[0;34m\u001b[0m\u001b[0m\n\u001b[1;32m      5\u001b[0m \u001b[0;32mfrom\u001b[0m \u001b[0;34m.\u001b[0m \u001b[0;32mimport\u001b[0m \u001b[0mapplications\u001b[0m\u001b[0;34m\u001b[0m\u001b[0m\n",
      "\u001b[0;32m/usr/local/lib/python3.6/dist-packages/keras/utils/__init__.py\u001b[0m in \u001b[0;36m<module>\u001b[0;34m()\u001b[0m\n\u001b[1;32m      4\u001b[0m \u001b[0;32mfrom\u001b[0m \u001b[0;34m.\u001b[0m \u001b[0;32mimport\u001b[0m \u001b[0mdata_utils\u001b[0m\u001b[0;34m\u001b[0m\u001b[0m\n\u001b[1;32m      5\u001b[0m \u001b[0;32mfrom\u001b[0m \u001b[0;34m.\u001b[0m \u001b[0;32mimport\u001b[0m \u001b[0mio_utils\u001b[0m\u001b[0;34m\u001b[0m\u001b[0m\n\u001b[0;32m----> 6\u001b[0;31m \u001b[0;32mfrom\u001b[0m \u001b[0;34m.\u001b[0m \u001b[0;32mimport\u001b[0m \u001b[0mconv_utils\u001b[0m\u001b[0;34m\u001b[0m\u001b[0m\n\u001b[0m\u001b[1;32m      7\u001b[0m \u001b[0;34m\u001b[0m\u001b[0m\n\u001b[1;32m      8\u001b[0m \u001b[0;31m# Globally-importable utils.\u001b[0m\u001b[0;34m\u001b[0m\u001b[0;34m\u001b[0m\u001b[0m\n",
      "\u001b[0;32m/usr/local/lib/python3.6/dist-packages/keras/utils/conv_utils.py\u001b[0m in \u001b[0;36m<module>\u001b[0;34m()\u001b[0m\n\u001b[1;32m      7\u001b[0m \u001b[0;32mfrom\u001b[0m \u001b[0msix\u001b[0m\u001b[0;34m.\u001b[0m\u001b[0mmoves\u001b[0m \u001b[0;32mimport\u001b[0m \u001b[0mrange\u001b[0m\u001b[0;34m\u001b[0m\u001b[0m\n\u001b[1;32m      8\u001b[0m \u001b[0;32mimport\u001b[0m \u001b[0mnumpy\u001b[0m \u001b[0;32mas\u001b[0m \u001b[0mnp\u001b[0m\u001b[0;34m\u001b[0m\u001b[0m\n\u001b[0;32m----> 9\u001b[0;31m \u001b[0;32mfrom\u001b[0m \u001b[0;34m.\u001b[0m\u001b[0;34m.\u001b[0m \u001b[0;32mimport\u001b[0m \u001b[0mbackend\u001b[0m \u001b[0;32mas\u001b[0m \u001b[0mK\u001b[0m\u001b[0;34m\u001b[0m\u001b[0m\n\u001b[0m\u001b[1;32m     10\u001b[0m \u001b[0;34m\u001b[0m\u001b[0m\n\u001b[1;32m     11\u001b[0m \u001b[0;34m\u001b[0m\u001b[0m\n",
      "\u001b[0;32m/usr/local/lib/python3.6/dist-packages/keras/backend/__init__.py\u001b[0m in \u001b[0;36m<module>\u001b[0;34m()\u001b[0m\n\u001b[1;32m     82\u001b[0m \u001b[0;32melif\u001b[0m \u001b[0m_BACKEND\u001b[0m \u001b[0;34m==\u001b[0m \u001b[0;34m'tensorflow'\u001b[0m\u001b[0;34m:\u001b[0m\u001b[0;34m\u001b[0m\u001b[0m\n\u001b[1;32m     83\u001b[0m     \u001b[0msys\u001b[0m\u001b[0;34m.\u001b[0m\u001b[0mstderr\u001b[0m\u001b[0;34m.\u001b[0m\u001b[0mwrite\u001b[0m\u001b[0;34m(\u001b[0m\u001b[0;34m'Using TensorFlow backend.\\n'\u001b[0m\u001b[0;34m)\u001b[0m\u001b[0;34m\u001b[0m\u001b[0m\n\u001b[0;32m---> 84\u001b[0;31m     \u001b[0;32mfrom\u001b[0m \u001b[0;34m.\u001b[0m\u001b[0mtensorflow_backend\u001b[0m \u001b[0;32mimport\u001b[0m \u001b[0;34m*\u001b[0m\u001b[0;34m\u001b[0m\u001b[0m\n\u001b[0m\u001b[1;32m     85\u001b[0m \u001b[0;32melse\u001b[0m\u001b[0;34m:\u001b[0m\u001b[0;34m\u001b[0m\u001b[0m\n\u001b[1;32m     86\u001b[0m     \u001b[0;32mraise\u001b[0m \u001b[0mValueError\u001b[0m\u001b[0;34m(\u001b[0m\u001b[0;34m'Unknown backend: '\u001b[0m \u001b[0;34m+\u001b[0m \u001b[0mstr\u001b[0m\u001b[0;34m(\u001b[0m\u001b[0m_BACKEND\u001b[0m\u001b[0;34m)\u001b[0m\u001b[0;34m)\u001b[0m\u001b[0;34m\u001b[0m\u001b[0m\n",
      "\u001b[0;32m/usr/local/lib/python3.6/dist-packages/keras/backend/tensorflow_backend.py\u001b[0m in \u001b[0;36m<module>\u001b[0;34m()\u001b[0m\n\u001b[1;32m      3\u001b[0m \u001b[0;32mfrom\u001b[0m \u001b[0m__future__\u001b[0m \u001b[0;32mimport\u001b[0m \u001b[0mprint_function\u001b[0m\u001b[0;34m\u001b[0m\u001b[0m\n\u001b[1;32m      4\u001b[0m \u001b[0;34m\u001b[0m\u001b[0m\n\u001b[0;32m----> 5\u001b[0;31m \u001b[0;32mimport\u001b[0m \u001b[0mtensorflow\u001b[0m \u001b[0;32mas\u001b[0m \u001b[0mtf\u001b[0m\u001b[0;34m\u001b[0m\u001b[0m\n\u001b[0m\u001b[1;32m      6\u001b[0m \u001b[0;32mfrom\u001b[0m \u001b[0mtensorflow\u001b[0m\u001b[0;34m.\u001b[0m\u001b[0mpython\u001b[0m\u001b[0;34m.\u001b[0m\u001b[0mtraining\u001b[0m \u001b[0;32mimport\u001b[0m \u001b[0mmoving_averages\u001b[0m\u001b[0;34m\u001b[0m\u001b[0m\n\u001b[1;32m      7\u001b[0m \u001b[0;32mfrom\u001b[0m \u001b[0mtensorflow\u001b[0m\u001b[0;34m.\u001b[0m\u001b[0mpython\u001b[0m\u001b[0;34m.\u001b[0m\u001b[0mops\u001b[0m \u001b[0;32mimport\u001b[0m \u001b[0mtensor_array_ops\u001b[0m\u001b[0;34m\u001b[0m\u001b[0m\n",
      "\u001b[0;32m/usr/local/lib/python3.6/dist-packages/tensorflow/__init__.py\u001b[0m in \u001b[0;36m<module>\u001b[0;34m()\u001b[0m\n\u001b[1;32m     22\u001b[0m \u001b[0;34m\u001b[0m\u001b[0m\n\u001b[1;32m     23\u001b[0m \u001b[0;31m# pylint: disable=wildcard-import\u001b[0m\u001b[0;34m\u001b[0m\u001b[0;34m\u001b[0m\u001b[0m\n\u001b[0;32m---> 24\u001b[0;31m \u001b[0;32mfrom\u001b[0m \u001b[0mtensorflow\u001b[0m\u001b[0;34m.\u001b[0m\u001b[0mpython\u001b[0m \u001b[0;32mimport\u001b[0m \u001b[0;34m*\u001b[0m  \u001b[0;31m# pylint: disable=redefined-builtin\u001b[0m\u001b[0;34m\u001b[0m\u001b[0m\n\u001b[0m\u001b[1;32m     25\u001b[0m \u001b[0;31m# pylint: enable=wildcard-import\u001b[0m\u001b[0;34m\u001b[0m\u001b[0;34m\u001b[0m\u001b[0m\n\u001b[1;32m     26\u001b[0m \u001b[0;34m\u001b[0m\u001b[0m\n",
      "\u001b[0;32m/usr/local/lib/python3.6/dist-packages/tensorflow/python/__init__.py\u001b[0m in \u001b[0;36m<module>\u001b[0;34m()\u001b[0m\n\u001b[1;32m     80\u001b[0m \u001b[0;32mfrom\u001b[0m \u001b[0mtensorflow\u001b[0m\u001b[0;34m.\u001b[0m\u001b[0mpython\u001b[0m \u001b[0;32mimport\u001b[0m \u001b[0mdata\u001b[0m\u001b[0;34m\u001b[0m\u001b[0m\n\u001b[1;32m     81\u001b[0m \u001b[0;32mfrom\u001b[0m \u001b[0mtensorflow\u001b[0m\u001b[0;34m.\u001b[0m\u001b[0mpython\u001b[0m \u001b[0;32mimport\u001b[0m \u001b[0mkeras\u001b[0m\u001b[0;34m\u001b[0m\u001b[0m\n\u001b[0;32m---> 82\u001b[0;31m \u001b[0;32mfrom\u001b[0m \u001b[0mtensorflow\u001b[0m\u001b[0;34m.\u001b[0m\u001b[0mpython\u001b[0m\u001b[0;34m.\u001b[0m\u001b[0mestimator\u001b[0m \u001b[0;32mimport\u001b[0m \u001b[0mestimator_lib\u001b[0m \u001b[0;32mas\u001b[0m \u001b[0mestimator\u001b[0m\u001b[0;34m\u001b[0m\u001b[0m\n\u001b[0m\u001b[1;32m     83\u001b[0m \u001b[0;32mfrom\u001b[0m \u001b[0mtensorflow\u001b[0m\u001b[0;34m.\u001b[0m\u001b[0mpython\u001b[0m\u001b[0;34m.\u001b[0m\u001b[0mfeature_column\u001b[0m \u001b[0;32mimport\u001b[0m \u001b[0mfeature_column_lib\u001b[0m \u001b[0;32mas\u001b[0m \u001b[0mfeature_column\u001b[0m\u001b[0;34m\u001b[0m\u001b[0m\n\u001b[1;32m     84\u001b[0m \u001b[0;32mfrom\u001b[0m \u001b[0mtensorflow\u001b[0m\u001b[0;34m.\u001b[0m\u001b[0mpython\u001b[0m\u001b[0;34m.\u001b[0m\u001b[0mlayers\u001b[0m \u001b[0;32mimport\u001b[0m \u001b[0mlayers\u001b[0m\u001b[0;34m\u001b[0m\u001b[0m\n",
      "\u001b[0;32m/usr/local/lib/python3.6/dist-packages/tensorflow/python/estimator/estimator_lib.py\u001b[0m in \u001b[0;36m<module>\u001b[0;34m()\u001b[0m\n\u001b[1;32m     35\u001b[0m \u001b[0;32mfrom\u001b[0m \u001b[0mtensorflow\u001b[0m\u001b[0;34m.\u001b[0m\u001b[0mpython\u001b[0m\u001b[0;34m.\u001b[0m\u001b[0mestimator\u001b[0m\u001b[0;34m.\u001b[0m\u001b[0mexporter\u001b[0m \u001b[0;32mimport\u001b[0m \u001b[0mFinalExporter\u001b[0m\u001b[0;34m\u001b[0m\u001b[0m\n\u001b[1;32m     36\u001b[0m \u001b[0;32mfrom\u001b[0m \u001b[0mtensorflow\u001b[0m\u001b[0;34m.\u001b[0m\u001b[0mpython\u001b[0m\u001b[0;34m.\u001b[0m\u001b[0mestimator\u001b[0m\u001b[0;34m.\u001b[0m\u001b[0mexporter\u001b[0m \u001b[0;32mimport\u001b[0m \u001b[0mLatestExporter\u001b[0m\u001b[0;34m\u001b[0m\u001b[0m\n\u001b[0;32m---> 37\u001b[0;31m \u001b[0;32mfrom\u001b[0m \u001b[0mtensorflow\u001b[0m\u001b[0;34m.\u001b[0m\u001b[0mpython\u001b[0m\u001b[0;34m.\u001b[0m\u001b[0mestimator\u001b[0m\u001b[0;34m.\u001b[0m\u001b[0minputs\u001b[0m \u001b[0;32mimport\u001b[0m \u001b[0minputs\u001b[0m\u001b[0;34m\u001b[0m\u001b[0m\n\u001b[0m\u001b[1;32m     38\u001b[0m \u001b[0;32mfrom\u001b[0m \u001b[0mtensorflow\u001b[0m\u001b[0;34m.\u001b[0m\u001b[0mpython\u001b[0m\u001b[0;34m.\u001b[0m\u001b[0mestimator\u001b[0m\u001b[0;34m.\u001b[0m\u001b[0mmodel_fn\u001b[0m \u001b[0;32mimport\u001b[0m \u001b[0mEstimatorSpec\u001b[0m\u001b[0;34m\u001b[0m\u001b[0m\n\u001b[1;32m     39\u001b[0m \u001b[0;32mfrom\u001b[0m \u001b[0mtensorflow\u001b[0m\u001b[0;34m.\u001b[0m\u001b[0mpython\u001b[0m\u001b[0;34m.\u001b[0m\u001b[0mestimator\u001b[0m\u001b[0;34m.\u001b[0m\u001b[0mmodel_fn\u001b[0m \u001b[0;32mimport\u001b[0m \u001b[0mModeKeys\u001b[0m\u001b[0;34m\u001b[0m\u001b[0m\n",
      "\u001b[0;32m/usr/local/lib/python3.6/dist-packages/tensorflow/python/estimator/inputs/inputs.py\u001b[0m in \u001b[0;36m<module>\u001b[0;34m()\u001b[0m\n\u001b[1;32m     20\u001b[0m \u001b[0;34m\u001b[0m\u001b[0m\n\u001b[1;32m     21\u001b[0m \u001b[0;31m# pylint: disable=unused-import,line-too-long\u001b[0m\u001b[0;34m\u001b[0m\u001b[0;34m\u001b[0m\u001b[0m\n\u001b[0;32m---> 22\u001b[0;31m \u001b[0;32mfrom\u001b[0m \u001b[0mtensorflow\u001b[0m\u001b[0;34m.\u001b[0m\u001b[0mpython\u001b[0m\u001b[0;34m.\u001b[0m\u001b[0mestimator\u001b[0m\u001b[0;34m.\u001b[0m\u001b[0minputs\u001b[0m\u001b[0;34m.\u001b[0m\u001b[0mnumpy_io\u001b[0m \u001b[0;32mimport\u001b[0m \u001b[0mnumpy_input_fn\u001b[0m\u001b[0;34m\u001b[0m\u001b[0m\n\u001b[0m\u001b[1;32m     23\u001b[0m \u001b[0;32mfrom\u001b[0m \u001b[0mtensorflow\u001b[0m\u001b[0;34m.\u001b[0m\u001b[0mpython\u001b[0m\u001b[0;34m.\u001b[0m\u001b[0mestimator\u001b[0m\u001b[0;34m.\u001b[0m\u001b[0minputs\u001b[0m\u001b[0;34m.\u001b[0m\u001b[0mpandas_io\u001b[0m \u001b[0;32mimport\u001b[0m \u001b[0mpandas_input_fn\u001b[0m\u001b[0;34m\u001b[0m\u001b[0m\n\u001b[1;32m     24\u001b[0m \u001b[0;34m\u001b[0m\u001b[0m\n",
      "\u001b[0;32m/usr/local/lib/python3.6/dist-packages/tensorflow/python/estimator/inputs/numpy_io.py\u001b[0m in \u001b[0;36m<module>\u001b[0;34m()\u001b[0m\n\u001b[1;32m     24\u001b[0m \u001b[0;32mfrom\u001b[0m \u001b[0msix\u001b[0m \u001b[0;32mimport\u001b[0m \u001b[0mstring_types\u001b[0m\u001b[0;34m\u001b[0m\u001b[0m\n\u001b[1;32m     25\u001b[0m \u001b[0;34m\u001b[0m\u001b[0m\n\u001b[0;32m---> 26\u001b[0;31m \u001b[0;32mfrom\u001b[0m \u001b[0mtensorflow\u001b[0m\u001b[0;34m.\u001b[0m\u001b[0mpython\u001b[0m\u001b[0;34m.\u001b[0m\u001b[0mestimator\u001b[0m\u001b[0;34m.\u001b[0m\u001b[0minputs\u001b[0m\u001b[0;34m.\u001b[0m\u001b[0mqueues\u001b[0m \u001b[0;32mimport\u001b[0m \u001b[0mfeeding_functions\u001b[0m\u001b[0;34m\u001b[0m\u001b[0m\n\u001b[0m\u001b[1;32m     27\u001b[0m \u001b[0;32mfrom\u001b[0m \u001b[0mtensorflow\u001b[0m\u001b[0;34m.\u001b[0m\u001b[0mpython\u001b[0m\u001b[0;34m.\u001b[0m\u001b[0mutil\u001b[0m\u001b[0;34m.\u001b[0m\u001b[0mtf_export\u001b[0m \u001b[0;32mimport\u001b[0m \u001b[0mtf_export\u001b[0m\u001b[0;34m\u001b[0m\u001b[0m\n\u001b[1;32m     28\u001b[0m \u001b[0;34m\u001b[0m\u001b[0m\n",
      "\u001b[0;32m/usr/local/lib/python3.6/dist-packages/tensorflow/python/estimator/inputs/queues/feeding_functions.py\u001b[0m in \u001b[0;36m<module>\u001b[0;34m()\u001b[0m\n\u001b[1;32m     38\u001b[0m \u001b[0;32mtry\u001b[0m\u001b[0;34m:\u001b[0m\u001b[0;34m\u001b[0m\u001b[0m\n\u001b[1;32m     39\u001b[0m   \u001b[0;31m# pylint: disable=g-import-not-at-top\u001b[0m\u001b[0;34m\u001b[0m\u001b[0;34m\u001b[0m\u001b[0m\n\u001b[0;32m---> 40\u001b[0;31m   \u001b[0;32mimport\u001b[0m \u001b[0mpandas\u001b[0m \u001b[0;32mas\u001b[0m \u001b[0mpd\u001b[0m\u001b[0;34m\u001b[0m\u001b[0m\n\u001b[0m\u001b[1;32m     41\u001b[0m   \u001b[0mHAS_PANDAS\u001b[0m \u001b[0;34m=\u001b[0m \u001b[0;32mTrue\u001b[0m\u001b[0;34m\u001b[0m\u001b[0m\n\u001b[1;32m     42\u001b[0m \u001b[0;32mexcept\u001b[0m \u001b[0mIOError\u001b[0m\u001b[0;34m:\u001b[0m\u001b[0;34m\u001b[0m\u001b[0m\n",
      "\u001b[0;32m/usr/local/lib/python3.6/dist-packages/pandas/__init__.py\u001b[0m in \u001b[0;36m<module>\u001b[0;34m()\u001b[0m\n\u001b[1;32m     49\u001b[0m \u001b[0;31m# deprecate tools.plotting, plot_params and scatter_matrix on the top namespace\u001b[0m\u001b[0;34m\u001b[0m\u001b[0;34m\u001b[0m\u001b[0m\n\u001b[1;32m     50\u001b[0m \u001b[0;32mimport\u001b[0m \u001b[0mpandas\u001b[0m\u001b[0;34m.\u001b[0m\u001b[0mtools\u001b[0m\u001b[0;34m.\u001b[0m\u001b[0mplotting\u001b[0m\u001b[0;34m\u001b[0m\u001b[0m\n\u001b[0;32m---> 51\u001b[0;31m \u001b[0mplot_params\u001b[0m \u001b[0;34m=\u001b[0m \u001b[0mpandas\u001b[0m\u001b[0;34m.\u001b[0m\u001b[0mplotting\u001b[0m\u001b[0;34m.\u001b[0m\u001b[0m_style\u001b[0m\u001b[0;34m.\u001b[0m\u001b[0m_Options\u001b[0m\u001b[0;34m(\u001b[0m\u001b[0mdeprecated\u001b[0m\u001b[0;34m=\u001b[0m\u001b[0;32mTrue\u001b[0m\u001b[0;34m)\u001b[0m\u001b[0;34m\u001b[0m\u001b[0m\n\u001b[0m\u001b[1;32m     52\u001b[0m \u001b[0;31m# do not import deprecate to top namespace\u001b[0m\u001b[0;34m\u001b[0m\u001b[0;34m\u001b[0m\u001b[0m\n\u001b[1;32m     53\u001b[0m scatter_matrix = pandas.util._decorators.deprecate(\n",
      "\u001b[0;31mAttributeError\u001b[0m: module 'pandas' has no attribute 'plotting'"
     ]
    }
   ],
   "source": [
    "import minc_keras\n",
    "from utils import *\n",
    "import numpy as np\n",
    "from minc_keras import *\n",
    "### Set input and label string\n",
    "input_str='pet.mnc' \n",
    "label_str='dtissue.mnc'\n",
    "\n",
    "### Set filename for .csv that will store data frame \n",
    "images_fn='data.csv'\n",
    "\n",
    "### Set source directory from which data will be read\n",
    "source_dir=\"output/\"\n",
    "\n",
    "### Set the target directory where output results will be saved\n",
    "target_dir=\"mri_results\"\n",
    "\n",
    "### Set raiots for train/validation/test\n",
    "ratios=[0.7,0.15]\n",
    "\n",
    "### By default we set clobber to False so that we don't overwrite existing files\n",
    "### Feel free to change if needed\n",
    "clobber=True\n",
    "\n",
    "### Size of batches that will be passed to model. The default 2 makes it easy\n",
    "batch_size=2\n",
    "\n",
    "### Image dimensions. We are slicing the 3D images into 2D slices. This serves to augment the data\n",
    "### and make training faster\n",
    "image_dim=2\n",
    "\n",
    "setup_dirs()  \n",
    "\n",
    "### Set filename for .csv file that will contain info about input images\n",
    "images_fn = set_model_name(images_fn, report_dir, '.csv')\n",
    "\n",
    "[images, data] = prepare_data(source_dir, data_dir, report_dir, input_str, label_str, ratios, batch_size,feature_dim, images_fn,  clobber=clobber)"
   ]
  },
  {
   "cell_type": "markdown",
   "metadata": {
    "colab_type": "text",
    "id": "ZB0ZXe4DzTpF"
   },
   "source": [
    "# Training a simple model"
   ]
  },
  {
   "cell_type": "code",
   "execution_count": null,
   "metadata": {
    "colab": {
     "base_uri": "https://localhost:8080/",
     "height": 187
    },
    "colab_type": "code",
    "id": "vDqzkarSzTpF",
    "outputId": "c8a847cf-f298-462f-ffc3-2481e3a21650"
   },
   "outputs": [],
   "source": [
    "minc_keras.minc_keras(source_dir=\"data/output\", target_dir=\"results\", input_str=\"T1w_anat_rsl.mnc\",\\\n",
    "           label_str=\"variant-seg_rsl.mnc\", ratios=[0.7,0.15,0.15], nK=\"16,16,16\", kernel_size=3,\\\n",
    "           model_type=\"custom\", nb_epoch=5)"
   ]
  },
  {
   "cell_type": "markdown",
   "metadata": {
    "colab_type": "text",
    "id": "1_J1YOL_Lw05"
   },
   "source": [
    "## Understanding Keras output\n",
    "```\n",
    "Layer (type)                 Output Shape              Param #   \n",
    "=================================================================\n",
    "input_7 (InputLayer)         (None, 110, 92, 1)        0         \n",
    "_________________________________________________________________\n",
    "conv2d_16 (Conv2D)           (None, 110, 92, 16)       160       \n",
    "_________________________________________________________________\n",
    "dropout_10 (Dropout)         (None, 110, 92, 16)       0         \n",
    "_________________________________________________________________\n",
    "conv2d_17 (Conv2D)           (None, 110, 92, 16)       2320      \n",
    "_________________________________________________________________\n",
    "dropout_11 (Dropout)         (None, 110, 92, 16)       0         \n",
    "_________________________________________________________________\n",
    "conv2d_18 (Conv2D)           (None, 110, 92, 16)       2320      \n",
    "_________________________________________________________________\n",
    "dropout_12 (Dropout)         (None, 110, 92, 16)       0         \n",
    "_________________________________________________________________\n",
    "conv2d_19 (Conv2D)           (None, 110, 92, 3)        51        \n",
    "=================================================================\n",
    "Total params: 4,851\n",
    "Trainable params: 4,851\n",
    "Non-trainable params: 0\n",
    "_________________________________________________________________\n",
    "None\n",
    "Model: results/model/model.hdf5\n",
    "Running with 5\n",
    "(11598, 110, 92, 1) (11598, 110, 92, 3) (2556, 110, 92, 1) (2556, 110, 92, 3)\n",
    "Train on 11598 samples, validate on 2556 samples\n",
    "Epoch 1/5\n",
    "11598/11598 [==============================] - 355s 31ms/step - loss: 0.7399 - categorical_accuracy: 0.8595 - val_loss: 0.2688 - val_categorical_accuracy: 0.8872\n",
    "Epoch 2/5\n",
    "11598/11598 [==============================] - 353s 30ms/step - loss: 0.2238 - categorical_accuracy: 0.9010 - val_loss: 0.2193 - val_categorical_accuracy: 0.8986\n",
    "Epoch 3/5\n",
    "11598/11598 [==============================] - 352s 30ms/step - loss: 0.1969 - categorical_accuracy: 0.9111 - val_loss: 0.1999 - val_categorical_accuracy: 0.9083\n",
    "Epoch 4/5\n",
    "11598/11598 [==============================] - 350s 30ms/step - loss: 0.1807 - categorical_accuracy: 0.9204 - val_loss: 0.1863 - val_categorical_accuracy: 0.9184\n",
    "Epoch 5/5\n",
    "11598/11598 [==============================] - 352s 30ms/step - loss: 0.1689 - categorical_accuracy: 0.9272 - val_loss: 0.1745 - val_categorical_accuracy: 0.9243\n",
    "2478/2478 [==============================] - 21s 9ms/step\n",
    "Test: Loss= 0.16739090936765064 Metric= 0.9286423676239087\n",
    "No images were specified for prediction.\n",
    "Model training plot written to  results/report//model_loss_plot.png\n",
    "```"
   ]
  },
  {
   "cell_type": "markdown",
   "metadata": {},
   "source": [
    "# Identifying over-fitting"
   ]
  },
  {
   "cell_type": "code",
   "execution_count": 5,
   "metadata": {},
   "outputs": [
    {
     "name": "stderr",
     "output_type": "stream",
     "text": [
      "Using TensorFlow backend.\n"
     ]
    },
    {
     "ename": "AttributeError",
     "evalue": "module 'pandas' has no attribute 'plotting'",
     "output_type": "error",
     "traceback": [
      "\u001b[0;31m---------------------------------------------------------------------------\u001b[0m",
      "\u001b[0;31mAttributeError\u001b[0m                            Traceback (most recent call last)",
      "\u001b[0;32m<ipython-input-5-afdd07230c22>\u001b[0m in \u001b[0;36m<module>\u001b[0;34m()\u001b[0m\n\u001b[0;32m----> 1\u001b[0;31m \u001b[0;32mimport\u001b[0m \u001b[0mminc_keras\u001b[0m\u001b[0;34m\u001b[0m\u001b[0m\n\u001b[0m\u001b[1;32m      2\u001b[0m \u001b[0mminc_keras\u001b[0m\u001b[0;34m.\u001b[0m\u001b[0mminc_keras\u001b[0m\u001b[0;34m(\u001b[0m\u001b[0msource_dir\u001b[0m\u001b[0;34m=\u001b[0m\u001b[0;34m\"data/output\"\u001b[0m\u001b[0;34m,\u001b[0m \u001b[0mtarget_dir\u001b[0m\u001b[0;34m=\u001b[0m\u001b[0;34m\"results\"\u001b[0m\u001b[0;34m,\u001b[0m \u001b[0minput_str\u001b[0m\u001b[0;34m=\u001b[0m\u001b[0;34m\"T1w_anat_rsl.mnc\"\u001b[0m\u001b[0;34m,\u001b[0m\u001b[0mmodel_fn\u001b[0m\u001b[0;34m=\u001b[0m\u001b[0;34m\"overfit.hdf5\"\u001b[0m\u001b[0;34m,\u001b[0m           \u001b[0mlabel_str\u001b[0m\u001b[0;34m=\u001b[0m\u001b[0;34m\"variant-seg_rsl.mnc\"\u001b[0m\u001b[0;34m,\u001b[0m \u001b[0mratios\u001b[0m\u001b[0;34m=\u001b[0m\u001b[0;34m[\u001b[0m\u001b[0;36m0.3\u001b[0m\u001b[0;34m,\u001b[0m\u001b[0;36m0.35\u001b[0m\u001b[0;34m,\u001b[0m\u001b[0;36m0.35\u001b[0m\u001b[0;34m]\u001b[0m\u001b[0;34m,\u001b[0m \u001b[0mnK\u001b[0m\u001b[0;34m=\u001b[0m\u001b[0;34m\"64,64,64,128,128\"\u001b[0m\u001b[0;34m,\u001b[0m \u001b[0mkernel_size\u001b[0m\u001b[0;34m=\u001b[0m\u001b[0;36m5\u001b[0m\u001b[0;34m,\u001b[0m           \u001b[0mmodel_type\u001b[0m\u001b[0;34m=\u001b[0m\u001b[0;34m\"custom\"\u001b[0m\u001b[0;34m,\u001b[0m \u001b[0mnb_epoch\u001b[0m\u001b[0;34m=\u001b[0m\u001b[0;36m3\u001b[0m\u001b[0;34m)\u001b[0m\u001b[0;34m\u001b[0m\u001b[0m\n",
      "\u001b[0;32m~/neuro/projects/minc_keras/minc_keras.py\u001b[0m in \u001b[0;36m<module>\u001b[0;34m()\u001b[0m\n\u001b[1;32m      7\u001b[0m \u001b[0;32mimport\u001b[0m \u001b[0margparse\u001b[0m\u001b[0;34m\u001b[0m\u001b[0m\n\u001b[1;32m      8\u001b[0m \u001b[0;31m#local modules defined in current project\u001b[0m\u001b[0;34m\u001b[0m\u001b[0;34m\u001b[0m\u001b[0m\n\u001b[0;32m----> 9\u001b[0;31m \u001b[0;32mfrom\u001b[0m \u001b[0mmake_and_run_model\u001b[0m \u001b[0;32mimport\u001b[0m \u001b[0;34m*\u001b[0m\u001b[0;34m\u001b[0m\u001b[0m\n\u001b[0m\u001b[1;32m     10\u001b[0m \u001b[0;32mfrom\u001b[0m \u001b[0mpredict\u001b[0m \u001b[0;32mimport\u001b[0m \u001b[0;34m*\u001b[0m\u001b[0;34m\u001b[0m\u001b[0m\n\u001b[1;32m     11\u001b[0m \u001b[0;32mfrom\u001b[0m \u001b[0mprepare_data\u001b[0m \u001b[0;32mimport\u001b[0m \u001b[0;34m*\u001b[0m\u001b[0;34m\u001b[0m\u001b[0m\n",
      "\u001b[0;32m~/neuro/projects/minc_keras/make_and_run_model.py\u001b[0m in \u001b[0;36m<module>\u001b[0;34m()\u001b[0m\n\u001b[0;32m----> 1\u001b[0;31m \u001b[0;32mimport\u001b[0m \u001b[0mkeras\u001b[0m\u001b[0;34m\u001b[0m\u001b[0m\n\u001b[0m\u001b[1;32m      2\u001b[0m \u001b[0;32mfrom\u001b[0m \u001b[0mkeras\u001b[0m\u001b[0;34m.\u001b[0m\u001b[0mmodels\u001b[0m \u001b[0;32mimport\u001b[0m \u001b[0mSequential\u001b[0m\u001b[0;34m,\u001b[0m \u001b[0mload_model\u001b[0m\u001b[0;34m\u001b[0m\u001b[0m\n\u001b[1;32m      3\u001b[0m \u001b[0;32mfrom\u001b[0m \u001b[0mkeras\u001b[0m\u001b[0;34m.\u001b[0m\u001b[0mlayers\u001b[0m \u001b[0;32mimport\u001b[0m \u001b[0mInput\u001b[0m\u001b[0;34m,\u001b[0m \u001b[0mAdd\u001b[0m\u001b[0;34m,\u001b[0m \u001b[0mMultiply\u001b[0m\u001b[0;34m,\u001b[0m \u001b[0mDense\u001b[0m\u001b[0;34m,\u001b[0m \u001b[0mMaxPooling3D\u001b[0m\u001b[0;34m,\u001b[0m \u001b[0mBatchNormalization\u001b[0m\u001b[0;34m,\u001b[0m \u001b[0mReshape\u001b[0m\u001b[0;34m\u001b[0m\u001b[0m\n\u001b[1;32m      4\u001b[0m \u001b[0;32mfrom\u001b[0m \u001b[0mkeras\u001b[0m\u001b[0;34m.\u001b[0m\u001b[0mlayers\u001b[0m\u001b[0;34m.\u001b[0m\u001b[0mconvolutional\u001b[0m \u001b[0;32mimport\u001b[0m \u001b[0mConv1D\u001b[0m\u001b[0;34m,\u001b[0m \u001b[0mConv2D\u001b[0m\u001b[0;34m,\u001b[0m \u001b[0mConv3D\u001b[0m\u001b[0;34m,\u001b[0m \u001b[0mConvolution2D\u001b[0m\u001b[0;34m\u001b[0m\u001b[0m\n\u001b[1;32m      5\u001b[0m \u001b[0;32mfrom\u001b[0m \u001b[0mkeras\u001b[0m\u001b[0;34m.\u001b[0m\u001b[0mpreprocessing\u001b[0m\u001b[0;34m.\u001b[0m\u001b[0mimage\u001b[0m \u001b[0;32mimport\u001b[0m \u001b[0mImageDataGenerator\u001b[0m\u001b[0;34m\u001b[0m\u001b[0m\n",
      "\u001b[0;32m/usr/local/lib/python3.6/dist-packages/keras/__init__.py\u001b[0m in \u001b[0;36m<module>\u001b[0;34m()\u001b[0m\n\u001b[1;32m      1\u001b[0m \u001b[0;32mfrom\u001b[0m \u001b[0m__future__\u001b[0m \u001b[0;32mimport\u001b[0m \u001b[0mabsolute_import\u001b[0m\u001b[0;34m\u001b[0m\u001b[0m\n\u001b[1;32m      2\u001b[0m \u001b[0;34m\u001b[0m\u001b[0m\n\u001b[0;32m----> 3\u001b[0;31m \u001b[0;32mfrom\u001b[0m \u001b[0;34m.\u001b[0m \u001b[0;32mimport\u001b[0m \u001b[0mutils\u001b[0m\u001b[0;34m\u001b[0m\u001b[0m\n\u001b[0m\u001b[1;32m      4\u001b[0m \u001b[0;32mfrom\u001b[0m \u001b[0;34m.\u001b[0m \u001b[0;32mimport\u001b[0m \u001b[0mactivations\u001b[0m\u001b[0;34m\u001b[0m\u001b[0m\n\u001b[1;32m      5\u001b[0m \u001b[0;32mfrom\u001b[0m \u001b[0;34m.\u001b[0m \u001b[0;32mimport\u001b[0m \u001b[0mapplications\u001b[0m\u001b[0;34m\u001b[0m\u001b[0m\n",
      "\u001b[0;32m/usr/local/lib/python3.6/dist-packages/keras/utils/__init__.py\u001b[0m in \u001b[0;36m<module>\u001b[0;34m()\u001b[0m\n\u001b[1;32m      4\u001b[0m \u001b[0;32mfrom\u001b[0m \u001b[0;34m.\u001b[0m \u001b[0;32mimport\u001b[0m \u001b[0mdata_utils\u001b[0m\u001b[0;34m\u001b[0m\u001b[0m\n\u001b[1;32m      5\u001b[0m \u001b[0;32mfrom\u001b[0m \u001b[0;34m.\u001b[0m \u001b[0;32mimport\u001b[0m \u001b[0mio_utils\u001b[0m\u001b[0;34m\u001b[0m\u001b[0m\n\u001b[0;32m----> 6\u001b[0;31m \u001b[0;32mfrom\u001b[0m \u001b[0;34m.\u001b[0m \u001b[0;32mimport\u001b[0m \u001b[0mconv_utils\u001b[0m\u001b[0;34m\u001b[0m\u001b[0m\n\u001b[0m\u001b[1;32m      7\u001b[0m \u001b[0;34m\u001b[0m\u001b[0m\n\u001b[1;32m      8\u001b[0m \u001b[0;31m# Globally-importable utils.\u001b[0m\u001b[0;34m\u001b[0m\u001b[0;34m\u001b[0m\u001b[0m\n",
      "\u001b[0;32m/usr/local/lib/python3.6/dist-packages/keras/utils/conv_utils.py\u001b[0m in \u001b[0;36m<module>\u001b[0;34m()\u001b[0m\n\u001b[1;32m      7\u001b[0m \u001b[0;32mfrom\u001b[0m \u001b[0msix\u001b[0m\u001b[0;34m.\u001b[0m\u001b[0mmoves\u001b[0m \u001b[0;32mimport\u001b[0m \u001b[0mrange\u001b[0m\u001b[0;34m\u001b[0m\u001b[0m\n\u001b[1;32m      8\u001b[0m \u001b[0;32mimport\u001b[0m \u001b[0mnumpy\u001b[0m \u001b[0;32mas\u001b[0m \u001b[0mnp\u001b[0m\u001b[0;34m\u001b[0m\u001b[0m\n\u001b[0;32m----> 9\u001b[0;31m \u001b[0;32mfrom\u001b[0m \u001b[0;34m.\u001b[0m\u001b[0;34m.\u001b[0m \u001b[0;32mimport\u001b[0m \u001b[0mbackend\u001b[0m \u001b[0;32mas\u001b[0m \u001b[0mK\u001b[0m\u001b[0;34m\u001b[0m\u001b[0m\n\u001b[0m\u001b[1;32m     10\u001b[0m \u001b[0;34m\u001b[0m\u001b[0m\n\u001b[1;32m     11\u001b[0m \u001b[0;34m\u001b[0m\u001b[0m\n",
      "\u001b[0;32m/usr/local/lib/python3.6/dist-packages/keras/backend/__init__.py\u001b[0m in \u001b[0;36m<module>\u001b[0;34m()\u001b[0m\n\u001b[1;32m     82\u001b[0m \u001b[0;32melif\u001b[0m \u001b[0m_BACKEND\u001b[0m \u001b[0;34m==\u001b[0m \u001b[0;34m'tensorflow'\u001b[0m\u001b[0;34m:\u001b[0m\u001b[0;34m\u001b[0m\u001b[0m\n\u001b[1;32m     83\u001b[0m     \u001b[0msys\u001b[0m\u001b[0;34m.\u001b[0m\u001b[0mstderr\u001b[0m\u001b[0;34m.\u001b[0m\u001b[0mwrite\u001b[0m\u001b[0;34m(\u001b[0m\u001b[0;34m'Using TensorFlow backend.\\n'\u001b[0m\u001b[0;34m)\u001b[0m\u001b[0;34m\u001b[0m\u001b[0m\n\u001b[0;32m---> 84\u001b[0;31m     \u001b[0;32mfrom\u001b[0m \u001b[0;34m.\u001b[0m\u001b[0mtensorflow_backend\u001b[0m \u001b[0;32mimport\u001b[0m \u001b[0;34m*\u001b[0m\u001b[0;34m\u001b[0m\u001b[0m\n\u001b[0m\u001b[1;32m     85\u001b[0m \u001b[0;32melse\u001b[0m\u001b[0;34m:\u001b[0m\u001b[0;34m\u001b[0m\u001b[0m\n\u001b[1;32m     86\u001b[0m     \u001b[0;32mraise\u001b[0m \u001b[0mValueError\u001b[0m\u001b[0;34m(\u001b[0m\u001b[0;34m'Unknown backend: '\u001b[0m \u001b[0;34m+\u001b[0m \u001b[0mstr\u001b[0m\u001b[0;34m(\u001b[0m\u001b[0m_BACKEND\u001b[0m\u001b[0;34m)\u001b[0m\u001b[0;34m)\u001b[0m\u001b[0;34m\u001b[0m\u001b[0m\n",
      "\u001b[0;32m/usr/local/lib/python3.6/dist-packages/keras/backend/tensorflow_backend.py\u001b[0m in \u001b[0;36m<module>\u001b[0;34m()\u001b[0m\n\u001b[1;32m      3\u001b[0m \u001b[0;32mfrom\u001b[0m \u001b[0m__future__\u001b[0m \u001b[0;32mimport\u001b[0m \u001b[0mprint_function\u001b[0m\u001b[0;34m\u001b[0m\u001b[0m\n\u001b[1;32m      4\u001b[0m \u001b[0;34m\u001b[0m\u001b[0m\n\u001b[0;32m----> 5\u001b[0;31m \u001b[0;32mimport\u001b[0m \u001b[0mtensorflow\u001b[0m \u001b[0;32mas\u001b[0m \u001b[0mtf\u001b[0m\u001b[0;34m\u001b[0m\u001b[0m\n\u001b[0m\u001b[1;32m      6\u001b[0m \u001b[0;32mfrom\u001b[0m \u001b[0mtensorflow\u001b[0m\u001b[0;34m.\u001b[0m\u001b[0mpython\u001b[0m\u001b[0;34m.\u001b[0m\u001b[0mtraining\u001b[0m \u001b[0;32mimport\u001b[0m \u001b[0mmoving_averages\u001b[0m\u001b[0;34m\u001b[0m\u001b[0m\n\u001b[1;32m      7\u001b[0m \u001b[0;32mfrom\u001b[0m \u001b[0mtensorflow\u001b[0m\u001b[0;34m.\u001b[0m\u001b[0mpython\u001b[0m\u001b[0;34m.\u001b[0m\u001b[0mops\u001b[0m \u001b[0;32mimport\u001b[0m \u001b[0mtensor_array_ops\u001b[0m\u001b[0;34m\u001b[0m\u001b[0m\n",
      "\u001b[0;32m/usr/local/lib/python3.6/dist-packages/tensorflow/__init__.py\u001b[0m in \u001b[0;36m<module>\u001b[0;34m()\u001b[0m\n\u001b[1;32m     22\u001b[0m \u001b[0;34m\u001b[0m\u001b[0m\n\u001b[1;32m     23\u001b[0m \u001b[0;31m# pylint: disable=wildcard-import\u001b[0m\u001b[0;34m\u001b[0m\u001b[0;34m\u001b[0m\u001b[0m\n\u001b[0;32m---> 24\u001b[0;31m \u001b[0;32mfrom\u001b[0m \u001b[0mtensorflow\u001b[0m\u001b[0;34m.\u001b[0m\u001b[0mpython\u001b[0m \u001b[0;32mimport\u001b[0m \u001b[0;34m*\u001b[0m  \u001b[0;31m# pylint: disable=redefined-builtin\u001b[0m\u001b[0;34m\u001b[0m\u001b[0m\n\u001b[0m\u001b[1;32m     25\u001b[0m \u001b[0;31m# pylint: enable=wildcard-import\u001b[0m\u001b[0;34m\u001b[0m\u001b[0;34m\u001b[0m\u001b[0m\n\u001b[1;32m     26\u001b[0m \u001b[0;34m\u001b[0m\u001b[0m\n",
      "\u001b[0;32m/usr/local/lib/python3.6/dist-packages/tensorflow/python/__init__.py\u001b[0m in \u001b[0;36m<module>\u001b[0;34m()\u001b[0m\n\u001b[1;32m     80\u001b[0m \u001b[0;32mfrom\u001b[0m \u001b[0mtensorflow\u001b[0m\u001b[0;34m.\u001b[0m\u001b[0mpython\u001b[0m \u001b[0;32mimport\u001b[0m \u001b[0mdata\u001b[0m\u001b[0;34m\u001b[0m\u001b[0m\n\u001b[1;32m     81\u001b[0m \u001b[0;32mfrom\u001b[0m \u001b[0mtensorflow\u001b[0m\u001b[0;34m.\u001b[0m\u001b[0mpython\u001b[0m \u001b[0;32mimport\u001b[0m \u001b[0mkeras\u001b[0m\u001b[0;34m\u001b[0m\u001b[0m\n\u001b[0;32m---> 82\u001b[0;31m \u001b[0;32mfrom\u001b[0m \u001b[0mtensorflow\u001b[0m\u001b[0;34m.\u001b[0m\u001b[0mpython\u001b[0m\u001b[0;34m.\u001b[0m\u001b[0mestimator\u001b[0m \u001b[0;32mimport\u001b[0m \u001b[0mestimator_lib\u001b[0m \u001b[0;32mas\u001b[0m \u001b[0mestimator\u001b[0m\u001b[0;34m\u001b[0m\u001b[0m\n\u001b[0m\u001b[1;32m     83\u001b[0m \u001b[0;32mfrom\u001b[0m \u001b[0mtensorflow\u001b[0m\u001b[0;34m.\u001b[0m\u001b[0mpython\u001b[0m\u001b[0;34m.\u001b[0m\u001b[0mfeature_column\u001b[0m \u001b[0;32mimport\u001b[0m \u001b[0mfeature_column_lib\u001b[0m \u001b[0;32mas\u001b[0m \u001b[0mfeature_column\u001b[0m\u001b[0;34m\u001b[0m\u001b[0m\n\u001b[1;32m     84\u001b[0m \u001b[0;32mfrom\u001b[0m \u001b[0mtensorflow\u001b[0m\u001b[0;34m.\u001b[0m\u001b[0mpython\u001b[0m\u001b[0;34m.\u001b[0m\u001b[0mlayers\u001b[0m \u001b[0;32mimport\u001b[0m \u001b[0mlayers\u001b[0m\u001b[0;34m\u001b[0m\u001b[0m\n",
      "\u001b[0;32m/usr/local/lib/python3.6/dist-packages/tensorflow/python/estimator/estimator_lib.py\u001b[0m in \u001b[0;36m<module>\u001b[0;34m()\u001b[0m\n\u001b[1;32m     35\u001b[0m \u001b[0;32mfrom\u001b[0m \u001b[0mtensorflow\u001b[0m\u001b[0;34m.\u001b[0m\u001b[0mpython\u001b[0m\u001b[0;34m.\u001b[0m\u001b[0mestimator\u001b[0m\u001b[0;34m.\u001b[0m\u001b[0mexporter\u001b[0m \u001b[0;32mimport\u001b[0m \u001b[0mFinalExporter\u001b[0m\u001b[0;34m\u001b[0m\u001b[0m\n\u001b[1;32m     36\u001b[0m \u001b[0;32mfrom\u001b[0m \u001b[0mtensorflow\u001b[0m\u001b[0;34m.\u001b[0m\u001b[0mpython\u001b[0m\u001b[0;34m.\u001b[0m\u001b[0mestimator\u001b[0m\u001b[0;34m.\u001b[0m\u001b[0mexporter\u001b[0m \u001b[0;32mimport\u001b[0m \u001b[0mLatestExporter\u001b[0m\u001b[0;34m\u001b[0m\u001b[0m\n\u001b[0;32m---> 37\u001b[0;31m \u001b[0;32mfrom\u001b[0m \u001b[0mtensorflow\u001b[0m\u001b[0;34m.\u001b[0m\u001b[0mpython\u001b[0m\u001b[0;34m.\u001b[0m\u001b[0mestimator\u001b[0m\u001b[0;34m.\u001b[0m\u001b[0minputs\u001b[0m \u001b[0;32mimport\u001b[0m \u001b[0minputs\u001b[0m\u001b[0;34m\u001b[0m\u001b[0m\n\u001b[0m\u001b[1;32m     38\u001b[0m \u001b[0;32mfrom\u001b[0m \u001b[0mtensorflow\u001b[0m\u001b[0;34m.\u001b[0m\u001b[0mpython\u001b[0m\u001b[0;34m.\u001b[0m\u001b[0mestimator\u001b[0m\u001b[0;34m.\u001b[0m\u001b[0mmodel_fn\u001b[0m \u001b[0;32mimport\u001b[0m \u001b[0mEstimatorSpec\u001b[0m\u001b[0;34m\u001b[0m\u001b[0m\n\u001b[1;32m     39\u001b[0m \u001b[0;32mfrom\u001b[0m \u001b[0mtensorflow\u001b[0m\u001b[0;34m.\u001b[0m\u001b[0mpython\u001b[0m\u001b[0;34m.\u001b[0m\u001b[0mestimator\u001b[0m\u001b[0;34m.\u001b[0m\u001b[0mmodel_fn\u001b[0m \u001b[0;32mimport\u001b[0m \u001b[0mModeKeys\u001b[0m\u001b[0;34m\u001b[0m\u001b[0m\n",
      "\u001b[0;32m/usr/local/lib/python3.6/dist-packages/tensorflow/python/estimator/inputs/inputs.py\u001b[0m in \u001b[0;36m<module>\u001b[0;34m()\u001b[0m\n\u001b[1;32m     20\u001b[0m \u001b[0;34m\u001b[0m\u001b[0m\n\u001b[1;32m     21\u001b[0m \u001b[0;31m# pylint: disable=unused-import,line-too-long\u001b[0m\u001b[0;34m\u001b[0m\u001b[0;34m\u001b[0m\u001b[0m\n\u001b[0;32m---> 22\u001b[0;31m \u001b[0;32mfrom\u001b[0m \u001b[0mtensorflow\u001b[0m\u001b[0;34m.\u001b[0m\u001b[0mpython\u001b[0m\u001b[0;34m.\u001b[0m\u001b[0mestimator\u001b[0m\u001b[0;34m.\u001b[0m\u001b[0minputs\u001b[0m\u001b[0;34m.\u001b[0m\u001b[0mnumpy_io\u001b[0m \u001b[0;32mimport\u001b[0m \u001b[0mnumpy_input_fn\u001b[0m\u001b[0;34m\u001b[0m\u001b[0m\n\u001b[0m\u001b[1;32m     23\u001b[0m \u001b[0;32mfrom\u001b[0m \u001b[0mtensorflow\u001b[0m\u001b[0;34m.\u001b[0m\u001b[0mpython\u001b[0m\u001b[0;34m.\u001b[0m\u001b[0mestimator\u001b[0m\u001b[0;34m.\u001b[0m\u001b[0minputs\u001b[0m\u001b[0;34m.\u001b[0m\u001b[0mpandas_io\u001b[0m \u001b[0;32mimport\u001b[0m \u001b[0mpandas_input_fn\u001b[0m\u001b[0;34m\u001b[0m\u001b[0m\n\u001b[1;32m     24\u001b[0m \u001b[0;34m\u001b[0m\u001b[0m\n",
      "\u001b[0;32m/usr/local/lib/python3.6/dist-packages/tensorflow/python/estimator/inputs/numpy_io.py\u001b[0m in \u001b[0;36m<module>\u001b[0;34m()\u001b[0m\n\u001b[1;32m     24\u001b[0m \u001b[0;32mfrom\u001b[0m \u001b[0msix\u001b[0m \u001b[0;32mimport\u001b[0m \u001b[0mstring_types\u001b[0m\u001b[0;34m\u001b[0m\u001b[0m\n\u001b[1;32m     25\u001b[0m \u001b[0;34m\u001b[0m\u001b[0m\n\u001b[0;32m---> 26\u001b[0;31m \u001b[0;32mfrom\u001b[0m \u001b[0mtensorflow\u001b[0m\u001b[0;34m.\u001b[0m\u001b[0mpython\u001b[0m\u001b[0;34m.\u001b[0m\u001b[0mestimator\u001b[0m\u001b[0;34m.\u001b[0m\u001b[0minputs\u001b[0m\u001b[0;34m.\u001b[0m\u001b[0mqueues\u001b[0m \u001b[0;32mimport\u001b[0m \u001b[0mfeeding_functions\u001b[0m\u001b[0;34m\u001b[0m\u001b[0m\n\u001b[0m\u001b[1;32m     27\u001b[0m \u001b[0;32mfrom\u001b[0m \u001b[0mtensorflow\u001b[0m\u001b[0;34m.\u001b[0m\u001b[0mpython\u001b[0m\u001b[0;34m.\u001b[0m\u001b[0mutil\u001b[0m\u001b[0;34m.\u001b[0m\u001b[0mtf_export\u001b[0m \u001b[0;32mimport\u001b[0m \u001b[0mtf_export\u001b[0m\u001b[0;34m\u001b[0m\u001b[0m\n\u001b[1;32m     28\u001b[0m \u001b[0;34m\u001b[0m\u001b[0m\n",
      "\u001b[0;32m/usr/local/lib/python3.6/dist-packages/tensorflow/python/estimator/inputs/queues/feeding_functions.py\u001b[0m in \u001b[0;36m<module>\u001b[0;34m()\u001b[0m\n\u001b[1;32m     38\u001b[0m \u001b[0;32mtry\u001b[0m\u001b[0;34m:\u001b[0m\u001b[0;34m\u001b[0m\u001b[0m\n\u001b[1;32m     39\u001b[0m   \u001b[0;31m# pylint: disable=g-import-not-at-top\u001b[0m\u001b[0;34m\u001b[0m\u001b[0;34m\u001b[0m\u001b[0m\n\u001b[0;32m---> 40\u001b[0;31m   \u001b[0;32mimport\u001b[0m \u001b[0mpandas\u001b[0m \u001b[0;32mas\u001b[0m \u001b[0mpd\u001b[0m\u001b[0;34m\u001b[0m\u001b[0m\n\u001b[0m\u001b[1;32m     41\u001b[0m   \u001b[0mHAS_PANDAS\u001b[0m \u001b[0;34m=\u001b[0m \u001b[0;32mTrue\u001b[0m\u001b[0;34m\u001b[0m\u001b[0m\n\u001b[1;32m     42\u001b[0m \u001b[0;32mexcept\u001b[0m \u001b[0mIOError\u001b[0m\u001b[0;34m:\u001b[0m\u001b[0;34m\u001b[0m\u001b[0m\n",
      "\u001b[0;32m/usr/local/lib/python3.6/dist-packages/pandas/__init__.py\u001b[0m in \u001b[0;36m<module>\u001b[0;34m()\u001b[0m\n\u001b[1;32m     49\u001b[0m \u001b[0;31m# deprecate tools.plotting, plot_params and scatter_matrix on the top namespace\u001b[0m\u001b[0;34m\u001b[0m\u001b[0;34m\u001b[0m\u001b[0m\n\u001b[1;32m     50\u001b[0m \u001b[0;32mimport\u001b[0m \u001b[0mpandas\u001b[0m\u001b[0;34m.\u001b[0m\u001b[0mtools\u001b[0m\u001b[0;34m.\u001b[0m\u001b[0mplotting\u001b[0m\u001b[0;34m\u001b[0m\u001b[0m\n\u001b[0;32m---> 51\u001b[0;31m \u001b[0mplot_params\u001b[0m \u001b[0;34m=\u001b[0m \u001b[0mpandas\u001b[0m\u001b[0;34m.\u001b[0m\u001b[0mplotting\u001b[0m\u001b[0;34m.\u001b[0m\u001b[0m_style\u001b[0m\u001b[0;34m.\u001b[0m\u001b[0m_Options\u001b[0m\u001b[0;34m(\u001b[0m\u001b[0mdeprecated\u001b[0m\u001b[0;34m=\u001b[0m\u001b[0;32mTrue\u001b[0m\u001b[0;34m)\u001b[0m\u001b[0;34m\u001b[0m\u001b[0m\n\u001b[0m\u001b[1;32m     52\u001b[0m \u001b[0;31m# do not import deprecate to top namespace\u001b[0m\u001b[0;34m\u001b[0m\u001b[0;34m\u001b[0m\u001b[0m\n\u001b[1;32m     53\u001b[0m scatter_matrix = pandas.util._decorators.deprecate(\n",
      "\u001b[0;31mAttributeError\u001b[0m: module 'pandas' has no attribute 'plotting'"
     ]
    }
   ],
   "source": [
    "import minc_keras\n",
    "minc_keras.minc_keras(source_dir=\"data/output\", target_dir=\"results\", input_str=\"T1w_anat_rsl.mnc\",model_fn=\"overfit.hdf5\",\\\n",
    "           label_str=\"variant-seg_rsl.mnc\", ratios=[0.3,0.35,0.35], nK=\"64,64,64,128,128\", kernel_size=5,\\\n",
    "           model_type=\"custom\", nb_epoch=3)"
   ]
  },
  {
   "cell_type": "markdown",
   "metadata": {},
   "source": [
    "# Using regularization to control over-fitting"
   ]
  },
  {
   "cell_type": "code",
   "execution_count": null,
   "metadata": {
    "colab": {
     "base_uri": "https://localhost:8080/",
     "height": 187
    },
    "colab_type": "code",
    "id": "9qhOKYbtEsT1",
    "outputId": "9aa35c1c-3d19-495a-ce76-29872e1fe16b"
   },
   "outputs": [],
   "source": [
    "minc_keras.minc_keras(source_dir=\"output/\", target_dir=\"results\", input_str=\"T1w_anat_rsl.mnc\",\\\n",
    "           label_str=\"variant-seg_rsl.mnc\", ratios=[0.7,0.15,0.15], nK=\"16,16,16\", kernel_size=3,\\\n",
    "           model_type=\"custom\", drop_out=0.25, nb_epoch=5)"
   ]
  },
  {
   "cell_type": "markdown",
   "metadata": {},
   "source": [
    "# Adding dilations"
   ]
  },
  {
   "cell_type": "code",
   "execution_count": null,
   "metadata": {
    "colab": {},
    "colab_type": "code",
    "id": "5Fo61_R0GYoq"
   },
   "outputs": [],
   "source": [
    "minc_keras.minc_keras(source_dir=\"output\", target_dir=\"results\", input_str=\"T1w_anat_rsl.mnc\",model_fn=\"drop_out.hdf5\",\\\n",
    "                      label_str=\"variant-seg_rsl.mnc\", ratios=[0.7,0.15,0.15], nK=\"16,16,16\", n_dil=\"2,2,2\",\\\n",
    "                      kernel_size=3, model_type=\"custom\", drop_out=0.25, nb_epoch=5)"
   ]
  },
  {
   "cell_type": "markdown",
   "metadata": {
    "colab_type": "text",
    "id": "D8VmKHg4zTpH"
   },
   "source": [
    "## Configuring basic options"
   ]
  },
  {
   "cell_type": "markdown",
   "metadata": {
    "colab_type": "text",
    "id": "5u7QfjeKzTpN"
   },
   "source": [
    "![](https://github.com/tfunck/minc_keras/blob/master/images/splits_c_3.png?raw=1)"
   ]
  },
  {
   "cell_type": "code",
   "execution_count": null,
   "metadata": {
    "colab": {},
    "colab_type": "code",
    "id": "SqBWn-PmzTpO"
   },
   "outputs": [],
   "source": [
    "[images, data] = prepare_data(source_dir, data_dir, report_dir, input_str, label_str, ratios, batch_size,feature_dim, images_fn,  clobber=clobber)"
   ]
  },
  {
   "cell_type": "markdown",
   "metadata": {
    "colab_type": "text",
    "id": "rGkJHbkPzTpQ"
   },
   "source": [
    "## Building a U-NET in Keras\n",
    "\n",
    "![](https://github.com/tfunck/minc_keras/blob/master/images/unet.png?raw=1)\n",
    "\n",
    "Ronneberger, Fischer, and Brox. 2015.\"U-net: Convolutional networks for biomedical image segmentation.\" International Conference on Medical image computing and computer-assisted intervention. https://arxiv.org/abs/1505.04597"
   ]
  },
  {
   "cell_type": "code",
   "execution_count": null,
   "metadata": {
    "colab": {},
    "colab_type": "code",
    "id": "0SDJ5RvOzTpQ"
   },
   "outputs": [],
   "source": [
    "    ### 1) Define architecture of neural network\n",
    "    Y_validate=np.load(data[\"validate_y_fn\"]+'.npy')\n",
    "    nlabels=len(np.unique(Y_validate))#Number of unique labels in the labeled images\n",
    "    \n",
    "    img_rows=image_dim[1]\n",
    "    img_cols=image_dim[2]\n",
    "    nMLP=16\n",
    "    nRshp=int(sqrt(nMLP))\n",
    "    nUpSm=int(image_dim[0]/nRshp)\n",
    "    image = Input(shape=(image_dim[1], image_dim[2],1))\n",
    "    \n",
    "    BN1 = BatchNormalization()(image)"
   ]
  },
  {
   "cell_type": "code",
   "execution_count": null,
   "metadata": {
    "colab": {},
    "colab_type": "code",
    "id": "0lS5aBHfzTpS"
   },
   "outputs": [],
   "source": [
    "    conv1 = Convolution2D(32, 3, 3, activation='relu', border_mode='same')(BN1)\n",
    "    conv1 = Convolution2D(32, 3, 3, activation='relu', border_mode='same')(conv1)\n",
    "    pool1 = MaxPooling2D(pool_size=(2, 2))(conv1)"
   ]
  },
  {
   "cell_type": "code",
   "execution_count": null,
   "metadata": {
    "colab": {},
    "colab_type": "code",
    "id": "2SEtPk_uzTpU"
   },
   "outputs": [],
   "source": [
    "    conv2 = Convolution2D(64, 3, 3, activation='relu', border_mode='same')(pool1)\n",
    "    conv2 = Convolution2D(64, 3, 3, activation='relu', border_mode='same')(conv2)\n",
    "    pool2 = MaxPooling2D(pool_size=(2, 2))(conv2)"
   ]
  },
  {
   "cell_type": "code",
   "execution_count": null,
   "metadata": {
    "colab": {},
    "colab_type": "code",
    "id": "hn5NNyCEzTpW"
   },
   "outputs": [],
   "source": [
    "    conv3 = Convolution2D(128, 3, 3, activation='relu', border_mode='same')(pool2)\n",
    "    conv3 = Convolution2D(128, 3, 3, activation='relu', border_mode='same')(conv3)\n",
    "    pool3 = MaxPooling2D(pool_size=(2, 2))(conv3)"
   ]
  },
  {
   "cell_type": "code",
   "execution_count": null,
   "metadata": {
    "colab": {},
    "colab_type": "code",
    "id": "0R-_cVwvzTpY"
   },
   "outputs": [],
   "source": [
    "    conv4 = Convolution2D(256, 3, 3, activation='relu', border_mode='same')(pool3)\n",
    "    conv4 = Convolution2D(256, 3, 3, activation='relu', border_mode='same')(conv4)\n",
    "    pool4 = MaxPooling2D(pool_size=(2, 2))(conv4)"
   ]
  },
  {
   "cell_type": "code",
   "execution_count": null,
   "metadata": {
    "colab": {},
    "colab_type": "code",
    "id": "cf7dXkBHzTpb"
   },
   "outputs": [],
   "source": [
    "    conv5 = Convolution2D(512, 3, 3, activation='relu', border_mode='same')(pool4)\n",
    "    conv5 = Convolution2D(512, 3, 3, activation='relu', border_mode='same')(conv5)"
   ]
  },
  {
   "cell_type": "code",
   "execution_count": null,
   "metadata": {
    "colab": {},
    "colab_type": "code",
    "id": "8hXeLMq5zTpe"
   },
   "outputs": [],
   "source": [
    "    up6 = merge([UpSampling2D(size=(2, 2))(conv5), conv4], mode='concat', concat_axis=3)\n",
    "    conv6 = Convolution2D(512, 3, 3, activation='relu', border_mode='same')(up6)\n",
    "    conv6 = Convolution2D(256, 3, 3, activation='relu', border_mode='same')(conv6)"
   ]
  },
  {
   "cell_type": "code",
   "execution_count": null,
   "metadata": {
    "colab": {},
    "colab_type": "code",
    "id": "QUEgJX0tzTpl"
   },
   "outputs": [],
   "source": [
    "    conv6_up = UpSampling2D(size=(2, 2))(conv6)\n",
    "    conv6_pad = ZeroPadding2D( ((1,0),(1,0)) )(conv6_up)\n",
    "    up7 = merge([conv6_pad, conv3], mode='concat', concat_axis=3)\n",
    "    conv7 = Convolution2D(128, 3, 3, activation='relu', border_mode='same')(up7)\n",
    "    conv7 = Convolution2D(128, 3, 3, activation='relu', border_mode='same')(conv7)"
   ]
  },
  {
   "cell_type": "code",
   "execution_count": null,
   "metadata": {
    "colab": {},
    "colab_type": "code",
    "id": "T9pxn42wzTpl"
   },
   "outputs": [],
   "source": [
    "    up8 = merge([UpSampling2D(size=(2, 2))(conv7), conv2], mode='concat', concat_axis=3)\n",
    "    conv8 = Convolution2D(64, 3, 3, activation='relu', border_mode='same')(up8)\n",
    "    conv8 = Convolution2D(64, 3, 3, activation='relu', border_mode='same')(conv8)"
   ]
  },
  {
   "cell_type": "code",
   "execution_count": null,
   "metadata": {
    "colab": {},
    "colab_type": "code",
    "id": "pY-AJDGBzTpo"
   },
   "outputs": [],
   "source": [
    "    up9 = merge([UpSampling2D(size=(2, 2))(conv8), conv1], mode='concat', concat_axis=3)\n",
    "    conv9 = Convolution2D(32, 3, 3, activation='relu', border_mode='same')(up9)\n",
    "    conv9 = Convolution2D(32, 3, 3, activation='relu', border_mode='same')(conv9)"
   ]
  },
  {
   "cell_type": "code",
   "execution_count": null,
   "metadata": {
    "colab": {},
    "colab_type": "code",
    "id": "Y30hs3e2zTpr"
   },
   "outputs": [],
   "source": [
    "    ### Output activation function\n",
    "    activation_output=\"softmax\""
   ]
  },
  {
   "cell_type": "code",
   "execution_count": null,
   "metadata": {
    "colab": {},
    "colab_type": "code",
    "id": "Uo_puMm2zTpt"
   },
   "outputs": [],
   "source": [
    "    conv10 = Convolution2D(nlabels, 1, 1, activation=activation)(conv9)\n",
    "\n",
    "    model = keras.models.Model(input=[image], output=conv10)"
   ]
  },
  {
   "cell_type": "code",
   "execution_count": null,
   "metadata": {
    "colab": {},
    "colab_type": "code",
    "id": "uPeNV6NWzTpu"
   },
   "outputs": [],
   "source": [
    "### 2) Train network on data\n",
    "model_fn =set_model_name(model_fn, model_dir)\n",
    "history_fn = splitext(model_fn)[0] + '_history.json'\n",
    "\n",
    "print( 'Model:', model_fn)\n",
    "if not exists(model_fn) or clobber:\n",
    "    #If model_fn does not exist, or user wishes to write over (clobber) existing model\n",
    "    #then train a new model and save it\n",
    "    \n",
    "    #Load input images for training data\n",
    "    X_train=np.load(data[\"train_x_fn\"]+'.npy')\n",
    "    #Load labels for training data\n",
    "    Y_train=np.load(data[\"train_y_fn\"]+'.npy')\n",
    "    #Load input images for validation data set\n",
    "    X_validate=np.load(data[\"validate_x_fn\"]+'.npy')\n",
    "    #Set compiler\n",
    "    ada = keras.optimizers.Adam(0.0001)\n",
    "    #Create filename to save checkpoints \n",
    "    checkpoint_fn = splitext(model_name)[0]+\"_checkpoint-{epoch:02d}-{val_loss:.2f}.hdf5\"\n",
    "    #Create checkpoint callback function for model\n",
    "    checkpoint = ModelCheckpoint(checkpoint_fn, monitor='val_loss', verbose=0, save_best_only=True, mode='max')\n",
    "    #Compile the model\n",
    "    model.compile(loss = loss, optimizer=ada,metrics=[metric] )\n",
    "    \n",
    "  \n",
    "    print(\"Running with\", nb_epoch)\n",
    "    #\n",
    "    if loss in categorical_functions : \n",
    "        #Convert training data to categorical format\n",
    "        Y_train = to_categorical(Y_train, num_classes=nlabels)\n",
    "        #Convert validation data to categorical format\n",
    "        Y_validate = to_categorical(Y_validate, num_classes=nlabels)\n",
    "    #Fit model\n",
    "    history = model.fit([X_train],Y_train,  validation_data=([X_validate], Y_validate), epochs = nb_epoch,callbacks=[ checkpoint])\n",
    "    #save model   \n",
    "    model.save(model_name)\n",
    "\n",
    "    with open(history_fn, 'w+') as fp: json.dump(history.history, fp)\n",
    "        \n",
    "        "
   ]
  },
  {
   "cell_type": "code",
   "execution_count": null,
   "metadata": {
    "colab": {},
    "colab_type": "code",
    "id": "lzd3DkZFzTpw"
   },
   "outputs": [],
   "source": [
    "    ### 3) Evaluate model on test data\n",
    "    model = load_model(model_fn)\n",
    "    X_test=np.load(data[\"test_x_fn\"]+'.npy')\n",
    "    Y_test=np.load(data[\"test_y_fn\"]+'.npy')\n",
    "    if loss in categorical_functions :\n",
    "        Y_test=to_categorical(Y_test)\n",
    "    test_score = model.evaluate(X_test, Y_test, verbose=1)\n",
    "    print('Test: Loss=', test_score[0], 'Metric=', test_score[1])\n",
    "    #np.savetxt(report_dir+os.sep+'model_evaluate.csv', np.array(test_score) )\n",
    "\n",
    "    ### 4) Produce prediction\n",
    "    #predict(model_fn, validate_dir, data_dir, images_fn, images_to_predict=images_to_predict, category=\"validate\", verbose=verbose)\n",
    "    #predict(model_fn, train_dir, data_dir, images_fn, images_to_predict=images_to_predict, category=\"train\", verbose=verbose)\n",
    "    predict(model_fn, test_dir, data_dir, images_fn, loss, images_to_predict=images_to_predict, category=\"test\", verbose=verbose)\n",
    "    plot_loss(metric, history_fn, model_fn, report_dir)"
   ]
  }
 ],
 "metadata": {
  "accelerator": "GPU",
  "colab": {
   "name": "main2019.ipynb",
   "provenance": [],
   "version": "0.3.2"
  },
  "kernelspec": {
   "display_name": "Python 3",
   "language": "python",
   "name": "python3"
  },
  "language_info": {
   "codemirror_mode": {
    "name": "ipython",
    "version": 3
   },
   "file_extension": ".py",
   "mimetype": "text/x-python",
   "name": "python",
   "nbconvert_exporter": "python",
   "pygments_lexer": "ipython3",
   "version": "3.6.3"
  }
 },
 "nbformat": 4,
 "nbformat_minor": 1
}
